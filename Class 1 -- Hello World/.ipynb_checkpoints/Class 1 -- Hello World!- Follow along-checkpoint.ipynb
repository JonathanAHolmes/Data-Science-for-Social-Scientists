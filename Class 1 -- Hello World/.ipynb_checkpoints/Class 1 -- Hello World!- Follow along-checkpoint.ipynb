{
 "cells": [
  {
   "cell_type": "markdown",
   "metadata": {
    "slideshow": {
     "slide_type": "slide"
    }
   },
   "source": [
    "# <div align=\"center\"> SPECIAL TOPICS III </div>\n",
    "## <div align=\"center\"> Data Science for Social Scientists  </div>\n",
    "### <div align=\"center\"> ECO 4199 </div>\n",
    "<div align=\"center\"> Fabien Forge, (he/him)</div>"
   ]
  },
  {
   "cell_type": "markdown",
   "metadata": {
    "slideshow": {
     "slide_type": "slide"
    }
   },
   "source": [
    "## INDIGENOUS AFFIRMATION\n",
    "\n",
    "\n",
    "### ENGLISH\n",
    "We pay respect to the Algonquin people, who are the traditional guardians of this land. We acknowledge their longstanding relationship with this territory, which remains unceded.\n",
    "We pay respect to all Indigenous people in this region, from all nations across Canada, who call Ottawa home.\n",
    "We acknowledge the traditional knowledge keepers, both young and old.\n",
    "And we honour their courageous leaders: past, present, and future."
   ]
  },
  {
   "cell_type": "markdown",
   "metadata": {
    "slideshow": {
     "slide_type": "slide"
    }
   },
   "source": [
    "## ANISHNABE\n",
    "Ni manàdjiyànànig Màmìwininì Anishinàbeg, ogog kà nàgadawàbandadjig iyo akì eko weshkad. Ako nongom ega wìkàd kì mìgiwewàdj.\n",
    "Ni manàdjiyànànig kakina Anishinàbeg ondaje kaye ogog kakina eniyagizidjig enigokamigàg Kanadàng eji ondàpinangig endàwàdjin Odàwàng.\n",
    "Ninisidawinawànànig kenawendamòdjig kije kikenindamàwin; weshkinìgidjig kaye kejeyàdizidjig.\n",
    "Nigijeweninmànànig ogog kà nìgànì sòngideyedjig; weshkad, nongom; kaye àyànikàdj."
   ]
  },
  {
   "cell_type": "code",
   "execution_count": null,
   "metadata": {
    "slideshow": {
     "slide_type": "slide"
    }
   },
   "outputs": [],
   "source": [
    "# Ni manàdjiyànànig Màmìwininì Anishinàbeg, ogog kà nàgadawàbandadjig iyo akì eko weshkad. \n",
    "#Ako nongom ega wìkàd kì mìgiwewàdj. Ni manàdjiyànànig kakina Anishinàbeg ondaje kaye ogog kakina \n",
    "#eniyagizidjig enigokamigàg Kanadàng eji ondàpinangig endàwàdjin Odàwàng. Ninisidawinawànànig kenawendamòdjig \n",
    "#kije kikenindamàwin; weshkinìgidjig kaye kejeyàdizidjig. Nigijeweninmànànig ogog kà nìgànì sòngideyedjig; \n",
    "#weshkad, nongom; kaye àyànikàdj.\n",
    "import IPython\n",
    "IPython.display.Audio(\"alg_affirmation_1.mp3\")\n"
   ]
  },
  {
   "cell_type": "markdown",
   "metadata": {
    "slideshow": {
     "slide_type": "slide"
    }
   },
   "source": [
    "## Data science for social scientists\n",
    "\n",
    "* _Data science_ is a portementeau word that encapsulates many different types of work\n",
    "    * Self-driving cars (artificial intelligence)\n",
    "    * Video suggestion on Youtube (prediction)\n",
    "    * Natural language processing (classification)\n"
   ]
  },
  {
   "cell_type": "markdown",
   "metadata": {
    "slideshow": {
     "slide_type": "slide"
    }
   },
   "source": [
    "## Data science for social scientists\n",
    "* Where do _social scientists_ fit in?\n",
    "    * We won't learn how to program a Tesla (sorry!)\n",
    "    * Preprocessing tools (data cleaning)\n",
    "    * Open softwares such as Python, R or Julia (sorry Stata)\n",
    "    * Ability to create new data sets\n",
    "    * Prediction increasingly useful (e.g. poverty targeting)"
   ]
  },
  {
   "cell_type": "markdown",
   "metadata": {
    "slideshow": {
     "slide_type": "slide"
    }
   },
   "source": [
    "## Motivations\n",
    "* What do you hope to get out of this class?\n",
    "    * Job oppotunities?\n",
    "    * Research projects?\n",
    "    * Graduate school?\n",
    "    * Anything else?"
   ]
  },
  {
   "cell_type": "markdown",
   "metadata": {
    "slideshow": {
     "slide_type": "slide"
    }
   },
   "source": [
    "## My vision\n",
    "* You could use this course for learning new tools\n",
    "    * Data cleaning, data visualization etc.\n",
    "* You could use this course for broadening your ability to gather data\n",
    "    * Data mining, text analytics\n",
    "* You could use this course to complete your statistical training\n",
    "    * Economists are good at this!\n",
    "\n",
    "* While not a mandatory prerequisite I hope you took econometrics ECO3151/ECO3551\n",
    "    * This will make following this lecture much easier\n",
    "    * This will make the concept we will study much more approachable\n"
   ]
  },
  {
   "cell_type": "markdown",
   "metadata": {
    "slideshow": {
     "slide_type": "slide"
    }
   },
   "source": [
    "## Questions\n",
    "\n",
    "* Who took econometrics?\n",
    "* Who has notions of coding (on any software, any type of coding)\n",
    "* Who has used Python specifically?"
   ]
  },
  {
   "cell_type": "markdown",
   "metadata": {
    "slideshow": {
     "slide_type": "slide"
    }
   },
   "source": [
    "## Stata\n",
    "\n",
    "* You may already be familiar with [Stata](https://www.stata.com/)\n",
    "* This is a great tool! That seemingly integrates several components:\n",
    "    * A programming language\n",
    "    * Also an integrated development environment"
   ]
  },
  {
   "cell_type": "markdown",
   "metadata": {
    "slideshow": {
     "slide_type": "slide"
    }
   },
   "source": [
    "## What is a programming language?\n",
    "\n",
    "* Many of you may attend this course hoping to \"learn Python\"\n",
    "    * It is not wrong to compare it to learning a foreign language\n",
    "* It has: \n",
    "    * A __syntax__: a set of rules that defines the combinations of symbols that are considered to be correctly structured \n",
    "    * A __semantic__: different words (or _commands_) corresponds to different meanings\n",
    "\n",
    "    "
   ]
  },
  {
   "cell_type": "markdown",
   "metadata": {
    "slideshow": {
     "slide_type": "slide"
    }
   },
   "source": [
    "* __WARNING__\n",
    "    * <font color='red'>Like any language practice is key!</font> \n",
    "    * This is why the first classes will be more particularly dedicated to coding"
   ]
  },
  {
   "cell_type": "markdown",
   "metadata": {
    "slideshow": {
     "slide_type": "slide"
    }
   },
   "source": [
    "### What is Python?\n",
    "* Python is one of the many __programming__ languages that exists out there (so is Stata)\n",
    "* You can do many things with Python:\n",
    "    * Build a website\n",
    "    * Control entire physical networks\n",
    "    * Machine learning etc."
   ]
  },
  {
   "cell_type": "markdown",
   "metadata": {
    "slideshow": {
     "slide_type": "subslide"
    }
   },
   "source": [
    "<img src=\"Popular-Programmig-Languages.png\" width=300 height=300 />"
   ]
  },
  {
   "cell_type": "markdown",
   "metadata": {
    "slideshow": {
     "slide_type": "slide"
    }
   },
   "source": [
    "### Why not R?\n",
    "* R started as a statiscal language but can do pretty much anything Python can do\n",
    "* I teach this course in Python for personal preferences and because of its popularity\n",
    "* If you already know R you can:\n",
    "    * Either keep improving your knowledge\n",
    "        - Be warned that my lectures will use Python\n",
    "        - But reach out to me if you need help\n",
    "    * Add Python to your toolkit\n",
    "        - And be prepared to face any challenge life would be foolish enough to thow at you"
   ]
  },
  {
   "cell_type": "markdown",
   "metadata": {
    "slideshow": {
     "slide_type": "slide"
    }
   },
   "source": [
    "### What's a program?\n",
    "\n",
    "* A program is a sequence of instructions that specifies how to perform a computation. \n",
    "* The fundamental bricks are:\n",
    "    * __input__: Get data from the keyboard, a file, the network, or some other device.\n",
    "    * __output__: Display data on the screen, save it in a file, send it over the network, etc.\n",
    "    * __math__: Perform basic mathematical operations like addition and multiplication.\n",
    "    * __conditional execution__: Check for certain conditions and run the appropriate code.\n",
    "    * __repetition__: Perform some action repeatedly, usually with some variation."
   ]
  },
  {
   "cell_type": "markdown",
   "metadata": {
    "slideshow": {
     "slide_type": "slide"
    }
   },
   "source": [
    "## What's integrated development environment?\n",
    "\n",
    "* An __integrated development environment__ (IDE) is a software application that provides comprehensive facilities to computer programmers for software development.\n",
    "* In English an IDE is:\n",
    "    * where you will type your code\n",
    "    * will receive information back\n",
    "    * good IDEs will help you writing your code"
   ]
  },
  {
   "cell_type": "markdown",
   "metadata": {
    "slideshow": {
     "slide_type": "subslide"
    }
   },
   "source": [
    "### Jupyter Notebooks\n",
    "* Unlike Stata, many IDEs are available for Python\n",
    "* In data science, Jupyter Notebooks have become the favorite\n",
    "    - This presentation is using Jupyter!"
   ]
  },
  {
   "cell_type": "markdown",
   "metadata": {
    "slideshow": {
     "slide_type": "slide"
    }
   },
   "source": [
    "## Need a break?"
   ]
  },
  {
   "cell_type": "markdown",
   "metadata": {
    "slideshow": {
     "slide_type": "slide"
    }
   },
   "source": [
    "## Let's get started!\n",
    "<p style=\"text-align:center\">\n",
    "\n",
    "\n",
    "\n",
    "<img src=\"anaconda.jpg\" width=300 height=300 />\n",
    "\n",
    "\n",
    "<img src=\"colab.png\" width=300 height=300 />\n",
    "    </p>"
   ]
  },
  {
   "cell_type": "markdown",
   "metadata": {
    "slideshow": {
     "slide_type": "slide"
    }
   },
   "source": [
    "# Hello world!\n",
    "\n",
    "It is customary that the first thing you do when learning a new language is to print out \"Hello world!\"\n",
    "\n",
    "   * __input__: command asking to print out \"Hello world!\"\n",
    "   * __output__: Hello world! (The quotation marks in the program mark the beginning and end of the text to be displayed; they don’t appear in the result.)\n",
    "\n"
   ]
  },
  {
   "cell_type": "code",
   "execution_count": null,
   "metadata": {
    "slideshow": {
     "slide_type": "fragment"
    }
   },
   "outputs": [],
   "source": [
    "# Good code is commented code\n",
    "# Print out Hello World!\n"
   ]
  },
  {
   "cell_type": "markdown",
   "metadata": {
    "slideshow": {
     "slide_type": "slide"
    }
   },
   "source": [
    "## Some concepts\n",
    "\n",
    "* print() is a function \n",
    "* it takes argument(s) in -- here a __string__\n",
    "* and transforms it into text printed out (in Jupyter notebooks, under the cell)"
   ]
  },
  {
   "cell_type": "markdown",
   "metadata": {
    "slideshow": {
     "slide_type": "slide"
    }
   },
   "source": [
    "## Arithmetic \n",
    "* __math__: Perform basic mathematical operations like addition and multiplication.\n"
   ]
  },
  {
   "cell_type": "code",
   "execution_count": null,
   "metadata": {
    "slideshow": {
     "slide_type": "subslide"
    }
   },
   "outputs": [],
   "source": [
    "# Addition \n",
    "3+2"
   ]
  },
  {
   "cell_type": "code",
   "execution_count": null,
   "metadata": {
    "slideshow": {
     "slide_type": "fragment"
    }
   },
   "outputs": [],
   "source": [
    "# Substraction\n",
    "3-2"
   ]
  },
  {
   "cell_type": "code",
   "execution_count": null,
   "metadata": {
    "slideshow": {
     "slide_type": "fragment"
    }
   },
   "outputs": [],
   "source": [
    "# Multiplication \n",
    "3*2"
   ]
  },
  {
   "cell_type": "code",
   "execution_count": null,
   "metadata": {
    "slideshow": {
     "slide_type": "fragment"
    }
   },
   "outputs": [],
   "source": [
    "# Division \n",
    "3/2"
   ]
  },
  {
   "cell_type": "code",
   "execution_count": null,
   "metadata": {
    "slideshow": {
     "slide_type": "fragment"
    }
   },
   "outputs": [],
   "source": [
    "# Power \n",
    "3**2"
   ]
  },
  {
   "cell_type": "code",
   "execution_count": null,
   "metadata": {
    "slideshow": {
     "slide_type": "slide"
    }
   },
   "outputs": [],
   "source": [
    "# What happens if I add two words?\n",
    "\"Hello \" + \"world\""
   ]
  },
  {
   "cell_type": "code",
   "execution_count": null,
   "metadata": {
    "slideshow": {
     "slide_type": "fragment"
    }
   },
   "outputs": [],
   "source": [
    "# What happens if I multiple a word?\n",
    "3*\"hello world \""
   ]
  },
  {
   "cell_type": "markdown",
   "metadata": {
    "slideshow": {
     "slide_type": "slide"
    }
   },
   "source": [
    "## Values and types\n",
    "\n",
    "Types are important. We already saw different types:\n",
    "- 1. __String__: \"Hello world\"\n",
    "- 2. __Integer__: 3, 2 etc.\n",
    "- 3. __Float__: 1.5\n",
    "\n",
    "You can learn about the type using the type() function!"
   ]
  },
  {
   "cell_type": "code",
   "execution_count": null,
   "metadata": {
    "slideshow": {
     "slide_type": "subslide"
    }
   },
   "outputs": [],
   "source": [
    "# Type of \"Hello world\"\n"
   ]
  },
  {
   "cell_type": "code",
   "execution_count": null,
   "metadata": {
    "slideshow": {
     "slide_type": "fragment"
    }
   },
   "outputs": [],
   "source": [
    "# Type of 3\n"
   ]
  },
  {
   "cell_type": "code",
   "execution_count": null,
   "metadata": {
    "slideshow": {
     "slide_type": "fragment"
    }
   },
   "outputs": [],
   "source": [
    "# Type of 3.0"
   ]
  },
  {
   "cell_type": "code",
   "execution_count": null,
   "metadata": {
    "slideshow": {
     "slide_type": "slide"
    }
   },
   "outputs": [],
   "source": [
    "# Two values may be equal...\n",
    "3==3.0"
   ]
  },
  {
   "cell_type": "code",
   "execution_count": null,
   "metadata": {
    "slideshow": {
     "slide_type": "fragment"
    }
   },
   "outputs": [],
   "source": [
    "#... but of different types\n"
   ]
  },
  {
   "cell_type": "code",
   "execution_count": null,
   "metadata": {
    "slideshow": {
     "slide_type": "fragment"
    }
   },
   "outputs": [],
   "source": [
    "# What's the type of the last line of code\n"
   ]
  },
  {
   "cell_type": "markdown",
   "metadata": {
    "slideshow": {
     "slide_type": "slide"
    }
   },
   "source": [
    "## Booleans\n",
    "* The last output is what's called a boolean.\n",
    "* A __boolean expression__ is an expression that is either __true__ or __false__.\n",
    "* Booleans are important because they allow you to compare values\n",
    "* You can test whether values are:\n",
    "    - equal: $==$\n",
    "    - not equal: $!=$\n",
    "    - (strictly) greater than: $>$\n",
    "    - (strictly) less than: $<$\n",
    "    - greater than or equal: $>=$\n",
    "    - less than or equal: $<=$"
   ]
  },
  {
   "cell_type": "code",
   "execution_count": null,
   "metadata": {
    "slideshow": {
     "slide_type": "subslide"
    }
   },
   "outputs": [],
   "source": [
    "3<=5"
   ]
  },
  {
   "cell_type": "code",
   "execution_count": null,
   "metadata": {
    "slideshow": {
     "slide_type": "fragment"
    }
   },
   "outputs": [],
   "source": [
    "type(True)"
   ]
  },
  {
   "cell_type": "code",
   "execution_count": null,
   "metadata": {
    "slideshow": {
     "slide_type": "fragment"
    }
   },
   "outputs": [],
   "source": [
    "# Fun fact, in Python True is stored as 1... \n"
   ]
  },
  {
   "cell_type": "code",
   "execution_count": null,
   "metadata": {
    "slideshow": {
     "slide_type": "fragment"
    }
   },
   "outputs": [],
   "source": [
    "# ...and False as 0\n"
   ]
  },
  {
   "cell_type": "markdown",
   "metadata": {
    "slideshow": {
     "slide_type": "slide"
    }
   },
   "source": [
    "## Values and types continued\n",
    "\n",
    "Types that are important:\n",
    "- 1. __String__: \"Hello world\"\n",
    "- 2. __Integer__: 3, 2 etc.\n",
    "- 3. __Float__: 1.5\n",
    "- 4. __Boolean__: x==z"
   ]
  },
  {
   "cell_type": "markdown",
   "metadata": {
    "slideshow": {
     "slide_type": "slide"
    }
   },
   "source": [
    "## Question\n",
    "\n",
    "Why do we have to use a double equal sign when performing a boolean test?"
   ]
  },
  {
   "cell_type": "markdown",
   "metadata": {
    "slideshow": {
     "slide_type": "fragment"
    }
   },
   "source": [
    "## Answer\n",
    "\n",
    "This is because the equal sign $=$ is used to assign values"
   ]
  },
  {
   "cell_type": "code",
   "execution_count": null,
   "metadata": {
    "slideshow": {
     "slide_type": "fragment"
    }
   },
   "outputs": [],
   "source": [
    "# Let's assign the value of a calculation to a scalar x\n",
    "x=3+2"
   ]
  },
  {
   "cell_type": "markdown",
   "metadata": {
    "slideshow": {
     "slide_type": "slide"
    }
   },
   "source": [
    "This time nothing was shown in the output window. Why?"
   ]
  },
  {
   "cell_type": "markdown",
   "metadata": {
    "slideshow": {
     "slide_type": "fragment"
    }
   },
   "source": [
    "Because we assigned its value to x."
   ]
  },
  {
   "cell_type": "code",
   "execution_count": null,
   "metadata": {
    "slideshow": {
     "slide_type": "fragment"
    }
   },
   "outputs": [],
   "source": [
    "# If you type only x then it's value will be returned\n"
   ]
  },
  {
   "cell_type": "code",
   "execution_count": null,
   "metadata": {
    "slideshow": {
     "slide_type": "fragment"
    }
   },
   "outputs": [],
   "source": [
    "# You can even test the values are the same\n",
    "x==3+2"
   ]
  },
  {
   "cell_type": "markdown",
   "metadata": {
    "slideshow": {
     "slide_type": "slide"
    }
   },
   "source": [
    "## Assignments \n",
    "\n",
    "You can assign prety much anything to a variable:"
   ]
  },
  {
   "cell_type": "code",
   "execution_count": null,
   "metadata": {
    "slideshow": {
     "slide_type": "fragment"
    }
   },
   "outputs": [],
   "source": [
    "# A string\n",
    "x=\"Hello world!\"\n",
    "x # Can you spot the difference with print(\"Hello world!\")?"
   ]
  },
  {
   "cell_type": "code",
   "execution_count": null,
   "metadata": {
    "slideshow": {
     "slide_type": "fragment"
    }
   },
   "outputs": [],
   "source": [
    "# A float\n",
    "x=3.5 \n",
    "x # Note that the value used to be \"Hello world!\" and was replaced by 3.5. So beware!"
   ]
  },
  {
   "cell_type": "code",
   "execution_count": null,
   "metadata": {
    "slideshow": {
     "slide_type": "fragment"
    }
   },
   "outputs": [],
   "source": [
    "# A boolean\n",
    "x=False\n",
    "x"
   ]
  },
  {
   "cell_type": "markdown",
   "metadata": {
    "slideshow": {
     "slide_type": "slide"
    }
   },
   "source": [
    "## Assignments continued\n",
    "When a value is assigned it can be used inside a function.\n",
    "\n",
    "Let's go back to our print function:"
   ]
  },
  {
   "cell_type": "code",
   "execution_count": null,
   "metadata": {
    "slideshow": {
     "slide_type": "fragment"
    }
   },
   "outputs": [],
   "source": [
    "x=\"Hello world!\"\n",
    "print(x) "
   ]
  },
  {
   "cell_type": "markdown",
   "metadata": {
    "slideshow": {
     "slide_type": "slide"
    }
   },
   "source": [
    "### Question\n",
    "What do you think the following piece of code will output?"
   ]
  },
  {
   "cell_type": "code",
   "execution_count": null,
   "metadata": {
    "slideshow": {
     "slide_type": "fragment"
    }
   },
   "outputs": [],
   "source": [
    "x=\"Hello world!\"\n",
    "print(\"x\") # Guess?"
   ]
  },
  {
   "cell_type": "markdown",
   "metadata": {
    "slideshow": {
     "slide_type": "slide"
    }
   },
   "source": [
    "## Debugging\n",
    "I have a good and a bad news:"
   ]
  },
  {
   "cell_type": "markdown",
   "metadata": {
    "slideshow": {
     "slide_type": "fragment"
    }
   },
   "source": [
    "__Bad news__: you will do coding mistakes!"
   ]
  },
  {
   "cell_type": "markdown",
   "metadata": {
    "slideshow": {
     "slide_type": "fragment"
    }
   },
   "source": [
    "__Good news__: so will everybody else!\n",
    "\n",
    "It's so common that dealing with mistakes has a name: __debugging__\n",
    "\n",
    "And most of the time Python will tell the most probable error you made so use Google!\n",
    "\n",
    "Check also [Stackoveflow](https://stackoverflow.com/)!"
   ]
  },
  {
   "cell_type": "markdown",
   "metadata": {
    "slideshow": {
     "slide_type": "slide"
    }
   },
   "source": [
    "## Examples\n",
    "\n",
    "We already know what will happen if I run this:"
   ]
  },
  {
   "cell_type": "code",
   "execution_count": null,
   "metadata": {
    "slideshow": {
     "slide_type": "fragment"
    }
   },
   "outputs": [],
   "source": [
    "# x was assigned the value before and is still in memory\n",
    "print(x)"
   ]
  },
  {
   "cell_type": "markdown",
   "metadata": {
    "slideshow": {
     "slide_type": "fragment"
    }
   },
   "source": [
    "What should I expect if I run this instead:"
   ]
  },
  {
   "cell_type": "code",
   "execution_count": null,
   "metadata": {
    "scrolled": true,
    "slideshow": {
     "slide_type": "fragment"
    }
   },
   "outputs": [],
   "source": [
    "print(y)"
   ]
  },
  {
   "cell_type": "markdown",
   "metadata": {
    "slideshow": {
     "slide_type": "slide"
    }
   },
   "source": [
    "What should I expect if I run this instead:"
   ]
  },
  {
   "cell_type": "code",
   "execution_count": null,
   "metadata": {
    "slideshow": {
     "slide_type": "fragment"
    }
   },
   "outputs": [],
   "source": [
    "print(y)"
   ]
  },
  {
   "cell_type": "markdown",
   "metadata": {
    "slideshow": {
     "slide_type": "fragment"
    }
   },
   "source": [
    "Pyton is telling me that I made a NameError. \n",
    "\n",
    "It also tells me that my error was in line 1. (Useful when you have several lines of code)\n",
    "\n",
    "In this case my error was that I never defined (assigned) a value for y."
   ]
  },
  {
   "cell_type": "markdown",
   "metadata": {
    "slideshow": {
     "slide_type": "slide"
    }
   },
   "source": [
    "## Examples\n",
    "\n",
    "Let's see another type of error"
   ]
  },
  {
   "cell_type": "code",
   "execution_count": null,
   "metadata": {
    "slideshow": {
     "slide_type": "fragment"
    }
   },
   "outputs": [],
   "source": [
    "print(x"
   ]
  },
  {
   "cell_type": "markdown",
   "metadata": {
    "slideshow": {
     "slide_type": "fragment"
    }
   },
   "source": [
    "This time, we made a _SyntaxError_\n",
    "\n",
    "Parentheses have to come in matching pairs\n",
    "\n",
    "To avoid making mistakes, Jupyter is writing both when typing \"(\". See for yourself!"
   ]
  },
  {
   "cell_type": "markdown",
   "metadata": {
    "slideshow": {
     "slide_type": "slide"
    }
   },
   "source": [
    "## Examples\n",
    "\n",
    "Let's see another error. Can you spot what's wrong with this one?"
   ]
  },
  {
   "cell_type": "code",
   "execution_count": null,
   "metadata": {
    "slideshow": {
     "slide_type": "fragment"
    }
   },
   "outputs": [],
   "source": [
    "pint(x)"
   ]
  },
  {
   "cell_type": "markdown",
   "metadata": {
    "slideshow": {
     "slide_type": "fragment"
    }
   },
   "source": [
    "Another _NameError_ but this time it's pint() that is not defined.\n",
    "\n",
    "Python recognizes that I am trying to call a function called _pint()_ but can't find it anywhere. \n",
    "\n",
    "This is because you can create your own functions in Python \n",
    "\n",
    "Jupyter already hinted that something was wrong, did you notice?"
   ]
  },
  {
   "cell_type": "markdown",
   "metadata": {
    "slideshow": {
     "slide_type": "slide"
    }
   },
   "source": [
    "## Functions\n",
    "\n",
    "We have used two functions so far: print() and type().\n",
    "\n",
    "Functions in computer science are conceptually close to functions in mathematics: $y =f(x)$\n",
    "\n",
    "The function takes an input (one or many arguments) and returns an output.\n",
    "\n",
    "To learn more about a function you can use the help()... function"
   ]
  },
  {
   "cell_type": "code",
   "execution_count": null,
   "metadata": {
    "slideshow": {
     "slide_type": "slide"
    }
   },
   "outputs": [],
   "source": [
    "help(print)"
   ]
  },
  {
   "cell_type": "code",
   "execution_count": null,
   "metadata": {
    "slideshow": {
     "slide_type": "fragment"
    }
   },
   "outputs": [],
   "source": [
    "# Let's play with the arguments\n",
    "\n"
   ]
  },
  {
   "cell_type": "markdown",
   "metadata": {
    "slideshow": {
     "slide_type": "slide"
    }
   },
   "source": [
    "## Creating your own function\n",
    "\n",
    "Defining a function is very simple.\n",
    "\n",
    "Let's create a print twice function\n",
    "\n",
    "You will need to tell Python what the name of your function is, the argument(s) it takes and what it returns (if it returns anything)."
   ]
  },
  {
   "cell_type": "code",
   "execution_count": null,
   "metadata": {
    "slideshow": {
     "slide_type": "slide"
    }
   },
   "outputs": [],
   "source": [
    "# To define a function you will call def and the name of your function like this:\n",
    "\n",
    "def print_twice(p): # Put the cursor right after the semicolon and notice where Jupyter takes you when press enter\n",
    "    print(p)\n",
    "    print(p)\n",
    "    "
   ]
  },
  {
   "cell_type": "code",
   "execution_count": null,
   "metadata": {
    "slideshow": {
     "slide_type": "fragment"
    }
   },
   "outputs": [],
   "source": [
    "# I can now call my function and print things twice\n",
    "print_twice(\"Hello world!\")"
   ]
  },
  {
   "cell_type": "markdown",
   "metadata": {
    "slideshow": {
     "slide_type": "slide"
    }
   },
   "source": [
    "## Void is full of emptyness 1/3\n",
    "\n",
    "What do you expect will happen if I run this:"
   ]
  },
  {
   "cell_type": "code",
   "execution_count": null,
   "metadata": {
    "slideshow": {
     "slide_type": "fragment"
    }
   },
   "outputs": [],
   "source": [
    "x=print(\"Hello world!\")\n",
    "x"
   ]
  },
  {
   "cell_type": "markdown",
   "metadata": {
    "slideshow": {
     "slide_type": "fragment"
    }
   },
   "source": [
    "I \"captured\" the print statement and then it got printed out on the second line"
   ]
  },
  {
   "cell_type": "markdown",
   "metadata": {
    "slideshow": {
     "slide_type": "slide"
    }
   },
   "source": [
    "## Void is full of emptyness 2/3\n",
    "\n",
    "Now, what would happen if I used the print_twice() function instead"
   ]
  },
  {
   "cell_type": "code",
   "execution_count": null,
   "metadata": {
    "slideshow": {
     "slide_type": "fragment"
    }
   },
   "outputs": [],
   "source": [
    "x=print_twice(\"Hello world!\")"
   ]
  },
  {
   "cell_type": "code",
   "execution_count": null,
   "metadata": {
    "slideshow": {
     "slide_type": "fragment"
    }
   },
   "outputs": [],
   "source": [
    "print(x)\n",
    "type(x)"
   ]
  },
  {
   "cell_type": "markdown",
   "metadata": {
    "slideshow": {
     "slide_type": "slide"
    }
   },
   "source": [
    "## Void is full of emptyness 3/3\n",
    "\n",
    "* __NoneType__ is another type to add to our list. \n",
    "* This is not 0, or False, it's describing something _empty_\n",
    "* When assigning the output of the function to x, we assigned \"nothing\" to it.\n",
    "* This is because our print_twice() function is a __void__ function. It doesn't return anything\n",
    "\n",
    "Let's see the difference!"
   ]
  },
  {
   "cell_type": "code",
   "execution_count": null,
   "metadata": {
    "slideshow": {
     "slide_type": "slide"
    }
   },
   "outputs": [],
   "source": [
    "# Define the square function\n"
   ]
  },
  {
   "cell_type": "code",
   "execution_count": null,
   "metadata": {
    "slideshow": {
     "slide_type": "fragment"
    }
   },
   "outputs": [],
   "source": [
    "# Square of 3 using the function\n"
   ]
  },
  {
   "cell_type": "code",
   "execution_count": null,
   "metadata": {
    "slideshow": {
     "slide_type": "fragment"
    }
   },
   "outputs": [],
   "source": [
    "# Assign the return of the function to the variable x\n",
    "x=square_function(3)"
   ]
  },
  {
   "cell_type": "code",
   "execution_count": null,
   "metadata": {
    "slideshow": {
     "slide_type": "fragment"
    }
   },
   "outputs": [],
   "source": []
  },
  {
   "cell_type": "markdown",
   "metadata": {
    "slideshow": {
     "slide_type": "slide"
    }
   },
   "source": [
    "## Conditionals\n",
    "\n",
    "Often you will want to run different pieces of code depending on some condition\n",
    "\n",
    "Meet the (modulo) operator % which yields the remainder from the division of the first argument by the second."
   ]
  },
  {
   "cell_type": "code",
   "execution_count": null,
   "metadata": {
    "slideshow": {
     "slide_type": "fragment"
    }
   },
   "outputs": [],
   "source": [
    "#Examples:\n"
   ]
  },
  {
   "cell_type": "markdown",
   "metadata": {
    "slideshow": {
     "slide_type": "slide"
    }
   },
   "source": [
    "Let's create a function which prints whether a number is odd or even"
   ]
  },
  {
   "cell_type": "code",
   "execution_count": null,
   "metadata": {
    "slideshow": {
     "slide_type": "slide"
    }
   },
   "outputs": [],
   "source": [
    "# define an isodd() function\n"
   ]
  },
  {
   "cell_type": "code",
   "execution_count": null,
   "metadata": {
    "slideshow": {
     "slide_type": "fragment"
    }
   },
   "outputs": [],
   "source": [
    "# Let's test our function\n"
   ]
  },
  {
   "cell_type": "markdown",
   "metadata": {
    "slideshow": {
     "slide_type": "slide"
    }
   },
   "source": [
    "## Lists\n",
    "\n",
    "Often you will want to store numbers, or strings in a vector\n",
    "\n",
    "This is what the columns of our datasets are made of."
   ]
  },
  {
   "cell_type": "code",
   "execution_count": null,
   "metadata": {
    "slideshow": {
     "slide_type": "fragment"
    }
   },
   "outputs": [],
   "source": [
    "# List of numbers\n"
   ]
  },
  {
   "cell_type": "code",
   "execution_count": null,
   "metadata": {
    "slideshow": {
     "slide_type": "fragment"
    }
   },
   "outputs": [],
   "source": [
    "# List of strings\n"
   ]
  },
  {
   "cell_type": "markdown",
   "metadata": {
    "slideshow": {
     "slide_type": "slide"
    }
   },
   "source": [
    "### Lists are mutable\n",
    "This means that you can access the element of a list using an index.\n",
    "\n",
    "Careful! in Python an index starts at 0.\n",
    "\n",
    "Negative numbers access the end of a list."
   ]
  },
  {
   "cell_type": "code",
   "execution_count": null,
   "metadata": {
    "slideshow": {
     "slide_type": "slide"
    }
   },
   "outputs": [],
   "source": [
    "# print the list again\n",
    "\n",
    "# access the first element\n"
   ]
  },
  {
   "cell_type": "markdown",
   "metadata": {
    "slideshow": {
     "slide_type": "fragment"
    }
   },
   "source": [
    "You can also access a range of elements in the list:"
   ]
  },
  {
   "cell_type": "code",
   "execution_count": null,
   "metadata": {
    "slideshow": {
     "slide_type": "fragment"
    }
   },
   "outputs": [],
   "source": [
    "# [start (included): end(excluded)]"
   ]
  },
  {
   "cell_type": "code",
   "execution_count": null,
   "metadata": {
    "slideshow": {
     "slide_type": "fragment"
    }
   },
   "outputs": [],
   "source": [
    "# access the last element\n"
   ]
  },
  {
   "cell_type": "code",
   "execution_count": 4,
   "metadata": {},
   "outputs": [
    {
     "data": {
      "text/plain": [
       "['a', 'a', 3]"
      ]
     },
     "execution_count": 4,
     "metadata": {},
     "output_type": "execute_result"
    }
   ],
   "source": [
    "x=[1,2,3]\n",
    "# replace an element\n",
    "\n",
    "# or a range of elements\n",
    "\n"
   ]
  },
  {
   "cell_type": "markdown",
   "metadata": {
    "slideshow": {
     "slide_type": "slide"
    }
   },
   "source": [
    "## Loops\n",
    "You may also need to repeat a command several times.\n",
    "\n",
    "To do so you will use what's called a loop.\n",
    "\n",
    "The typical commands are _for_ and _while_"
   ]
  },
  {
   "cell_type": "markdown",
   "metadata": {
    "slideshow": {
     "slide_type": "slide"
    }
   },
   "source": [
    "Say I want to test whether each element in my list is odd or even."
   ]
  },
  {
   "cell_type": "code",
   "execution_count": null,
   "metadata": {
    "slideshow": {
     "slide_type": "fragment"
    }
   },
   "outputs": [],
   "source": [
    "x=[1,3,5,7,2,4,8]\n",
    "# Let's iterate over this list and find out elements that are odd or even using a for loop\n",
    "for i in x:\n",
    "    isodd(i)"
   ]
  },
  {
   "cell_type": "code",
   "execution_count": null,
   "metadata": {
    "slideshow": {
     "slide_type": "fragment"
    }
   },
   "outputs": [],
   "source": [
    "# Let's enumerate over numbers from 1 to 4 and find out elements that are odd or even using while\n"
   ]
  },
  {
   "cell_type": "markdown",
   "metadata": {
    "slideshow": {
     "slide_type": "slide"
    }
   },
   "source": [
    "## Mixing loops, lists and conditionals\n",
    "\n",
    "Say that I want to iterate through a list until I find the first even number"
   ]
  },
  {
   "cell_type": "code",
   "execution_count": null,
   "metadata": {
    "slideshow": {
     "slide_type": "fragment"
    }
   },
   "outputs": [],
   "source": [
    "x=[1,3,5,7,2,4,8]\n",
    "\n",
    "# What happens here?\n",
    "for i in x:\n",
    "    isodd(i)"
   ]
  },
  {
   "cell_type": "markdown",
   "metadata": {
    "slideshow": {
     "slide_type": "slide"
    }
   },
   "source": [
    "We first need to redifine our function"
   ]
  },
  {
   "cell_type": "code",
   "execution_count": null,
   "metadata": {
    "slideshow": {
     "slide_type": "fragment"
    }
   },
   "outputs": [],
   "source": [
    "# define a new isodd() function\n",
    "def isodd(x):\n",
    "    remainder= #\n",
    "    # if remainder is zero then even\n",
    "        \n",
    "        \n",
    "    # if remainder is different from zero then odd\n",
    "    \n",
    "    "
   ]
  },
  {
   "cell_type": "markdown",
   "metadata": {
    "slideshow": {
     "slide_type": "slide"
    }
   },
   "source": [
    "Now we can use a condtion\n"
   ]
  },
  {
   "cell_type": "code",
   "execution_count": null,
   "metadata": {
    "slideshow": {
     "slide_type": "fragment"
    }
   },
   "outputs": [],
   "source": [
    "for i in x:\n",
    "    if # is odd print is odd\n",
    "        print(isodd(i))\n",
    "    else: # print is even\n",
    "          # and stop "
   ]
  },
  {
   "cell_type": "markdown",
   "metadata": {
    "slideshow": {
     "slide_type": "slide"
    }
   },
   "source": [
    "What if I want to show only when I reached the first even number?"
   ]
  },
  {
   "cell_type": "code",
   "execution_count": null,
   "metadata": {
    "slideshow": {
     "slide_type": "fragment"
    }
   },
   "outputs": [],
   "source": [
    "for i in x:\n",
    "    if isodd(i) == f\"{i} is odd\":\n",
    "        # do nothing\n",
    "    else:\n",
    "        print(isodd(i))\n",
    "        break"
   ]
  },
  {
   "cell_type": "markdown",
   "metadata": {
    "slideshow": {
     "slide_type": "slide"
    }
   },
   "source": [
    "What if I also want to know about the position within the array?"
   ]
  },
  {
   "cell_type": "code",
   "execution_count": null,
   "metadata": {
    "slideshow": {
     "slide_type": "fragment"
    }
   },
   "outputs": [],
   "source": [
    "for p, i in enumerate(x):\n",
    "    if isodd(i) == f\"{i} is odd\":\n",
    "        pass\n",
    "    else:\n",
    "        print(isodd(i), end=\", \")\n",
    "        print(\"and in position {0}\".format(p))\n",
    "        break"
   ]
  },
  {
   "cell_type": "markdown",
   "metadata": {
    "slideshow": {
     "slide_type": "slide"
    }
   },
   "source": [
    "## Dictionary \n",
    "\n",
    "- A dictionary is like a list, but more general. In a list, the indices have to be integers; in a dictionary they can be (almost) any type.\n",
    "\n",
    "- A dictionary contains a collection of indices, which are called __keys__, and a collection of\n",
    "__values__. \n",
    "\n",
    "- Each key is associated with a single value. The association of a key and a value is called a key-value pair or sometimes an item."
   ]
  },
  {
   "cell_type": "code",
   "execution_count": null,
   "metadata": {
    "slideshow": {
     "slide_type": "fragment"
    }
   },
   "outputs": [],
   "source": [
    "# You can initiate an empty dictionary in two ways:\n",
    "\n",
    "EnFn = dict() # using the dict() function\n",
    "\n",
    "EnFn={} # or using curly brackets"
   ]
  },
  {
   "cell_type": "markdown",
   "metadata": {
    "slideshow": {
     "slide_type": "slide"
    }
   },
   "source": [
    "Let's create a small English-French dictionary for numbers!"
   ]
  },
  {
   "cell_type": "code",
   "execution_count": null,
   "metadata": {
    "slideshow": {
     "slide_type": "slide"
    }
   },
   "outputs": [],
   "source": [
    "EnFn['one'] = 'un'\n",
    "EnFn['two'] = 'deux'\n",
    "EnFn['three'] = 'trois'\n",
    "EnFn['four'] = 'quatre'\n",
    "EnFn['five'] = 'cinq'\n",
    "EnFn['six'] = 'six'\n",
    "EnFn['seven'] = 'sept'\n",
    "EnFn['eight'] = 'huit'\n",
    "EnFn['nine'] = 'neuf'\n",
    "EnFn['ten'] = 'dix'"
   ]
  },
  {
   "cell_type": "code",
   "execution_count": null,
   "metadata": {
    "slideshow": {
     "slide_type": "slide"
    }
   },
   "outputs": [],
   "source": [
    "# You could achieve the same result doing this:\n",
    "EnFn = {'one': 'un', 'two': 'deux', 'three': 'trois', 'four':'quatre','five':'cinq',\n",
    "        'six':'six', 'seven':'sept','eight':'huit','nine':'neuf','ten':'dix'}"
   ]
  },
  {
   "cell_type": "code",
   "execution_count": null,
   "metadata": {
    "slideshow": {
     "slide_type": "subslide"
    }
   },
   "outputs": [],
   "source": [
    "# What's 10 in French?\n",
    "EnFn['ten']"
   ]
  },
  {
   "cell_type": "code",
   "execution_count": null,
   "metadata": {
    "slideshow": {
     "slide_type": "fragment"
    }
   },
   "outputs": [],
   "source": [
    "# What's 11 in French?\n",
    "EnFn['eleven']"
   ]
  },
  {
   "cell_type": "markdown",
   "metadata": {
    "slideshow": {
     "slide_type": "slide"
    }
   },
   "source": [
    "### Looping and dictionaries\n",
    "How can loop over a dictionary?"
   ]
  },
  {
   "cell_type": "code",
   "execution_count": null,
   "metadata": {
    "slideshow": {
     "slide_type": "fragment"
    }
   },
   "outputs": [],
   "source": [
    "# Python knows what you want to iterate on:\n",
    "for k in EnFn:\n",
    "    "
   ]
  },
  {
   "cell_type": "markdown",
   "metadata": {
    "slideshow": {
     "slide_type": "slide"
    }
   },
   "source": [
    "What if I want to capitalize the keys.\n",
    "\n",
    "There's a __method__ for that!\n",
    "\n",
    "A method is similar to a function—it takes arguments and returns a value—but the syntax is different."
   ]
  },
  {
   "cell_type": "code",
   "execution_count": null,
   "metadata": {
    "slideshow": {
     "slide_type": "slide"
    }
   },
   "outputs": [],
   "source": [
    "# Let's use the capitalize method:\n",
    "x=\"hello\"  # capitalize\n",
    "print(x)"
   ]
  },
  {
   "cell_type": "code",
   "execution_count": null,
   "metadata": {
    "slideshow": {
     "slide_type": "fragment"
    }
   },
   "outputs": [],
   "source": [
    "# Alternatively:\n",
    "x=\"hello\"\n",
    "print(x)\n",
    "print(x) # use the method here"
   ]
  },
  {
   "cell_type": "code",
   "execution_count": null,
   "metadata": {
    "slideshow": {
     "slide_type": "slide"
    }
   },
   "outputs": [],
   "source": [
    "# Let's rerun this and put the French in UPPER\n",
    "for k in EnFn:\n",
    "    "
   ]
  },
  {
   "cell_type": "markdown",
   "metadata": {
    "slideshow": {
     "slide_type": "slide"
    }
   },
   "source": [
    "## List comprehension\n",
    "\n",
    "Say you want to create a list with all numbers for zero to 2 to 10."
   ]
  },
  {
   "cell_type": "code",
   "execution_count": null,
   "metadata": {
    "slideshow": {
     "slide_type": "fragment"
    }
   },
   "outputs": [],
   "source": [
    "# Create empty list\n",
    "num=[]\n",
    "for i in : # use range function\n",
    "    # append i to the list\n",
    "print(num)"
   ]
  },
  {
   "cell_type": "code",
   "execution_count": null,
   "metadata": {
    "slideshow": {
     "slide_type": "fragment"
    }
   },
   "outputs": [],
   "source": [
    "help(range)"
   ]
  },
  {
   "cell_type": "code",
   "execution_count": null,
   "metadata": {
    "slideshow": {
     "slide_type": "slide"
    }
   },
   "outputs": [],
   "source": [
    "# Create empty list\n",
    "num=[]\n",
    "for i in range(2,12,2):\n",
    "    num.append(i)\n",
    "print(num)"
   ]
  },
  {
   "cell_type": "code",
   "execution_count": null,
   "metadata": {
    "slideshow": {
     "slide_type": "fragment"
    }
   },
   "outputs": [],
   "source": [
    "# You can write this with with a two lines of code\n"
   ]
  }
 ],
 "metadata": {
  "celltoolbar": "Slideshow",
  "kernelspec": {
   "display_name": "Python 3",
   "language": "python",
   "name": "python3"
  },
  "language_info": {
   "codemirror_mode": {
    "name": "ipython",
    "version": 3
   },
   "file_extension": ".py",
   "mimetype": "text/x-python",
   "name": "python",
   "nbconvert_exporter": "python",
   "pygments_lexer": "ipython3",
   "version": "3.7.1"
  }
 },
 "nbformat": 4,
 "nbformat_minor": 4
}
