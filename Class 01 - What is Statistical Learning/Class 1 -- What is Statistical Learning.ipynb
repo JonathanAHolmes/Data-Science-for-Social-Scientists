{
 "cells": [
  {
   "cell_type": "markdown",
   "metadata": {
    "slideshow": {
     "slide_type": "slide"
    }
   },
   "source": [
    "# <div align=\"center\"> SPECIAL TOPICS III </div>\n",
    "## <div align=\"center\"> Data Science for Social Scientists  </div>\n",
    "### <div align=\"center\"> ECO 4199 </div>\n",
    "<div align=\"center\"> Jonathan Holmes, (he/him)</div>"
   ]
  },
  {
   "cell_type": "markdown",
   "metadata": {
    "slideshow": {
     "slide_type": "slide"
    }
   },
   "source": [
    "# Special Thanks\n",
    "\n",
    "\n",
    "Many of these notes are based a pervious version of this class taught by Fabian Forge. Check him out at: https://forgef.github.io/"
   ]
  },
  {
   "cell_type": "markdown",
   "metadata": {
    "slideshow": {
     "slide_type": "slide"
    }
   },
   "source": [
    "# Course Description\n",
    "\n",
    "Me: \n",
    ">Please write a one-paragraph description of an introductory course on machine learning designed for undergraduate social science students. \n"
   ]
  },
  {
   "cell_type": "markdown",
   "metadata": {
    "slideshow": {
     "slide_type": "fragment"
    }
   },
   "source": [
    "\n",
    "Chat GPT: \n",
    "> This course on machine learning is an introductory-level course designed for undergraduate social science \n",
    "students with little or no background in programming or computer science. The course aims to provide students with a basic understanding of the principles and applications of machine learning and equip them with the skills to apply machine learning techniques to real-world problems in social science. The course will cover the fundamental concepts of supervised and unsupervised learning, model selection and evaluation, overfitting, regularization, and feature engineering. Students will use the Python programming language and popular machine learning libraries to implement and evaluate different machine learning algorithms. The course will also include discussions on the ethical and social implications of machine learning in the social sciences."
   ]
  },
  {
   "cell_type": "markdown",
   "metadata": {
    "slideshow": {
     "slide_type": "slide"
    }
   },
   "source": [
    "# Course Description\n",
    "\n",
    "1. Learn what Machine Learning is    \n",
    "    1. How is ML different from Econometrics\n",
    "    1. Learn how to choose and evaluate ML models based on task \n",
    "    1. Implement basic machine learning models\n",
    "\n",
    "1. Learn the basics of how Python is used in data science\n",
    "    1. Use Jupyter Notebooks for in-class exercises\n",
    "    1. Perform data analysis in two assignments. \n",
    "\n",
    "Note: While not a mandatory prerequisite this class will be easier for students who have taken econometrics (ECO3151/ECO3551; ECO2151/ECO2551)\n",
    "    * This will make following this lecture much easier\n",
    "    * This will make the concept we will study much more approachable"
   ]
  },
  {
   "cell_type": "markdown",
   "metadata": {
    "slideshow": {
     "slide_type": "slide"
    }
   },
   "source": [
    "# Expectations"
   ]
  },
  {
   "cell_type": "markdown",
   "metadata": {
    "slideshow": {
     "slide_type": "slide"
    }
   },
   "source": [
    "## Data science for social scientists\n",
    "* Where do _social scientists_ fit in?\n",
    "    * We won't learn how to program a Tesla (sorry!)\n",
    "    * Preprocessing tools (data cleaning)\n",
    "    * Open softwares such as Python, R or Julia (sorry Stata)\n",
    "    * Ability to create new data sets\n",
    "    * Prediction increasingly useful (e.g. poverty targeting)"
   ]
  },
  {
   "cell_type": "markdown",
   "metadata": {
    "slideshow": {
     "slide_type": "slide"
    }
   },
   "source": [
    "\n",
    "\n",
    "\n",
    "\n",
    "2) Course Outline: Read out in class\n",
    "\n",
    "3) Expectations: \n",
    "A: Show up\n",
    "\n",
    "4) What is Data Science? \n",
    "\n",
    "\n",
    "4.5) What questions? \n",
    "\n",
    "\n",
    "\n",
    "5) First assignment: \n",
    "> Install Python\n",
    "> Write out questions and \n",
    "\n",
    "6) How to install Python\n",
    "\n",
    "\n",
    "\n",
    "\n"
   ]
  },
  {
   "cell_type": "markdown",
   "metadata": {
    "slideshow": {
     "slide_type": "slide"
    }
   },
   "source": [
    "## Data science for social scientists\n",
    "\n",
    "* _Data science_ is a portementeau word that encapsulates many different types of work\n",
    "    * Self-driving cars (artificial intelligence)\n",
    "    * Video suggestion on Youtube (prediction)\n",
    "    * Natural language processing (classification)\n",
    "\n"
   ]
  },
  {
   "cell_type": "markdown",
   "metadata": {},
   "source": [
    "## ASSIGNMENT"
   ]
  },
  {
   "cell_type": "markdown",
   "metadata": {
    "slideshow": {
     "slide_type": "slide"
    }
   },
   "source": [
    "## Motivations\n",
    "* What do you hope to get out of this class?\n",
    "    * Job oppotunities?\n",
    "    * Research projects?\n",
    "    * Graduate school?\n",
    "    * Anything else?"
   ]
  },
  {
   "cell_type": "markdown",
   "metadata": {
    "slideshow": {
     "slide_type": "slide"
    }
   },
   "source": [
    "## Questions\n",
    "\n",
    "* Who took econometrics?\n",
    "* Who has notions of coding (on any software, any type of coding)\n",
    "* Who has used Python specifically?"
   ]
  },
  {
   "cell_type": "markdown",
   "metadata": {
    "slideshow": {
     "slide_type": "slide"
    }
   },
   "source": [
    "## Stata\n",
    "\n",
    "* You may already be familiar with [Stata](https://www.stata.com/)\n",
    "* This is a great tool! That seemingly integrates several components:\n",
    "    * A programming language\n",
    "    * Also an integrated development environment (IDE)"
   ]
  },
  {
   "cell_type": "markdown",
   "metadata": {
    "slideshow": {
     "slide_type": "slide"
    }
   },
   "source": [
    "## What is a programming language?\n",
    "\n",
    "* Many of you may attend this course hoping to \"learn Python\"\n",
    "    * It is not wrong to compare it to learning a foreign language\n",
    "* It has: \n",
    "    * A __syntax__: a set of rules that defines the combinations of symbols that are considered to be correctly structured \n",
    "    * A __semantic__: different words (or _commands_) corresponds to different meanings\n",
    "\n",
    "    "
   ]
  },
  {
   "cell_type": "markdown",
   "metadata": {
    "slideshow": {
     "slide_type": "slide"
    }
   },
   "source": [
    "* __WARNING__\n",
    "    * <font color='red'>Like any language practice is key!</font> \n",
    "    * This is why the first classes will be more particularly dedicated to coding"
   ]
  },
  {
   "cell_type": "markdown",
   "metadata": {
    "slideshow": {
     "slide_type": "slide"
    }
   },
   "source": [
    "### What is Python?\n",
    "* Python is one of the many __programming__ languages that exists out there (so is Stata)\n",
    "* You can do many things with Python:\n",
    "    * Build a website\n",
    "    * Control entire physical networks\n",
    "    * Machine learning etc."
   ]
  },
  {
   "cell_type": "markdown",
   "metadata": {
    "slideshow": {
     "slide_type": "slide"
    }
   },
   "source": [
    "<img src=\"Popular-Programmig-Languages.png\" width=300 height=300 />"
   ]
  },
  {
   "cell_type": "markdown",
   "metadata": {
    "slideshow": {
     "slide_type": "slide"
    }
   },
   "source": [
    "### Why not R?\n",
    "* R started as a statiscal language but can do pretty much anything Python can do\n",
    "* I teach this course in Python for personal preferences and because of its popularity\n",
    "* If you already know R you can:\n",
    "    * Either keep improving your knowledge\n",
    "        - Be warned that my lectures will use Python\n",
    "        - But reach out to me if you need help\n",
    "    * Add Python to your toolkit\n",
    "        - And be prepared to face any challenge life would be foolish enough to thow at you"
   ]
  },
  {
   "cell_type": "markdown",
   "metadata": {
    "slideshow": {
     "slide_type": "slide"
    }
   },
   "source": [
    "### What's a program?\n",
    "\n",
    "* A program is a sequence of instructions that specifies how to perform a computation. \n",
    "* The fundamental bricks are:\n",
    "    * __input__: Get data from the keyboard, a file, the network, or some other device.\n",
    "    * __output__: Display data on the screen, save it in a file, send it over the network, etc.\n",
    "    * __math__: Perform basic mathematical operations like addition and multiplication.\n",
    "    * __conditional execution__: Check for certain conditions and run the appropriate code.\n",
    "    * __repetition__: Perform some action repeatedly, usually with some variation."
   ]
  },
  {
   "cell_type": "markdown",
   "metadata": {
    "slideshow": {
     "slide_type": "slide"
    }
   },
   "source": [
    "## What's integrated development environment?\n",
    "\n",
    "* An __integrated development environment__ (IDE) is a software application that provides comprehensive facilities to computer programmers for software development.\n",
    "* In English an IDE is:\n",
    "    * where you will type your code\n",
    "    * will receive information back\n",
    "    * good IDEs will help you writing your code"
   ]
  },
  {
   "cell_type": "markdown",
   "metadata": {
    "slideshow": {
     "slide_type": "subslide"
    }
   },
   "source": [
    "### Jupyter Notebooks\n",
    "* Unlike Stata, many IDEs are available for Python\n",
    "* In data science, Jupyter Notebooks have become the favorite\n",
    "    - This presentation is using Jupyter!"
   ]
  }
 ],
 "metadata": {
  "celltoolbar": "Slideshow",
  "kernelspec": {
   "display_name": "Python 3 (ipykernel)",
   "language": "python",
   "name": "python3"
  },
  "language_info": {
   "codemirror_mode": {
    "name": "ipython",
    "version": 3
   },
   "file_extension": ".py",
   "mimetype": "text/x-python",
   "name": "python",
   "nbconvert_exporter": "python",
   "pygments_lexer": "ipython3",
   "version": "3.9.7"
  }
 },
 "nbformat": 4,
 "nbformat_minor": 4
}
