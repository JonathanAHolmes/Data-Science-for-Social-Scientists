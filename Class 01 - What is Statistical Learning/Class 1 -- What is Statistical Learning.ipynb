{
 "cells": [
  {
   "cell_type": "markdown",
   "metadata": {
    "slideshow": {
     "slide_type": "slide"
    }
   },
   "source": [
    "# <div align=\"center\"> SPECIAL TOPICS III </div>\n",
    "## <div align=\"center\"> Data Science for Social Scientists  </div>\n",
    "### <div align=\"center\"> ECO 4199 </div>\n",
    "<div align=\"center\"> Jonathan Holmes, (he/him, first name ok) </div>"
   ]
  },
  {
   "cell_type": "markdown",
   "metadata": {
    "slideshow": {
     "slide_type": "slide"
    }
   },
   "source": [
    "# Special Thanks\n",
    "\n",
    "\n",
    "Many of these notes are based a pervious version of this class taught by Fabian Forge. Check him out at: https://forgef.github.io/"
   ]
  },
  {
   "cell_type": "markdown",
   "metadata": {
    "slideshow": {
     "slide_type": "slide"
    }
   },
   "source": [
    "# Course Description\n",
    "\n",
    "Me: \n",
    ">Please write a one-paragraph description of an introductory course on machine learning designed for undergraduate social science students. \n"
   ]
  },
  {
   "cell_type": "markdown",
   "metadata": {
    "slideshow": {
     "slide_type": "fragment"
    }
   },
   "source": [
    "\n",
    "Chat GPT: \n",
    "> This course on machine learning is an introductory-level course designed for undergraduate social science \n",
    "students with little or no background in programming or computer science. The course aims to provide students with a basic understanding of the principles and applications of machine learning and equip them with the skills to apply machine learning techniques to real-world problems in social science. The course will cover the fundamental concepts of supervised and unsupervised learning, model selection and evaluation, overfitting, regularization, and feature engineering. Students will use the Python programming language and popular machine learning libraries to implement and evaluate different machine learning algorithms. The course will also include discussions on the ethical and social implications of machine learning in the social sciences."
   ]
  },
  {
   "cell_type": "markdown",
   "metadata": {
    "slideshow": {
     "slide_type": "slide"
    }
   },
   "source": [
    "# Examples of Machine Learning\n",
    "\n",
    "- Large languguage models (ChatGPT, Grammarly, Translation)\n",
    "- AI generated images (Midjourney, Stable Diffusion, DallE)\n",
    "- Alexa/Siri (Voice recognition) \n",
    "- Self-Driving Car (Image recognition)\n",
    "- Face recognition software\n",
    "- Alpha Go (Game playing AIs)\n",
    "\n",
    "\n",
    "\n"
   ]
  },
  {
   "cell_type": "markdown",
   "metadata": {
    "slideshow": {
     "slide_type": "slide"
    }
   },
   "source": [
    "# Course Description\n",
    "\n",
    "1. Learn what Machine Learning is    \n",
    "    1. How is ML different from Econometrics\n",
    "    1. Learn how to choose and evaluate ML models\n",
    "    1. Implement basic ML models\n",
    "\n",
    "1. Learn the basics of using Python for data science\n",
    "    1. Use Jupyter Notebooks for in-class exercises\n",
    "    1. Perform data analysis in two assignments. \n",
    "\n",
    "Note: While not a mandatory prerequisite, this class will be easier for students who have taken econometrics (ECO3151/ECO3551; ECO2151/ECO2551)"
   ]
  },
  {
   "cell_type": "markdown",
   "metadata": {
    "slideshow": {
     "slide_type": "slide"
    }
   },
   "source": [
    "# Introductions\n",
    "\n",
    "1. Why are you taking this course?\n",
    "    1. Gain skills for job opportunities?\n",
    "    1. Gain skills for graduate school? \n",
    "    1. Fulfill a requirement to graduate?  \n",
    "\n",
    "1. Have you taken an Econometrics course (like ECO2151/ECO2551)? \n",
    "\n",
    "1. Do you have any experience with using a programming language like Python? Which one(s)? "
   ]
  },
  {
   "cell_type": "markdown",
   "metadata": {
    "slideshow": {
     "slide_type": "slide"
    }
   },
   "source": [
    "# My Commitments to You\n",
    "\n",
    "1. I will teach relevant concepts for your career (graduate student, industry, or government) <br/><br/>\n",
    "\n",
    "1. I will communicate the expectations of the course clearly (example: fair exam questions)  <br/><br/>\n",
    "\n",
    "1. I will be open to feedback, suggestions, and requests\n"
   ]
  },
  {
   "cell_type": "markdown",
   "metadata": {
    "slideshow": {
     "slide_type": "slide"
    }
   },
   "source": [
    "## My Expectations of You\n",
    "\n",
    "1. Classroom attendance and participation  \n",
    "     Whenever possible, with camera on  <br/> <br/>\n",
    "    \n",
    "1. Follow the instructions in the syllabus  \n",
    "     Have a computer that has a webcam, install relevant programs  <br/> <br/>\n",
    "\n",
    "1. Keep up-to-date with assignments and course material  \n",
    "     Condensed class, will go by quickly! <br/> <br/>\n",
    "    \n",
    "1. If you need something, ask me in advance\n",
    "    \n"
   ]
  },
  {
   "cell_type": "markdown",
   "metadata": {
    "slideshow": {
     "slide_type": "slide"
    }
   },
   "source": [
    "# TEN MINUTE BREAK\n",
    "\n",
    "# SEE YOU AT 1:15pm"
   ]
  },
  {
   "cell_type": "markdown",
   "metadata": {
    "slideshow": {
     "slide_type": "slide"
    }
   },
   "source": [
    "# Today\n",
    "\n",
    "1. Intro to the course/course outline\n",
    "\n",
    "2. Introduce statistical learning\n",
    "\n",
    "3. Use/install Python to prepare for next class"
   ]
  },
  {
   "cell_type": "markdown",
   "metadata": {
    "slideshow": {
     "slide_type": "slide"
    }
   },
   "source": [
    "# Three Types of Questions "
   ]
  },
  {
   "cell_type": "markdown",
   "metadata": {
    "slideshow": {
     "slide_type": "fragment"
    }
   },
   "source": [
    "1. Does it rain more in Ottawa or Toronto? (TORONTO Question)"
   ]
  },
  {
   "cell_type": "markdown",
   "metadata": {
    "slideshow": {
     "slide_type": "fragment"
    }
   },
   "source": [
    "2. Will it rain tomorrow? (UMBRELLA Question)"
   ]
  },
  {
   "cell_type": "markdown",
   "metadata": {
    "slideshow": {
     "slide_type": "fragment"
    }
   },
   "source": [
    "3. Does my rain dance work? (RAIN DANCE Question)"
   ]
  },
  {
   "cell_type": "markdown",
   "metadata": {
    "slideshow": {
     "slide_type": "slide"
    }
   },
   "source": [
    "# Three Types of Questions\n",
    "\n",
    "1. The \"TORONTO\" question is _descriptive_\n",
    "\n",
    "2. The \"UMBRELLA\" question is _predictive_\n",
    "\n",
    "3. The \"RAIN DANCE\" question is _causal_"
   ]
  },
  {
   "cell_type": "markdown",
   "metadata": {
    "slideshow": {
     "slide_type": "slide"
    }
   },
   "source": [
    "# Answering questions with data\n",
    "\n",
    "* _Outcome_: Did it rain today? \n",
    "    * Sometimes called: Dependent variable, response, outcome variable, etc. \n",
    "\n",
    "* _Explanatory_ variables: \n",
    "    * Atmospheric conditions ** !!\n",
    "    * Did I perform a rain dance ** !!\n",
    "    * Season ** !!\n",
    "    * Historical rain data !!\n",
    "    * Proximity to body of water ** !!\n",
    "    * Did my friend who always checks the weather bring her/his/their umbrella?  !!\n",
    "    \n",
    "* Explanatory variables are also called independent variables or predictors "
   ]
  },
  {
   "cell_type": "markdown",
   "metadata": {
    "slideshow": {
     "slide_type": "slide"
    }
   },
   "source": [
    "# In-Class Exercise #1\n",
    "\n",
    "Q1: Give an example of some data that exists. Ideally, this is data you could access, but that is not necessary. Identify a dependent variable you care about from that data.\n",
    "\n",
    "Q2: Using the data you discussed in Q1, give one example of each of the three types of questions:\n",
    "* Descriptive\n",
    "* Predictive\n",
    "* Causal\n"
   ]
  },
  {
   "cell_type": "markdown",
   "metadata": {
    "slideshow": {
     "slide_type": "slide"
    }
   },
   "source": [
    "# Goals of different questions\n",
    "\n",
    "1. _Descriptive_ (Florida) questions care about summary statistics\n",
    "\n",
    "1. _Predictive_ (Umbrella) questions care about predictions of an outcome variable\n",
    "\n",
    "1. _Causal_ (Rain Dance) questions care about the causal relationship between independent and dependent variables\n"
   ]
  },
  {
   "cell_type": "markdown",
   "metadata": {
    "slideshow": {
     "slide_type": "fragment"
    }
   },
   "source": [
    "Question: What methods would you use to answer each type of question? "
   ]
  },
  {
   "cell_type": "markdown",
   "metadata": {
    "slideshow": {
     "slide_type": "fragment"
    }
   },
   "source": [
    "1. _Descriptive_ questions are covered in \"Introduction to Statistics\"\n",
    "2. _Causal_ questions are covered in \"Econometrics\" or \"Applied Econometrics\"\n",
    "3. _Predictive_ questions are covered in \"Statistical Learning\", or \"Machine Learning\""
   ]
  },
  {
   "cell_type": "markdown",
   "metadata": {
    "slideshow": {
     "slide_type": "slide"
    }
   },
   "source": [
    "# Econometrics\n",
    "\n",
    "<div align=\"center\"> $ y = \\alpha + \\beta x + u $ </div> \n",
    "\n",
    "* $y$ is the _outcome_\n",
    "* $x$ is the _explanatory_ variable\n",
    "* $u$ is the _error_\n",
    "\n"
   ]
  },
  {
   "cell_type": "markdown",
   "metadata": {
    "slideshow": {
     "slide_type": "fragment"
    }
   },
   "source": [
    "1. _Descriptive_ questions care about $\\bar y$, $\\bar x$, etc. \n",
    "2. _Predictive_ questions care about $\\hat y$\n",
    "3. _Causal_ questions care about $\\hat \\beta$ "
   ]
  },
  {
   "cell_type": "markdown",
   "metadata": {
    "slideshow": {
     "slide_type": "slide"
    }
   },
   "source": [
    "## What is a programming language?\n",
    "\n",
    "* Many of you may attend this course hoping to \"learn Python\"\n",
    "    * It is not wrong to compare it to learning a foreign language\n",
    "* It has: \n",
    "    * A __syntax__: a set of rules that defines the combinations of symbols that are considered to be correctly structured \n",
    "    * A __semantic__: different words (or _commands_) corresponds to different meanings\n",
    "\n",
    "    "
   ]
  },
  {
   "cell_type": "markdown",
   "metadata": {
    "slideshow": {
     "slide_type": "slide"
    }
   },
   "source": [
    "* __WARNING__\n",
    "    * <font color='red'>Like any language practice is key!</font> \n",
    "    * This is why the first classes will be more particularly dedicated to coding"
   ]
  },
  {
   "cell_type": "markdown",
   "metadata": {
    "slideshow": {
     "slide_type": "slide"
    }
   },
   "source": [
    "### What is Python?\n",
    "* Python is one of the many __programming__ languages that exists out there (so is Stata)\n",
    "* You can do many things with Python:\n",
    "    * Build a website\n",
    "    * Control entire physical networks\n",
    "    * Machine learning etc."
   ]
  },
  {
   "cell_type": "markdown",
   "metadata": {
    "slideshow": {
     "slide_type": "slide"
    }
   },
   "source": [
    "<div align=\"center\"> <img src=\"Popular-Programmig-Languages.png\" width=400 height=400 /> </div>\n"
   ]
  },
  {
   "cell_type": "markdown",
   "metadata": {
    "slideshow": {
     "slide_type": "slide"
    }
   },
   "source": [
    "### Why not R?\n",
    "* R started as a statiscal language but can do pretty much anything Python can do\n",
    "* I teach this course in Python for personal preferences and because of its popularity\n",
    "* If you already know R you can:\n",
    "    * Either keep improving your knowledge\n",
    "        - Be warned that my lectures will use Python\n",
    "        - But reach out to me if you need help\n",
    "    * Add Python to your toolkit\n",
    "        - And be prepared to face any challenge life would be foolish enough to thow at you"
   ]
  },
  {
   "cell_type": "markdown",
   "metadata": {
    "slideshow": {
     "slide_type": "slide"
    }
   },
   "source": [
    "## What's an integrated development environment?\n",
    "\n",
    "* An __integrated development environment__ (IDE) is a software application that provides comprehensive facilities to computer programmers for software development.\n",
    "* In English an IDE is:\n",
    "    * where you will type your code\n",
    "    * will receive information back\n",
    "    * good IDEs will help you writing your code"
   ]
  },
  {
   "cell_type": "markdown",
   "metadata": {
    "slideshow": {
     "slide_type": "subslide"
    }
   },
   "source": [
    "### Jupyter Notebooks\n",
    "* Unlike Stata, many IDEs are available for Python\n",
    "* In data science, Jupyter Notebooks have become the favorite\n",
    "    - This presentation is using Jupyter!"
   ]
  },
  {
   "cell_type": "markdown",
   "metadata": {
    "slideshow": {
     "slide_type": "slide"
    }
   },
   "source": [
    "# In-Class Exercise part B\n",
    "\n",
    "Q3: Choose a method for using a Jupyter Notebook, and open a new Jupyter Notebook page. In the box that says In[1], write 1+1 and then type \"Shift+Enter\". The number two should appear. If you can do that, you will be ready for the next class.\n",
    "\n",
    "In your submitted answer to Q3, please state which solution you chose (eg: Google Collab, Anaconda, etc.)"
   ]
  },
  {
   "cell_type": "code",
   "execution_count": 1,
   "metadata": {
    "slideshow": {
     "slide_type": "subslide"
    }
   },
   "outputs": [
    {
     "data": {
      "text/plain": [
       "2"
      ]
     },
     "execution_count": 1,
     "metadata": {},
     "output_type": "execute_result"
    }
   ],
   "source": [
    "1 + 1"
   ]
  }
 ],
 "metadata": {
  "celltoolbar": "Slideshow",
  "kernelspec": {
   "display_name": "Python 3 (ipykernel)",
   "language": "python",
   "name": "python3"
  },
  "language_info": {
   "codemirror_mode": {
    "name": "ipython",
    "version": 3
   },
   "file_extension": ".py",
   "mimetype": "text/x-python",
   "name": "python",
   "nbconvert_exporter": "python",
   "pygments_lexer": "ipython3",
   "version": "3.9.7"
  }
 },
 "nbformat": 4,
 "nbformat_minor": 4
}
