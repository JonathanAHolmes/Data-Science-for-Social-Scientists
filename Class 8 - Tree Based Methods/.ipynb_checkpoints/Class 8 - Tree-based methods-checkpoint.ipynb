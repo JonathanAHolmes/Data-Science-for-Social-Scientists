{
 "cells": [
  {
   "cell_type": "markdown",
   "id": "transparent-bolivia",
   "metadata": {
    "slideshow": {
     "slide_type": "slide"
    }
   },
   "source": [
    "# <div align=\"center\"> SPECIAL TOPICS III </div>\n",
    "## <div align=\"center\"> Data Science for Social Scientists  </div>\n",
    "### <div align=\"center\"> ECO 4199 </div>\n",
    "#### <div align=\"center\">Class 8 - Tree-based methods</div>\n",
    "<div align=\"center\"> Fabien Forge, (he/him)</div>"
   ]
  },
  {
   "cell_type": "markdown",
   "id": "armed-august",
   "metadata": {
    "slideshow": {
     "slide_type": "slide"
    }
   },
   "source": [
    "# Road Map\n",
    "$$y=f(X) + \\varepsilon$$\n",
    "- Today we will see a truly different function that relates X and y\n"
   ]
  },
  {
   "cell_type": "markdown",
   "id": "limited-freedom",
   "metadata": {
    "slideshow": {
     "slide_type": "slide"
    }
   },
   "source": [
    "# Decision Tree"
   ]
  },
  {
   "cell_type": "markdown",
   "id": "latter-soviet",
   "metadata": {
    "slideshow": {
     "slide_type": "slide"
    }
   },
   "source": [
    "## Motivating example: Baseball\n",
    "- Say that you want to predict a baseball player's salary\n",
    "- You are given three pieces of information:\n",
    "    - Salary in thousands of dollars (target)\n",
    "    - Number of years of experience in the major leagues and Hits (number of hits made in the previous year)\n",
    "- You start with some data cleaning:\n",
    "    - Drop when you don't observe salary\n",
    "    - Take the __log-transform__ of salary so it's distribution looks more like a bell-shape"
   ]
  },
  {
   "cell_type": "code",
   "execution_count": 1,
   "id": "threaded-minneapolis",
   "metadata": {
    "slideshow": {
     "slide_type": "slide"
    }
   },
   "outputs": [],
   "source": [
    "import pandas as pd\n",
    "import numpy as np\n",
    "import matplotlib.pyplot as plt\n",
    "import seaborn as sns\n",
    "folder=\"~/Dropbox/Data Science for Social Scientists/Classes/Class 8 - Tree Based Methods/\""
   ]
  },
  {
   "cell_type": "code",
   "execution_count": 2,
   "id": "extensive-mineral",
   "metadata": {
    "slideshow": {
     "slide_type": "slide"
    }
   },
   "outputs": [
    {
     "name": "stdout",
     "output_type": "stream",
     "text": [
      "Before Data Cleaning\n"
     ]
    },
    {
     "data": {
      "text/html": [
       "<div>\n",
       "<style scoped>\n",
       "    .dataframe tbody tr th:only-of-type {\n",
       "        vertical-align: middle;\n",
       "    }\n",
       "\n",
       "    .dataframe tbody tr th {\n",
       "        vertical-align: top;\n",
       "    }\n",
       "\n",
       "    .dataframe thead th {\n",
       "        text-align: right;\n",
       "    }\n",
       "</style>\n",
       "<table border=\"1\" class=\"dataframe\">\n",
       "  <thead>\n",
       "    <tr style=\"text-align: right;\">\n",
       "      <th></th>\n",
       "      <th>AtBat</th>\n",
       "      <th>Hits</th>\n",
       "      <th>HmRun</th>\n",
       "      <th>Runs</th>\n",
       "      <th>RBI</th>\n",
       "      <th>Walks</th>\n",
       "      <th>Years</th>\n",
       "      <th>CAtBat</th>\n",
       "      <th>CHits</th>\n",
       "      <th>CHmRun</th>\n",
       "      <th>CRuns</th>\n",
       "      <th>CRBI</th>\n",
       "      <th>CWalks</th>\n",
       "      <th>League</th>\n",
       "      <th>Division</th>\n",
       "      <th>PutOuts</th>\n",
       "      <th>Assists</th>\n",
       "      <th>Errors</th>\n",
       "      <th>Salary</th>\n",
       "      <th>NewLeague</th>\n",
       "    </tr>\n",
       "  </thead>\n",
       "  <tbody>\n",
       "    <tr>\n",
       "      <th>0</th>\n",
       "      <td>293</td>\n",
       "      <td>66</td>\n",
       "      <td>1</td>\n",
       "      <td>30</td>\n",
       "      <td>29</td>\n",
       "      <td>14</td>\n",
       "      <td>1</td>\n",
       "      <td>293</td>\n",
       "      <td>66</td>\n",
       "      <td>1</td>\n",
       "      <td>30</td>\n",
       "      <td>29</td>\n",
       "      <td>14</td>\n",
       "      <td>A</td>\n",
       "      <td>E</td>\n",
       "      <td>446</td>\n",
       "      <td>33</td>\n",
       "      <td>20</td>\n",
       "      <td>NaN</td>\n",
       "      <td>A</td>\n",
       "    </tr>\n",
       "    <tr>\n",
       "      <th>1</th>\n",
       "      <td>315</td>\n",
       "      <td>81</td>\n",
       "      <td>7</td>\n",
       "      <td>24</td>\n",
       "      <td>38</td>\n",
       "      <td>39</td>\n",
       "      <td>14</td>\n",
       "      <td>3449</td>\n",
       "      <td>835</td>\n",
       "      <td>69</td>\n",
       "      <td>321</td>\n",
       "      <td>414</td>\n",
       "      <td>375</td>\n",
       "      <td>N</td>\n",
       "      <td>W</td>\n",
       "      <td>632</td>\n",
       "      <td>43</td>\n",
       "      <td>10</td>\n",
       "      <td>475.0</td>\n",
       "      <td>N</td>\n",
       "    </tr>\n",
       "    <tr>\n",
       "      <th>2</th>\n",
       "      <td>479</td>\n",
       "      <td>130</td>\n",
       "      <td>18</td>\n",
       "      <td>66</td>\n",
       "      <td>72</td>\n",
       "      <td>76</td>\n",
       "      <td>3</td>\n",
       "      <td>1624</td>\n",
       "      <td>457</td>\n",
       "      <td>63</td>\n",
       "      <td>224</td>\n",
       "      <td>266</td>\n",
       "      <td>263</td>\n",
       "      <td>A</td>\n",
       "      <td>W</td>\n",
       "      <td>880</td>\n",
       "      <td>82</td>\n",
       "      <td>14</td>\n",
       "      <td>480.0</td>\n",
       "      <td>A</td>\n",
       "    </tr>\n",
       "    <tr>\n",
       "      <th>3</th>\n",
       "      <td>496</td>\n",
       "      <td>141</td>\n",
       "      <td>20</td>\n",
       "      <td>65</td>\n",
       "      <td>78</td>\n",
       "      <td>37</td>\n",
       "      <td>11</td>\n",
       "      <td>5628</td>\n",
       "      <td>1575</td>\n",
       "      <td>225</td>\n",
       "      <td>828</td>\n",
       "      <td>838</td>\n",
       "      <td>354</td>\n",
       "      <td>N</td>\n",
       "      <td>E</td>\n",
       "      <td>200</td>\n",
       "      <td>11</td>\n",
       "      <td>3</td>\n",
       "      <td>500.0</td>\n",
       "      <td>N</td>\n",
       "    </tr>\n",
       "    <tr>\n",
       "      <th>4</th>\n",
       "      <td>321</td>\n",
       "      <td>87</td>\n",
       "      <td>10</td>\n",
       "      <td>39</td>\n",
       "      <td>42</td>\n",
       "      <td>30</td>\n",
       "      <td>2</td>\n",
       "      <td>396</td>\n",
       "      <td>101</td>\n",
       "      <td>12</td>\n",
       "      <td>48</td>\n",
       "      <td>46</td>\n",
       "      <td>33</td>\n",
       "      <td>N</td>\n",
       "      <td>E</td>\n",
       "      <td>805</td>\n",
       "      <td>40</td>\n",
       "      <td>4</td>\n",
       "      <td>91.5</td>\n",
       "      <td>N</td>\n",
       "    </tr>\n",
       "  </tbody>\n",
       "</table>\n",
       "</div>"
      ],
      "text/plain": [
       "   AtBat  Hits  HmRun  Runs  RBI  Walks  Years  CAtBat  CHits  CHmRun  CRuns  \\\n",
       "0    293    66      1    30   29     14      1     293     66       1     30   \n",
       "1    315    81      7    24   38     39     14    3449    835      69    321   \n",
       "2    479   130     18    66   72     76      3    1624    457      63    224   \n",
       "3    496   141     20    65   78     37     11    5628   1575     225    828   \n",
       "4    321    87     10    39   42     30      2     396    101      12     48   \n",
       "\n",
       "   CRBI  CWalks League Division  PutOuts  Assists  Errors  Salary NewLeague  \n",
       "0    29      14      A        E      446       33      20     NaN         A  \n",
       "1   414     375      N        W      632       43      10   475.0         N  \n",
       "2   266     263      A        W      880       82      14   480.0         A  \n",
       "3   838     354      N        E      200       11       3   500.0         N  \n",
       "4    46      33      N        E      805       40       4    91.5         N  "
      ]
     },
     "metadata": {},
     "output_type": "display_data"
    },
    {
     "data": {
      "text/html": [
       "<div>\n",
       "<style scoped>\n",
       "    .dataframe tbody tr th:only-of-type {\n",
       "        vertical-align: middle;\n",
       "    }\n",
       "\n",
       "    .dataframe tbody tr th {\n",
       "        vertical-align: top;\n",
       "    }\n",
       "\n",
       "    .dataframe thead th {\n",
       "        text-align: right;\n",
       "    }\n",
       "</style>\n",
       "<table border=\"1\" class=\"dataframe\">\n",
       "  <thead>\n",
       "    <tr style=\"text-align: right;\">\n",
       "      <th></th>\n",
       "      <th>count</th>\n",
       "      <th>mean</th>\n",
       "      <th>std</th>\n",
       "      <th>min</th>\n",
       "      <th>25%</th>\n",
       "      <th>50%</th>\n",
       "      <th>75%</th>\n",
       "      <th>max</th>\n",
       "    </tr>\n",
       "  </thead>\n",
       "  <tbody>\n",
       "    <tr>\n",
       "      <th>Salary</th>\n",
       "      <td>263.0</td>\n",
       "      <td>535.925882</td>\n",
       "      <td>451.118681</td>\n",
       "      <td>67.500000</td>\n",
       "      <td>190.000000</td>\n",
       "      <td>425.000000</td>\n",
       "      <td>750.000000</td>\n",
       "      <td>2460.000000</td>\n",
       "    </tr>\n",
       "    <tr>\n",
       "      <th>Years</th>\n",
       "      <td>263.0</td>\n",
       "      <td>7.311787</td>\n",
       "      <td>4.793616</td>\n",
       "      <td>1.000000</td>\n",
       "      <td>4.000000</td>\n",
       "      <td>6.000000</td>\n",
       "      <td>10.000000</td>\n",
       "      <td>24.000000</td>\n",
       "    </tr>\n",
       "    <tr>\n",
       "      <th>Hits</th>\n",
       "      <td>263.0</td>\n",
       "      <td>107.828897</td>\n",
       "      <td>45.125326</td>\n",
       "      <td>1.000000</td>\n",
       "      <td>71.500000</td>\n",
       "      <td>103.000000</td>\n",
       "      <td>141.500000</td>\n",
       "      <td>238.000000</td>\n",
       "    </tr>\n",
       "    <tr>\n",
       "      <th>salary</th>\n",
       "      <td>263.0</td>\n",
       "      <td>5.927222</td>\n",
       "      <td>0.889192</td>\n",
       "      <td>4.212128</td>\n",
       "      <td>5.247024</td>\n",
       "      <td>6.052089</td>\n",
       "      <td>6.620073</td>\n",
       "      <td>7.807917</td>\n",
       "    </tr>\n",
       "  </tbody>\n",
       "</table>\n",
       "</div>"
      ],
      "text/plain": [
       "        count        mean         std        min         25%         50%  \\\n",
       "Salary  263.0  535.925882  451.118681  67.500000  190.000000  425.000000   \n",
       "Years   263.0    7.311787    4.793616   1.000000    4.000000    6.000000   \n",
       "Hits    263.0  107.828897   45.125326   1.000000   71.500000  103.000000   \n",
       "salary  263.0    5.927222    0.889192   4.212128    5.247024    6.052089   \n",
       "\n",
       "               75%          max  \n",
       "Salary  750.000000  2460.000000  \n",
       "Years    10.000000    24.000000  \n",
       "Hits    141.500000   238.000000  \n",
       "salary    6.620073     7.807917  "
      ]
     },
     "metadata": {},
     "output_type": "display_data"
    },
    {
     "name": "stdout",
     "output_type": "stream",
     "text": [
      "After Data Cleaning\n"
     ]
    },
    {
     "data": {
      "text/html": [
       "<div>\n",
       "<style scoped>\n",
       "    .dataframe tbody tr th:only-of-type {\n",
       "        vertical-align: middle;\n",
       "    }\n",
       "\n",
       "    .dataframe tbody tr th {\n",
       "        vertical-align: top;\n",
       "    }\n",
       "\n",
       "    .dataframe thead th {\n",
       "        text-align: right;\n",
       "    }\n",
       "</style>\n",
       "<table border=\"1\" class=\"dataframe\">\n",
       "  <thead>\n",
       "    <tr style=\"text-align: right;\">\n",
       "      <th></th>\n",
       "      <th>Salary</th>\n",
       "      <th>Years</th>\n",
       "      <th>Hits</th>\n",
       "      <th>salary</th>\n",
       "    </tr>\n",
       "  </thead>\n",
       "  <tbody>\n",
       "    <tr>\n",
       "      <th>1</th>\n",
       "      <td>475.0</td>\n",
       "      <td>14</td>\n",
       "      <td>81</td>\n",
       "      <td>6.163315</td>\n",
       "    </tr>\n",
       "    <tr>\n",
       "      <th>2</th>\n",
       "      <td>480.0</td>\n",
       "      <td>3</td>\n",
       "      <td>130</td>\n",
       "      <td>6.173786</td>\n",
       "    </tr>\n",
       "    <tr>\n",
       "      <th>3</th>\n",
       "      <td>500.0</td>\n",
       "      <td>11</td>\n",
       "      <td>141</td>\n",
       "      <td>6.214608</td>\n",
       "    </tr>\n",
       "    <tr>\n",
       "      <th>4</th>\n",
       "      <td>91.5</td>\n",
       "      <td>2</td>\n",
       "      <td>87</td>\n",
       "      <td>4.516339</td>\n",
       "    </tr>\n",
       "    <tr>\n",
       "      <th>5</th>\n",
       "      <td>750.0</td>\n",
       "      <td>11</td>\n",
       "      <td>169</td>\n",
       "      <td>6.620073</td>\n",
       "    </tr>\n",
       "  </tbody>\n",
       "</table>\n",
       "</div>"
      ],
      "text/plain": [
       "   Salary  Years  Hits    salary\n",
       "1   475.0     14    81  6.163315\n",
       "2   480.0      3   130  6.173786\n",
       "3   500.0     11   141  6.214608\n",
       "4    91.5      2    87  4.516339\n",
       "5   750.0     11   169  6.620073"
      ]
     },
     "execution_count": 2,
     "metadata": {},
     "output_type": "execute_result"
    }
   ],
   "source": [
    "df=pd.read_csv(folder+\"Hitters.csv\")\n",
    "df.pop(df.columns[0])\n",
    "print(\"Before Data Cleaning\")\n",
    "display(df.head())\n",
    "df=df.loc[:,['Salary','Years','Hits']] # keep only the variables needed\n",
    "df=df.loc[~df['Salary'].isna()] # keep only if observations have information on salary (i.e. if Salary is not (~) missing)\n",
    "df['salary']=np.log(df['Salary']) # create log of Salary and assign to salary (small cap)\n",
    "display(df.describe().T)\n",
    "print(\"After Data Cleaning\")\n",
    "df.head()"
   ]
  },
  {
   "cell_type": "code",
   "execution_count": 3,
   "id": "stretch-reason",
   "metadata": {
    "slideshow": {
     "slide_type": "slide"
    }
   },
   "outputs": [
    {
     "data": {
      "image/png": "[encoded data removed]",
      "text/plain": [
       "<Figure size 864x576 with 2 Axes>"
      ]
     },
     "metadata": {
      "needs_background": "light"
     },
     "output_type": "display_data"
    }
   ],
   "source": [
    "fig, axes =plt.subplots(1,2, figsize=(12,8))\n",
    "\n",
    "sns.histplot(x=df['Salary'], stat='frequency', kde=True,color='darkorange', fill=False,line_kws={'color':'k'}, ax=axes[0])\n",
    "sns.histplot(x=df['salary'], stat='density', kde=True,color='darkgreen', fill=False, ax=axes[1])\n",
    "\n",
    "axes[0].set_xlabel(\"Salary in Thoushands\",fontsize=12)\n",
    "axes[1].set_xlabel(\"Log-Transform of Salary\",fontsize=12)\n",
    "axes[0].set_ylabel(\"Frequency\",fontsize=12)\n",
    "axes[1].set_ylabel(\"Frequency\",fontsize=12)\n",
    "\n",
    "plt.show()"
   ]
  },
  {
   "cell_type": "code",
   "execution_count": 4,
   "id": "reasonable-supplier",
   "metadata": {
    "slideshow": {
     "slide_type": "slide"
    }
   },
   "outputs": [
    {
     "name": "stdout",
     "output_type": "stream",
     "text": [
      "In-sample MSE: 0.31175425680167934\n"
     ]
    },
    {
     "data": {
      "image/svg+xml": [
       "<svg height=\"269pt\" viewBox=\"0.00 0.00 433.00 269.00\" width=\"433pt\" xmlns=\"http://www.w3.org/2000/svg\" xmlns:xlink=\"http://www.w3.org/1999/xlink\">\n",
       "<g class=\"graph\" id=\"graph0\" transform=\"scale(1 1) rotate(0) translate(4 265)\">\n",
       "<title>Tree</title>\n",
       "<polygon fill=\"#ffffff\" points=\"-4,4 -4,-265 429,-265 429,4 -4,4\" stroke=\"transparent\"/>\n",
       "<!-- 0 -->\n",
       "<g class=\"node\" id=\"node1\">\n",
       "<title>0</title>\n",
       "<polygon fill=\"#f5cdb0\" points=\"262.5,-261 164.5,-261 164.5,-193 262.5,-193 262.5,-261\" stroke=\"#000000\"/>\n",
       "<text fill=\"#000000\" font-family=\"Times,serif\" font-size=\"14.00\" text-anchor=\"middle\" x=\"213.5\" y=\"-245.8\">Years &lt;= 4.5</text>\n",
       "<text fill=\"#000000\" font-family=\"Times,serif\" font-size=\"14.00\" text-anchor=\"middle\" x=\"213.5\" y=\"-230.8\">mse = 0.788</text>\n",
       "<text fill=\"#000000\" font-family=\"Times,serif\" font-size=\"14.00\" text-anchor=\"middle\" x=\"213.5\" y=\"-215.8\">samples = 263</text>\n",
       "<text fill=\"#000000\" font-family=\"Times,serif\" font-size=\"14.00\" text-anchor=\"middle\" x=\"213.5\" y=\"-200.8\">value = 5.927</text>\n",
       "</g>\n",
       "<!-- 1 -->\n",
       "<g class=\"node\" id=\"node2\">\n",
       "<title>1</title>\n",
       "<polygon fill=\"#fefcfb\" points=\"203,-157 110,-157 110,-89 203,-89 203,-157\" stroke=\"#000000\"/>\n",
       "<text fill=\"#000000\" font-family=\"Times,serif\" font-size=\"14.00\" text-anchor=\"middle\" x=\"156.5\" y=\"-141.8\">Hits &lt;= 15.5</text>\n",
       "<text fill=\"#000000\" font-family=\"Times,serif\" font-size=\"14.00\" text-anchor=\"middle\" x=\"156.5\" y=\"-126.8\">mse = 0.471</text>\n",
       "<text fill=\"#000000\" font-family=\"Times,serif\" font-size=\"14.00\" text-anchor=\"middle\" x=\"156.5\" y=\"-111.8\">samples = 90</text>\n",
       "<text fill=\"#000000\" font-family=\"Times,serif\" font-size=\"14.00\" text-anchor=\"middle\" x=\"156.5\" y=\"-96.8\">value = 5.107</text>\n",
       "</g>\n",
       "<!-- 0&#45;&gt;1 -->\n",
       "<g class=\"edge\" id=\"edge1\">\n",
       "<title>0-&gt;1</title>\n",
       "<path d=\"M194.8361,-192.9465C190.112,-184.3271 184.9769,-174.9579 180.046,-165.9611\" fill=\"none\" stroke=\"#000000\"/>\n",
       "<polygon fill=\"#000000\" points=\"183.0814,-164.2171 175.2059,-157.13 176.9429,-167.5815 183.0814,-164.2171\" stroke=\"#000000\"/>\n",
       "<text fill=\"#000000\" font-family=\"Times,serif\" font-size=\"14.00\" text-anchor=\"middle\" x=\"168.2001\" y=\"-177.4283\">True</text>\n",
       "</g>\n",
       "<!-- 4 -->\n",
       "<g class=\"node\" id=\"node5\">\n",
       "<title>4</title>\n",
       "<polygon fill=\"#f0b48a\" points=\"319.5,-157 221.5,-157 221.5,-89 319.5,-89 319.5,-157\" stroke=\"#000000\"/>\n",
       "<text fill=\"#000000\" font-family=\"Times,serif\" font-size=\"14.00\" text-anchor=\"middle\" x=\"270.5\" y=\"-141.8\">Hits &lt;= 117.5</text>\n",
       "<text fill=\"#000000\" font-family=\"Times,serif\" font-size=\"14.00\" text-anchor=\"middle\" x=\"270.5\" y=\"-126.8\">mse = 0.42</text>\n",
       "<text fill=\"#000000\" font-family=\"Times,serif\" font-size=\"14.00\" text-anchor=\"middle\" x=\"270.5\" y=\"-111.8\">samples = 173</text>\n",
       "<text fill=\"#000000\" font-family=\"Times,serif\" font-size=\"14.00\" text-anchor=\"middle\" x=\"270.5\" y=\"-96.8\">value = 6.354</text>\n",
       "</g>\n",
       "<!-- 0&#45;&gt;4 -->\n",
       "<g class=\"edge\" id=\"edge4\">\n",
       "<title>0-&gt;4</title>\n",
       "<path d=\"M232.1639,-192.9465C236.888,-184.3271 242.0231,-174.9579 246.954,-165.9611\" fill=\"none\" stroke=\"#000000\"/>\n",
       "<polygon fill=\"#000000\" points=\"250.0571,-167.5815 251.7941,-157.13 243.9186,-164.2171 250.0571,-167.5815\" stroke=\"#000000\"/>\n",
       "<text fill=\"#000000\" font-family=\"Times,serif\" font-size=\"14.00\" text-anchor=\"middle\" x=\"258.7999\" y=\"-177.4283\">False</text>\n",
       "</g>\n",
       "<!-- 2 -->\n",
       "<g class=\"node\" id=\"node3\">\n",
       "<title>2</title>\n",
       "<polygon fill=\"#e58139\" points=\"93,-53 0,-53 0,0 93,0 93,-53\" stroke=\"#000000\"/>\n",
       "<text fill=\"#000000\" font-family=\"Times,serif\" font-size=\"14.00\" text-anchor=\"middle\" x=\"46.5\" y=\"-37.8\">mse = 0.176</text>\n",
       "<text fill=\"#000000\" font-family=\"Times,serif\" font-size=\"14.00\" text-anchor=\"middle\" x=\"46.5\" y=\"-22.8\">samples = 2</text>\n",
       "<text fill=\"#000000\" font-family=\"Times,serif\" font-size=\"14.00\" text-anchor=\"middle\" x=\"46.5\" y=\"-7.8\">value = 7.243</text>\n",
       "</g>\n",
       "<!-- 1&#45;&gt;2 -->\n",
       "<g class=\"edge\" id=\"edge2\">\n",
       "<title>1-&gt;2</title>\n",
       "<path d=\"M117.7181,-88.9777C106.967,-79.546 95.3078,-69.3178 84.5962,-59.9208\" fill=\"none\" stroke=\"#000000\"/>\n",
       "<polygon fill=\"#000000\" points=\"86.816,-57.2122 76.9905,-53.2485 82.1996,-62.4743 86.816,-57.2122\" stroke=\"#000000\"/>\n",
       "</g>\n",
       "<!-- 3 -->\n",
       "<g class=\"node\" id=\"node4\">\n",
       "<title>3</title>\n",
       "<polygon fill=\"#ffffff\" points=\"204,-53 111,-53 111,0 204,0 204,-53\" stroke=\"#000000\"/>\n",
       "<text fill=\"#000000\" font-family=\"Times,serif\" font-size=\"14.00\" text-anchor=\"middle\" x=\"157.5\" y=\"-37.8\">mse = 0.371</text>\n",
       "<text fill=\"#000000\" font-family=\"Times,serif\" font-size=\"14.00\" text-anchor=\"middle\" x=\"157.5\" y=\"-22.8\">samples = 88</text>\n",
       "<text fill=\"#000000\" font-family=\"Times,serif\" font-size=\"14.00\" text-anchor=\"middle\" x=\"157.5\" y=\"-7.8\">value = 5.058</text>\n",
       "</g>\n",
       "<!-- 1&#45;&gt;3 -->\n",
       "<g class=\"edge\" id=\"edge3\">\n",
       "<title>1-&gt;3</title>\n",
       "<path d=\"M156.8526,-88.9777C156.938,-80.7364 157.0297,-71.887 157.1164,-63.5153\" fill=\"none\" stroke=\"#000000\"/>\n",
       "<polygon fill=\"#000000\" points=\"160.6189,-63.2842 157.2228,-53.2485 153.6193,-63.2116 160.6189,-63.2842\" stroke=\"#000000\"/>\n",
       "</g>\n",
       "<!-- 5 -->\n",
       "<g class=\"node\" id=\"node6\">\n",
       "<title>5</title>\n",
       "<polygon fill=\"#f4c9aa\" points=\"316,-53 223,-53 223,0 316,0 316,-53\" stroke=\"#000000\"/>\n",
       "<text fill=\"#000000\" font-family=\"Times,serif\" font-size=\"14.00\" text-anchor=\"middle\" x=\"269.5\" y=\"-37.8\">mse = 0.312</text>\n",
       "<text fill=\"#000000\" font-family=\"Times,serif\" font-size=\"14.00\" text-anchor=\"middle\" x=\"269.5\" y=\"-22.8\">samples = 90</text>\n",
       "<text fill=\"#000000\" font-family=\"Times,serif\" font-size=\"14.00\" text-anchor=\"middle\" x=\"269.5\" y=\"-7.8\">value = 5.998</text>\n",
       "</g>\n",
       "<!-- 4&#45;&gt;5 -->\n",
       "<g class=\"edge\" id=\"edge5\">\n",
       "<title>4-&gt;5</title>\n",
       "<path d=\"M270.1474,-88.9777C270.062,-80.7364 269.9703,-71.887 269.8836,-63.5153\" fill=\"none\" stroke=\"#000000\"/>\n",
       "<polygon fill=\"#000000\" points=\"273.3807,-63.2116 269.7772,-53.2485 266.3811,-63.2842 273.3807,-63.2116\" stroke=\"#000000\"/>\n",
       "</g>\n",
       "<!-- 6 -->\n",
       "<g class=\"node\" id=\"node7\">\n",
       "<title>6</title>\n",
       "<polygon fill=\"#eb9e67\" points=\"425,-53 334,-53 334,0 425,0 425,-53\" stroke=\"#000000\"/>\n",
       "<text fill=\"#000000\" font-family=\"Times,serif\" font-size=\"14.00\" text-anchor=\"middle\" x=\"379.5\" y=\"-37.8\">mse = 0.252</text>\n",
       "<text fill=\"#000000\" font-family=\"Times,serif\" font-size=\"14.00\" text-anchor=\"middle\" x=\"379.5\" y=\"-22.8\">samples = 83</text>\n",
       "<text fill=\"#000000\" font-family=\"Times,serif\" font-size=\"14.00\" text-anchor=\"middle\" x=\"379.5\" y=\"-7.8\">value = 6.74</text>\n",
       "</g>\n",
       "<!-- 4&#45;&gt;6 -->\n",
       "<g class=\"edge\" id=\"edge6\">\n",
       "<title>4-&gt;6</title>\n",
       "<path d=\"M308.9293,-88.9777C319.5827,-79.546 331.1359,-69.3178 341.7501,-59.9208\" fill=\"none\" stroke=\"#000000\"/>\n",
       "<polygon fill=\"#000000\" points=\"344.1194,-62.4978 349.2867,-53.2485 339.4793,-57.2566 344.1194,-62.4978\" stroke=\"#000000\"/>\n",
       "</g>\n",
       "</g>\n",
       "</svg>"
      ],
      "text/plain": [
       "<IPython.core.display.SVG object>"
      ]
     },
     "metadata": {},
     "output_type": "display_data"
    }
   ],
   "source": [
    "# Import DecisionTreeClassifier\n",
    "from sklearn.tree  import DecisionTreeRegressor\n",
    "# Import train_test_split\n",
    "from sklearn.model_selection  import train_test_split\n",
    "# Import accuracy_score\n",
    "from sklearn.metrics import mean_squared_error\n",
    "from sklearn.tree import export_graphviz\n",
    "from sklearn import tree\n",
    "from IPython.display import SVG\n",
    "from graphviz import Source\n",
    "from IPython.display import display\n",
    "\n",
    "# Split dataset into 80% train, 20% test\n",
    "#X_train, X_test, y_train, y_test= train_test_split(df[['Hits','Years']], df['salary'],test_size=0.2,random_state=1706)\n",
    "X_train=df.loc[:,['Hits','Years']]\n",
    "y_train=df.loc[:,'salary']\n",
    "# Instantiate dt\n",
    "dt = DecisionTreeRegressor(max_depth=2, random_state=1706)\n",
    "dt.fit(X_train,y_train)\n",
    "\n",
    "# Predict test set labels\n",
    "y_pred = dt.predict(X_train)\n",
    "# Evaluate test-set accuracy\n",
    "print(f\"In-sample MSE: {mean_squared_error(df['salary'], y_pred)}\")\n",
    "\n",
    "#store label name\n",
    "labels = X_train.columns.tolist()\n",
    "\n",
    "# print decision tree\n",
    "graph = Source(tree.export_graphviz(dt, out_file=None, feature_names=labels , filled = True))\n",
    "display(SVG(graph.pipe(format='svg')))"
   ]
  },
  {
   "cell_type": "code",
   "execution_count": 5,
   "id": "mighty-click",
   "metadata": {
    "slideshow": {
     "slide_type": "slide"
    }
   },
   "outputs": [
    {
     "data": {
      "text/html": [
       "<div>\n",
       "<style scoped>\n",
       "    .dataframe tbody tr th:only-of-type {\n",
       "        vertical-align: middle;\n",
       "    }\n",
       "\n",
       "    .dataframe tbody tr th {\n",
       "        vertical-align: top;\n",
       "    }\n",
       "\n",
       "    .dataframe thead th {\n",
       "        text-align: right;\n",
       "    }\n",
       "</style>\n",
       "<table border=\"1\" class=\"dataframe\">\n",
       "  <thead>\n",
       "    <tr style=\"text-align: right;\">\n",
       "      <th></th>\n",
       "      <th>Salary</th>\n",
       "      <th>Years</th>\n",
       "      <th>Hits</th>\n",
       "      <th>salary</th>\n",
       "      <th>Salary_Predicted</th>\n",
       "      <th>Year_Split</th>\n",
       "      <th>Hits_Split</th>\n",
       "      <th>Path</th>\n",
       "    </tr>\n",
       "  </thead>\n",
       "  <tbody>\n",
       "    <tr>\n",
       "      <th>1</th>\n",
       "      <td>475.0</td>\n",
       "      <td>14</td>\n",
       "      <td>81</td>\n",
       "      <td>6.163315</td>\n",
       "      <td>5.998380</td>\n",
       "      <td>Years $&gt;$ 4.5</td>\n",
       "      <td>Hits $\\leq$ 117.5</td>\n",
       "      <td>Years $&gt;$ 4.5 and Hits $\\leq$ 117.5</td>\n",
       "    </tr>\n",
       "    <tr>\n",
       "      <th>2</th>\n",
       "      <td>480.0</td>\n",
       "      <td>3</td>\n",
       "      <td>130</td>\n",
       "      <td>6.173786</td>\n",
       "      <td>5.058228</td>\n",
       "      <td>Years $\\leq$ 4.5</td>\n",
       "      <td>Hits $&gt;$ 15.5</td>\n",
       "      <td>Years $\\leq$ 4.5 and Hits $&gt;$ 15.5</td>\n",
       "    </tr>\n",
       "    <tr>\n",
       "      <th>3</th>\n",
       "      <td>500.0</td>\n",
       "      <td>11</td>\n",
       "      <td>141</td>\n",
       "      <td>6.214608</td>\n",
       "      <td>6.739687</td>\n",
       "      <td>Years $&gt;$ 4.5</td>\n",
       "      <td>Hits $&gt;$ 117.5</td>\n",
       "      <td>Years $&gt;$ 4.5 and Hits $&gt;$ 117.5</td>\n",
       "    </tr>\n",
       "    <tr>\n",
       "      <th>4</th>\n",
       "      <td>91.5</td>\n",
       "      <td>2</td>\n",
       "      <td>87</td>\n",
       "      <td>4.516339</td>\n",
       "      <td>5.058228</td>\n",
       "      <td>Years $\\leq$ 4.5</td>\n",
       "      <td>Hits $&gt;$ 15.5</td>\n",
       "      <td>Years $\\leq$ 4.5 and Hits $&gt;$ 15.5</td>\n",
       "    </tr>\n",
       "    <tr>\n",
       "      <th>5</th>\n",
       "      <td>750.0</td>\n",
       "      <td>11</td>\n",
       "      <td>169</td>\n",
       "      <td>6.620073</td>\n",
       "      <td>6.739687</td>\n",
       "      <td>Years $&gt;$ 4.5</td>\n",
       "      <td>Hits $&gt;$ 117.5</td>\n",
       "      <td>Years $&gt;$ 4.5 and Hits $&gt;$ 117.5</td>\n",
       "    </tr>\n",
       "  </tbody>\n",
       "</table>\n",
       "</div>"
      ],
      "text/plain": [
       "   Salary  Years  Hits    salary  Salary_Predicted        Year_Split  \\\n",
       "1   475.0     14    81  6.163315          5.998380     Years $>$ 4.5   \n",
       "2   480.0      3   130  6.173786          5.058228  Years $\\leq$ 4.5   \n",
       "3   500.0     11   141  6.214608          6.739687     Years $>$ 4.5   \n",
       "4    91.5      2    87  4.516339          5.058228  Years $\\leq$ 4.5   \n",
       "5   750.0     11   169  6.620073          6.739687     Years $>$ 4.5   \n",
       "\n",
       "          Hits_Split                                 Path  \n",
       "1  Hits $\\leq$ 117.5  Years $>$ 4.5 and Hits $\\leq$ 117.5  \n",
       "2      Hits $>$ 15.5   Years $\\leq$ 4.5 and Hits $>$ 15.5  \n",
       "3     Hits $>$ 117.5     Years $>$ 4.5 and Hits $>$ 117.5  \n",
       "4      Hits $>$ 15.5   Years $\\leq$ 4.5 and Hits $>$ 15.5  \n",
       "5     Hits $>$ 117.5     Years $>$ 4.5 and Hits $>$ 117.5  "
      ]
     },
     "execution_count": 5,
     "metadata": {},
     "output_type": "execute_result"
    }
   ],
   "source": [
    "df['Salary_Predicted']=y_pred\n",
    "# Split on Years\n",
    "df.loc[df.Years<=4.5,'Year_Split']='Years $\\leq$ 4.5'\n",
    "df.loc[df.Years>4.5,'Year_Split']='Years $>$ 4.5'\n",
    "# If Split on Years is True\n",
    "df.loc[((df.Years<=4.5) & (df.Hits<=15.5)),'Hits_Split']=r\"Hits $\\leq$ 15.5\"\n",
    "df.loc[((df.Years<=4.5)& (df.Hits>15.5)),'Hits_Split']=r'Hits $>$ 15.5'\n",
    "# If Split on Years is False\n",
    "df.loc[((df.Years>4.5) & (df.Hits<=117.5)),'Hits_Split']=r\"Hits $\\leq$ 117.5\"\n",
    "df.loc[((df.Years>4.5)& (df.Hits>117.5)),'Hits_Split']='Hits $>$ 117.5'\n",
    "df['Path']= df['Year_Split'] +' and '+df['Hits_Split']\n",
    "df.head()"
   ]
  },
  {
   "cell_type": "code",
   "execution_count": 6,
   "id": "danish-tutorial",
   "metadata": {
    "slideshow": {
     "slide_type": "slide"
    }
   },
   "outputs": [
    {
     "data": {
      "image/png": "[encoded data removed]",
      "text/plain": [
       "<Figure size 864x864 with 1 Axes>"
      ]
     },
     "metadata": {
      "needs_background": "light"
     },
     "output_type": "display_data"
    }
   ],
   "source": [
    "sns.set_palette(\"Set2\")\n",
    "fig, ax=plt.subplots(1,1, figsize=(12,12))\n",
    "\n",
    "sns.scatterplot(data=df, x='Years', y='Hits',hue='Path', size='Salary')\n",
    "\n",
    "# single split on year at 4.5\n",
    "ax.axvline(x=4.5, color='k', linestyle=':')\n",
    "\n",
    "# Years <4.5 and Hits <=15.5\n",
    "ax.plot((0, 4.5), (15.5, 15.5), 'k:')\n",
    "# Years >4.5 and Hits <=117.5\n",
    "ax.plot((4.5, 25), (117.5, 117.5), 'k:')\n",
    "\n",
    "ax.set_xlabel(\"YEARS\", fontsize=20)\n",
    "ax.set_ylabel(\"HITS\", fontsize=20)\n",
    "\n",
    "ax.set_xlim(xmin=0,xmax=25)\n",
    "plt.text(1.5, 7, f\"R1: {str(round(np.exp(7.243499)))}\", horizontalalignment='left', size='large', color='black', weight='semibold')\n",
    "plt.text(1.5, 190, f\"R2: {str(round(np.exp(5.058228)))}\", horizontalalignment='left', size='large', color='black', weight='semibold')\n",
    "plt.text(15, 7, f\"R3: {str(round(np.exp(5.998380)))}\", horizontalalignment='left', size='large', color='black', weight='semibold')\n",
    "plt.text(15, 190, f\"R4: {str(round(np.exp(6.739687)))}\", horizontalalignment='left', size='large', color='black', weight='semibold')\n",
    "\n",
    "plt.title(\"Splits and Predicted Salaries\",fontsize=24)\n",
    "plt.show()"
   ]
  },
  {
   "cell_type": "markdown",
   "id": "creative-participation",
   "metadata": {
    "slideshow": {
     "slide_type": "slide"
    }
   },
   "source": [
    "## Regression tree fit to the data\n",
    "- The 2 figures in the previous slides shows how data is fit to the data depending on __splitting rules__\n",
    "- It consists of a series of splitting rules, __starting at the top of the tree__. \n",
    "- The top split assigns observations having Years<4.5 to the left __branch__.\n",
    "    - The data is then further divided depending on the number of hits:\n",
    "        - For Hits <=15.5 (Region 1): Predicted Salary is $e^{7.243}$ = 1,399 thousands dollars\n",
    "        - For Hits > 15.5 (Region 2): Predicted Salary is \\$157,000\n",
    "- Similar reasoning leads to regions 3 and 4\n",
    "- Note that these predicted wages correspond to the mean of each group!"
   ]
  },
  {
   "cell_type": "code",
   "execution_count": 7,
   "id": "bright-execution",
   "metadata": {
    "slideshow": {
     "slide_type": "slide"
    }
   },
   "outputs": [
    {
     "data": {
      "text/html": [
       "<div>\n",
       "<style scoped>\n",
       "    .dataframe tbody tr th:only-of-type {\n",
       "        vertical-align: middle;\n",
       "    }\n",
       "\n",
       "    .dataframe tbody tr th {\n",
       "        vertical-align: top;\n",
       "    }\n",
       "\n",
       "    .dataframe thead th {\n",
       "        text-align: right;\n",
       "    }\n",
       "</style>\n",
       "<table border=\"1\" class=\"dataframe\">\n",
       "  <thead>\n",
       "    <tr style=\"text-align: right;\">\n",
       "      <th></th>\n",
       "      <th>salary</th>\n",
       "      <th>Salary_Predicted</th>\n",
       "    </tr>\n",
       "    <tr>\n",
       "      <th>Path</th>\n",
       "      <th></th>\n",
       "      <th></th>\n",
       "    </tr>\n",
       "  </thead>\n",
       "  <tbody>\n",
       "    <tr>\n",
       "      <th>Years $&gt;$ 4.5 and Hits $&gt;$ 117.5</th>\n",
       "      <td>6.739687</td>\n",
       "      <td>6.739687</td>\n",
       "    </tr>\n",
       "    <tr>\n",
       "      <th>Years $&gt;$ 4.5 and Hits $\\leq$ 117.5</th>\n",
       "      <td>5.998380</td>\n",
       "      <td>5.998380</td>\n",
       "    </tr>\n",
       "    <tr>\n",
       "      <th>Years $\\leq$ 4.5 and Hits $&gt;$ 15.5</th>\n",
       "      <td>5.058228</td>\n",
       "      <td>5.058228</td>\n",
       "    </tr>\n",
       "    <tr>\n",
       "      <th>Years $\\leq$ 4.5 and Hits $\\leq$ 15.5</th>\n",
       "      <td>7.243499</td>\n",
       "      <td>7.243499</td>\n",
       "    </tr>\n",
       "  </tbody>\n",
       "</table>\n",
       "</div>"
      ],
      "text/plain": [
       "                                         salary  Salary_Predicted\n",
       "Path                                                             \n",
       "Years $>$ 4.5 and Hits $>$ 117.5       6.739687          6.739687\n",
       "Years $>$ 4.5 and Hits $\\leq$ 117.5    5.998380          5.998380\n",
       "Years $\\leq$ 4.5 and Hits $>$ 15.5     5.058228          5.058228\n",
       "Years $\\leq$ 4.5 and Hits $\\leq$ 15.5  7.243499          7.243499"
      ]
     },
     "execution_count": 7,
     "metadata": {},
     "output_type": "execute_result"
    }
   ],
   "source": [
    "df.groupby('Path').agg({'salary':np.mean,'Salary_Predicted':np.mean})"
   ]
  },
  {
   "cell_type": "markdown",
   "id": "nutritional-commitment",
   "metadata": {
    "slideshow": {
     "slide_type": "slide"
    }
   },
   "source": [
    "## Terminology\n",
    "- R1, R2, R3 and R4 are known as __terminal nodes__ or __leaves__\n",
    "    - Trees are typically drawn upside down, in the sense that the leaves are at the bottom of the tree. \n",
    "- The points along the tree where the predictor space is split are referred to as __internal nodes__. \n",
    "    - This is where the splits occur\n",
    "- We refer to the segments of the trees that connect the nodes as __branches__."
   ]
  },
  {
   "cell_type": "markdown",
   "id": "plastic-engineer",
   "metadata": {
    "slideshow": {
     "slide_type": "slide"
    }
   },
   "source": [
    "## Interprating the results\n",
    "You should interpret the results this way:\n",
    "- Years is the most important factor in determining Salary and players with less experience earn lower salaries than more experienced players. \n",
    "- Given that a player is less experienced, the number of hits that he made in the previous year seems to play little role in his salary. \n",
    "    - For a couple of players it's even a plus (outliers?)\n",
    "- But among players who have been in the major leagues for five or more years, the number of hits made in the previous year does affect salary, and players who made more hits last year tend to have higher salaries.\n",
    "- Note that we could probably predict Salary using an OLS regression but this representation is very easy to interpret"
   ]
  },
  {
   "cell_type": "markdown",
   "id": "dietary-blast",
   "metadata": {
    "slideshow": {
     "slide_type": "slide"
    }
   },
   "source": [
    "# Decision trees: under the hood\n",
    "- What we did here is predict salary using __stratification of the feature space__ which we did in 2 steps:\n",
    "    1. We divide the predictor space—that is, the set of possible values for $X_1,X_2, . . .,X_p$—into J distinct and non-overlapping regions, $R_1,R_2, \\dots , R_J$\n",
    "        - In our example, J=4\n",
    "    2. For every observation that falls into the region $R_j$, we make the same prediction, which is simply the mean of the response values for the training observations in $R_j$"
   ]
  },
  {
   "cell_type": "markdown",
   "id": "cordless-turner",
   "metadata": {
    "slideshow": {
     "slide_type": "slide"
    }
   },
   "source": [
    "## Dividing the predictor space\n",
    "How do we construct the regions $R_1, \\dots,R_J$? \n",
    "- We divide the predictor space into high-dimensional rectangles, or __boxes__\n",
    "- The goal is to find boxes R1, . . . , RJ that minimize the RSS!\n",
    "    $$\\Large \\sum_{j=1}^J \\sum_{i \\in R_J} (y_i - \\hat{y}_{R_j})^2$$\n",
    "- Where $\\hat{y}_{R_j}$ is __the average__ of the $j_{th}$ box\n",
    "For J=2:\n",
    "$$  \\sum_{i \\in R_1} (y_i - \\hat{y}_{R_1})^2 +\\sum_{i \\in R_2} (y_i - \\hat{y}_{R_2})^2 $$\n",
    " "
   ]
  },
  {
   "cell_type": "markdown",
   "id": "answering-arbor",
   "metadata": {
    "slideshow": {
     "slide_type": "slide"
    }
   },
   "source": [
    "## Dividing the predictor space continued\n",
    "- Note that we are no longer trying to fit data using parameters ($\\beta$) \n",
    "- Our prediction for y instead relies on simply taking the average of the group j\n",
    "- This a method known as __nonparametric__ estimation\n",
    "- As you can imagine, the question is how to best minimize our objective function (RSS)"
   ]
  },
  {
   "cell_type": "markdown",
   "id": "celtic-fancy",
   "metadata": {
    "slideshow": {
     "slide_type": "slide"
    }
   },
   "source": [
    "## Dividing the predictor space, still\n",
    "- Consider the _Years_ predictor, 4.5 Years is value that minimizes the RSS\n",
    "- It means we divided the predictor space into two regions $\\left\\{X|X_j \\leq s\\right\\}$ and $\\left\\{X|X_j > s\\right\\}$ such that the cutpoint $s$ leads to the greatest possible reduction in RSS. \n",
    "    - The notation means the region of predictor space in which $X_j$ takes on a value less or equal (or greater than s.)"
   ]
  },
  {
   "cell_type": "code",
   "execution_count": 8,
   "id": "novel-jumping",
   "metadata": {
    "slideshow": {
     "slide_type": "slide"
    }
   },
   "outputs": [
    {
     "data": {
      "text/html": [
       "<div>\n",
       "<style scoped>\n",
       "    .dataframe tbody tr th:only-of-type {\n",
       "        vertical-align: middle;\n",
       "    }\n",
       "\n",
       "    .dataframe tbody tr th {\n",
       "        vertical-align: top;\n",
       "    }\n",
       "\n",
       "    .dataframe thead th {\n",
       "        text-align: right;\n",
       "    }\n",
       "</style>\n",
       "<table border=\"1\" class=\"dataframe\">\n",
       "  <thead>\n",
       "    <tr style=\"text-align: right;\">\n",
       "      <th></th>\n",
       "      <th>RSS</th>\n",
       "      <th>Cutpoint</th>\n",
       "    </tr>\n",
       "  </thead>\n",
       "  <tbody>\n",
       "    <tr>\n",
       "      <th>0</th>\n",
       "      <td>180.035910</td>\n",
       "      <td>1.0</td>\n",
       "    </tr>\n",
       "    <tr>\n",
       "      <th>1</th>\n",
       "      <td>180.035910</td>\n",
       "      <td>1.5</td>\n",
       "    </tr>\n",
       "    <tr>\n",
       "      <th>2</th>\n",
       "      <td>150.869546</td>\n",
       "      <td>2.0</td>\n",
       "    </tr>\n",
       "    <tr>\n",
       "      <th>3</th>\n",
       "      <td>150.869546</td>\n",
       "      <td>2.5</td>\n",
       "    </tr>\n",
       "    <tr>\n",
       "      <th>4</th>\n",
       "      <td>120.182414</td>\n",
       "      <td>3.0</td>\n",
       "    </tr>\n",
       "  </tbody>\n",
       "</table>\n",
       "</div>"
      ],
      "text/plain": [
       "          RSS  Cutpoint\n",
       "0  180.035910       1.0\n",
       "1  180.035910       1.5\n",
       "2  150.869546       2.0\n",
       "3  150.869546       2.5\n",
       "4  120.182414       3.0"
      ]
     },
     "execution_count": 8,
     "metadata": {},
     "output_type": "execute_result"
    }
   ],
   "source": [
    "dd=df.copy()\n",
    "cutpoints=np.linspace(df['Years'].min(),df['Years'].max(),((df['Years'].max()-df['Years'].min())*2)+1)\n",
    "RSS=[] ; cutoffs=[]\n",
    "for s in cutpoints:\n",
    "    # split the data along the cutoff\n",
    "    dd_inf=dd.loc[df.Years<=s].copy() ; dd_sup=dd.loc[df.Years>s].copy()\n",
    "    dd_inf['y_hat']=dd_inf['salary'].mean() ; dd_sup['y_hat']=dd_sup['salary'].mean()\n",
    "    # take the square of the residual of each region\n",
    "    dd_inf['residual_sq'] = np.square(dd_inf['salary'] - dd_inf['y_hat'] ) \n",
    "    dd_sup['residual_sq'] = np.square(dd_sup['salary'] - dd_sup['y_hat'] ) \n",
    "    # take the sum of the squared residual\n",
    "    rss_inf=dd_inf['residual_sq'].sum(); rss_sup=dd_sup['residual_sq'].sum()\n",
    "    # add the RSS of each region and append in RSS list\n",
    "    RSS.append(rss_inf+rss_sup)  ; cutoffs.append(s)\n",
    "    \n",
    "dd=pd.DataFrame({'RSS':RSS, 'Cutpoint':cutoffs})  \n",
    "dd.head()"
   ]
  },
  {
   "cell_type": "code",
   "execution_count": 9,
   "id": "solid-reasoning",
   "metadata": {
    "slideshow": {
     "slide_type": "slide"
    }
   },
   "outputs": [
    {
     "data": {
      "image/png": "[encoded data removed]",
      "text/plain": [
       "<Figure size 864x576 with 1 Axes>"
      ]
     },
     "metadata": {
      "needs_background": "light"
     },
     "output_type": "display_data"
    }
   ],
   "source": [
    "fig, ax = plt.subplots(1,1,figsize=(12,8))\n",
    "sns.lineplot(x='Cutpoint',y='RSS',color=\"darkorange\",data=dd,ax=ax)\n",
    "ax.axvline(4.5,color='darkgreen')\n",
    "ax.set_xlabel(\"Value of Split for Years\", fontsize=20)\n",
    "ax.set_ylabel(\"Residual Sum of Squares from split of predictor space\", fontsize=16)\n",
    "\n",
    "plt.show()"
   ]
  },
  {
   "cell_type": "markdown",
   "id": "dated-booking",
   "metadata": {
    "slideshow": {
     "slide_type": "slide"
    }
   },
   "source": [
    "## Dividing the predictor space, next\n",
    "\n",
    "- So we now know that we should split the data along Years=4.5\n",
    "- Next, we repeat the process, looking for the best predictor and best cutpoint in order to split the data further so as to minimize the RSS within each of the __resulting regions__. \n",
    "    - However, this time, instead of splitting the entire predictor space, we split one of the two previously identified regions.\n",
    "- The process continues until a stopping criterion is reached; \n",
    "    - for instance, we may continue until no region contains more than five observations.\n",
    "- Once the regions $R_1, \\dots , R_J$ have been created, we predict the response for a given test observation using the mean of the training observations in the region to which that test observation belongs"
   ]
  },
  {
   "cell_type": "markdown",
   "id": "advanced-protest",
   "metadata": {
    "slideshow": {
     "slide_type": "slide"
    }
   },
   "source": [
    "# Classification Trees\n",
    "- What if you want to predict a qualitative variable instead?\n",
    "- __Classification trees__ are very similar to a regression tree, except that it is classification used to predict a qualitative response rather than a quantitative one. \n",
    "- Instead of predicting the average of the region, we will predict that each observation belongs to the most commonly occurring class of training observations in the region to which it belongs"
   ]
  },
  {
   "cell_type": "markdown",
   "id": "pointed-clinton",
   "metadata": {
    "slideshow": {
     "slide_type": "slide"
    }
   },
   "source": [
    "## Error rate\n",
    "- In the classification setting, RSS cannot be used as a criterion for making the binary splits.\n",
    "- Instead we can use the __classification error rate__. \n",
    "    - the fraction of the training observations in that region that do not belong to the most common class:\n",
    "$$ \\text{Error Rate}= 1 - \\max_k(\\hat{p}_{mk}) $$\n",
    "- Here $\\hat{p}_{mk}$ represents the proportion of training observations in the $m_{th}$ region that are from the $k^{th}$ class. \n",
    "    - However, it turns out that classificationerror is not sufficiently sensitive for tree-growing, and in practice two other measures are preferable."
   ]
  },
  {
   "cell_type": "markdown",
   "id": "indonesian-montana",
   "metadata": {
    "slideshow": {
     "slide_type": "slide"
    }
   },
   "source": [
    "## Gini Index\n",
    "$$\\text{Gini}=\\sum_{k=1}^K \\hat{p}_{mk}(1-\\hat{p}_{mk})$$\n",
    "- Gini is a measure of total variance across the K classes. \n",
    "    - Gini index takes on a small value if all of the $\\hat{p}_{mk}$ are close to zero or one. \n",
    "- Gini index is a measure of __node purity__ \n",
    "    - a small value indicates that a node contains predominantly observations from a single class."
   ]
  },
  {
   "cell_type": "markdown",
   "id": "tired-firewall",
   "metadata": {
    "slideshow": {
     "slide_type": "slide"
    }
   },
   "source": [
    "## Enthropy\n",
    "$$\\text{Enthropy}= - \\sum_{k=1}^K \\hat{p}_{mk}\\log\\hat{p}_{mk}$$\n",
    "- Since $0 \\leq \\hat{p}_{mk} \\leq 1$ , it follows that $0 \\leq −\\hat{p}_{mk}\\log\\hat{p}_{mk}$. \n",
    "- Entropy will take on a value near zero if the $\\hat{p}_{mk}$ are all near zero or near one. \n",
    "- Gini or Enthropy are the preferred ways to measure the quality of a particular split"
   ]
  },
  {
   "cell_type": "code",
   "execution_count": 10,
   "id": "beneficial-gasoline",
   "metadata": {
    "slideshow": {
     "slide_type": "slide"
    }
   },
   "outputs": [
    {
     "data": {
      "text/html": [
       "<div>\n",
       "<style scoped>\n",
       "    .dataframe tbody tr th:only-of-type {\n",
       "        vertical-align: middle;\n",
       "    }\n",
       "\n",
       "    .dataframe tbody tr th {\n",
       "        vertical-align: top;\n",
       "    }\n",
       "\n",
       "    .dataframe thead th {\n",
       "        text-align: right;\n",
       "    }\n",
       "</style>\n",
       "<table border=\"1\" class=\"dataframe\">\n",
       "  <thead>\n",
       "    <tr style=\"text-align: right;\">\n",
       "      <th></th>\n",
       "      <th>Age</th>\n",
       "      <th>Sex</th>\n",
       "      <th>ChestPain</th>\n",
       "      <th>RestBP</th>\n",
       "      <th>Chol</th>\n",
       "      <th>Fbs</th>\n",
       "      <th>RestECG</th>\n",
       "      <th>MaxHR</th>\n",
       "      <th>ExAng</th>\n",
       "      <th>Oldpeak</th>\n",
       "      <th>Slope</th>\n",
       "      <th>Ca</th>\n",
       "      <th>Thal</th>\n",
       "      <th>AHD</th>\n",
       "    </tr>\n",
       "  </thead>\n",
       "  <tbody>\n",
       "    <tr>\n",
       "      <th>0</th>\n",
       "      <td>63</td>\n",
       "      <td>1</td>\n",
       "      <td>typical</td>\n",
       "      <td>145</td>\n",
       "      <td>233</td>\n",
       "      <td>1</td>\n",
       "      <td>2</td>\n",
       "      <td>150</td>\n",
       "      <td>0</td>\n",
       "      <td>2.3</td>\n",
       "      <td>3</td>\n",
       "      <td>0.0</td>\n",
       "      <td>fixed</td>\n",
       "      <td>No</td>\n",
       "    </tr>\n",
       "    <tr>\n",
       "      <th>1</th>\n",
       "      <td>67</td>\n",
       "      <td>1</td>\n",
       "      <td>asymptomatic</td>\n",
       "      <td>160</td>\n",
       "      <td>286</td>\n",
       "      <td>0</td>\n",
       "      <td>2</td>\n",
       "      <td>108</td>\n",
       "      <td>1</td>\n",
       "      <td>1.5</td>\n",
       "      <td>2</td>\n",
       "      <td>3.0</td>\n",
       "      <td>normal</td>\n",
       "      <td>Yes</td>\n",
       "    </tr>\n",
       "    <tr>\n",
       "      <th>2</th>\n",
       "      <td>67</td>\n",
       "      <td>1</td>\n",
       "      <td>asymptomatic</td>\n",
       "      <td>120</td>\n",
       "      <td>229</td>\n",
       "      <td>0</td>\n",
       "      <td>2</td>\n",
       "      <td>129</td>\n",
       "      <td>1</td>\n",
       "      <td>2.6</td>\n",
       "      <td>2</td>\n",
       "      <td>2.0</td>\n",
       "      <td>reversable</td>\n",
       "      <td>Yes</td>\n",
       "    </tr>\n",
       "    <tr>\n",
       "      <th>3</th>\n",
       "      <td>37</td>\n",
       "      <td>1</td>\n",
       "      <td>nonanginal</td>\n",
       "      <td>130</td>\n",
       "      <td>250</td>\n",
       "      <td>0</td>\n",
       "      <td>0</td>\n",
       "      <td>187</td>\n",
       "      <td>0</td>\n",
       "      <td>3.5</td>\n",
       "      <td>3</td>\n",
       "      <td>0.0</td>\n",
       "      <td>normal</td>\n",
       "      <td>No</td>\n",
       "    </tr>\n",
       "    <tr>\n",
       "      <th>4</th>\n",
       "      <td>41</td>\n",
       "      <td>0</td>\n",
       "      <td>nontypical</td>\n",
       "      <td>130</td>\n",
       "      <td>204</td>\n",
       "      <td>0</td>\n",
       "      <td>2</td>\n",
       "      <td>172</td>\n",
       "      <td>0</td>\n",
       "      <td>1.4</td>\n",
       "      <td>1</td>\n",
       "      <td>0.0</td>\n",
       "      <td>normal</td>\n",
       "      <td>No</td>\n",
       "    </tr>\n",
       "  </tbody>\n",
       "</table>\n",
       "</div>"
      ],
      "text/plain": [
       "   Age  Sex     ChestPain  RestBP  Chol  Fbs  RestECG  MaxHR  ExAng  Oldpeak  \\\n",
       "0   63    1       typical     145   233    1        2    150      0      2.3   \n",
       "1   67    1  asymptomatic     160   286    0        2    108      1      1.5   \n",
       "2   67    1  asymptomatic     120   229    0        2    129      1      2.6   \n",
       "3   37    1    nonanginal     130   250    0        0    187      0      3.5   \n",
       "4   41    0    nontypical     130   204    0        2    172      0      1.4   \n",
       "\n",
       "   Slope   Ca        Thal  AHD  \n",
       "0      3  0.0       fixed   No  \n",
       "1      2  3.0      normal  Yes  \n",
       "2      2  2.0  reversable  Yes  \n",
       "3      3  0.0      normal   No  \n",
       "4      1  0.0      normal   No  "
      ]
     },
     "metadata": {},
     "output_type": "display_data"
    },
    {
     "data": {
      "text/html": [
       "<div>\n",
       "<style scoped>\n",
       "    .dataframe tbody tr th:only-of-type {\n",
       "        vertical-align: middle;\n",
       "    }\n",
       "\n",
       "    .dataframe tbody tr th {\n",
       "        vertical-align: top;\n",
       "    }\n",
       "\n",
       "    .dataframe thead th {\n",
       "        text-align: right;\n",
       "    }\n",
       "</style>\n",
       "<table border=\"1\" class=\"dataframe\">\n",
       "  <thead>\n",
       "    <tr style=\"text-align: right;\">\n",
       "      <th></th>\n",
       "      <th>Age</th>\n",
       "      <th>Sex</th>\n",
       "      <th>ChestPain</th>\n",
       "      <th>RestBP</th>\n",
       "      <th>Chol</th>\n",
       "      <th>Fbs</th>\n",
       "      <th>RestECG</th>\n",
       "      <th>MaxHR</th>\n",
       "      <th>ExAng</th>\n",
       "      <th>Oldpeak</th>\n",
       "      <th>Slope</th>\n",
       "      <th>Ca</th>\n",
       "      <th>Thal</th>\n",
       "    </tr>\n",
       "  </thead>\n",
       "  <tbody>\n",
       "    <tr>\n",
       "      <th>0</th>\n",
       "      <td>63</td>\n",
       "      <td>1</td>\n",
       "      <td>0</td>\n",
       "      <td>145</td>\n",
       "      <td>233</td>\n",
       "      <td>1</td>\n",
       "      <td>2</td>\n",
       "      <td>150</td>\n",
       "      <td>0</td>\n",
       "      <td>2.3</td>\n",
       "      <td>3</td>\n",
       "      <td>0.0</td>\n",
       "      <td>0</td>\n",
       "    </tr>\n",
       "    <tr>\n",
       "      <th>1</th>\n",
       "      <td>67</td>\n",
       "      <td>1</td>\n",
       "      <td>1</td>\n",
       "      <td>160</td>\n",
       "      <td>286</td>\n",
       "      <td>0</td>\n",
       "      <td>2</td>\n",
       "      <td>108</td>\n",
       "      <td>1</td>\n",
       "      <td>1.5</td>\n",
       "      <td>2</td>\n",
       "      <td>3.0</td>\n",
       "      <td>1</td>\n",
       "    </tr>\n",
       "    <tr>\n",
       "      <th>2</th>\n",
       "      <td>67</td>\n",
       "      <td>1</td>\n",
       "      <td>1</td>\n",
       "      <td>120</td>\n",
       "      <td>229</td>\n",
       "      <td>0</td>\n",
       "      <td>2</td>\n",
       "      <td>129</td>\n",
       "      <td>1</td>\n",
       "      <td>2.6</td>\n",
       "      <td>2</td>\n",
       "      <td>2.0</td>\n",
       "      <td>2</td>\n",
       "    </tr>\n",
       "    <tr>\n",
       "      <th>3</th>\n",
       "      <td>37</td>\n",
       "      <td>1</td>\n",
       "      <td>2</td>\n",
       "      <td>130</td>\n",
       "      <td>250</td>\n",
       "      <td>0</td>\n",
       "      <td>0</td>\n",
       "      <td>187</td>\n",
       "      <td>0</td>\n",
       "      <td>3.5</td>\n",
       "      <td>3</td>\n",
       "      <td>0.0</td>\n",
       "      <td>1</td>\n",
       "    </tr>\n",
       "    <tr>\n",
       "      <th>4</th>\n",
       "      <td>41</td>\n",
       "      <td>0</td>\n",
       "      <td>3</td>\n",
       "      <td>130</td>\n",
       "      <td>204</td>\n",
       "      <td>0</td>\n",
       "      <td>2</td>\n",
       "      <td>172</td>\n",
       "      <td>0</td>\n",
       "      <td>1.4</td>\n",
       "      <td>1</td>\n",
       "      <td>0.0</td>\n",
       "      <td>1</td>\n",
       "    </tr>\n",
       "  </tbody>\n",
       "</table>\n",
       "</div>"
      ],
      "text/plain": [
       "   Age  Sex  ChestPain  RestBP  Chol  Fbs  RestECG  MaxHR  ExAng  Oldpeak  \\\n",
       "0   63    1          0     145   233    1        2    150      0      2.3   \n",
       "1   67    1          1     160   286    0        2    108      1      1.5   \n",
       "2   67    1          1     120   229    0        2    129      1      2.6   \n",
       "3   37    1          2     130   250    0        0    187      0      3.5   \n",
       "4   41    0          3     130   204    0        2    172      0      1.4   \n",
       "\n",
       "   Slope   Ca  Thal  \n",
       "0      3  0.0     0  \n",
       "1      2  3.0     1  \n",
       "2      2  2.0     2  \n",
       "3      3  0.0     1  \n",
       "4      1  0.0     1  "
      ]
     },
     "execution_count": 10,
     "metadata": {},
     "output_type": "execute_result"
    }
   ],
   "source": [
    "df2=pd.read_csv(folder+'Heart.csv')\n",
    "df2.pop(df2.columns[0])\n",
    "display(df2.head())\n",
    "df2['ChestPain'] = pd.factorize(df2.ChestPain)[0]\n",
    "df2['Thal'] = pd.factorize(df2.Thal)[0]\n",
    "df2['AHD']=df2['AHD'].replace({\"Yes\":1, \"No\":0})\n",
    "df2.dropna(inplace=True)\n",
    "y_train2=df2.pop('AHD') \n",
    "X_train2=df2\n",
    "df2.head()"
   ]
  },
  {
   "cell_type": "markdown",
   "id": "checked-truth",
   "metadata": {
    "slideshow": {
     "slide_type": "slide"
    }
   },
   "source": [
    "Classification Tree using Giny"
   ]
  },
  {
   "cell_type": "code",
   "execution_count": 11,
   "id": "lesbian-webmaster",
   "metadata": {
    "slideshow": {
     "slide_type": "slide"
    }
   },
   "outputs": [
    {
     "data": {
      "text/plain": [
       "0.7658862876254181"
      ]
     },
     "metadata": {},
     "output_type": "display_data"
    },
    {
     "name": "stdout",
     "output_type": "stream",
     "text": [
      "Classification Tree using Giny\n"
     ]
    },
    {
     "data": {
      "image/svg+xml": [
       "<svg height=\"433pt\" viewBox=\"0.00 0.00 604.00 433.00\" width=\"604pt\" xmlns=\"http://www.w3.org/2000/svg\" xmlns:xlink=\"http://www.w3.org/1999/xlink\">\n",
       "<g class=\"graph\" id=\"graph0\" transform=\"scale(1 1) rotate(0) translate(4 429)\">\n",
       "<title>Tree</title>\n",
       "<polygon fill=\"#ffffff\" points=\"-4,4 -4,-429 600,-429 600,4 -4,4\" stroke=\"transparent\"/>\n",
       "<!-- 0 -->\n",
       "<g class=\"node\" id=\"node1\">\n",
       "<title>0</title>\n",
       "<polygon fill=\"#fbede3\" points=\"417,-425 297,-425 297,-342 417,-342 417,-425\" stroke=\"#000000\"/>\n",
       "<text fill=\"#000000\" font-family=\"Times,serif\" font-size=\"14.00\" text-anchor=\"middle\" x=\"357\" y=\"-409.8\">ChestPain &lt;= 1.5</text>\n",
       "<text fill=\"#000000\" font-family=\"Times,serif\" font-size=\"14.00\" text-anchor=\"middle\" x=\"357\" y=\"-394.8\">gini = 0.497</text>\n",
       "<text fill=\"#000000\" font-family=\"Times,serif\" font-size=\"14.00\" text-anchor=\"middle\" x=\"357\" y=\"-379.8\">samples = 299</text>\n",
       "<text fill=\"#000000\" font-family=\"Times,serif\" font-size=\"14.00\" text-anchor=\"middle\" x=\"357\" y=\"-364.8\">value = [161, 138]</text>\n",
       "<text fill=\"#000000\" font-family=\"Times,serif\" font-size=\"14.00\" text-anchor=\"middle\" x=\"357\" y=\"-349.8\">class = No</text>\n",
       "</g>\n",
       "<!-- 1 -->\n",
       "<g class=\"node\" id=\"node2\">\n",
       "<title>1</title>\n",
       "<polygon fill=\"#9bcef2\" points=\"349,-306 233,-306 233,-223 349,-223 349,-306\" stroke=\"#000000\"/>\n",
       "<text fill=\"#000000\" font-family=\"Times,serif\" font-size=\"14.00\" text-anchor=\"middle\" x=\"291\" y=\"-290.8\">MaxHR &lt;= 147.5</text>\n",
       "<text fill=\"#000000\" font-family=\"Times,serif\" font-size=\"14.00\" text-anchor=\"middle\" x=\"291\" y=\"-275.8\">gini = 0.443</text>\n",
       "<text fill=\"#000000\" font-family=\"Times,serif\" font-size=\"14.00\" text-anchor=\"middle\" x=\"291\" y=\"-260.8\">samples = 166</text>\n",
       "<text fill=\"#000000\" font-family=\"Times,serif\" font-size=\"14.00\" text-anchor=\"middle\" x=\"291\" y=\"-245.8\">value = [55, 111]</text>\n",
       "<text fill=\"#000000\" font-family=\"Times,serif\" font-size=\"14.00\" text-anchor=\"middle\" x=\"291\" y=\"-230.8\">class = Yes</text>\n",
       "</g>\n",
       "<!-- 0&#45;&gt;1 -->\n",
       "<g class=\"edge\" id=\"edge1\">\n",
       "<title>0-&gt;1</title>\n",
       "<path d=\"M333.9164,-341.8796C329.1211,-333.2335 324.0178,-324.0322 319.0662,-315.1042\" fill=\"none\" stroke=\"#000000\"/>\n",
       "<polygon fill=\"#000000\" points=\"322.0931,-313.3455 314.1821,-306.2981 315.9716,-316.7407 322.0931,-313.3455\" stroke=\"#000000\"/>\n",
       "<text fill=\"#000000\" font-family=\"Times,serif\" font-size=\"14.00\" text-anchor=\"middle\" x=\"307.2969\" y=\"-326.6313\">True</text>\n",
       "</g>\n",
       "<!-- 2 -->\n",
       "<g class=\"node\" id=\"node9\">\n",
       "<title>2</title>\n",
       "<polygon fill=\"#eca16b\" points=\"480.5,-306 367.5,-306 367.5,-223 480.5,-223 480.5,-306\" stroke=\"#000000\"/>\n",
       "<text fill=\"#000000\" font-family=\"Times,serif\" font-size=\"14.00\" text-anchor=\"middle\" x=\"424\" y=\"-290.8\">Slope &lt;= 1.5</text>\n",
       "<text fill=\"#000000\" font-family=\"Times,serif\" font-size=\"14.00\" text-anchor=\"middle\" x=\"424\" y=\"-275.8\">gini = 0.324</text>\n",
       "<text fill=\"#000000\" font-family=\"Times,serif\" font-size=\"14.00\" text-anchor=\"middle\" x=\"424\" y=\"-260.8\">samples = 133</text>\n",
       "<text fill=\"#000000\" font-family=\"Times,serif\" font-size=\"14.00\" text-anchor=\"middle\" x=\"424\" y=\"-245.8\">value = [106, 27]</text>\n",
       "<text fill=\"#000000\" font-family=\"Times,serif\" font-size=\"14.00\" text-anchor=\"middle\" x=\"424\" y=\"-230.8\">class = No</text>\n",
       "</g>\n",
       "<!-- 0&#45;&gt;2 -->\n",
       "<g class=\"edge\" id=\"edge8\">\n",
       "<title>0-&gt;2</title>\n",
       "<path d=\"M380.4333,-341.8796C385.3013,-333.2335 390.4819,-324.0322 395.5086,-315.1042\" fill=\"none\" stroke=\"#000000\"/>\n",
       "<polygon fill=\"#000000\" points=\"398.6103,-316.729 400.4666,-306.2981 392.5107,-313.2947 398.6103,-316.729\" stroke=\"#000000\"/>\n",
       "<text fill=\"#000000\" font-family=\"Times,serif\" font-size=\"14.00\" text-anchor=\"middle\" x=\"407.1978\" y=\"-326.6749\">False</text>\n",
       "</g>\n",
       "<!-- 3 -->\n",
       "<g class=\"node\" id=\"node3\">\n",
       "<title>3</title>\n",
       "<polygon fill=\"#6ab6ec\" points=\"216.5,-187 103.5,-187 103.5,-104 216.5,-104 216.5,-187\" stroke=\"#000000\"/>\n",
       "<text fill=\"#000000\" font-family=\"Times,serif\" font-size=\"14.00\" text-anchor=\"middle\" x=\"160\" y=\"-171.8\">RestBP &lt;= 109.0</text>\n",
       "<text fill=\"#000000\" font-family=\"Times,serif\" font-size=\"14.00\" text-anchor=\"middle\" x=\"160\" y=\"-156.8\">gini = 0.32</text>\n",
       "<text fill=\"#000000\" font-family=\"Times,serif\" font-size=\"14.00\" text-anchor=\"middle\" x=\"160\" y=\"-141.8\">samples = 95</text>\n",
       "<text fill=\"#000000\" font-family=\"Times,serif\" font-size=\"14.00\" text-anchor=\"middle\" x=\"160\" y=\"-126.8\">value = [19, 76]</text>\n",
       "<text fill=\"#000000\" font-family=\"Times,serif\" font-size=\"14.00\" text-anchor=\"middle\" x=\"160\" y=\"-111.8\">class = Yes</text>\n",
       "</g>\n",
       "<!-- 1&#45;&gt;3 -->\n",
       "<g class=\"edge\" id=\"edge2\">\n",
       "<title>1-&gt;3</title>\n",
       "<path d=\"M245.1826,-222.8796C234.9706,-213.6031 224.055,-203.6874 213.5624,-194.1559\" fill=\"none\" stroke=\"#000000\"/>\n",
       "<polygon fill=\"#000000\" points=\"215.7684,-191.4313 206.013,-187.2981 211.0616,-196.6127 215.7684,-191.4313\" stroke=\"#000000\"/>\n",
       "</g>\n",
       "<!-- 4 -->\n",
       "<g class=\"node\" id=\"node6\">\n",
       "<title>4</title>\n",
       "<polygon fill=\"#fefcfa\" points=\"351,-187 235,-187 235,-104 351,-104 351,-187\" stroke=\"#000000\"/>\n",
       "<text fill=\"#000000\" font-family=\"Times,serif\" font-size=\"14.00\" text-anchor=\"middle\" x=\"293\" y=\"-171.8\">MaxHR &lt;= 177.5</text>\n",
       "<text fill=\"#000000\" font-family=\"Times,serif\" font-size=\"14.00\" text-anchor=\"middle\" x=\"293\" y=\"-156.8\">gini = 0.5</text>\n",
       "<text fill=\"#000000\" font-family=\"Times,serif\" font-size=\"14.00\" text-anchor=\"middle\" x=\"293\" y=\"-141.8\">samples = 71</text>\n",
       "<text fill=\"#000000\" font-family=\"Times,serif\" font-size=\"14.00\" text-anchor=\"middle\" x=\"293\" y=\"-126.8\">value = [36, 35]</text>\n",
       "<text fill=\"#000000\" font-family=\"Times,serif\" font-size=\"14.00\" text-anchor=\"middle\" x=\"293\" y=\"-111.8\">class = No</text>\n",
       "</g>\n",
       "<!-- 1&#45;&gt;4 -->\n",
       "<g class=\"edge\" id=\"edge5\">\n",
       "<title>1-&gt;4</title>\n",
       "<path d=\"M291.6995,-222.8796C291.8372,-214.6838 291.9834,-205.9891 292.126,-197.5013\" fill=\"none\" stroke=\"#000000\"/>\n",
       "<polygon fill=\"#000000\" points=\"295.6289,-197.3555 292.2975,-187.2981 288.6299,-197.2378 295.6289,-197.3555\" stroke=\"#000000\"/>\n",
       "</g>\n",
       "<!-- 7 -->\n",
       "<g class=\"node\" id=\"node4\">\n",
       "<title>7</title>\n",
       "<polygon fill=\"#eca06a\" points=\"92,-68 0,-68 0,0 92,0 92,-68\" stroke=\"#000000\"/>\n",
       "<text fill=\"#000000\" font-family=\"Times,serif\" font-size=\"14.00\" text-anchor=\"middle\" x=\"46\" y=\"-52.8\">gini = 0.32</text>\n",
       "<text fill=\"#000000\" font-family=\"Times,serif\" font-size=\"14.00\" text-anchor=\"middle\" x=\"46\" y=\"-37.8\">samples = 5</text>\n",
       "<text fill=\"#000000\" font-family=\"Times,serif\" font-size=\"14.00\" text-anchor=\"middle\" x=\"46\" y=\"-22.8\">value = [4, 1]</text>\n",
       "<text fill=\"#000000\" font-family=\"Times,serif\" font-size=\"14.00\" text-anchor=\"middle\" x=\"46\" y=\"-7.8\">class = No</text>\n",
       "</g>\n",
       "<!-- 3&#45;&gt;7 -->\n",
       "<g class=\"edge\" id=\"edge3\">\n",
       "<title>3-&gt;7</title>\n",
       "<path d=\"M117.5506,-103.9815C107.9659,-94.607 97.793,-84.6572 88.2179,-75.2921\" fill=\"none\" stroke=\"#000000\"/>\n",
       "<polygon fill=\"#000000\" points=\"90.6283,-72.7538 81.0319,-68.2637 85.7337,-77.7581 90.6283,-72.7538\" stroke=\"#000000\"/>\n",
       "</g>\n",
       "<!-- 8 -->\n",
       "<g class=\"node\" id=\"node5\">\n",
       "<title>8</title>\n",
       "<polygon fill=\"#61b1ea\" points=\"216,-68 110,-68 110,0 216,0 216,-68\" stroke=\"#000000\"/>\n",
       "<text fill=\"#000000\" font-family=\"Times,serif\" font-size=\"14.00\" text-anchor=\"middle\" x=\"163\" y=\"-52.8\">gini = 0.278</text>\n",
       "<text fill=\"#000000\" font-family=\"Times,serif\" font-size=\"14.00\" text-anchor=\"middle\" x=\"163\" y=\"-37.8\">samples = 90</text>\n",
       "<text fill=\"#000000\" font-family=\"Times,serif\" font-size=\"14.00\" text-anchor=\"middle\" x=\"163\" y=\"-22.8\">value = [15, 75]</text>\n",
       "<text fill=\"#000000\" font-family=\"Times,serif\" font-size=\"14.00\" text-anchor=\"middle\" x=\"163\" y=\"-7.8\">class = Yes</text>\n",
       "</g>\n",
       "<!-- 3&#45;&gt;8 -->\n",
       "<g class=\"edge\" id=\"edge4\">\n",
       "<title>3-&gt;8</title>\n",
       "<path d=\"M161.1171,-103.9815C161.3421,-95.618 161.5795,-86.7965 161.807,-78.3409\" fill=\"none\" stroke=\"#000000\"/>\n",
       "<polygon fill=\"#000000\" points=\"165.3078,-78.3542 162.0781,-68.2637 158.3103,-78.1659 165.3078,-78.3542\" stroke=\"#000000\"/>\n",
       "</g>\n",
       "<!-- 9 -->\n",
       "<g class=\"node\" id=\"node7\">\n",
       "<title>9</title>\n",
       "<polygon fill=\"#cfe7f9\" points=\"344,-68 238,-68 238,0 344,0 344,-68\" stroke=\"#000000\"/>\n",
       "<text fill=\"#000000\" font-family=\"Times,serif\" font-size=\"14.00\" text-anchor=\"middle\" x=\"291\" y=\"-52.8\">gini = 0.49</text>\n",
       "<text fill=\"#000000\" font-family=\"Times,serif\" font-size=\"14.00\" text-anchor=\"middle\" x=\"291\" y=\"-37.8\">samples = 58</text>\n",
       "<text fill=\"#000000\" font-family=\"Times,serif\" font-size=\"14.00\" text-anchor=\"middle\" x=\"291\" y=\"-22.8\">value = [25, 33]</text>\n",
       "<text fill=\"#000000\" font-family=\"Times,serif\" font-size=\"14.00\" text-anchor=\"middle\" x=\"291\" y=\"-7.8\">class = Yes</text>\n",
       "</g>\n",
       "<!-- 4&#45;&gt;9 -->\n",
       "<g class=\"edge\" id=\"edge6\">\n",
       "<title>4-&gt;9</title>\n",
       "<path d=\"M292.2553,-103.9815C292.1053,-95.618 291.947,-86.7965 291.7954,-78.3409\" fill=\"none\" stroke=\"#000000\"/>\n",
       "<polygon fill=\"#000000\" points=\"295.2935,-78.1993 291.6146,-68.2637 288.2946,-78.3249 295.2935,-78.1993\" stroke=\"#000000\"/>\n",
       "</g>\n",
       "<!-- 10 -->\n",
       "<g class=\"node\" id=\"node8\">\n",
       "<title>10</title>\n",
       "<polygon fill=\"#ea985d\" points=\"461.5,-68 362.5,-68 362.5,0 461.5,0 461.5,-68\" stroke=\"#000000\"/>\n",
       "<text fill=\"#000000\" font-family=\"Times,serif\" font-size=\"14.00\" text-anchor=\"middle\" x=\"412\" y=\"-52.8\">gini = 0.26</text>\n",
       "<text fill=\"#000000\" font-family=\"Times,serif\" font-size=\"14.00\" text-anchor=\"middle\" x=\"412\" y=\"-37.8\">samples = 13</text>\n",
       "<text fill=\"#000000\" font-family=\"Times,serif\" font-size=\"14.00\" text-anchor=\"middle\" x=\"412\" y=\"-22.8\">value = [11, 2]</text>\n",
       "<text fill=\"#000000\" font-family=\"Times,serif\" font-size=\"14.00\" text-anchor=\"middle\" x=\"412\" y=\"-7.8\">class = No</text>\n",
       "</g>\n",
       "<!-- 4&#45;&gt;10 -->\n",
       "<g class=\"edge\" id=\"edge7\">\n",
       "<title>4-&gt;10</title>\n",
       "<path d=\"M337.3112,-103.9815C347.3163,-94.607 357.9354,-84.6572 367.9304,-75.2921\" fill=\"none\" stroke=\"#000000\"/>\n",
       "<polygon fill=\"#000000\" points=\"370.5274,-77.6551 375.4316,-68.2637 365.7412,-72.547 370.5274,-77.6551\" stroke=\"#000000\"/>\n",
       "</g>\n",
       "<!-- 5 -->\n",
       "<g class=\"node\" id=\"node10\">\n",
       "<title>5</title>\n",
       "<polygon fill=\"#e88f4e\" points=\"471.5,-179.5 372.5,-179.5 372.5,-111.5 471.5,-111.5 471.5,-179.5\" stroke=\"#000000\"/>\n",
       "<text fill=\"#000000\" font-family=\"Times,serif\" font-size=\"14.00\" text-anchor=\"middle\" x=\"422\" y=\"-164.3\">gini = 0.176</text>\n",
       "<text fill=\"#000000\" font-family=\"Times,serif\" font-size=\"14.00\" text-anchor=\"middle\" x=\"422\" y=\"-149.3\">samples = 82</text>\n",
       "<text fill=\"#000000\" font-family=\"Times,serif\" font-size=\"14.00\" text-anchor=\"middle\" x=\"422\" y=\"-134.3\">value = [74, 8]</text>\n",
       "<text fill=\"#000000\" font-family=\"Times,serif\" font-size=\"14.00\" text-anchor=\"middle\" x=\"422\" y=\"-119.3\">class = No</text>\n",
       "</g>\n",
       "<!-- 2&#45;&gt;5 -->\n",
       "<g class=\"edge\" id=\"edge9\">\n",
       "<title>2-&gt;5</title>\n",
       "<path d=\"M423.3005,-222.8796C423.1212,-212.2134 422.9278,-200.7021 422.7462,-189.9015\" fill=\"none\" stroke=\"#000000\"/>\n",
       "<polygon fill=\"#000000\" points=\"426.2444,-189.7547 422.5767,-179.8149 419.2454,-189.8724 426.2444,-189.7547\" stroke=\"#000000\"/>\n",
       "</g>\n",
       "<!-- 6 -->\n",
       "<g class=\"node\" id=\"node11\">\n",
       "<title>6</title>\n",
       "<polygon fill=\"#f4ccaf\" points=\"596,-179.5 490,-179.5 490,-111.5 596,-111.5 596,-179.5\" stroke=\"#000000\"/>\n",
       "<text fill=\"#000000\" font-family=\"Times,serif\" font-size=\"14.00\" text-anchor=\"middle\" x=\"543\" y=\"-164.3\">gini = 0.468</text>\n",
       "<text fill=\"#000000\" font-family=\"Times,serif\" font-size=\"14.00\" text-anchor=\"middle\" x=\"543\" y=\"-149.3\">samples = 51</text>\n",
       "<text fill=\"#000000\" font-family=\"Times,serif\" font-size=\"14.00\" text-anchor=\"middle\" x=\"543\" y=\"-134.3\">value = [32, 19]</text>\n",
       "<text fill=\"#000000\" font-family=\"Times,serif\" font-size=\"14.00\" text-anchor=\"middle\" x=\"543\" y=\"-119.3\">class = No</text>\n",
       "</g>\n",
       "<!-- 2&#45;&gt;6 -->\n",
       "<g class=\"edge\" id=\"edge10\">\n",
       "<title>2-&gt;6</title>\n",
       "<path d=\"M465.6204,-222.8796C477.2763,-211.2237 489.9413,-198.5587 501.5852,-186.9148\" fill=\"none\" stroke=\"#000000\"/>\n",
       "<polygon fill=\"#000000\" points=\"504.0889,-189.3609 508.6851,-179.8149 499.1391,-184.4111 504.0889,-189.3609\" stroke=\"#000000\"/>\n",
       "</g>\n",
       "</g>\n",
       "</svg>"
      ],
      "text/plain": [
       "<IPython.core.display.SVG object>"
      ]
     },
     "metadata": {},
     "output_type": "display_data"
    }
   ],
   "source": [
    "from sklearn.tree  import DecisionTreeClassifier\n",
    "clf = DecisionTreeClassifier(max_depth=None, max_leaf_nodes=6, max_features=3, random_state=1706)\n",
    "clf.fit(X_train2,y_train2)\n",
    "display(clf.score(X_train2,y_train2))\n",
    "\n",
    "#store label name\n",
    "labels = X_train2.columns.tolist()\n",
    "\n",
    "# print decision tree\n",
    "print(\"Classification Tree using Giny\")\n",
    "graph = Source(tree.export_graphviz(clf, out_file=None, feature_names=labels, class_names=['No', 'Yes'] , filled = True))\n",
    "display(SVG(graph.pipe(format='svg')))"
   ]
  },
  {
   "cell_type": "markdown",
   "id": "aggregate-chapel",
   "metadata": {
    "slideshow": {
     "slide_type": "slide"
    }
   },
   "source": [
    "Classification Tree using Enthropy"
   ]
  },
  {
   "cell_type": "code",
   "execution_count": 12,
   "id": "adverse-diversity",
   "metadata": {
    "slideshow": {
     "slide_type": "slide"
    }
   },
   "outputs": [
    {
     "data": {
      "text/plain": [
       "0.7391304347826086"
      ]
     },
     "metadata": {},
     "output_type": "display_data"
    },
    {
     "name": "stdout",
     "output_type": "stream",
     "text": [
      "Classification Tree using Enthropy\n"
     ]
    },
    {
     "data": {
      "image/svg+xml": [
       "<svg height=\"552pt\" viewBox=\"0.00 0.00 556.00 552.00\" width=\"556pt\" xmlns=\"http://www.w3.org/2000/svg\" xmlns:xlink=\"http://www.w3.org/1999/xlink\">\n",
       "<g class=\"graph\" id=\"graph0\" transform=\"scale(1 1) rotate(0) translate(4 548)\">\n",
       "<title>Tree</title>\n",
       "<polygon fill=\"#ffffff\" points=\"-4,4 -4,-548 552,-548 552,4 -4,4\" stroke=\"transparent\"/>\n",
       "<!-- 0 -->\n",
       "<g class=\"node\" id=\"node1\">\n",
       "<title>0</title>\n",
       "<polygon fill=\"#fbede3\" points=\"366,-544 246,-544 246,-461 366,-461 366,-544\" stroke=\"#000000\"/>\n",
       "<text fill=\"#000000\" font-family=\"Times,serif\" font-size=\"14.00\" text-anchor=\"middle\" x=\"306\" y=\"-528.8\">ChestPain &lt;= 1.5</text>\n",
       "<text fill=\"#000000\" font-family=\"Times,serif\" font-size=\"14.00\" text-anchor=\"middle\" x=\"306\" y=\"-513.8\">entropy = 0.996</text>\n",
       "<text fill=\"#000000\" font-family=\"Times,serif\" font-size=\"14.00\" text-anchor=\"middle\" x=\"306\" y=\"-498.8\">samples = 299</text>\n",
       "<text fill=\"#000000\" font-family=\"Times,serif\" font-size=\"14.00\" text-anchor=\"middle\" x=\"306\" y=\"-483.8\">value = [161, 138]</text>\n",
       "<text fill=\"#000000\" font-family=\"Times,serif\" font-size=\"14.00\" text-anchor=\"middle\" x=\"306\" y=\"-468.8\">class = No</text>\n",
       "</g>\n",
       "<!-- 1 -->\n",
       "<g class=\"node\" id=\"node2\">\n",
       "<title>1</title>\n",
       "<polygon fill=\"#9bcef2\" points=\"298,-425 182,-425 182,-342 298,-342 298,-425\" stroke=\"#000000\"/>\n",
       "<text fill=\"#000000\" font-family=\"Times,serif\" font-size=\"14.00\" text-anchor=\"middle\" x=\"240\" y=\"-409.8\">MaxHR &lt;= 147.5</text>\n",
       "<text fill=\"#000000\" font-family=\"Times,serif\" font-size=\"14.00\" text-anchor=\"middle\" x=\"240\" y=\"-394.8\">entropy = 0.916</text>\n",
       "<text fill=\"#000000\" font-family=\"Times,serif\" font-size=\"14.00\" text-anchor=\"middle\" x=\"240\" y=\"-379.8\">samples = 166</text>\n",
       "<text fill=\"#000000\" font-family=\"Times,serif\" font-size=\"14.00\" text-anchor=\"middle\" x=\"240\" y=\"-364.8\">value = [55, 111]</text>\n",
       "<text fill=\"#000000\" font-family=\"Times,serif\" font-size=\"14.00\" text-anchor=\"middle\" x=\"240\" y=\"-349.8\">class = Yes</text>\n",
       "</g>\n",
       "<!-- 0&#45;&gt;1 -->\n",
       "<g class=\"edge\" id=\"edge1\">\n",
       "<title>0-&gt;1</title>\n",
       "<path d=\"M282.9164,-460.8796C278.1211,-452.2335 273.0178,-443.0322 268.0662,-434.1042\" fill=\"none\" stroke=\"#000000\"/>\n",
       "<polygon fill=\"#000000\" points=\"271.0931,-432.3455 263.1821,-425.2981 264.9716,-435.7407 271.0931,-432.3455\" stroke=\"#000000\"/>\n",
       "<text fill=\"#000000\" font-family=\"Times,serif\" font-size=\"14.00\" text-anchor=\"middle\" x=\"256.2969\" y=\"-445.6313\">True</text>\n",
       "</g>\n",
       "<!-- 2 -->\n",
       "<g class=\"node\" id=\"node9\">\n",
       "<title>2</title>\n",
       "<polygon fill=\"#eca16b\" points=\"429.5,-425 316.5,-425 316.5,-342 429.5,-342 429.5,-425\" stroke=\"#000000\"/>\n",
       "<text fill=\"#000000\" font-family=\"Times,serif\" font-size=\"14.00\" text-anchor=\"middle\" x=\"373\" y=\"-409.8\">Slope &lt;= 1.5</text>\n",
       "<text fill=\"#000000\" font-family=\"Times,serif\" font-size=\"14.00\" text-anchor=\"middle\" x=\"373\" y=\"-394.8\">entropy = 0.728</text>\n",
       "<text fill=\"#000000\" font-family=\"Times,serif\" font-size=\"14.00\" text-anchor=\"middle\" x=\"373\" y=\"-379.8\">samples = 133</text>\n",
       "<text fill=\"#000000\" font-family=\"Times,serif\" font-size=\"14.00\" text-anchor=\"middle\" x=\"373\" y=\"-364.8\">value = [106, 27]</text>\n",
       "<text fill=\"#000000\" font-family=\"Times,serif\" font-size=\"14.00\" text-anchor=\"middle\" x=\"373\" y=\"-349.8\">class = No</text>\n",
       "</g>\n",
       "<!-- 0&#45;&gt;2 -->\n",
       "<g class=\"edge\" id=\"edge8\">\n",
       "<title>0-&gt;2</title>\n",
       "<path d=\"M329.4333,-460.8796C334.3013,-452.2335 339.4819,-443.0322 344.5086,-434.1042\" fill=\"none\" stroke=\"#000000\"/>\n",
       "<polygon fill=\"#000000\" points=\"347.6103,-435.729 349.4666,-425.2981 341.5107,-432.2947 347.6103,-435.729\" stroke=\"#000000\"/>\n",
       "<text fill=\"#000000\" font-family=\"Times,serif\" font-size=\"14.00\" text-anchor=\"middle\" x=\"356.1978\" y=\"-445.6749\">False</text>\n",
       "</g>\n",
       "<!-- 3 -->\n",
       "<g class=\"node\" id=\"node3\">\n",
       "<title>3</title>\n",
       "<polygon fill=\"#6ab6ec\" points=\"171.5,-306 58.5,-306 58.5,-223 171.5,-223 171.5,-306\" stroke=\"#000000\"/>\n",
       "<text fill=\"#000000\" font-family=\"Times,serif\" font-size=\"14.00\" text-anchor=\"middle\" x=\"115\" y=\"-290.8\">RestBP &lt;= 109.0</text>\n",
       "<text fill=\"#000000\" font-family=\"Times,serif\" font-size=\"14.00\" text-anchor=\"middle\" x=\"115\" y=\"-275.8\">entropy = 0.722</text>\n",
       "<text fill=\"#000000\" font-family=\"Times,serif\" font-size=\"14.00\" text-anchor=\"middle\" x=\"115\" y=\"-260.8\">samples = 95</text>\n",
       "<text fill=\"#000000\" font-family=\"Times,serif\" font-size=\"14.00\" text-anchor=\"middle\" x=\"115\" y=\"-245.8\">value = [19, 76]</text>\n",
       "<text fill=\"#000000\" font-family=\"Times,serif\" font-size=\"14.00\" text-anchor=\"middle\" x=\"115\" y=\"-230.8\">class = Yes</text>\n",
       "</g>\n",
       "<!-- 1&#45;&gt;3 -->\n",
       "<g class=\"edge\" id=\"edge2\">\n",
       "<title>1-&gt;3</title>\n",
       "<path d=\"M196.2811,-341.8796C186.6314,-332.6931 176.3234,-322.8798 166.4009,-313.4336\" fill=\"none\" stroke=\"#000000\"/>\n",
       "<polygon fill=\"#000000\" points=\"168.5616,-310.6582 158.9055,-306.2981 163.735,-315.7282 168.5616,-310.6582\" stroke=\"#000000\"/>\n",
       "</g>\n",
       "<!-- 4 -->\n",
       "<g class=\"node\" id=\"node8\">\n",
       "<title>4</title>\n",
       "<polygon fill=\"#fefcfa\" points=\"296,-298.5 190,-298.5 190,-230.5 296,-230.5 296,-298.5\" stroke=\"#000000\"/>\n",
       "<text fill=\"#000000\" font-family=\"Times,serif\" font-size=\"14.00\" text-anchor=\"middle\" x=\"243\" y=\"-283.3\">entropy = 1.0</text>\n",
       "<text fill=\"#000000\" font-family=\"Times,serif\" font-size=\"14.00\" text-anchor=\"middle\" x=\"243\" y=\"-268.3\">samples = 71</text>\n",
       "<text fill=\"#000000\" font-family=\"Times,serif\" font-size=\"14.00\" text-anchor=\"middle\" x=\"243\" y=\"-253.3\">value = [36, 35]</text>\n",
       "<text fill=\"#000000\" font-family=\"Times,serif\" font-size=\"14.00\" text-anchor=\"middle\" x=\"243\" y=\"-238.3\">class = No</text>\n",
       "</g>\n",
       "<!-- 1&#45;&gt;4 -->\n",
       "<g class=\"edge\" id=\"edge7\">\n",
       "<title>1-&gt;4</title>\n",
       "<path d=\"M241.0493,-341.8796C241.3182,-331.2134 241.6084,-319.7021 241.8806,-308.9015\" fill=\"none\" stroke=\"#000000\"/>\n",
       "<polygon fill=\"#000000\" points=\"245.3817,-308.9 242.1349,-298.8149 238.3839,-308.7235 245.3817,-308.9\" stroke=\"#000000\"/>\n",
       "</g>\n",
       "<!-- 7 -->\n",
       "<g class=\"node\" id=\"node4\">\n",
       "<title>7</title>\n",
       "<polygon fill=\"#eca06a\" points=\"106,-179.5 0,-179.5 0,-111.5 106,-111.5 106,-179.5\" stroke=\"#000000\"/>\n",
       "<text fill=\"#000000\" font-family=\"Times,serif\" font-size=\"14.00\" text-anchor=\"middle\" x=\"53\" y=\"-164.3\">entropy = 0.722</text>\n",
       "<text fill=\"#000000\" font-family=\"Times,serif\" font-size=\"14.00\" text-anchor=\"middle\" x=\"53\" y=\"-149.3\">samples = 5</text>\n",
       "<text fill=\"#000000\" font-family=\"Times,serif\" font-size=\"14.00\" text-anchor=\"middle\" x=\"53\" y=\"-134.3\">value = [4, 1]</text>\n",
       "<text fill=\"#000000\" font-family=\"Times,serif\" font-size=\"14.00\" text-anchor=\"middle\" x=\"53\" y=\"-119.3\">class = No</text>\n",
       "</g>\n",
       "<!-- 3&#45;&gt;7 -->\n",
       "<g class=\"edge\" id=\"edge3\">\n",
       "<title>3-&gt;7</title>\n",
       "<path d=\"M93.3154,-222.8796C87.5864,-211.8835 81.3894,-199.9893 75.6126,-188.9015\" fill=\"none\" stroke=\"#000000\"/>\n",
       "<polygon fill=\"#000000\" points=\"78.603,-187.0662 70.8784,-179.8149 72.395,-190.3007 78.603,-187.0662\" stroke=\"#000000\"/>\n",
       "</g>\n",
       "<!-- 8 -->\n",
       "<g class=\"node\" id=\"node5\">\n",
       "<title>8</title>\n",
       "<polygon fill=\"#61b1ea\" points=\"230,-187 124,-187 124,-104 230,-104 230,-187\" stroke=\"#000000\"/>\n",
       "<text fill=\"#000000\" font-family=\"Times,serif\" font-size=\"14.00\" text-anchor=\"middle\" x=\"177\" y=\"-171.8\">Oldpeak &lt;= 0.7</text>\n",
       "<text fill=\"#000000\" font-family=\"Times,serif\" font-size=\"14.00\" text-anchor=\"middle\" x=\"177\" y=\"-156.8\">entropy = 0.65</text>\n",
       "<text fill=\"#000000\" font-family=\"Times,serif\" font-size=\"14.00\" text-anchor=\"middle\" x=\"177\" y=\"-141.8\">samples = 90</text>\n",
       "<text fill=\"#000000\" font-family=\"Times,serif\" font-size=\"14.00\" text-anchor=\"middle\" x=\"177\" y=\"-126.8\">value = [15, 75]</text>\n",
       "<text fill=\"#000000\" font-family=\"Times,serif\" font-size=\"14.00\" text-anchor=\"middle\" x=\"177\" y=\"-111.8\">class = Yes</text>\n",
       "</g>\n",
       "<!-- 3&#45;&gt;8 -->\n",
       "<g class=\"edge\" id=\"edge4\">\n",
       "<title>3-&gt;8</title>\n",
       "<path d=\"M136.6846,-222.8796C141.1423,-214.3236 145.8834,-205.2238 150.4894,-196.3833\" fill=\"none\" stroke=\"#000000\"/>\n",
       "<polygon fill=\"#000000\" points=\"153.7062,-197.7838 155.2229,-187.2981 147.4983,-194.5494 153.7062,-197.7838\" stroke=\"#000000\"/>\n",
       "</g>\n",
       "<!-- 9 -->\n",
       "<g class=\"node\" id=\"node6\">\n",
       "<title>9</title>\n",
       "<polygon fill=\"#e6f3fc\" points=\"170,-68 64,-68 64,0 170,0 170,-68\" stroke=\"#000000\"/>\n",
       "<text fill=\"#000000\" font-family=\"Times,serif\" font-size=\"14.00\" text-anchor=\"middle\" x=\"117\" y=\"-52.8\">entropy = 0.997</text>\n",
       "<text fill=\"#000000\" font-family=\"Times,serif\" font-size=\"14.00\" text-anchor=\"middle\" x=\"117\" y=\"-37.8\">samples = 15</text>\n",
       "<text fill=\"#000000\" font-family=\"Times,serif\" font-size=\"14.00\" text-anchor=\"middle\" x=\"117\" y=\"-22.8\">value = [7, 8]</text>\n",
       "<text fill=\"#000000\" font-family=\"Times,serif\" font-size=\"14.00\" text-anchor=\"middle\" x=\"117\" y=\"-7.8\">class = Yes</text>\n",
       "</g>\n",
       "<!-- 8&#45;&gt;9 -->\n",
       "<g class=\"edge\" id=\"edge5\">\n",
       "<title>8-&gt;9</title>\n",
       "<path d=\"M154.6582,-103.9815C149.9598,-95.2504 144.9929,-86.0202 140.2617,-77.2281\" fill=\"none\" stroke=\"#000000\"/>\n",
       "<polygon fill=\"#000000\" points=\"143.2586,-75.4111 135.4379,-68.2637 137.0944,-78.7282 143.2586,-75.4111\" stroke=\"#000000\"/>\n",
       "</g>\n",
       "<!-- 10 -->\n",
       "<g class=\"node\" id=\"node7\">\n",
       "<title>10</title>\n",
       "<polygon fill=\"#51a9e8\" points=\"287.5,-68 188.5,-68 188.5,0 287.5,0 287.5,-68\" stroke=\"#000000\"/>\n",
       "<text fill=\"#000000\" font-family=\"Times,serif\" font-size=\"14.00\" text-anchor=\"middle\" x=\"238\" y=\"-52.8\">entropy = 0.49</text>\n",
       "<text fill=\"#000000\" font-family=\"Times,serif\" font-size=\"14.00\" text-anchor=\"middle\" x=\"238\" y=\"-37.8\">samples = 75</text>\n",
       "<text fill=\"#000000\" font-family=\"Times,serif\" font-size=\"14.00\" text-anchor=\"middle\" x=\"238\" y=\"-22.8\">value = [8, 67]</text>\n",
       "<text fill=\"#000000\" font-family=\"Times,serif\" font-size=\"14.00\" text-anchor=\"middle\" x=\"238\" y=\"-7.8\">class = Yes</text>\n",
       "</g>\n",
       "<!-- 8&#45;&gt;10 -->\n",
       "<g class=\"edge\" id=\"edge6\">\n",
       "<title>8-&gt;10</title>\n",
       "<path d=\"M199.7141,-103.9815C204.4908,-95.2504 209.5405,-86.0202 214.3506,-77.2281\" fill=\"none\" stroke=\"#000000\"/>\n",
       "<polygon fill=\"#000000\" points=\"217.5258,-78.7165 219.2549,-68.2637 211.3847,-75.3568 217.5258,-78.7165\" stroke=\"#000000\"/>\n",
       "</g>\n",
       "<!-- 5 -->\n",
       "<g class=\"node\" id=\"node10\">\n",
       "<title>5</title>\n",
       "<polygon fill=\"#e88f4e\" points=\"424,-298.5 318,-298.5 318,-230.5 424,-230.5 424,-298.5\" stroke=\"#000000\"/>\n",
       "<text fill=\"#000000\" font-family=\"Times,serif\" font-size=\"14.00\" text-anchor=\"middle\" x=\"371\" y=\"-283.3\">entropy = 0.461</text>\n",
       "<text fill=\"#000000\" font-family=\"Times,serif\" font-size=\"14.00\" text-anchor=\"middle\" x=\"371\" y=\"-268.3\">samples = 82</text>\n",
       "<text fill=\"#000000\" font-family=\"Times,serif\" font-size=\"14.00\" text-anchor=\"middle\" x=\"371\" y=\"-253.3\">value = [74, 8]</text>\n",
       "<text fill=\"#000000\" font-family=\"Times,serif\" font-size=\"14.00\" text-anchor=\"middle\" x=\"371\" y=\"-238.3\">class = No</text>\n",
       "</g>\n",
       "<!-- 2&#45;&gt;5 -->\n",
       "<g class=\"edge\" id=\"edge9\">\n",
       "<title>2-&gt;5</title>\n",
       "<path d=\"M372.3005,-341.8796C372.1212,-331.2134 371.9278,-319.7021 371.7462,-308.9015\" fill=\"none\" stroke=\"#000000\"/>\n",
       "<polygon fill=\"#000000\" points=\"375.2444,-308.7547 371.5767,-298.8149 368.2454,-308.8724 375.2444,-308.7547\" stroke=\"#000000\"/>\n",
       "</g>\n",
       "<!-- 6 -->\n",
       "<g class=\"node\" id=\"node11\">\n",
       "<title>6</title>\n",
       "<polygon fill=\"#f4ccaf\" points=\"548,-298.5 442,-298.5 442,-230.5 548,-230.5 548,-298.5\" stroke=\"#000000\"/>\n",
       "<text fill=\"#000000\" font-family=\"Times,serif\" font-size=\"14.00\" text-anchor=\"middle\" x=\"495\" y=\"-283.3\">entropy = 0.953</text>\n",
       "<text fill=\"#000000\" font-family=\"Times,serif\" font-size=\"14.00\" text-anchor=\"middle\" x=\"495\" y=\"-268.3\">samples = 51</text>\n",
       "<text fill=\"#000000\" font-family=\"Times,serif\" font-size=\"14.00\" text-anchor=\"middle\" x=\"495\" y=\"-253.3\">value = [32, 19]</text>\n",
       "<text fill=\"#000000\" font-family=\"Times,serif\" font-size=\"14.00\" text-anchor=\"middle\" x=\"495\" y=\"-238.3\">class = No</text>\n",
       "</g>\n",
       "<!-- 2&#45;&gt;6 -->\n",
       "<g class=\"edge\" id=\"edge10\">\n",
       "<title>2-&gt;6</title>\n",
       "<path d=\"M415.6697,-341.8796C427.6194,-330.2237 440.6037,-317.5587 452.5411,-305.9148\" fill=\"none\" stroke=\"#000000\"/>\n",
       "<polygon fill=\"#000000\" points=\"455.1053,-308.303 459.82,-298.8149 450.2175,-303.292 455.1053,-308.303\" stroke=\"#000000\"/>\n",
       "</g>\n",
       "</g>\n",
       "</svg>"
      ],
      "text/plain": [
       "<IPython.core.display.SVG object>"
      ]
     },
     "metadata": {},
     "output_type": "display_data"
    }
   ],
   "source": [
    "clf = DecisionTreeClassifier(max_depth=None, max_leaf_nodes=6, max_features=3, criterion=\"entropy\", random_state=1706)\n",
    "clf.fit(X_train2,y_train2)\n",
    "display(clf.score(X_train2,y_train2))\n",
    "\n",
    "#store label name\n",
    "labels = X_train2.columns.tolist()\n",
    "\n",
    "# print decision tree\n",
    "print(\"Classification Tree using Enthropy\")\n",
    "graph = Source(tree.export_graphviz(clf, out_file=None, feature_names=labels, class_names=['No', 'Yes'] , filled = True))\n",
    "display(SVG(graph.pipe(format='svg')))"
   ]
  },
  {
   "cell_type": "markdown",
   "id": "liberal-refund",
   "metadata": {
    "slideshow": {
     "slide_type": "slide"
    }
   },
   "source": [
    "# Linear model vs Trees\n",
    "- As you know, the linear regression assumes a model of the form:\n",
    "$$y= f(x)= \\beta_0 + \\sum_{j=1}^p \\beta_j X_j$$\n",
    "- Instead, regression trees assume a model of the form:\n",
    "$$y=f(x)=\\sum_{m=1}^M c_m \\mathbb{1}_{X\\in R_m}$$\n",
    "- If the relationship is indeed linear then an approach such as linear regression will likely work well, and will outperform a method such as a regression tree that does not exploit this linear structure. \n",
    "- If instead there is a highly non-linear and complex relationship between the features and the response, then decision trees may outperform classical approaches.\n",
    "    - Recall also that interpretability is better for trees"
   ]
  },
  {
   "cell_type": "markdown",
   "id": "functioning-squad",
   "metadata": {
    "slideshow": {
     "slide_type": "slide"
    }
   },
   "source": [
    "![](figure8_7.png)"
   ]
  },
  {
   "cell_type": "markdown",
   "id": "hydraulic-narrow",
   "metadata": {
    "slideshow": {
     "slide_type": "slide"
    }
   },
   "source": [
    "## Trees, Pros and Cons\n",
    "\n",
    "| Pros | Cons |\n",
    "| --- | --- |\n",
    "|- Trees are very easy to explain to people including non-expexts | - Trees generally do not have the same level of predictive accuracy as some of the other regression and classification approaches seen in this class |\n",
    "|- Close to human decision-making (cons?) | - Trees can be very non-robust. In other words, a small change in the data can cause a large change in the final estimated tree|\n",
    "|- Trees can easily handle qualitative predictors without the need to create dummy variables | |\n"
   ]
  },
  {
   "cell_type": "markdown",
   "id": "absent-plate",
   "metadata": {
    "slideshow": {
     "slide_type": "slide"
    }
   },
   "source": [
    "# Bagging, Random Forests, Boosting\n",
    "\n",
    "Bagging, random forests, and boosting use trees as building blocks to\n",
    "construct more powerful prediction models."
   ]
  },
  {
   "cell_type": "markdown",
   "id": "modified-given",
   "metadata": {
    "slideshow": {
     "slide_type": "slide"
    }
   },
   "source": [
    "## Bagging\n",
    "- The decision trees discussed so far suffer from high variance.\n",
    "    - if we split the training data into two parts at random, and fit a decision tree to both halves, the results that we get could be quite different. \n",
    "    - In contrast, a procedure with low variance will yield similar results if applied repeatedly to distinct data sets\n",
    "    - linear regression tends to have low variance, if the ratio of n to p is moderately large.\n",
    "- __Bootstrap aggregation__, or __bagging__, is a general-purpose procedure for reducing the bagging variance of a statistical learning method"
   ]
  },
  {
   "cell_type": "markdown",
   "id": "structured-charter",
   "metadata": {
    "slideshow": {
     "slide_type": "slide"
    }
   },
   "source": [
    "## Bagging, continued\n",
    "\n",
    "- Given a set of n independent observations $Z_1, \\dots , Z_n$, each with variance $\\sigma^2$, the variance of the mean $\\bar{Z}$ of the observations is given by $\\sigma^2/n$. \n",
    "    - Averaging a set of observations reduces variance!\n",
    "    \n",
    "- A natural way to reduce the variance and hence increase the prediction _accuracy_ of a statistical learning method is to take many training sets from the population, build a separate prediction model using each training set, and average the resulting predictions. \n",
    "- In other words, we could calculate $\\hat{f}^1(X), \\hat{f}^2(X), \\dots, \\hat{f}^B(X)$ using B separate training sets and average them in order to obtain a single low-variance statistical learning model"
   ]
  },
  {
   "cell_type": "markdown",
   "id": "occupational-stability",
   "metadata": {
    "slideshow": {
     "slide_type": "slide"
    }
   },
   "source": [
    "## Bootstrapping in Bagging\n",
    "- In reality we rarely have different training datasets\n",
    "- Bootstrapping consists in taking repeated samples from the (single) training data set. \n",
    "- In this approach we generate B different bootstrapped training data sets. \n",
    "- We then train our method on the $b^{th}$ bootstrapped training set in order to get $\\hat{f}^{\\ast b}(X)$ and average:\n",
    "$$\\hat{f}_{\\text{bag}}(x)= \\frac{1}{B} \\sum_{b=1}^B \\hat{f}^{\\ast b}(x)$$"
   ]
  },
  {
   "cell_type": "markdown",
   "id": "loved-acquisition",
   "metadata": {
    "slideshow": {
     "slide_type": "slide"
    }
   },
   "source": [
    "## Bagging, why it's working\n",
    "- While bagging can improve predictions for many regression methods, it is particularly useful for decision trees. To apply bagging to regression trees \n",
    "    - we simply construct B regression trees using B bootstrapped training sets, and average the resulting predictions. \n",
    "    - These trees are grown deep, and are not pruned. \n",
    "    - Hence each individual tree has high variance, but low bias. \n",
    "- Averaging these B trees reduces the variance. \n",
    "- Bagging has been demonstrated to give impressive improvements in accuracy by combining together hundreds or even thousands of trees into a single procedure."
   ]
  },
  {
   "cell_type": "markdown",
   "id": "diagnostic-operations",
   "metadata": {
    "slideshow": {
     "slide_type": "slide"
    }
   },
   "source": [
    "### Out-of-Bag Error Estimation\n",
    "- There is a very straightforward way to estimate the test error of a bagged model, without the need to perform cross-validation or the validation set approach. \n",
    "- Recall that the key to bagging is that trees are repeatedly fit to bootstrapped subsets of the observations.\n",
    "- On average, each bagged tree makes use of around two-thirds of the observations\n",
    "- The remaining one-third of the observations not used to fit a given bagged tree are referred to as the __out-of-bag (OOB) observations__\n",
    "- with B sufficiently large, OOB error is virtually equivalent to leave-one-out cross-validation error"
   ]
  },
  {
   "cell_type": "code",
   "execution_count": 13,
   "id": "elementary-usage",
   "metadata": {
    "slideshow": {
     "slide_type": "slide"
    }
   },
   "outputs": [
    {
     "data": {
      "text/html": [
       "<div>\n",
       "<style scoped>\n",
       "    .dataframe tbody tr th:only-of-type {\n",
       "        vertical-align: middle;\n",
       "    }\n",
       "\n",
       "    .dataframe tbody tr th {\n",
       "        vertical-align: top;\n",
       "    }\n",
       "\n",
       "    .dataframe thead th {\n",
       "        text-align: right;\n",
       "    }\n",
       "</style>\n",
       "<table border=\"1\" class=\"dataframe\">\n",
       "  <thead>\n",
       "    <tr style=\"text-align: right;\">\n",
       "      <th></th>\n",
       "      <th>crim</th>\n",
       "      <th>zn</th>\n",
       "      <th>indus</th>\n",
       "      <th>chas</th>\n",
       "      <th>nox</th>\n",
       "      <th>rm</th>\n",
       "      <th>age</th>\n",
       "      <th>dis</th>\n",
       "      <th>rad</th>\n",
       "      <th>tax</th>\n",
       "      <th>ptratio</th>\n",
       "      <th>black</th>\n",
       "      <th>lstat</th>\n",
       "      <th>medv</th>\n",
       "    </tr>\n",
       "  </thead>\n",
       "  <tbody>\n",
       "    <tr>\n",
       "      <th>0</th>\n",
       "      <td>0.00632</td>\n",
       "      <td>18.0</td>\n",
       "      <td>2.31</td>\n",
       "      <td>0</td>\n",
       "      <td>0.538</td>\n",
       "      <td>6.575</td>\n",
       "      <td>65.2</td>\n",
       "      <td>4.0900</td>\n",
       "      <td>1</td>\n",
       "      <td>296</td>\n",
       "      <td>15.3</td>\n",
       "      <td>396.90</td>\n",
       "      <td>4.98</td>\n",
       "      <td>24.0</td>\n",
       "    </tr>\n",
       "    <tr>\n",
       "      <th>1</th>\n",
       "      <td>0.02731</td>\n",
       "      <td>0.0</td>\n",
       "      <td>7.07</td>\n",
       "      <td>0</td>\n",
       "      <td>0.469</td>\n",
       "      <td>6.421</td>\n",
       "      <td>78.9</td>\n",
       "      <td>4.9671</td>\n",
       "      <td>2</td>\n",
       "      <td>242</td>\n",
       "      <td>17.8</td>\n",
       "      <td>396.90</td>\n",
       "      <td>9.14</td>\n",
       "      <td>21.6</td>\n",
       "    </tr>\n",
       "    <tr>\n",
       "      <th>2</th>\n",
       "      <td>0.02729</td>\n",
       "      <td>0.0</td>\n",
       "      <td>7.07</td>\n",
       "      <td>0</td>\n",
       "      <td>0.469</td>\n",
       "      <td>7.185</td>\n",
       "      <td>61.1</td>\n",
       "      <td>4.9671</td>\n",
       "      <td>2</td>\n",
       "      <td>242</td>\n",
       "      <td>17.8</td>\n",
       "      <td>392.83</td>\n",
       "      <td>4.03</td>\n",
       "      <td>34.7</td>\n",
       "    </tr>\n",
       "    <tr>\n",
       "      <th>3</th>\n",
       "      <td>0.03237</td>\n",
       "      <td>0.0</td>\n",
       "      <td>2.18</td>\n",
       "      <td>0</td>\n",
       "      <td>0.458</td>\n",
       "      <td>6.998</td>\n",
       "      <td>45.8</td>\n",
       "      <td>6.0622</td>\n",
       "      <td>3</td>\n",
       "      <td>222</td>\n",
       "      <td>18.7</td>\n",
       "      <td>394.63</td>\n",
       "      <td>2.94</td>\n",
       "      <td>33.4</td>\n",
       "    </tr>\n",
       "    <tr>\n",
       "      <th>4</th>\n",
       "      <td>0.06905</td>\n",
       "      <td>0.0</td>\n",
       "      <td>2.18</td>\n",
       "      <td>0</td>\n",
       "      <td>0.458</td>\n",
       "      <td>7.147</td>\n",
       "      <td>54.2</td>\n",
       "      <td>6.0622</td>\n",
       "      <td>3</td>\n",
       "      <td>222</td>\n",
       "      <td>18.7</td>\n",
       "      <td>396.90</td>\n",
       "      <td>5.33</td>\n",
       "      <td>36.2</td>\n",
       "    </tr>\n",
       "  </tbody>\n",
       "</table>\n",
       "</div>"
      ],
      "text/plain": [
       "      crim    zn  indus  chas    nox     rm   age     dis  rad  tax  ptratio  \\\n",
       "0  0.00632  18.0   2.31     0  0.538  6.575  65.2  4.0900    1  296     15.3   \n",
       "1  0.02731   0.0   7.07     0  0.469  6.421  78.9  4.9671    2  242     17.8   \n",
       "2  0.02729   0.0   7.07     0  0.469  7.185  61.1  4.9671    2  242     17.8   \n",
       "3  0.03237   0.0   2.18     0  0.458  6.998  45.8  6.0622    3  222     18.7   \n",
       "4  0.06905   0.0   2.18     0  0.458  7.147  54.2  6.0622    3  222     18.7   \n",
       "\n",
       "    black  lstat  medv  \n",
       "0  396.90   4.98  24.0  \n",
       "1  396.90   9.14  21.6  \n",
       "2  392.83   4.03  34.7  \n",
       "3  394.63   2.94  33.4  \n",
       "4  396.90   5.33  36.2  "
      ]
     },
     "metadata": {},
     "output_type": "display_data"
    }
   ],
   "source": [
    "df = pd.read_csv(folder+'Boston.csv')\n",
    "display(df.head())\n",
    "y_train = df.pop('medv')\n",
    "X_train = df.copy()"
   ]
  },
  {
   "cell_type": "code",
   "execution_count": 14,
   "id": "southwest-jewelry",
   "metadata": {
    "slideshow": {
     "slide_type": "slide"
    }
   },
   "outputs": [
    {
     "name": "stdout",
     "output_type": "stream",
     "text": [
      "0.8806626358574686 0.983710043573785\n"
     ]
    }
   ],
   "source": [
    "from sklearn.ensemble import BaggingRegressor\n",
    "\n",
    "regr = BaggingRegressor(base_estimator=DecisionTreeRegressor(),oob_score=True, n_estimators=100, random_state=1706).fit(X_train, y_train)\n",
    "print(regr.oob_score_, regr.score(X_train,y_train))\n"
   ]
  },
  {
   "cell_type": "code",
   "execution_count": 15,
   "id": "worthy-formula",
   "metadata": {
    "slideshow": {
     "slide_type": "slide"
    }
   },
   "outputs": [
    {
     "data": {
      "image/png": "[encoded data removed]",
      "text/plain": [
       "<Figure size 720x432 with 1 Axes>"
      ]
     },
     "metadata": {
      "needs_background": "light"
     },
     "output_type": "display_data"
    }
   ],
   "source": [
    "scores=[] ;  num_B=[]\n",
    "for i,B in enumerate(range(20,300)):\n",
    "    regr = BaggingRegressor(base_estimator=DecisionTreeRegressor(),oob_score=True, n_estimators=B, random_state=1706).fit(X_train, y_train)\n",
    "    # Predict test set labels\n",
    "    scores.append(mean_squared_error(y_train, regr.predict(X_train))) ; num_B.append(i+1)\n",
    "fig, ax = plt.subplots(1,1,figsize=(10,6))  \n",
    "\n",
    "sns.lineplot(x=num_B, y=scores)\n",
    "plt.show()     "
   ]
  },
  {
   "cell_type": "markdown",
   "id": "historical-kingston",
   "metadata": {
    "slideshow": {
     "slide_type": "slide"
    }
   },
   "source": [
    "### Variable Importance Measures\n",
    "- Bagging improves prediction accuracy at the expense of interpretability since it is the average of many trees\n",
    "- One can obtain an overall summary of the importance of each predictor using:\n",
    "    - the RSS (for bagging regression trees)\n",
    "    - the Gini index (for bagging classification trees)"
   ]
  },
  {
   "cell_type": "code",
   "execution_count": 16,
   "id": "unnecessary-reward",
   "metadata": {
    "slideshow": {
     "slide_type": "slide"
    }
   },
   "outputs": [
    {
     "data": {
      "image/png": "[encoded data removed]",
      "text/plain": [
       "<Figure size 864x576 with 1 Axes>"
      ]
     },
     "metadata": {
      "needs_background": "light"
     },
     "output_type": "display_data"
    }
   ],
   "source": [
    "feature_importances = np.mean([tree.feature_importances_ for tree in regr.estimators_], axis=0)\n",
    "\n",
    "Importance = pd.DataFrame({'Importance':feature_importances, 'Features':X_train.columns})\n",
    "Importance.sort_values('Importance', axis=0, ascending=True,inplace=True)\n",
    "\n",
    "fig, ax=plt.subplots(1,1,figsize=(12,8))\n",
    "sns.barplot(y='Features', x='Importance',data=Importance, orient='h', ax=ax)\n",
    "ax.set_xlabel(\"Total Decrease in RSS due to Feature\", fontsize=20)\n",
    "plt.show()"
   ]
  },
  {
   "cell_type": "markdown",
   "id": "complete-denmark",
   "metadata": {
    "slideshow": {
     "slide_type": "slide"
    }
   },
   "source": [
    "## Random Forests\n",
    "- __Random forests__ provide an improvement over bagged trees by way of a small tweak that decorrelates the trees\n",
    "- Each time a split in a tree is considered, a random sample of m predictors is chosen as split candidates from the full set of p predictors.\n",
    "- The split is allowed to use only one of those m predictors. \n",
    "- A fresh sample of m predictors is taken at each split, and typically we choose $m\\approx \\sqrt{p}$"
   ]
  },
  {
   "cell_type": "markdown",
   "id": "perfect-technician",
   "metadata": {
    "slideshow": {
     "slide_type": "slide"
    }
   },
   "source": [
    "### Random forests, why it's working\n",
    "- In other words, the algorithm is not allowed to consider a majority of the available predictors. \n",
    "\n",
    "Why?\n",
    "- Suppose that there is one very strong predictor in the data set, along with a number of other moderately strong predictors. \n",
    "- Then in the collection of bagged trees, most or all of the trees will use this strong predictor in the top split.\n",
    "- Consequently, all of the bagged trees will look quite similar to each other.\n",
    "    - Hence the predictions from the bagged trees will be __highly correlated__\n",
    "- Averaging many highly correlated quantities does not lead to as large of a reduction in variance as averaging many uncorrelated quantities"
   ]
  },
  {
   "cell_type": "markdown",
   "id": "dental-brick",
   "metadata": {
    "slideshow": {
     "slide_type": "slide"
    }
   },
   "source": [
    "### Random forests, why it's working continued\n",
    "- Because each split is forced to consider only a subset of the predictors, many splits will not consider the strong predictor\n",
    "- This decorrelates the trees: on average trees are less variable and hence more reliable\n",
    "- Note that bagging is a special case of random forests where $m=p$"
   ]
  },
  {
   "cell_type": "code",
   "execution_count": 17,
   "id": "proved-mirror",
   "metadata": {
    "slideshow": {
     "slide_type": "slide"
    }
   },
   "outputs": [
    {
     "name": "stdout",
     "output_type": "stream",
     "text": [
      "(299, 13)\n",
      "4\n"
     ]
    },
    {
     "data": {
      "text/plain": [
       "0.0"
      ]
     },
     "execution_count": 17,
     "metadata": {},
     "output_type": "execute_result"
    }
   ],
   "source": [
    "from sklearn.ensemble import RandomForestClassifier\n",
    "from sklearn.metrics import f1_score\n",
    "print(X_train2.shape)\n",
    "m = round(np.sqrt(X_train2.shape[1]))\n",
    "print(m)\n",
    "\n",
    "# Random forests: using m features\n",
    "clf2 = RandomForestClassifier(max_features=m, random_state=1706)\n",
    "clf2.fit(X_train2, y_train2)\n",
    "mean_squared_error(y_train2, clf2.predict(X_train2))"
   ]
  },
  {
   "cell_type": "markdown",
   "id": "polar-montana",
   "metadata": {
    "slideshow": {
     "slide_type": "slide"
    }
   },
   "source": [
    "## Boosting\n",
    "- __Boosting__, is another approach for improving the predictions resulting from a decision tree. \n",
    "    - Like bagging, boosting is a general approach that can be applied to many statistical learning methods\n",
    "- Recall that bagging involves creating multiple copies of the original training data set using the bootstrap\n",
    "    - fitting a separate decision tree to each copy\n",
    "    - then combining all of the trees in order to create a single predictive model. \n",
    "    - Each tree is built on a bootstrap data set, independent of the other trees \n",
    "- Boosting works in a similar way, except that the trees are grown sequentially: \n",
    "    - each tree is grown using information from previously grown trees. \n",
    "    - there is no bootstrap sampling; \n",
    "    - instead each tree is fit on a modified version of the original data set"
   ]
  },
  {
   "cell_type": "markdown",
   "id": "metric-berry",
   "metadata": {
    "slideshow": {
     "slide_type": "slide"
    }
   },
   "source": [
    "## Boosting Algorithm\n",
    "1. Set $\\hat{f}(x) = 0$ and $r_i=y_i$ for all $i$ in the training set \n",
    "2. For $b = 1, 2, \\dots,B$, repeat:\n",
    "    - a) Fit a tree $\\hat{f}^b$ with d splits (d+1 terminal nodes) to the training data $(X, r)$.\n",
    "    - b) Update $\\hat{f}$ by adding in a shrunken version of the new tree:\n",
    "    $$\\hat{f}(x) \\leftarrow \\hat{f}(x) + \\lambda \\hat{f}^b(x)$$\n",
    "    - c) Update the residual:\n",
    "    $$r_i=r_i-\\lambda \\hat{f}^b(x)$$\n",
    "3. Output the boosted model:\n",
    "$$\\hat{f}(x) = \\sum_{b=1}^B \\lambda\\hat{f}^b(x)$$"
   ]
  },
  {
   "cell_type": "markdown",
   "id": "sitting-director",
   "metadata": {
    "slideshow": {
     "slide_type": "slide"
    }
   },
   "source": [
    "## Boosting explained\n",
    "- Unlike fitting a single large decision tree to the data, which amounts to _fitting the data hard_ and potentially __overfitting__, the boosting approach instead _learns slowly_.\n",
    "- we fit a tree using the current residuals, rather than the outcome Y , as the response.\n",
    "-  We then add this new decision tree into the fitted function in order to update the residuals. \n",
    "- Each of these trees can be rather small, with just a few terminal nodes, determined by the parameter d in the algorithm."
   ]
  },
  {
   "cell_type": "markdown",
   "id": "regular-armenia",
   "metadata": {
    "slideshow": {
     "slide_type": "slide"
    }
   },
   "source": [
    "## Hyperparameters\n",
    "- We started from a single parameter and ended with boosting method\n",
    "- Note that this method is also usually combined with cross validation techniques\n",
    "- As you can tell, our discussion is increasingly moving away from discussing individual predictors\n",
    "- Instead, we are now interested in:\n",
    "    - How many trees should we use (B)\n",
    "    - How many splits our tree should have  (d)\n",
    "    - How fast should the model learn $\\lambda$\n",
    "    - How many folds should our CV use (k)\n",
    "- These learning parameters are known as __hyperparameters__ and are usually the core focus of machine learning methods"
   ]
  },
  {
   "cell_type": "markdown",
   "id": "russian-stream",
   "metadata": {
    "slideshow": {
     "slide_type": "slide"
    }
   },
   "source": [
    "# Case Study"
   ]
  },
  {
   "cell_type": "code",
   "execution_count": 18,
   "id": "imposed-stock",
   "metadata": {
    "slideshow": {
     "slide_type": "slide"
    }
   },
   "outputs": [
    {
     "name": "stdout",
     "output_type": "stream",
     "text": [
      "<class 'pandas.core.frame.DataFrame'>\n",
      "RangeIndex: 506 entries, 0 to 505\n",
      "Data columns (total 14 columns):\n",
      " #   Column   Non-Null Count  Dtype  \n",
      "---  ------   --------------  -----  \n",
      " 0   crim     506 non-null    float64\n",
      " 1   zn       506 non-null    float64\n",
      " 2   indus    506 non-null    float64\n",
      " 3   chas     506 non-null    int64  \n",
      " 4   nox      506 non-null    float64\n",
      " 5   rm       506 non-null    float64\n",
      " 6   age      506 non-null    float64\n",
      " 7   dis      506 non-null    float64\n",
      " 8   rad      506 non-null    int64  \n",
      " 9   tax      506 non-null    int64  \n",
      " 10  ptratio  506 non-null    float64\n",
      " 11  black    506 non-null    float64\n",
      " 12  lstat    506 non-null    float64\n",
      " 13  medv     506 non-null    float64\n",
      "dtypes: float64(11), int64(3)\n",
      "memory usage: 55.5 KB\n"
     ]
    },
    {
     "data": {
      "text/plain": [
       "None"
      ]
     },
     "metadata": {},
     "output_type": "display_data"
    },
    {
     "data": {
      "text/html": [
       "<div>\n",
       "<style scoped>\n",
       "    .dataframe tbody tr th:only-of-type {\n",
       "        vertical-align: middle;\n",
       "    }\n",
       "\n",
       "    .dataframe tbody tr th {\n",
       "        vertical-align: top;\n",
       "    }\n",
       "\n",
       "    .dataframe thead th {\n",
       "        text-align: right;\n",
       "    }\n",
       "</style>\n",
       "<table border=\"1\" class=\"dataframe\">\n",
       "  <thead>\n",
       "    <tr style=\"text-align: right;\">\n",
       "      <th></th>\n",
       "      <th>crim</th>\n",
       "      <th>zn</th>\n",
       "      <th>indus</th>\n",
       "      <th>chas</th>\n",
       "      <th>nox</th>\n",
       "      <th>rm</th>\n",
       "      <th>age</th>\n",
       "      <th>dis</th>\n",
       "      <th>rad</th>\n",
       "      <th>tax</th>\n",
       "      <th>ptratio</th>\n",
       "      <th>black</th>\n",
       "      <th>lstat</th>\n",
       "      <th>medv</th>\n",
       "    </tr>\n",
       "  </thead>\n",
       "  <tbody>\n",
       "    <tr>\n",
       "      <th>0</th>\n",
       "      <td>0.00632</td>\n",
       "      <td>18.0</td>\n",
       "      <td>2.31</td>\n",
       "      <td>0</td>\n",
       "      <td>0.538</td>\n",
       "      <td>6.575</td>\n",
       "      <td>65.2</td>\n",
       "      <td>4.0900</td>\n",
       "      <td>1</td>\n",
       "      <td>296</td>\n",
       "      <td>15.3</td>\n",
       "      <td>396.90</td>\n",
       "      <td>4.98</td>\n",
       "      <td>24.0</td>\n",
       "    </tr>\n",
       "    <tr>\n",
       "      <th>1</th>\n",
       "      <td>0.02731</td>\n",
       "      <td>0.0</td>\n",
       "      <td>7.07</td>\n",
       "      <td>0</td>\n",
       "      <td>0.469</td>\n",
       "      <td>6.421</td>\n",
       "      <td>78.9</td>\n",
       "      <td>4.9671</td>\n",
       "      <td>2</td>\n",
       "      <td>242</td>\n",
       "      <td>17.8</td>\n",
       "      <td>396.90</td>\n",
       "      <td>9.14</td>\n",
       "      <td>21.6</td>\n",
       "    </tr>\n",
       "    <tr>\n",
       "      <th>2</th>\n",
       "      <td>0.02729</td>\n",
       "      <td>0.0</td>\n",
       "      <td>7.07</td>\n",
       "      <td>0</td>\n",
       "      <td>0.469</td>\n",
       "      <td>7.185</td>\n",
       "      <td>61.1</td>\n",
       "      <td>4.9671</td>\n",
       "      <td>2</td>\n",
       "      <td>242</td>\n",
       "      <td>17.8</td>\n",
       "      <td>392.83</td>\n",
       "      <td>4.03</td>\n",
       "      <td>34.7</td>\n",
       "    </tr>\n",
       "    <tr>\n",
       "      <th>3</th>\n",
       "      <td>0.03237</td>\n",
       "      <td>0.0</td>\n",
       "      <td>2.18</td>\n",
       "      <td>0</td>\n",
       "      <td>0.458</td>\n",
       "      <td>6.998</td>\n",
       "      <td>45.8</td>\n",
       "      <td>6.0622</td>\n",
       "      <td>3</td>\n",
       "      <td>222</td>\n",
       "      <td>18.7</td>\n",
       "      <td>394.63</td>\n",
       "      <td>2.94</td>\n",
       "      <td>33.4</td>\n",
       "    </tr>\n",
       "    <tr>\n",
       "      <th>4</th>\n",
       "      <td>0.06905</td>\n",
       "      <td>0.0</td>\n",
       "      <td>2.18</td>\n",
       "      <td>0</td>\n",
       "      <td>0.458</td>\n",
       "      <td>7.147</td>\n",
       "      <td>54.2</td>\n",
       "      <td>6.0622</td>\n",
       "      <td>3</td>\n",
       "      <td>222</td>\n",
       "      <td>18.7</td>\n",
       "      <td>396.90</td>\n",
       "      <td>5.33</td>\n",
       "      <td>36.2</td>\n",
       "    </tr>\n",
       "  </tbody>\n",
       "</table>\n",
       "</div>"
      ],
      "text/plain": [
       "      crim    zn  indus  chas    nox     rm   age     dis  rad  tax  ptratio  \\\n",
       "0  0.00632  18.0   2.31     0  0.538  6.575  65.2  4.0900    1  296     15.3   \n",
       "1  0.02731   0.0   7.07     0  0.469  6.421  78.9  4.9671    2  242     17.8   \n",
       "2  0.02729   0.0   7.07     0  0.469  7.185  61.1  4.9671    2  242     17.8   \n",
       "3  0.03237   0.0   2.18     0  0.458  6.998  45.8  6.0622    3  222     18.7   \n",
       "4  0.06905   0.0   2.18     0  0.458  7.147  54.2  6.0622    3  222     18.7   \n",
       "\n",
       "    black  lstat  medv  \n",
       "0  396.90   4.98  24.0  \n",
       "1  396.90   9.14  21.6  \n",
       "2  392.83   4.03  34.7  \n",
       "3  394.63   2.94  33.4  \n",
       "4  396.90   5.33  36.2  "
      ]
     },
     "execution_count": 18,
     "metadata": {},
     "output_type": "execute_result"
    }
   ],
   "source": [
    "# load Boston data\n",
    "boston_df = pd.read_csv('Boston.csv')\n",
    "display(boston_df.info())\n",
    "boston_df.head()"
   ]
  },
  {
   "cell_type": "code",
   "execution_count": 19,
   "id": "leading-cache",
   "metadata": {
    "slideshow": {
     "slide_type": "slide"
    }
   },
   "outputs": [],
   "source": [
    "# Separate predictors and target\n",
    "X = boston_df.drop('medv', axis=1)\n",
    "y = boston_df.medv\n",
    "# Split between train and test sets\n",
    "X_train, X_test, y_train, y_test = train_test_split(X, y, test_size=0.1, random_state=0)"
   ]
  },
  {
   "cell_type": "code",
   "execution_count": 20,
   "id": "color-entrance",
   "metadata": {
    "slideshow": {
     "slide_type": "slide"
    }
   },
   "outputs": [
    {
     "data": {
      "image/svg+xml": [
       "<svg height=\"373pt\" viewBox=\"0.00 0.00 898.00 373.00\" width=\"898pt\" xmlns=\"http://www.w3.org/2000/svg\" xmlns:xlink=\"http://www.w3.org/1999/xlink\">\n",
       "<g class=\"graph\" id=\"graph0\" transform=\"scale(1 1) rotate(0) translate(4 369)\">\n",
       "<title>Tree</title>\n",
       "<polygon fill=\"#ffffff\" points=\"-4,4 -4,-369 894,-369 894,4 -4,4\" stroke=\"transparent\"/>\n",
       "<!-- 0 -->\n",
       "<g class=\"node\" id=\"node1\">\n",
       "<title>0</title>\n",
       "<polygon fill=\"#f7dac5\" points=\"505,-365 405,-365 405,-297 505,-297 505,-365\" stroke=\"#000000\"/>\n",
       "<text fill=\"#000000\" font-family=\"Times,serif\" font-size=\"14.00\" text-anchor=\"middle\" x=\"455\" y=\"-349.8\">rm &lt;= 6.941</text>\n",
       "<text fill=\"#000000\" font-family=\"Times,serif\" font-size=\"14.00\" text-anchor=\"middle\" x=\"455\" y=\"-334.8\">mse = 84.094</text>\n",
       "<text fill=\"#000000\" font-family=\"Times,serif\" font-size=\"14.00\" text-anchor=\"middle\" x=\"455\" y=\"-319.8\">samples = 455</text>\n",
       "<text fill=\"#000000\" font-family=\"Times,serif\" font-size=\"14.00\" text-anchor=\"middle\" x=\"455\" y=\"-304.8\">value = 22.654</text>\n",
       "</g>\n",
       "<!-- 1 -->\n",
       "<g class=\"node\" id=\"node2\">\n",
       "<title>1</title>\n",
       "<polygon fill=\"#f9e4d5\" points=\"391,-261 291,-261 291,-193 391,-193 391,-261\" stroke=\"#000000\"/>\n",
       "<text fill=\"#000000\" font-family=\"Times,serif\" font-size=\"14.00\" text-anchor=\"middle\" x=\"341\" y=\"-245.8\">lstat &lt;= 14.4</text>\n",
       "<text fill=\"#000000\" font-family=\"Times,serif\" font-size=\"14.00\" text-anchor=\"middle\" x=\"341\" y=\"-230.8\">mse = 37.413</text>\n",
       "<text fill=\"#000000\" font-family=\"Times,serif\" font-size=\"14.00\" text-anchor=\"middle\" x=\"341\" y=\"-215.8\">samples = 383</text>\n",
       "<text fill=\"#000000\" font-family=\"Times,serif\" font-size=\"14.00\" text-anchor=\"middle\" x=\"341\" y=\"-200.8\">value = 19.917</text>\n",
       "</g>\n",
       "<!-- 0&#45;&gt;1 -->\n",
       "<g class=\"edge\" id=\"edge1\">\n",
       "<title>0-&gt;1</title>\n",
       "<path d=\"M417.6721,-296.9465C407.535,-287.6986 396.4517,-277.5876 385.9417,-267.9994\" fill=\"none\" stroke=\"#000000\"/>\n",
       "<polygon fill=\"#000000\" points=\"388.1583,-265.284 378.4117,-261.13 383.4405,-270.4553 388.1583,-265.284\" stroke=\"#000000\"/>\n",
       "<text fill=\"#000000\" font-family=\"Times,serif\" font-size=\"14.00\" text-anchor=\"middle\" x=\"379.5573\" y=\"-282.4037\">True</text>\n",
       "</g>\n",
       "<!-- 8 -->\n",
       "<g class=\"node\" id=\"node9\">\n",
       "<title>8</title>\n",
       "<polygon fill=\"#eca26e\" points=\"610.5,-261 517.5,-261 517.5,-193 610.5,-193 610.5,-261\" stroke=\"#000000\"/>\n",
       "<text fill=\"#000000\" font-family=\"Times,serif\" font-size=\"14.00\" text-anchor=\"middle\" x=\"564\" y=\"-245.8\">rm &lt;= 7.437</text>\n",
       "<text fill=\"#000000\" font-family=\"Times,serif\" font-size=\"14.00\" text-anchor=\"middle\" x=\"564\" y=\"-230.8\">mse = 80.708</text>\n",
       "<text fill=\"#000000\" font-family=\"Times,serif\" font-size=\"14.00\" text-anchor=\"middle\" x=\"564\" y=\"-215.8\">samples = 72</text>\n",
       "<text fill=\"#000000\" font-family=\"Times,serif\" font-size=\"14.00\" text-anchor=\"middle\" x=\"564\" y=\"-200.8\">value = 37.21</text>\n",
       "</g>\n",
       "<!-- 0&#45;&gt;8 -->\n",
       "<g class=\"edge\" id=\"edge8\">\n",
       "<title>0-&gt;8</title>\n",
       "<path d=\"M490.6907,-296.9465C500.2891,-287.7884 510.7747,-277.7838 520.7366,-268.2788\" fill=\"none\" stroke=\"#000000\"/>\n",
       "<polygon fill=\"#000000\" points=\"523.4102,-270.5655 528.2291,-261.13 518.5779,-265.5009 523.4102,-270.5655\" stroke=\"#000000\"/>\n",
       "<text fill=\"#000000\" font-family=\"Times,serif\" font-size=\"14.00\" text-anchor=\"middle\" x=\"527.6424\" y=\"-282.4231\">False</text>\n",
       "</g>\n",
       "<!-- 2 -->\n",
       "<g class=\"node\" id=\"node3\">\n",
       "<title>2</title>\n",
       "<polygon fill=\"#f7d7c0\" points=\"218,-157 118,-157 118,-89 218,-89 218,-157\" stroke=\"#000000\"/>\n",
       "<text fill=\"#000000\" font-family=\"Times,serif\" font-size=\"14.00\" text-anchor=\"middle\" x=\"168\" y=\"-141.8\">lstat &lt;= 4.91</text>\n",
       "<text fill=\"#000000\" font-family=\"Times,serif\" font-size=\"14.00\" text-anchor=\"middle\" x=\"168\" y=\"-126.8\">mse = 21.448</text>\n",
       "<text fill=\"#000000\" font-family=\"Times,serif\" font-size=\"14.00\" text-anchor=\"middle\" x=\"168\" y=\"-111.8\">samples = 226</text>\n",
       "<text fill=\"#000000\" font-family=\"Times,serif\" font-size=\"14.00\" text-anchor=\"middle\" x=\"168\" y=\"-96.8\">value = 23.328</text>\n",
       "</g>\n",
       "<!-- 1&#45;&gt;2 -->\n",
       "<g class=\"edge\" id=\"edge2\">\n",
       "<title>1-&gt;2</title>\n",
       "<path d=\"M290.9612,-196.9189C270.9654,-184.8983 247.7878,-170.9649 226.9814,-158.457\" fill=\"none\" stroke=\"#000000\"/>\n",
       "<polygon fill=\"#000000\" points=\"228.5996,-155.3461 218.2257,-153.1935 224.993,-161.3455 228.5996,-155.3461\" stroke=\"#000000\"/>\n",
       "</g>\n",
       "<!-- 5 -->\n",
       "<g class=\"node\" id=\"node6\">\n",
       "<title>5</title>\n",
       "<polygon fill=\"#fdf7f2\" points=\"391,-157 291,-157 291,-89 391,-89 391,-157\" stroke=\"#000000\"/>\n",
       "<text fill=\"#000000\" font-family=\"Times,serif\" font-size=\"14.00\" text-anchor=\"middle\" x=\"341\" y=\"-141.8\">nox &lt;= 0.607</text>\n",
       "<text fill=\"#000000\" font-family=\"Times,serif\" font-size=\"14.00\" text-anchor=\"middle\" x=\"341\" y=\"-126.8\">mse = 19.542</text>\n",
       "<text fill=\"#000000\" font-family=\"Times,serif\" font-size=\"14.00\" text-anchor=\"middle\" x=\"341\" y=\"-111.8\">samples = 157</text>\n",
       "<text fill=\"#000000\" font-family=\"Times,serif\" font-size=\"14.00\" text-anchor=\"middle\" x=\"341\" y=\"-96.8\">value = 15.008</text>\n",
       "</g>\n",
       "<!-- 1&#45;&gt;5 -->\n",
       "<g class=\"edge\" id=\"edge5\">\n",
       "<title>1-&gt;5</title>\n",
       "<path d=\"M341,-192.9465C341,-184.776 341,-175.9318 341,-167.3697\" fill=\"none\" stroke=\"#000000\"/>\n",
       "<polygon fill=\"#000000\" points=\"344.5001,-167.13 341,-157.13 337.5001,-167.13 344.5001,-167.13\" stroke=\"#000000\"/>\n",
       "</g>\n",
       "<!-- 3 -->\n",
       "<g class=\"node\" id=\"node4\">\n",
       "<title>3</title>\n",
       "<polygon fill=\"#f0b88f\" points=\"100,-53 0,-53 0,0 100,0 100,-53\" stroke=\"#000000\"/>\n",
       "<text fill=\"#000000\" font-family=\"Times,serif\" font-size=\"14.00\" text-anchor=\"middle\" x=\"50\" y=\"-37.8\">mse = 47.187</text>\n",
       "<text fill=\"#000000\" font-family=\"Times,serif\" font-size=\"14.00\" text-anchor=\"middle\" x=\"50\" y=\"-22.8\">samples = 20</text>\n",
       "<text fill=\"#000000\" font-family=\"Times,serif\" font-size=\"14.00\" text-anchor=\"middle\" x=\"50\" y=\"-7.8\">value = 31.565</text>\n",
       "</g>\n",
       "<!-- 2&#45;&gt;3 -->\n",
       "<g class=\"edge\" id=\"edge3\">\n",
       "<title>2-&gt;3</title>\n",
       "<path d=\"M126.3976,-88.9777C114.7526,-79.4545 102.1146,-69.1191 90.5325,-59.6473\" fill=\"none\" stroke=\"#000000\"/>\n",
       "<polygon fill=\"#000000\" points=\"92.6648,-56.8697 82.708,-53.2485 88.2333,-62.2885 92.6648,-56.8697\" stroke=\"#000000\"/>\n",
       "</g>\n",
       "<!-- 4 -->\n",
       "<g class=\"node\" id=\"node5\">\n",
       "<title>4</title>\n",
       "<polygon fill=\"#f7dac5\" points=\"218,-53 118,-53 118,0 218,0 218,-53\" stroke=\"#000000\"/>\n",
       "<text fill=\"#000000\" font-family=\"Times,serif\" font-size=\"14.00\" text-anchor=\"middle\" x=\"168\" y=\"-37.8\">mse = 11.723</text>\n",
       "<text fill=\"#000000\" font-family=\"Times,serif\" font-size=\"14.00\" text-anchor=\"middle\" x=\"168\" y=\"-22.8\">samples = 206</text>\n",
       "<text fill=\"#000000\" font-family=\"Times,serif\" font-size=\"14.00\" text-anchor=\"middle\" x=\"168\" y=\"-7.8\">value = 22.529</text>\n",
       "</g>\n",
       "<!-- 2&#45;&gt;4 -->\n",
       "<g class=\"edge\" id=\"edge4\">\n",
       "<title>2-&gt;4</title>\n",
       "<path d=\"M168,-88.9777C168,-80.7364 168,-71.887 168,-63.5153\" fill=\"none\" stroke=\"#000000\"/>\n",
       "<polygon fill=\"#000000\" points=\"171.5001,-63.2484 168,-53.2485 164.5001,-63.2485 171.5001,-63.2484\" stroke=\"#000000\"/>\n",
       "</g>\n",
       "<!-- 6 -->\n",
       "<g class=\"node\" id=\"node7\">\n",
       "<title>6</title>\n",
       "<polygon fill=\"#fbeadf\" points=\"328,-53 236,-53 236,0 328,0 328,-53\" stroke=\"#000000\"/>\n",
       "<text fill=\"#000000\" font-family=\"Times,serif\" font-size=\"14.00\" text-anchor=\"middle\" x=\"282\" y=\"-37.8\">mse = 12.425</text>\n",
       "<text fill=\"#000000\" font-family=\"Times,serif\" font-size=\"14.00\" text-anchor=\"middle\" x=\"282\" y=\"-22.8\">samples = 62</text>\n",
       "<text fill=\"#000000\" font-family=\"Times,serif\" font-size=\"14.00\" text-anchor=\"middle\" x=\"282\" y=\"-7.8\">value = 18.3</text>\n",
       "</g>\n",
       "<!-- 5&#45;&gt;6 -->\n",
       "<g class=\"edge\" id=\"edge6\">\n",
       "<title>5-&gt;6</title>\n",
       "<path d=\"M320.1988,-88.9777C314.8242,-80.187 309.0265,-70.7044 303.6115,-61.8477\" fill=\"none\" stroke=\"#000000\"/>\n",
       "<polygon fill=\"#000000\" points=\"306.5564,-59.9545 298.354,-53.2485 300.5842,-63.6059 306.5564,-59.9545\" stroke=\"#000000\"/>\n",
       "</g>\n",
       "<!-- 7 -->\n",
       "<g class=\"node\" id=\"node8\">\n",
       "<title>7</title>\n",
       "<polygon fill=\"#ffffff\" points=\"446,-53 346,-53 346,0 446,0 446,-53\" stroke=\"#000000\"/>\n",
       "<text fill=\"#000000\" font-family=\"Times,serif\" font-size=\"14.00\" text-anchor=\"middle\" x=\"396\" y=\"-37.8\">mse = 12.496</text>\n",
       "<text fill=\"#000000\" font-family=\"Times,serif\" font-size=\"14.00\" text-anchor=\"middle\" x=\"396\" y=\"-22.8\">samples = 95</text>\n",
       "<text fill=\"#000000\" font-family=\"Times,serif\" font-size=\"14.00\" text-anchor=\"middle\" x=\"396\" y=\"-7.8\">value = 12.859</text>\n",
       "</g>\n",
       "<!-- 5&#45;&gt;7 -->\n",
       "<g class=\"edge\" id=\"edge7\">\n",
       "<title>5-&gt;7</title>\n",
       "<path d=\"M360.3909,-88.9777C365.349,-80.2786 370.6933,-70.9018 375.6958,-62.1247\" fill=\"none\" stroke=\"#000000\"/>\n",
       "<polygon fill=\"#000000\" points=\"378.8438,-63.6696 380.7548,-53.2485 372.7622,-60.2033 378.8438,-63.6696\" stroke=\"#000000\"/>\n",
       "</g>\n",
       "<!-- 9 -->\n",
       "<g class=\"node\" id=\"node10\">\n",
       "<title>9</title>\n",
       "<polygon fill=\"#f0b68c\" points=\"614,-157 514,-157 514,-89 614,-89 614,-157\" stroke=\"#000000\"/>\n",
       "<text fill=\"#000000\" font-family=\"Times,serif\" font-size=\"14.00\" text-anchor=\"middle\" x=\"564\" y=\"-141.8\">nox &lt;= 0.659</text>\n",
       "<text fill=\"#000000\" font-family=\"Times,serif\" font-size=\"14.00\" text-anchor=\"middle\" x=\"564\" y=\"-126.8\">mse = 42.919</text>\n",
       "<text fill=\"#000000\" font-family=\"Times,serif\" font-size=\"14.00\" text-anchor=\"middle\" x=\"564\" y=\"-111.8\">samples = 44</text>\n",
       "<text fill=\"#000000\" font-family=\"Times,serif\" font-size=\"14.00\" text-anchor=\"middle\" x=\"564\" y=\"-96.8\">value = 32.157</text>\n",
       "</g>\n",
       "<!-- 8&#45;&gt;9 -->\n",
       "<g class=\"edge\" id=\"edge9\">\n",
       "<title>8-&gt;9</title>\n",
       "<path d=\"M564,-192.9465C564,-184.776 564,-175.9318 564,-167.3697\" fill=\"none\" stroke=\"#000000\"/>\n",
       "<polygon fill=\"#000000\" points=\"567.5001,-167.13 564,-157.13 560.5001,-167.13 567.5001,-167.13\" stroke=\"#000000\"/>\n",
       "</g>\n",
       "<!-- 12 -->\n",
       "<g class=\"node\" id=\"node13\">\n",
       "<title>12</title>\n",
       "<polygon fill=\"#e6843e\" points=\"789.5,-157 682.5,-157 682.5,-89 789.5,-89 789.5,-157\" stroke=\"#000000\"/>\n",
       "<text fill=\"#000000\" font-family=\"Times,serif\" font-size=\"14.00\" text-anchor=\"middle\" x=\"736\" y=\"-141.8\">ptratio &lt;= 19.65</text>\n",
       "<text fill=\"#000000\" font-family=\"Times,serif\" font-size=\"14.00\" text-anchor=\"middle\" x=\"736\" y=\"-126.8\">mse = 36.922</text>\n",
       "<text fill=\"#000000\" font-family=\"Times,serif\" font-size=\"14.00\" text-anchor=\"middle\" x=\"736\" y=\"-111.8\">samples = 28</text>\n",
       "<text fill=\"#000000\" font-family=\"Times,serif\" font-size=\"14.00\" text-anchor=\"middle\" x=\"736\" y=\"-96.8\">value = 45.15</text>\n",
       "</g>\n",
       "<!-- 8&#45;&gt;12 -->\n",
       "<g class=\"edge\" id=\"edge12\">\n",
       "<title>8-&gt;12</title>\n",
       "<path d=\"M610.5457,-198.8561C629.9585,-187.1181 652.7957,-173.3096 673.6277,-160.7135\" fill=\"none\" stroke=\"#000000\"/>\n",
       "<polygon fill=\"#000000\" points=\"675.6708,-163.5683 682.4171,-155.399 672.0488,-157.5781 675.6708,-163.5683\" stroke=\"#000000\"/>\n",
       "</g>\n",
       "<!-- 10 -->\n",
       "<g class=\"node\" id=\"node11\">\n",
       "<title>10</title>\n",
       "<polygon fill=\"#efb184\" points=\"564,-53 464,-53 464,0 564,0 564,-53\" stroke=\"#000000\"/>\n",
       "<text fill=\"#000000\" font-family=\"Times,serif\" font-size=\"14.00\" text-anchor=\"middle\" x=\"514\" y=\"-37.8\">mse = 20.619</text>\n",
       "<text fill=\"#000000\" font-family=\"Times,serif\" font-size=\"14.00\" text-anchor=\"middle\" x=\"514\" y=\"-22.8\">samples = 41</text>\n",
       "<text fill=\"#000000\" font-family=\"Times,serif\" font-size=\"14.00\" text-anchor=\"middle\" x=\"514\" y=\"-7.8\">value = 33.456</text>\n",
       "</g>\n",
       "<!-- 9&#45;&gt;10 -->\n",
       "<g class=\"edge\" id=\"edge10\">\n",
       "<title>9-&gt;10</title>\n",
       "<path d=\"M546.3719,-88.9777C541.912,-80.3702 537.1084,-71.0992 532.6021,-62.402\" fill=\"none\" stroke=\"#000000\"/>\n",
       "<polygon fill=\"#000000\" points=\"535.5675,-60.5172 527.8593,-53.2485 529.3522,-63.7376 535.5675,-60.5172\" stroke=\"#000000\"/>\n",
       "</g>\n",
       "<!-- 11 -->\n",
       "<g class=\"node\" id=\"node12\">\n",
       "<title>11</title>\n",
       "<polygon fill=\"#fef9f6\" points=\"668,-53 582,-53 582,0 668,0 668,-53\" stroke=\"#000000\"/>\n",
       "<text fill=\"#000000\" font-family=\"Times,serif\" font-size=\"14.00\" text-anchor=\"middle\" x=\"625\" y=\"-37.8\">mse = 9.307</text>\n",
       "<text fill=\"#000000\" font-family=\"Times,serif\" font-size=\"14.00\" text-anchor=\"middle\" x=\"625\" y=\"-22.8\">samples = 3</text>\n",
       "<text fill=\"#000000\" font-family=\"Times,serif\" font-size=\"14.00\" text-anchor=\"middle\" x=\"625\" y=\"-7.8\">value = 14.4</text>\n",
       "</g>\n",
       "<!-- 9&#45;&gt;11 -->\n",
       "<g class=\"edge\" id=\"edge11\">\n",
       "<title>9-&gt;11</title>\n",
       "<path d=\"M585.5063,-88.9777C591.0631,-80.187 597.0573,-70.7044 602.6559,-61.8477\" fill=\"none\" stroke=\"#000000\"/>\n",
       "<polygon fill=\"#000000\" points=\"605.7069,-63.5714 608.0916,-53.2485 599.7899,-59.8312 605.7069,-63.5714\" stroke=\"#000000\"/>\n",
       "</g>\n",
       "<!-- 13 -->\n",
       "<g class=\"node\" id=\"node14\">\n",
       "<title>13</title>\n",
       "<polygon fill=\"#e58139\" points=\"786,-53 686,-53 686,0 786,0 786,-53\" stroke=\"#000000\"/>\n",
       "<text fill=\"#000000\" font-family=\"Times,serif\" font-size=\"14.00\" text-anchor=\"middle\" x=\"736\" y=\"-37.8\">mse = 17.527</text>\n",
       "<text fill=\"#000000\" font-family=\"Times,serif\" font-size=\"14.00\" text-anchor=\"middle\" x=\"736\" y=\"-22.8\">samples = 27</text>\n",
       "<text fill=\"#000000\" font-family=\"Times,serif\" font-size=\"14.00\" text-anchor=\"middle\" x=\"736\" y=\"-7.8\">value = 46.011</text>\n",
       "</g>\n",
       "<!-- 12&#45;&gt;13 -->\n",
       "<g class=\"edge\" id=\"edge13\">\n",
       "<title>12-&gt;13</title>\n",
       "<path d=\"M736,-88.9777C736,-80.7364 736,-71.887 736,-63.5153\" fill=\"none\" stroke=\"#000000\"/>\n",
       "<polygon fill=\"#000000\" points=\"739.5001,-63.2484 736,-53.2485 732.5001,-63.2485 739.5001,-63.2484\" stroke=\"#000000\"/>\n",
       "</g>\n",
       "<!-- 14 -->\n",
       "<g class=\"node\" id=\"node15\">\n",
       "<title>14</title>\n",
       "<polygon fill=\"#f8ddc9\" points=\"890,-53 804,-53 804,0 890,0 890,-53\" stroke=\"#000000\"/>\n",
       "<text fill=\"#000000\" font-family=\"Times,serif\" font-size=\"14.00\" text-anchor=\"middle\" x=\"847\" y=\"-37.8\">mse = -0.0</text>\n",
       "<text fill=\"#000000\" font-family=\"Times,serif\" font-size=\"14.00\" text-anchor=\"middle\" x=\"847\" y=\"-22.8\">samples = 1</text>\n",
       "<text fill=\"#000000\" font-family=\"Times,serif\" font-size=\"14.00\" text-anchor=\"middle\" x=\"847\" y=\"-7.8\">value = 21.9</text>\n",
       "</g>\n",
       "<!-- 12&#45;&gt;14 -->\n",
       "<g class=\"edge\" id=\"edge14\">\n",
       "<title>12-&gt;14</title>\n",
       "<path d=\"M775.1344,-88.9777C785.9833,-79.546 797.7484,-69.3178 808.5574,-59.9208\" fill=\"none\" stroke=\"#000000\"/>\n",
       "<polygon fill=\"#000000\" points=\"810.9819,-62.4508 816.2323,-53.2485 806.3892,-57.1681 810.9819,-62.4508\" stroke=\"#000000\"/>\n",
       "</g>\n",
       "</g>\n",
       "</svg>"
      ],
      "text/plain": [
       "<IPython.core.display.SVG object>"
      ]
     },
     "metadata": {},
     "output_type": "display_data"
    }
   ],
   "source": [
    "# Regression Tree\n",
    "reg = DecisionTreeRegressor(max_depth=3)\n",
    "reg.fit(X_train, y_train)\n",
    "pred = regr.predict(X_test)\n",
    "\n",
    "graph = Source(tree.export_graphviz(reg, out_file=None, feature_names=X.columns , filled = True))\n",
    "display(SVG(graph.pipe(format='svg')))"
   ]
  },
  {
   "cell_type": "code",
   "execution_count": 21,
   "id": "sustained-logistics",
   "metadata": {
    "slideshow": {
     "slide_type": "slide"
    }
   },
   "outputs": [
    {
     "data": {
      "image/png": "[encoded data removed]",
      "text/plain": [
       "<Figure size 576x576 with 1 Axes>"
      ]
     },
     "metadata": {
      "needs_background": "light"
     },
     "output_type": "display_data"
    }
   ],
   "source": [
    "## Regression Tree and Depth of the Tree\n",
    "MSEs=[] ; Depth=[]\n",
    "for d in np.arange(1,30):\n",
    "    reg = DecisionTreeRegressor(max_depth=d, random_state=1706)\n",
    "    reg.fit(X_train, y_train)\n",
    "    pred = reg.predict(X_test)\n",
    "    MSEs.append(mean_squared_error(y_test, pred)) ;  Depth.append(d)\n",
    "fig, ax = plt.subplots(1,1, figsize=(8,8))\n",
    "sns.lineplot(x=Depth, y=MSEs,ax=ax)\n",
    "ax.set_xlabel(\"Depth of Tree\",fontsize=16)\n",
    "ax.set_ylabel(\"Test MSE\",fontsize=16)\n",
    "\n",
    "plt.show()"
   ]
  },
  {
   "cell_type": "code",
   "execution_count": 22,
   "id": "behavioral-prophet",
   "metadata": {
    "slideshow": {
     "slide_type": "slide"
    }
   },
   "outputs": [
    {
     "data": {
      "image/png": "[encoded data removed]",
      "text/plain": [
       "<Figure size 576x576 with 1 Axes>"
      ]
     },
     "metadata": {
      "needs_background": "light"
     },
     "output_type": "display_data"
    }
   ],
   "source": [
    "## Regression Tree and Random State\n",
    "MSEs=[] ; States=[]\n",
    "for state in np.arange(1,300):\n",
    "    reg = DecisionTreeRegressor(max_depth=10, random_state=state)\n",
    "    reg.fit(X_train, y_train)\n",
    "    pred = reg.predict(X_test)\n",
    "    MSEs.append(mean_squared_error(y_test, pred)) ;  States.append(state)\n",
    "fig, ax = plt.subplots(1,1, figsize=(8,8))\n",
    "sns.histplot(x=MSEs,stat='probability',ax=ax)\n",
    "ax.set_xlabel('Test MSE score',fontsize=16)\n",
    "plt.show()"
   ]
  },
  {
   "cell_type": "code",
   "execution_count": 23,
   "id": "remarkable-tobago",
   "metadata": {
    "slideshow": {
     "slide_type": "slide"
    }
   },
   "outputs": [],
   "source": [
    "# Bagging\n",
    "from sklearn.metrics import r2_score\n",
    "from sklearn.ensemble import RandomForestRegressor\n",
    "oob_bag=[] ; r2_bag=[] # create list to record predictive performance\n",
    "num_trees=[]\n",
    "m=X_train.shape[1] # set m to the number of features in the data\n",
    "for i,B in enumerate(range(20,300)):\n",
    "    reg_bag = RandomForestRegressor(n_estimators=B, max_features=m, oob_score=True,random_state=1706).fit(X_train, y_train) # recall that bagging is a special case of random forest in which max features is the number of predictors\n",
    "    oob_bag.append(reg_bag.oob_score_) ; r2_bag.append(r2_score(y_test, reg_bag.predict(X_test))) ; num_trees.append(i)\n",
    "res=pd.DataFrame({'OOB Score':oob_bag, r\"Test $R^2$\":r2_bag, \"Trees\": num_trees})"
   ]
  },
  {
   "cell_type": "code",
   "execution_count": 24,
   "id": "vanilla-argentina",
   "metadata": {
    "scrolled": false,
    "slideshow": {
     "slide_type": "slide"
    }
   },
   "outputs": [
    {
     "data": {
      "image/png": "[encoded data removed]",
      "text/plain": [
       "<Figure size 720x576 with 1 Axes>"
      ]
     },
     "metadata": {
      "needs_background": "light"
     },
     "output_type": "display_data"
    }
   ],
   "source": [
    "fig, ax= plt.subplots(1,1, figsize=(10,8))\n",
    "sns.lineplot(x='Trees', y='OOB Score', color='darkorange',linestyle=\":\",label=r'OOB $R^2$ Score', data=res, ax=ax)\n",
    "sns.lineplot(x='Trees', y='Test $R^2$', color='darkgreen',linestyle=\":\",label=r\"Out of Sample $R^2$\", data=res,ax=ax)\n",
    "ax.set_ylabel(r\"$R^2$\", fontsize=16)\n",
    "ax.set_xlabel(\"Number of Trees\", fontsize=16)\n",
    "\n",
    "plt.show()"
   ]
  },
  {
   "cell_type": "code",
   "execution_count": 25,
   "id": "honest-webmaster",
   "metadata": {
    "slideshow": {
     "slide_type": "slide"
    }
   },
   "outputs": [],
   "source": [
    "# Boosting\n",
    "from sklearn.ensemble import GradientBoostingRegressor\n",
    "B=100\n",
    "learning_rates=np.linspace(0.001,1,30)\n",
    "depths=np.arange(1,31)\n",
    "MSEs=[] ; lambdas=[] ; depth_values=[]\n",
    "for 𝜆 in learning_rates:\n",
    "    for d in depths:   \n",
    "        boo = GradientBoostingRegressor(n_estimators=B,max_depth=d, learning_rate=𝜆, random_state=1706).fit(X_train, y_train)\n",
    "        MSEs.append(mean_squared_error(y_test,boo.predict(X_test))) ; lambdas.append(𝜆) ; depth_values.append(d)"
   ]
  },
  {
   "cell_type": "code",
   "execution_count": 26,
   "id": "empirical-trauma",
   "metadata": {},
   "outputs": [
    {
     "name": "stdout",
     "output_type": "stream",
     "text": [
      " Best learning rate: 0.8966551724137931\n",
      " Best Depth: 3\n"
     ]
    },
    {
     "data": {
      "text/html": [
       "<div>\n",
       "<style scoped>\n",
       "    .dataframe tbody tr th:only-of-type {\n",
       "        vertical-align: middle;\n",
       "    }\n",
       "\n",
       "    .dataframe tbody tr th {\n",
       "        vertical-align: top;\n",
       "    }\n",
       "\n",
       "    .dataframe thead th {\n",
       "        text-align: right;\n",
       "    }\n",
       "</style>\n",
       "<table border=\"1\" class=\"dataframe\">\n",
       "  <thead>\n",
       "    <tr style=\"text-align: right;\">\n",
       "      <th></th>\n",
       "      <th>MSE</th>\n",
       "      <th>𝜆</th>\n",
       "      <th>Depth</th>\n",
       "    </tr>\n",
       "  </thead>\n",
       "  <tbody>\n",
       "    <tr>\n",
       "      <th>0</th>\n",
       "      <td>83.026136</td>\n",
       "      <td>0.001</td>\n",
       "      <td>1</td>\n",
       "    </tr>\n",
       "    <tr>\n",
       "      <th>1</th>\n",
       "      <td>79.373346</td>\n",
       "      <td>0.001</td>\n",
       "      <td>2</td>\n",
       "    </tr>\n",
       "    <tr>\n",
       "      <th>2</th>\n",
       "      <td>78.709319</td>\n",
       "      <td>0.001</td>\n",
       "      <td>3</td>\n",
       "    </tr>\n",
       "    <tr>\n",
       "      <th>3</th>\n",
       "      <td>78.503065</td>\n",
       "      <td>0.001</td>\n",
       "      <td>4</td>\n",
       "    </tr>\n",
       "    <tr>\n",
       "      <th>4</th>\n",
       "      <td>78.190581</td>\n",
       "      <td>0.001</td>\n",
       "      <td>5</td>\n",
       "    </tr>\n",
       "  </tbody>\n",
       "</table>\n",
       "</div>"
      ],
      "text/plain": [
       "         MSE      𝜆  Depth\n",
       "0  83.026136  0.001      1\n",
       "1  79.373346  0.001      2\n",
       "2  78.709319  0.001      3\n",
       "3  78.503065  0.001      4\n",
       "4  78.190581  0.001      5"
      ]
     },
     "execution_count": 26,
     "metadata": {},
     "output_type": "execute_result"
    }
   ],
   "source": [
    "res=pd.DataFrame({'MSE':MSEs, '𝜆':lambdas, 'Depth':depth_values})\n",
    "print(f\" Best learning rate: {float(res.loc[res.MSE==res.MSE.min(),'𝜆'])}\")\n",
    "print(f\" Best Depth: {int(res.loc[res.MSE==res.MSE.min(),'Depth'])}\")\n",
    "\n",
    "res.head()"
   ]
  },
  {
   "cell_type": "code",
   "execution_count": 27,
   "id": "supported-sherman",
   "metadata": {
    "slideshow": {
     "slide_type": "slide"
    }
   },
   "outputs": [
    {
     "data": {
      "image/png": "[encoded data removed]",
      "text/plain": [
       "<Figure size 1080x576 with 2 Axes>"
      ]
     },
     "metadata": {
      "needs_background": "light"
     },
     "output_type": "display_data"
    }
   ],
   "source": [
    "fig, axes = plt.subplots(1,2,figsize=(15,8))\n",
    "sns.lineplot(x=r'𝜆', y='MSE', data=res, ax=axes[0])\n",
    "sns.lineplot(x='Depth', y='MSE', data=res, ax=axes[1])\n",
    "\n",
    "axes[0].set_xlabel(r\"$\\lambda$ - Learning Rate\", fontsize=16)\n",
    "axes[1].set_xlabel(\"Depth\", fontsize=16)\n",
    "\n",
    "plt.show()"
   ]
  },
  {
   "cell_type": "code",
   "execution_count": 28,
   "id": "molecular-pocket",
   "metadata": {
    "slideshow": {
     "slide_type": "slide"
    }
   },
   "outputs": [
    {
     "data": {
      "image/png": "[encoded data removed]",
      "text/plain": [
       "<Figure size 864x576 with 1 Axes>"
      ]
     },
     "metadata": {
      "needs_background": "light"
     },
     "output_type": "display_data"
    }
   ],
   "source": [
    "best_learning_rate=float(res.loc[res.MSE==res.MSE.min(),'𝜆'])\n",
    "best_depth=int(res.loc[res.MSE==res.MSE.min(),'Depth'])\n",
    "regr = GradientBoostingRegressor(n_estimators=B, learning_rate=best_learning_rate,max_depth=best_depth, random_state=1706).fit(X_train, y_train)\n",
    "\n",
    "feature_importance = regr.feature_importances_*100\n",
    "Importance = pd.DataFrame({'Importance':feature_importances, 'Features':X_train.columns})\n",
    "Importance.sort_values('Importance', axis=0, ascending=True,inplace=True)\n",
    "\n",
    "fig, ax=plt.subplots(1,1,figsize=(12,8))\n",
    "sns.barplot(y='Features', x='Importance',data=Importance, orient='h', ax=ax)\n",
    "ax.set_xlabel(\"Total Decrease in RSS due to Feature\", fontsize=20)\n",
    "plt.show()"
   ]
  }
 ],
 "metadata": {
  "celltoolbar": "Slideshow",
  "kernelspec": {
   "display_name": "Python [conda env:root] *",
   "language": "python",
   "name": "conda-root-py"
  },
  "language_info": {
   "codemirror_mode": {
    "name": "ipython",
    "version": 3
   },
   "file_extension": ".py",
   "mimetype": "text/x-python",
   "name": "python",
   "nbconvert_exporter": "python",
   "pygments_lexer": "ipython3",
   "version": "3.7.1"
  }
 },
 "nbformat": 4,
 "nbformat_minor": 5
}
