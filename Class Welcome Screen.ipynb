{
 "cells": [
  {
   "cell_type": "markdown",
   "id": "4744c20d",
   "metadata": {
    "slideshow": {
     "slide_type": "slide"
    }
   },
   "source": [
    "# CLASS STARTS AT 11:30AM\n",
    "\n",
    "- Class 7 notes on Brightspace\n",
    "    \n",
    "### Reminders: \n",
    "- The Midterm Exam is __this week__, on __Thursday, May 25th, in-class__\n",
    "- Office hours are __today__ after class instead of Thursday\n",
    "    \n"
   ]
  },
  {
   "cell_type": "markdown",
   "id": "0268c2e5",
   "metadata": {
    "slideshow": {
     "slide_type": "slide"
    }
   },
   "source": [
    "# Midterm details\n",
    "\n",
    "Lockdown browser: There will be a new Zoom link distributed on Brightspace before the exam\n",
    "\n",
    "Three sections:  \n",
    "1. True/False questions\n",
    "2. Multiple choice questions\n",
    "3. Written answer question\n",
    "\n",
    "\n"
   ]
  },
  {
   "cell_type": "markdown",
   "id": "7af8ae47",
   "metadata": {
    "slideshow": {
     "slide_type": "slide"
    }
   },
   "source": [
    "# Midterm preparation\n",
    "\n",
    "To prepare for the midterm, here is my recommendation (in order of most to least important): \n",
    "1. Do the in-class exercises and understand the answers to them for lectures #5, #6, #7. \n",
    "2. Understand the lecture notes associated with with lecture #5-#7\n",
    "3. Other questions: If I gave you a dataset and a prediction question, could you tell me what steps you would take to make a \"good\" prediction using knowledge from lectures #5-#7?   \n",
    "4. If you have time or are struggling: \n",
    "    - Read and understand the optional readings associated with lectures #5, #6, #7\n",
    "    - Understand the in-class exercises and lecture notes #1-#4"
   ]
  },
  {
   "cell_type": "markdown",
   "id": "a8d25154",
   "metadata": {
    "slideshow": {
     "slide_type": "slide"
    }
   },
   "source": [
    "## WE ARE ON BREAK\n",
    "\n",
    "## Come back at: 1:13pm"
   ]
  }
 ],
 "metadata": {
  "celltoolbar": "Slideshow",
  "kernelspec": {
   "display_name": "Python 3 (ipykernel)",
   "language": "python",
   "name": "python3"
  },
  "language_info": {
   "codemirror_mode": {
    "name": "ipython",
    "version": 3
   },
   "file_extension": ".py",
   "mimetype": "text/x-python",
   "name": "python",
   "nbconvert_exporter": "python",
   "pygments_lexer": "ipython3",
   "version": "3.9.7"
  }
 },
 "nbformat": 4,
 "nbformat_minor": 5
}
