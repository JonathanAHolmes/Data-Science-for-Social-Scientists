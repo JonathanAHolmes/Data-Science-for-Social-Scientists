{
 "cells": [
  {
   "cell_type": "markdown",
   "id": "4744c20d",
   "metadata": {},
   "source": [
    "# CLASS STARTS AT 11:30AM\n",
    "\n",
    "- Class 6 notes on Brightspace\n",
    "    \n",
    "### Reminders: \n",
    "- Assignment #1 is due __TODAY at 11:59pm Eastern Time__\n",
    "    - Make sure you complete Question #3 using the .pkl dataset, NOT the .csv dataset\n",
    "    -Question 3b, part C: By \"histogram\" I mean \"bar chart.\"\n",
    "- The Midterm Exam is __Next Thursday, May 25th, in-class__\n",
    "    \n"
   ]
  },
  {
   "cell_type": "markdown",
   "id": "a8d25154",
   "metadata": {
    "slideshow": {
     "slide_type": "slide"
    }
   },
   "source": [
    "## WE ARE ON BREAK\n",
    "\n",
    "## Come back at 1:20pm"
   ]
  }
 ],
 "metadata": {
  "celltoolbar": "Slideshow",
  "kernelspec": {
   "display_name": "Python 3 (ipykernel)",
   "language": "python",
   "name": "python3"
  },
  "language_info": {
   "codemirror_mode": {
    "name": "ipython",
    "version": 3
   },
   "file_extension": ".py",
   "mimetype": "text/x-python",
   "name": "python",
   "nbconvert_exporter": "python",
   "pygments_lexer": "ipython3",
   "version": "3.9.7"
  }
 },
 "nbformat": 4,
 "nbformat_minor": 5
}
