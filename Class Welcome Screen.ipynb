{
 "cells": [
  {
   "cell_type": "markdown",
   "id": "4744c20d",
   "metadata": {},
   "source": [
    "# CLASS STARTS AT 11:30AM\n",
    "\n",
    "- Class 5 notes on Brightspace\n",
    "    \n",
    "### Reminders: \n",
    "- We have a practice session with Lockdown Browser at 2pm today. __If you did not succesfully complete practice test #1, you need to complete practice test #2__\n",
    "- Assignment #1 is due __This Thursday, May 18th, 11:59pm Eastern Time__\n",
    "- The Midterm Exam is __Next Thursday, May 25th, in-class__\n",
    "    \n"
   ]
  },
  {
   "cell_type": "markdown",
   "id": "a8d25154",
   "metadata": {
    "slideshow": {
     "slide_type": "slide"
    }
   },
   "source": [
    "## WE ARE ON BREAK\n",
    "\n",
    "## Come back at 1:06pm"
   ]
  },
  {
   "cell_type": "markdown",
   "id": "d9f7cad5",
   "metadata": {
    "slideshow": {
     "slide_type": "slide"
    }
   },
   "source": [
    "If you are back, try answering the questions: \n",
    "\n",
    "3: Why is the MSE of the true function not zero?\n",
    "\n",
    "4: How do you expect the MSE of the true function to change as we increase the sample size N?\n",
    "\n"
   ]
  }
 ],
 "metadata": {
  "celltoolbar": "Slideshow",
  "kernelspec": {
   "display_name": "Python 3 (ipykernel)",
   "language": "python",
   "name": "python3"
  },
  "language_info": {
   "codemirror_mode": {
    "name": "ipython",
    "version": 3
   },
   "file_extension": ".py",
   "mimetype": "text/x-python",
   "name": "python",
   "nbconvert_exporter": "python",
   "pygments_lexer": "ipython3",
   "version": "3.9.7"
  }
 },
 "nbformat": 4,
 "nbformat_minor": 5
}
