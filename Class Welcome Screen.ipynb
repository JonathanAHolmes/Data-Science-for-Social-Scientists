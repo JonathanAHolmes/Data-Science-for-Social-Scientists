{
 "cells": [
  {
   "cell_type": "markdown",
   "id": "4744c20d",
   "metadata": {},
   "source": [
    "# CLASS STARTS AT 11:30AM\n",
    "\n",
    "- Class 4 notes on Brightspace\n",
    "- Please download vdsa.dta and vdsa_cleaned.pkl to a folder you can access using your Jupyter Notebook\n",
    "    - If you are using Google Colab, you will need to upload the file. \n",
    "    - Google Colab: Click the folder on the left of the screen, then the __upload__ button\n",
    "    \n",
    "### Reminder: We have a practice session with Lockdown Browser at 2pm today. \n",
    "    \n"
   ]
  }
 ],
 "metadata": {
  "kernelspec": {
   "display_name": "Python 3 (ipykernel)",
   "language": "python",
   "name": "python3"
  },
  "language_info": {
   "codemirror_mode": {
    "name": "ipython",
    "version": 3
   },
   "file_extension": ".py",
   "mimetype": "text/x-python",
   "name": "python",
   "nbconvert_exporter": "python",
   "pygments_lexer": "ipython3",
   "version": "3.9.7"
  }
 },
 "nbformat": 4,
 "nbformat_minor": 5
}
