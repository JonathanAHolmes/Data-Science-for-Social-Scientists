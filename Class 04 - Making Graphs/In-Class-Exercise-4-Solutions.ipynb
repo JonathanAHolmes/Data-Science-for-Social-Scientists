{
 "cells": [
  {
   "cell_type": "markdown",
   "id": "b676514b",
   "metadata": {},
   "source": [
    "## In-Class Exercise #4"
   ]
  },
  {
   "cell_type": "markdown",
   "id": "683b6937",
   "metadata": {},
   "source": [
    "1. Load \"raw\" dataset and all necessary packages"
   ]
  },
  {
   "cell_type": "code",
   "execution_count": 9,
   "id": "e834f76a",
   "metadata": {},
   "outputs": [],
   "source": [
    "import numpy as np\n",
    "import pandas as pd\n",
    "\n",
    "# Assign path to the folder containing the dataset\n",
    "class4Folder=\"~/Dropbox/_teaching/ECO4199/2023/Data-Science-for-Social-Scientists/Class 04 - Making Graphs/\"\n",
    "# read in the data using the read_stata() function and assign it to df\n",
    "df= pd.read_stata(class4Folder+\"vdsa.dta\")\n"
   ]
  },
  {
   "cell_type": "markdown",
   "id": "8b325efa",
   "metadata": {},
   "source": [
    "2. Data Cleaning: For all columns starting with \"price\"\n",
    "- Remove R in all the price columns\n",
    "- Change the data type to numeric (\"cast\")\n",
    "- Replace the existing column with the numeric representation\n"
   ]
  },
  {
   "cell_type": "code",
   "execution_count": 10,
   "id": "1f1fd1ab",
   "metadata": {},
   "outputs": [
    {
     "data": {
      "text/html": [
       "<div>\n",
       "<style scoped>\n",
       "    .dataframe tbody tr th:only-of-type {\n",
       "        vertical-align: middle;\n",
       "    }\n",
       "\n",
       "    .dataframe tbody tr th {\n",
       "        vertical-align: top;\n",
       "    }\n",
       "\n",
       "    .dataframe thead th {\n",
       "        text-align: right;\n",
       "    }\n",
       "</style>\n",
       "<table border=\"1\" class=\"dataframe\">\n",
       "  <thead>\n",
       "    <tr style=\"text-align: right;\">\n",
       "      <th></th>\n",
       "      <th>price_maize</th>\n",
       "      <th>price_pearlmillet</th>\n",
       "      <th>price_rice</th>\n",
       "      <th>price_sorghum</th>\n",
       "      <th>price_wheat</th>\n",
       "    </tr>\n",
       "  </thead>\n",
       "  <tbody>\n",
       "    <tr>\n",
       "      <th>0</th>\n",
       "      <td></td>\n",
       "      <td>R 4253.0</td>\n",
       "      <td>R 6831.8184</td>\n",
       "      <td></td>\n",
       "      <td></td>\n",
       "    </tr>\n",
       "    <tr>\n",
       "      <th>1</th>\n",
       "      <td>R 3930.0</td>\n",
       "      <td>R 4843.0</td>\n",
       "      <td>R 6866.6665</td>\n",
       "      <td>R 4749.0</td>\n",
       "      <td></td>\n",
       "    </tr>\n",
       "    <tr>\n",
       "      <th>2</th>\n",
       "      <td>R 4046.0</td>\n",
       "      <td>R 4913.0</td>\n",
       "      <td>R 7325.758</td>\n",
       "      <td>R 4920.0</td>\n",
       "      <td></td>\n",
       "    </tr>\n",
       "    <tr>\n",
       "      <th>3</th>\n",
       "      <td>R 4380.0</td>\n",
       "      <td>R 7500.0</td>\n",
       "      <td></td>\n",
       "      <td>R 5240.0</td>\n",
       "      <td>R 4620.0</td>\n",
       "    </tr>\n",
       "    <tr>\n",
       "      <th>4</th>\n",
       "      <td>R 4547.0</td>\n",
       "      <td>R 5250.0</td>\n",
       "      <td>R 9318.182</td>\n",
       "      <td>R 6905.0</td>\n",
       "      <td>R 5330.0</td>\n",
       "    </tr>\n",
       "  </tbody>\n",
       "</table>\n",
       "</div>"
      ],
      "text/plain": [
       "  price_maize price_pearlmillet   price_rice price_sorghum price_wheat\n",
       "0                      R 4253.0  R 6831.8184                          \n",
       "1    R 3930.0          R 4843.0  R 6866.6665      R 4749.0            \n",
       "2    R 4046.0          R 4913.0   R 7325.758      R 4920.0            \n",
       "3    R 4380.0          R 7500.0                   R 5240.0    R 4620.0\n",
       "4    R 4547.0          R 5250.0   R 9318.182      R 6905.0    R 5330.0"
      ]
     },
     "metadata": {},
     "output_type": "display_data"
    }
   ],
   "source": [
    "# create a list of columns starting with price_ using list comprehension\n",
    "cols = [col for col in df if col.startswith('price')]\n",
    "# print the head of columns starting with price\n",
    "display(df[cols].head())\n",
    "# loop over the column list\n",
    "for col in cols:\n",
    "    # replace the values \n",
    "    df[col]= pd.to_numeric(df[col].str.replace(\"R \",\"\"))\n",
    "    \n",
    "# print head() of the data frame\n",
    "df.head()"
   ]
  },
  {
   "cell_type": "markdown",
   "id": "4beb1413",
   "metadata": {},
   "source": [
    "3. New Graph: Using the dataset below, create a plot that is different from the ones we saw in class, using [Matplotlib](https://matplotlib.org/) or [Seaborn](https://seaborn.pydata.org/)\n",
    "\n",
    "Requirements: \n",
    "- Has a title\n",
    "- Has titles for the axes\n",
    "- Has appropriate tick marks on the axes\n",
    "\n",
    "\n"
   ]
  },
  {
   "cell_type": "code",
   "execution_count": 12,
   "id": "cd3d7c5a",
   "metadata": {},
   "outputs": [],
   "source": [
    "df = pd.read_pickle(class4Folder+\"vdsa_cleaned.pkl\")\n",
    "\n",
    "#Many different solutions are possible here. "
   ]
  }
 ],
 "metadata": {
  "kernelspec": {
   "display_name": "Python 3 (ipykernel)",
   "language": "python",
   "name": "python3"
  },
  "language_info": {
   "codemirror_mode": {
    "name": "ipython",
    "version": 3
   },
   "file_extension": ".py",
   "mimetype": "text/x-python",
   "name": "python",
   "nbconvert_exporter": "python",
   "pygments_lexer": "ipython3",
   "version": "3.9.7"
  }
 },
 "nbformat": 4,
 "nbformat_minor": 5
}
