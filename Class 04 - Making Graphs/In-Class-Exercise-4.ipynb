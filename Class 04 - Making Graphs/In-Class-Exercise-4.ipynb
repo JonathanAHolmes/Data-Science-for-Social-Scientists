{
 "cells": [
  {
   "cell_type": "markdown",
   "id": "1bb2f909",
   "metadata": {},
   "source": [
    "## In-Class Exercise #4"
   ]
  },
  {
   "cell_type": "markdown",
   "id": "30fefd9f",
   "metadata": {},
   "source": [
    "1. Load \"raw\" dataset and all necessary packages"
   ]
  },
  {
   "cell_type": "code",
   "execution_count": null,
   "id": "eae022a3",
   "metadata": {},
   "outputs": [],
   "source": [
    "import numpy as np\n",
    "import pandas as pd\n",
    "\n",
    "# Assign path to the folder containing the dataset\n",
    "class4Folder=\"~/Dropbox/_teaching/ECO4199/2023/Data-Science-for-Social-Scientists/Class 04 - Making Graphs/\"\n",
    "# read in the data using the read_stata() function and assign it to df\n",
    "df= pd.read_stata(class4Folder+\"vdsa.dta\")\n"
   ]
  },
  {
   "cell_type": "markdown",
   "id": "4d5ebd71",
   "metadata": {},
   "source": [
    "2. Data Cleaning: For all columns starting with \"price\"\n",
    "- Remove R in all the price columns\n",
    "- Change the data type to numeric (\"cast\")\n",
    "- Replace the existing column with the numeric representation\n"
   ]
  },
  {
   "cell_type": "code",
   "execution_count": null,
   "id": "d5bc5105",
   "metadata": {},
   "outputs": [],
   "source": []
  },
  {
   "cell_type": "markdown",
   "id": "3846dddc",
   "metadata": {},
   "source": [
    "3. New Graph: Using the dataset below, create a plot that is different from the ones we saw in class, using [Matplotlib](https://matplotlib.org/) or [Seaborn](https://seaborn.pydata.org/)\n",
    "\n",
    "Requirements: \n",
    "- Has a title\n",
    "- Has titles for the axes\n",
    "- Has appropriate tick marks on the axes\n",
    "\n",
    "\n"
   ]
  },
  {
   "cell_type": "code",
   "execution_count": null,
   "id": "ab90c4f8",
   "metadata": {},
   "outputs": [],
   "source": [
    "df = pd.read_pickle(class4Folder+\"vdsa_cleaned.pkl\")"
   ]
  }
 ],
 "metadata": {
  "kernelspec": {
   "display_name": "Python 3 (ipykernel)",
   "language": "python",
   "name": "python3"
  },
  "language_info": {
   "codemirror_mode": {
    "name": "ipython",
    "version": 3
   },
   "file_extension": ".py",
   "mimetype": "text/x-python",
   "name": "python",
   "nbconvert_exporter": "python",
   "pygments_lexer": "ipython3",
   "version": "3.9.7"
  }
 },
 "nbformat": 4,
 "nbformat_minor": 5
}
