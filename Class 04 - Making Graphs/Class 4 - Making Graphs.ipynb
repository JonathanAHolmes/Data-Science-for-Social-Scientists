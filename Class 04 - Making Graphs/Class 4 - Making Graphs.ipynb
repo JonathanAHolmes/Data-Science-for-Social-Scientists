{
 "cells": [
  {
   "cell_type": "markdown",
   "metadata": {
    "slideshow": {
     "slide_type": "slide"
    }
   },
   "source": [
    "# <div align=\"center\"> SPECIAL TOPICS III </div>\n",
    "## <div align=\"center\"> Machine Learning  </div>\n",
    "### <div align=\"center\"> ECO 4199 </div>\n",
    "#### <div align=\"center\">Class 4 - Making Graphs: Exploratory Data Analysis</div>\n",
    "<div align=\"center\"> Jonathan Holmes, (he/him)</div>"
   ]
  },
  {
   "cell_type": "markdown",
   "metadata": {
    "slideshow": {
     "slide_type": "slide"
    }
   },
   "source": [
    "# Today\n",
    "\n",
    "- This will be our last class entirely dedicated to coding\n",
    "- In class 2 we learned about some of the basics of Python\n",
    "- In class 3 we spend time getting familiar with the Pandas library\n",
    "- Today we will keep using Pandas and other tools such as [Matplotlib](https://matplotlib.org/) and [Seaborn](https://seaborn.pydata.org/) for data visualization\n",
    "- This class, I provide all the code (no \"follow-along\" version), but I still encourage you to play around with code. "
   ]
  },
  {
   "cell_type": "markdown",
   "metadata": {
    "slideshow": {
     "slide_type": "slide"
    }
   },
   "source": [
    "# Exploratory Data Analysis\n",
    "\n",
    "- What is exploratory data analysis?\n",
    "- This is usually the last step before the actual analysis (e.g. running regressions)\n",
    "- This is an opportunity to explore variables: \n",
    "    - alone or as they relate to one another\n",
    "    - using statistics or data visualization"
   ]
  },
  {
   "cell_type": "markdown",
   "metadata": {
    "slideshow": {
     "slide_type": "slide"
    }
   },
   "source": [
    "# Dataset\n",
    "- Today we will use a dataset from the [Village Dynamics Studies in South Asia](https://vdsa.icrisat.org/)\n",
    "- This dataset contains information of agricultural yields and prices for several crops at the district level in India for a number of years\n",
    "- This is what's called panel data or longitudinal survey\n",
    "- We will use a modified version of this dataset\n",
    "- Let's explore this data together!"
   ]
  },
  {
   "cell_type": "code",
   "execution_count": null,
   "metadata": {
    "slideshow": {
     "slide_type": "slide"
    }
   },
   "outputs": [],
   "source": [
    "# import our packages and use aliases\n",
    "import numpy as np\n",
    "import pandas as pd"
   ]
  },
  {
   "cell_type": "markdown",
   "metadata": {
    "slideshow": {
     "slide_type": "slide"
    }
   },
   "source": [
    "# Load Dataset\n",
    "- The dataset is named \"vdsa\"\n",
    "- It is a Stata file (ending with _.dta_ extension)\n",
    "- Name the folder in which the dataset is class3Folder\n",
    "- use the Pandas dataframe function .read_stata() to open the dataset\n",
    "- Assign it to df"
   ]
  },
  {
   "cell_type": "code",
   "execution_count": null,
   "metadata": {
    "slideshow": {
     "slide_type": "slide"
    }
   },
   "outputs": [],
   "source": [
    "# Assign path to the folder containing the dataset\n",
    "class4Folder=\"~/Dropbox/_teaching/ECO4199/2023/Data-Science-for-Social-Scientists/Class 04 - Making Graphs/\"\n",
    "# read in the data using the read_stata() function and assign it to df\n",
    "df= pd.read_stata(class4Folder+\"vdsa.dta\")"
   ]
  },
  {
   "cell_type": "markdown",
   "metadata": {
    "slideshow": {
     "slide_type": "slide"
    }
   },
   "source": [
    "What should I do now?"
   ]
  },
  {
   "cell_type": "code",
   "execution_count": null,
   "metadata": {
    "slideshow": {
     "slide_type": "slide"
    }
   },
   "outputs": [],
   "source": [
    "# show number of observations and columns\n",
    "display(df.shape)\n",
    "#show information on the number of missing values and data type\n",
    "#display(df.info())\n",
    "# describe the dataframe\n",
    "# display(df.describe().T)\n",
    "# read head of dataframe\n",
    "display(df.head())"
   ]
  },
  {
   "cell_type": "markdown",
   "metadata": {
    "slideshow": {
     "slide_type": "slide"
    }
   },
   "source": [
    "# Data cleaning\n",
    "- Before exploring the data further we need to make some data cleaning\n",
    "- Using info() indicates that non of our data has missing values\n",
    "    - Clearly there are empty cells when calling head() on df\n",
    "    - Does negative values for yield or area mean something?\n",
    "- Also, it seems like prices are stored as strings when clearly they should be numerical"
   ]
  },
  {
   "cell_type": "markdown",
   "metadata": {
    "slideshow": {
     "slide_type": "slide"
    }
   },
   "source": [
    " # Dealing with NaNs\n",
    "- You may remember that last week we replaced missing values (nan) by zeros\n",
    "     - this is because we had reasons to believe that missing values meant no actual test\n",
    "- In this dataset this is probably different:\n",
    "    - Yields and areas could be missing because the specific crop wasn't grown in the district in that year\n",
    "    - Yields and areas existed but wasn't recorded\n",
    "- It turns out in this dataset, missing values were recording as negative 1 (this is bad practice) "
   ]
  },
  {
   "cell_type": "markdown",
   "metadata": {
    "slideshow": {
     "slide_type": "slide"
    }
   },
   "source": [
    "## replace()\n",
    "- We can use the [replace()](https://pandas.pydata.org/pandas-docs/stable/reference/api/pandas.DataFrame.replace.html) method to replace -1 by nan\n",
    "- Because none of the variables could plausibly be negative we can apply replace to the entire dataframe not a single series"
   ]
  },
  {
   "cell_type": "code",
   "execution_count": null,
   "metadata": {
    "slideshow": {
     "slide_type": "slide"
    }
   },
   "outputs": [],
   "source": [
    "# use replace method on the entire dataframe and reassign to df\n",
    "df=df.replace(-1,np.nan)\n",
    "# show head()\n",
    "df.head()"
   ]
  },
  {
   "cell_type": "markdown",
   "metadata": {
    "slideshow": {
     "slide_type": "slide"
    }
   },
   "source": [
    "# replace() & to_numeric()\n",
    "- It also seems that the price columns are preceeded by the currency unit \"R\" (rupee)\n",
    "- Let's remove it from the values using the [replace()]() method\n",
    "- When applied to an object column the replace method should be preceeded by [str](https://pandas.pydata.org/docs/reference/api/pandas.Series.str.html)\n",
    "- Then we can change the column type to numeric using [to_numeric()](https://pandas.pydata.org/pandas-docs/stable/reference/api/pandas.to_numeric.html#pandas.to_numeric) function"
   ]
  },
  {
   "cell_type": "code",
   "execution_count": null,
   "metadata": {},
   "outputs": [],
   "source": [
    "# remove \"R\" from the price_maize series\n",
    "display(df['price_maize'].str.replace(\"R \",\"\"))\n",
    "# combine it with to_numeric()\n",
    "pd.to_numeric(df['price_maize'].str.replace(\"R \",\"\"))"
   ]
  },
  {
   "cell_type": "markdown",
   "metadata": {
    "slideshow": {
     "slide_type": "slide"
    }
   },
   "source": [
    "# In-Class Exercise\n",
    "For each column starting with price:\n",
    "- remove R in all the price columns\n",
    "- cast the data type to numeric\n",
    "- replace the existing column with by the numeric representation"
   ]
  },
  {
   "cell_type": "code",
   "execution_count": null,
   "metadata": {},
   "outputs": [],
   "source": [
    "# create a list of columns starting with price_ using list comprehension\n",
    "cols = [col for col in df if col.startswith('price')]\n",
    "# print the head of columns starting with price\n",
    "display(df[cols].head())\n",
    "# loop over the column list\n",
    "for col in cols:\n",
    "    # replace the values \n",
    "    df[col]= pd.to_numeric(df[col].str.replace(\"R \",\"\"))\n",
    "    \n",
    "# print head() of the data frame\n",
    "df.head()\n",
    "\n",
    "df.to_pickle(class4Folder+\"vdsa_cleaned.pkl\")"
   ]
  },
  {
   "cell_type": "markdown",
   "metadata": {
    "slideshow": {
     "slide_type": "slide"
    }
   },
   "source": [
    "## Loading cleaned data\n",
    "\n",
    "- After doing data cleaning, we can save a version of the data. \n",
    "- The native format for saving and loading a pandas dataset is called \"pkl\" or \"pickle\"\n",
    "- The name comes from \"pickling\" food (allowing you to store for later)\n",
    "- You can actual pickle any Python objects\n",
    "- The pandas functions are \"to_pickle()\" and \"read_pickle()\""
   ]
  },
  {
   "cell_type": "code",
   "execution_count": null,
   "metadata": {},
   "outputs": [],
   "source": [
    "df = pd.read_pickle(class4Folder+\"vdsa_cleaned.pkl\")"
   ]
  },
  {
   "cell_type": "markdown",
   "metadata": {
    "slideshow": {
     "slide_type": "slide"
    }
   },
   "source": [
    "Now that prices are numeric we can call again the describe() method"
   ]
  },
  {
   "cell_type": "code",
   "execution_count": null,
   "metadata": {
    "slideshow": {
     "slide_type": "fragment"
    }
   },
   "outputs": [],
   "source": [
    "# call describe() on df\n",
    "df.describe().round(1).transpose()"
   ]
  },
  {
   "cell_type": "markdown",
   "metadata": {
    "slideshow": {
     "slide_type": "slide"
    }
   },
   "source": [
    "# groupby()\n",
    "- It may be good to know about the number of unique districts\n",
    "- One way to do this would be to combine groupby() with first() and then check the length"
   ]
  },
  {
   "cell_type": "code",
   "execution_count": null,
   "metadata": {
    "slideshow": {
     "slide_type": "slide"
    }
   },
   "outputs": [],
   "source": [
    "# Get info on the variables\n",
    "display(df.groupby(['statecode','distcode']).first())\n",
    "num_district=len(df.groupby(['statecode','distcode']).first())\n",
    "print(f\"There are {num_district} districts in this dataset\")"
   ]
  },
  {
   "cell_type": "markdown",
   "metadata": {
    "slideshow": {
     "slide_type": "slide"
    }
   },
   "source": [
    "# Data visualization\n",
    "- Some dimensions of your data beyond min, max, average and SD are better understond when visualized\n",
    "- We will now talk about data visualization\n",
    "- Pandas integrates a visualization package named [Matplotlib](https://matplotlib.org/)\n",
    "- Another useful package is [Seaborn](https://seaborn.pydata.org/)"
   ]
  },
  {
   "cell_type": "code",
   "execution_count": null,
   "metadata": {
    "slideshow": {
     "slide_type": "slide"
    }
   },
   "outputs": [],
   "source": [
    "# import matplotlib\n",
    "import matplotlib.pyplot as plt\n",
    "import seaborn as sns"
   ]
  },
  {
   "cell_type": "markdown",
   "metadata": {
    "slideshow": {
     "slide_type": "slide"
    }
   },
   "source": [
    "## plot()\n",
    "- There are actually ways to plot directly from Pandas\n",
    "- This is the [plot()](https://pandas.pydata.org/pandas-docs/stable/reference/api/pandas.DataFrame.plot.html) method"
   ]
  },
  {
   "cell_type": "code",
   "execution_count": null,
   "metadata": {
    "slideshow": {
     "slide_type": "slide"
    }
   },
   "outputs": [],
   "source": [
    "# Call plot() on the data frame\n",
    "df.plot()"
   ]
  },
  {
   "cell_type": "markdown",
   "metadata": {
    "slideshow": {
     "slide_type": "slide"
    }
   },
   "source": [
    "Clearly this is not readable\n",
    "Let's try the seaborn [pairplot()](https://seaborn.pydata.org/generated/seaborn.pairplot.html) function"
   ]
  },
  {
   "cell_type": "code",
   "execution_count": null,
   "metadata": {
    "slideshow": {
     "slide_type": "slide"
    }
   },
   "outputs": [],
   "source": [
    "# use the pairplot function on the price columns\n",
    "cols = [col for col in df if col.startswith('price')]\n",
    "sns.pairplot(df[cols])"
   ]
  },
  {
   "cell_type": "markdown",
   "metadata": {
    "slideshow": {
     "slide_type": "slide"
    }
   },
   "source": [
    "# Matplotlib's basics\n",
    "- The pairplot is aestictically pleasing but things could be tuned\n",
    "- You may want to replace the axes titles, the ticks, the colors etc.\n",
    "- Let's see how to do this using Matplotlib"
   ]
  },
  {
   "cell_type": "code",
   "execution_count": null,
   "metadata": {
    "slideshow": {
     "slide_type": "slide"
    }
   },
   "outputs": [],
   "source": [
    "# Initialize figure and axes\n",
    "fig, ax = plt.subplots()\n",
    "\n",
    "#plt.show()"
   ]
  },
  {
   "cell_type": "markdown",
   "metadata": {
    "slideshow": {
     "slide_type": "slide"
    }
   },
   "source": [
    "## agg()\n",
    "- Let's plot some data for the whole of India\n",
    "- create a new dataframe named india where you group by year and take sum of yields\n",
    "- To do this we will combine the [agg()](https://pandas.pydata.org/pandas-docs/version/0.23.2/generated/pandas.core.groupby.DataFrameGroupBy.agg.html) method with groupby()"
   ]
  },
  {
   "cell_type": "code",
   "execution_count": null,
   "metadata": {
    "slideshow": {
     "slide_type": "slide"
    }
   },
   "outputs": [],
   "source": [
    "# yearly data on rice and wheat yields\n",
    "india= df.groupby(['year']).agg(rice=('yield_rice','sum'),wheat=('yield_wheat','sum'))\n",
    "india.reset_index(inplace=True)\n",
    "india"
   ]
  },
  {
   "cell_type": "markdown",
   "metadata": {
    "slideshow": {
     "slide_type": "slide"
    }
   },
   "source": [
    "- Let's now add the evolution of rice over the years\n",
    "- You can add this by assigning it to ax"
   ]
  },
  {
   "cell_type": "code",
   "execution_count": null,
   "metadata": {
    "slideshow": {
     "slide_type": "slide"
    }
   },
   "outputs": [],
   "source": [
    "# Plot rice against year\n",
    "fig, ax = plt.subplots()\n",
    "ax.plot(india[\"year\"], india[\"rice\"])\n",
    "plt.show()"
   ]
  },
  {
   "cell_type": "code",
   "execution_count": null,
   "metadata": {
    "slideshow": {
     "slide_type": "slide"
    }
   },
   "outputs": [],
   "source": [
    "# Plot rice and wheat against year\n",
    "fig, ax = plt.subplots()\n",
    "ax.plot(india[\"year\"], india[\"rice\"])\n",
    "ax.plot(india[\"year\"], india[\"wheat\"])\n",
    "plt.show()"
   ]
  },
  {
   "cell_type": "markdown",
   "metadata": {
    "slideshow": {
     "slide_type": "slide"
    }
   },
   "source": [
    "Let's improve on the presentation and use [markers](https://matplotlib.org/3.1.1/api/markers_api.html) for each data point, change the [line style](https://matplotlib.org/2.0.2/api/lines_api.html#matplotlib.lines.Line2D.set_linestyle) and the [color](https://matplotlib.org/3.1.0/gallery/color/named_colors.html)"
   ]
  },
  {
   "cell_type": "code",
   "execution_count": null,
   "metadata": {
    "slideshow": {
     "slide_type": "slide"
    }
   },
   "outputs": [],
   "source": [
    "# Plot rice and wheat against year\n",
    "# add a market for each year\n",
    "fig, ax = plt.subplots()\n",
    "ax.plot(india[\"year\"], india[\"rice\"], marker='o', linestyle=\"--\", color=\"darkgreen\")\n",
    "ax.plot(india[\"year\"], india[\"wheat\"], marker='v', linestyle=\":\", color=\"darkorange\")\n",
    "plt.show()"
   ]
  },
  {
   "cell_type": "markdown",
   "metadata": {
    "slideshow": {
     "slide_type": "slide"
    }
   },
   "source": [
    "### Axis labels and title\n",
    "- It is always a good idea to specify the label and the title of your axis\n",
    "- You can call set_xlabel() and set_ylabel() on ax for labelling the axes\n",
    "- You can use set_title() "
   ]
  },
  {
   "cell_type": "code",
   "execution_count": null,
   "metadata": {
    "slideshow": {
     "slide_type": "slide"
    }
   },
   "outputs": [],
   "source": [
    "# Plot and add labels\n",
    "fig, ax = plt.subplots()\n",
    "ax.plot(india[\"year\"], india[\"rice\"], marker='o', linestyle=\"--\", color=\"darkgreen\")\n",
    "ax.plot(india[\"year\"], india[\"wheat\"], marker='v', linestyle=\":\", color=\"darkorange\")\n",
    "\n",
    "#label axes\n",
    "ax.set_xlabel(\"Year\")\n",
    "ax.set_ylabel(\"Total Yield\")\n",
    "\n",
    "# title\n",
    "ax.set_title(\"Rice and Wheat Production in India\")\n",
    "\n",
    "\n",
    "plt.show()"
   ]
  },
  {
   "cell_type": "markdown",
   "metadata": {
    "slideshow": {
     "slide_type": "slide"
    }
   },
   "source": [
    "## legend \n",
    "- At this stage, it it impossible to know which line represents which crop\n",
    "- You can specify the labels as an argument in plot()\n",
    "- You then need to specify where in the plot you want the label to be positioned using [legend()](https://matplotlib.org/3.1.1/api/_as_gen/matplotlib.pyplot.legend.html) on plt"
   ]
  },
  {
   "cell_type": "code",
   "execution_count": null,
   "metadata": {
    "slideshow": {
     "slide_type": "slide"
    }
   },
   "outputs": [],
   "source": [
    "# Plot and add labels\n",
    "fig, ax = plt.subplots()\n",
    "ax.plot(india[\"year\"], india[\"rice\"], marker='o', linestyle=\"--\", color=\"darkgreen\",label='Rice')\n",
    "ax.plot(india[\"year\"], india[\"wheat\"], marker='v', linestyle=\":\", color=\"darkorange\",label='Wheat')\n",
    "\n",
    "#label axes\n",
    "ax.set_xlabel(\"Year\")\n",
    "ax.set_ylabel(\"Total Yield\")\n",
    "\n",
    "# title\n",
    "ax.set_title(\"Rice and Wheat Production in India\")\n",
    "# place the legend\n",
    "plt.legend(loc=\"upper left\")\n",
    "\n",
    "plt.show()"
   ]
  },
  {
   "cell_type": "markdown",
   "metadata": {
    "slideshow": {
     "slide_type": "slide"
    }
   },
   "source": [
    "### ticks\n",
    "\n",
    "- On the x-label ticks should clearly be integers let's make one tick per year"
   ]
  },
  {
   "cell_type": "code",
   "execution_count": null,
   "metadata": {
    "slideshow": {
     "slide_type": "slide"
    }
   },
   "outputs": [],
   "source": [
    "# Plot and add labels\n",
    "fig, ax = plt.subplots()\n",
    "ax.plot(india[\"year\"], india[\"rice\"], marker='o', linestyle=\"--\", color=\"darkgreen\",label='Rice')\n",
    "ax.plot(india[\"year\"], india[\"wheat\"], marker='v', linestyle=\":\", color=\"darkorange\",label='Wheat')\n",
    "\n",
    "#label axes\n",
    "ax.set_xlabel(\"Year\")\n",
    "ax.set_ylabel(\"Total Yield\")\n",
    "\n",
    "# title\n",
    "ax.set_title(\"Rice and Wheat Production in India\")\n",
    "# place the legend\n",
    "plt.legend(loc=\"upper left\")\n",
    "\n",
    "# Redefine the ticks\n",
    "plt.xticks(np.arange(india['year'].min(), india['year'].max()+1, 1))\n",
    "\n",
    "plt.show()\n",
    "\n",
    "\n",
    "\n"
   ]
  },
  {
   "cell_type": "markdown",
   "metadata": {
    "slideshow": {
     "slide_type": "slide"
    }
   },
   "source": [
    "### ticks continued\n",
    "- This is clearly too crowded\n",
    "- We could rotate the ticks\n",
    "- Or take large steps"
   ]
  },
  {
   "cell_type": "code",
   "execution_count": null,
   "metadata": {
    "slideshow": {
     "slide_type": "slide"
    }
   },
   "outputs": [],
   "source": [
    "# Plot and add labels\n",
    "fig, ax = plt.subplots()\n",
    "ax.plot(india[\"year\"], india[\"rice\"], marker='o', linestyle=\"--\", color=\"darkgreen\",label='Rice')\n",
    "ax.plot(india[\"year\"], india[\"wheat\"], marker='v', linestyle=\":\", color=\"darkorange\",label='Wheat')\n",
    "\n",
    "#label axes\n",
    "ax.set_xlabel(\"Year\")\n",
    "ax.set_ylabel(\"Total Yield\")\n",
    "\n",
    "# title\n",
    "ax.set_title(\"Rice and Wheat Production in India\")\n",
    "# place the legend\n",
    "plt.legend(loc=\"upper left\")\n",
    "\n",
    "# Redefine the ticks and rotate\n",
    "plt.xticks(np.arange(india['year'].min(), india['year'].max()+1, 1), rotation='vertical')\n",
    "\n",
    "plt.show()\n"
   ]
  },
  {
   "cell_type": "code",
   "execution_count": null,
   "metadata": {
    "slideshow": {
     "slide_type": "slide"
    }
   },
   "outputs": [],
   "source": [
    "# Plot and add labels\n",
    "fig, ax = plt.subplots()\n",
    "ax.plot(india[\"year\"], india[\"rice\"], marker='o', linestyle=\"--\", color=\"darkgreen\",label='Rice')\n",
    "ax.plot(india[\"year\"], india[\"wheat\"], marker='v', linestyle=\":\", color=\"darkorange\",label='Wheat')\n",
    "\n",
    "#label axes\n",
    "ax.set_xlabel(\"Year\")\n",
    "ax.set_ylabel(\"Total Yield\")\n",
    "\n",
    "# title\n",
    "ax.set_title(\"Rice and Wheat Production in India\")\n",
    "# place the legend\n",
    "plt.legend(loc=\"upper left\")\n",
    "\n",
    "# Redefine the ticks and rotate\n",
    "plt.xticks(np.arange(india['year'].min(), india['year'].max()+1, 3), rotation=45)\n",
    "\n",
    "plt.show()\n"
   ]
  },
  {
   "cell_type": "markdown",
   "metadata": {
    "slideshow": {
     "slide_type": "slide"
    }
   },
   "source": [
    "## Plotting more data\n",
    "- Let's see how the quantity produced change with prices\n",
    "- We will create a new dataframe: india_prices\n",
    "- It will record the average price each year using agg() again"
   ]
  },
  {
   "cell_type": "code",
   "execution_count": null,
   "metadata": {
    "slideshow": {
     "slide_type": "slide"
    }
   },
   "outputs": [],
   "source": [
    "india_prices= df.groupby(['year']).agg(Price=('price_rice','mean'),Pwheat=('price_wheat','mean'),Psorghum=('price_sorghum','mean'))\n",
    "india_prices.reset_index(inplace=True)\n",
    "india_prices"
   ]
  },
  {
   "cell_type": "markdown",
   "metadata": {
    "slideshow": {
     "slide_type": "slide"
    }
   },
   "source": [
    "## merge()\n",
    "- Let's use india and india_prices together\n",
    "- To do so we will use the merge() method\n",
    "- And save it in india_full"
   ]
  },
  {
   "cell_type": "code",
   "execution_count": null,
   "metadata": {
    "slideshow": {
     "slide_type": "slide"
    }
   },
   "outputs": [],
   "source": [
    "# merge india and india_prices and assign to india_full\n",
    "india_full=india.merge(india_prices, on='year')\n",
    "india_full.head()"
   ]
  },
  {
   "cell_type": "code",
   "execution_count": null,
   "metadata": {
    "slideshow": {
     "slide_type": "slide"
    }
   },
   "outputs": [],
   "source": [
    "# initialize a 2x2 plot\n",
    "fig, axes = plt.subplots(2,2)\n"
   ]
  },
  {
   "cell_type": "code",
   "execution_count": null,
   "metadata": {
    "slideshow": {
     "slide_type": "slide"
    }
   },
   "outputs": [],
   "source": [
    "fig, axes = plt.subplots(2,2,sharex=True, sharey='row', figsize=(12, 12))\n",
    "axes[0,0].plot(india_full[\"year\"], india_full[\"rice\"], marker='o', linestyle=\"--\", color=\"darkgreen\",label='Rice')\n",
    "axes[0,1].plot(india_full[\"year\"], india_full[\"wheat\"], marker='v', linestyle=\":\", color=\"darkorange\",label='Wheat')\n",
    "axes[1,0].plot(india_full[\"year\"], india_full[\"Price\"], marker='.', linestyle=\"--\", color=\"darkgreen\",label='Rice')\n",
    "axes[1,1].plot(india_full[\"year\"], india_full[\"Pwheat\"], marker='.', linestyle=\":\", color=\"darkorange\",label='Wheat')\n",
    "\n",
    "axes[1,0].set_xlabel(\"Year\")\n",
    "axes[1,1].set_xlabel(\"Year\")\n",
    "\n",
    "\n",
    "axes[1,0].set_xticks(np.arange(india_full['year'].min(), india_full['year'].max()+1, 3))\n",
    "axes[1,1].set_xticks(np.arange(india_full['year'].min(), india_full['year'].max()+1, 3))\n",
    "\n",
    "\n",
    "plt.show()"
   ]
  },
  {
   "cell_type": "markdown",
   "metadata": {
    "slideshow": {
     "slide_type": "slide"
    }
   },
   "source": [
    "# Scatter plot\n"
   ]
  },
  {
   "cell_type": "code",
   "execution_count": null,
   "metadata": {},
   "outputs": [],
   "source": [
    "fig, axes = plt.subplots(2,1,sharex=False, sharey=True, figsize=(12, 12))\n",
    "axes[0].scatter(india_full[\"Price\"], india_full[\"rice\"], marker='o', color=\"darkgreen\",label='Rice')\n",
    "axes[1].scatter(india_full[\"Pwheat\"], india_full[\"wheat\"], marker='v', color=\"darkorange\" ,label='Wheat')\n",
    "\n",
    "\n",
    "\n",
    "plt.show()"
   ]
  },
  {
   "cell_type": "markdown",
   "metadata": {
    "slideshow": {
     "slide_type": "slide"
    }
   },
   "source": [
    "# Distribution of a single variable\n",
    "\n",
    "- Often you will want to get a sense of the distribution of a single variable\n",
    "- If you are interested in Bayesian statistics this is a must\n",
    "- Let's look at the distribution of rice and wheat in our dataset\n",
    "- A distribution represents - Cumulative distribution gives you prob$(x= X)$"
   ]
  },
  {
   "cell_type": "code",
   "execution_count": null,
   "metadata": {},
   "outputs": [],
   "source": [
    "fig, axes = plt.subplots(2,1,sharex=True, sharey=True, figsize=(12, 12))\n",
    "axes[0].hist(india['rice'])\n",
    "axes[1].hist(india['wheat'])\n",
    "plt.show()"
   ]
  },
  {
   "cell_type": "markdown",
   "metadata": {
    "slideshow": {
     "slide_type": "slide"
    }
   },
   "source": [
    "This is not a density function (look at the y-axis)\n",
    "Let's set the argument density to True"
   ]
  },
  {
   "cell_type": "code",
   "execution_count": null,
   "metadata": {
    "scrolled": false
   },
   "outputs": [],
   "source": [
    "fig, axes = plt.subplots(2,1,sharex=True, sharey=True, figsize=(12, 12))\n",
    "axes[0].hist(india['rice'],bins=30,density=True)\n",
    "axes[1].hist(india['wheat'],bins=30,density=True)\n",
    "plt.show()"
   ]
  },
  {
   "cell_type": "markdown",
   "metadata": {
    "slideshow": {
     "slide_type": "slide"
    }
   },
   "source": [
    "## Cumulative distribution\n",
    "- Cumulative distribution gives you prob$(x\\leq X)$"
   ]
  },
  {
   "cell_type": "code",
   "execution_count": null,
   "metadata": {
    "scrolled": false
   },
   "outputs": [],
   "source": [
    "fig, axes = plt.subplots(2,1,sharex=True, sharey=True, figsize=(12, 12))\n",
    "axes[0].hist(india['rice'],bins=30,density=True,cumulative=True)\n",
    "axes[1].hist(india['wheat'],bins=30,density=True,cumulative=True)\n",
    "plt.show()"
   ]
  },
  {
   "cell_type": "markdown",
   "metadata": {
    "slideshow": {
     "slide_type": "slide"
    }
   },
   "source": [
    "## Making sense of distributions\n",
    "- So these distributions give us a sense of how widespread the data is\n",
    "- In our original data there are two sources of variation:\n",
    "    - Cross sectional: some districts are more productive than others in any given year\n",
    "    - Inter temporal: some years are more productive than others on average\n",
    "    \n",
    "Let's now look at rice in different years for the 2000 decade"
   ]
  },
  {
   "cell_type": "code",
   "execution_count": null,
   "metadata": {
    "slideshow": {
     "slide_type": "slide"
    }
   },
   "outputs": [],
   "source": [
    "# Subset india to the 2000 decade\n",
    "india_2000=df.query(\"2000<=year<2010\")\n",
    "# store the unique values for years and the number of years in the dataset\n",
    "years=india_2000['year'].unique()\n",
    "num_years=len(years)\n",
    "print(f\"There are {num_years} years in the dataset.\")"
   ]
  },
  {
   "cell_type": "markdown",
   "metadata": {
    "slideshow": {
     "slide_type": "slide"
    }
   },
   "source": [
    "- We can now plot for each year separately\n",
    "- The variation will thus capture across districts variations within each year"
   ]
  },
  {
   "cell_type": "code",
   "execution_count": null,
   "metadata": {
    "slideshow": {
     "slide_type": "slide"
    }
   },
   "outputs": [],
   "source": [
    "fig, axes = plt.subplots(num_years,1,sharex=True, sharey=False, figsize=(12, 20))\n",
    "\n",
    "for i,y in enumerate(np.sort(years)):\n",
    "    axes[i].hist(india_2000.loc[india_2000.year==y, 'yield_rice'],bins=30, density=True)\n",
    "    axes[i].set_xlabel(f\"{y}\")\n",
    "\n",
    "plt.show()"
   ]
  },
  {
   "cell_type": "markdown",
   "metadata": {
    "slideshow": {
     "slide_type": "slide"
    }
   },
   "source": [
    "Let's now look at how the distribution varies by State\n",
    "- We will first need to aggregate by state and year\n",
    "- We will then plot a distribution for each State\n",
    "- This will capture the variation across years within each State separately"
   ]
  },
  {
   "cell_type": "code",
   "execution_count": null,
   "metadata": {
    "slideshow": {
     "slide_type": "slide"
    }
   },
   "outputs": [],
   "source": [
    "# Create new dataframe india_state grouped by year and state with the sum of yield rice and the first value of statename\n",
    "india_state=df.query(\"2000<=year<2010\").groupby(['year','statecode']).agg(rice=('yield_rice','sum'), State=('statename','first')).reset_index()\n",
    "display(india_state.head())\n",
    "\n",
    "# store the unique values for States and the number of States in the dataset\n",
    "states=india_state['State'].unique()\n",
    "num_states=len(states)\n",
    "print(f\"There are {num_states} states in the dataset.\")"
   ]
  },
  {
   "cell_type": "markdown",
   "metadata": {
    "slideshow": {
     "slide_type": "slide"
    }
   },
   "source": [
    "## Nicer plot\n",
    "- For better looking plots you can use Seaborn\n",
    "- Seaborn is built on Matplotlib which means you can do with it anything Matplotlib can do and more\n",
    "- Let's plot the kernel density of rice for the entire dataset\n",
    "- Kernel density is a way to plot your data in a continous-looking way"
   ]
  },
  {
   "cell_type": "code",
   "execution_count": null,
   "metadata": {
    "slideshow": {
     "slide_type": "slide"
    }
   },
   "outputs": [],
   "source": [
    "fig, ax = plt.subplots(1,1, figsize=(12, 12))\n",
    "\n",
    "ax=sns.kdeplot(data=df[\"yield_rice\"], cut=0, color=\"k\")\n",
    "plt.show()"
   ]
  },
  {
   "cell_type": "code",
   "execution_count": null,
   "metadata": {},
   "outputs": [],
   "source": [
    "fig, ax = plt.subplots(1,1, figsize=(12, 12))\n",
    "# plot the kdensity for all years and set the color to black\n",
    "ax=sns.kdeplot(data=df[\"yield_rice\"], cut=0, color=\"k\")\n",
    "# add a kdensity for each year\n",
    "for y in np.sort(df.year.unique()):\n",
    "    ax=sns.kdeplot(data=df.loc[df.year==y,'yield_rice'],alpha=.3, cut=0, legend=False)\n",
    "\n",
    "plt.show()"
   ]
  }
 ],
 "metadata": {
  "celltoolbar": "Slideshow",
  "kernelspec": {
   "display_name": "Python 3 (ipykernel)",
   "language": "python",
   "name": "python3"
  },
  "language_info": {
   "codemirror_mode": {
    "name": "ipython",
    "version": 3
   },
   "file_extension": ".py",
   "mimetype": "text/x-python",
   "name": "python",
   "nbconvert_exporter": "python",
   "pygments_lexer": "ipython3",
   "version": "3.9.7"
  }
 },
 "nbformat": 4,
 "nbformat_minor": 4
}
