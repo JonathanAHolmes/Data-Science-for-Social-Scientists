{
 "cells": [
  {
   "cell_type": "markdown",
   "id": "1f90625a",
   "metadata": {},
   "source": [
    "## In-Class Exercise #3"
   ]
  },
  {
   "cell_type": "markdown",
   "id": "8d3188fb",
   "metadata": {},
   "source": [
    "1. Import numpy and pandas"
   ]
  },
  {
   "cell_type": "code",
   "execution_count": null,
   "id": "8286ca59",
   "metadata": {},
   "outputs": [],
   "source": [
    "import numpy as np\n",
    "import pandas as pd"
   ]
  },
  {
   "cell_type": "markdown",
   "id": "127777df",
   "metadata": {},
   "source": [
    "2.  d is a dictionary of names and ages.\n",
    "    \n",
    "    - Convert it to a Pandas Dataframe\n",
    "    - What are the columns of this dataframe? Use the attribute 'columns'\n",
    "    - Save the column names to a list\n",
    "    - What data types are each column? Use 'types' attribute"
   ]
  },
  {
   "cell_type": "code",
   "execution_count": null,
   "id": "2c45030b",
   "metadata": {},
   "outputs": [],
   "source": [
    "d = {'Name': ['John', 'Jane', 'Dave', 'Muhammad'], 'Age': [45, 16, 60, 23]}\n"
   ]
  },
  {
   "cell_type": "markdown",
   "id": "b836ff18",
   "metadata": {},
   "source": [
    "3. Load the covid dataset into memory\n",
    "- Show the first 10 observations of the dataset using the head() method\n",
    "- create a new dataframe called df_mortality that only contains the columns province name, date, and the number of deaths\n",
    "- Show the first 10 rows of df using the 'df.head' command\n"
   ]
  },
  {
   "cell_type": "code",
   "execution_count": null,
   "id": "83227109",
   "metadata": {},
   "outputs": [],
   "source": [
    "covidFile=\"https://www.dropbox.com/s/78h5e3xj36xl9eu/covid19_map.csv?dl=1\"\n",
    "\n"
   ]
  },
  {
   "cell_type": "markdown",
   "id": "2c09a250",
   "metadata": {},
   "source": [
    "4. The covid dataset contains rows that are not provices or territories. \n",
    "- Subset df_mortality and keep only provinces or territories. \n",
    "- Save the new data in a new dataframe called df_mortality2.\n",
    "- Print the unique values of prname for df_mortality2\n",
    "\n",
    "Hint 1: You will need to use \"&\" or \"|\" in between booleans and put parenthesis around each condition. \n",
    "\n",
    "Hint 2: Use the .unique() command to find what columns are in the dataframe\n",
    "\n"
   ]
  },
  {
   "cell_type": "code",
   "execution_count": null,
   "id": "7221bc82",
   "metadata": {},
   "outputs": [],
   "source": []
  },
  {
   "cell_type": "markdown",
   "id": "5d38bda4",
   "metadata": {},
   "source": [
    "5. Calculate the maximum number of daily deaths each month in Ontario\n",
    "- Create a smaller dataset that only has Ontario in it\n",
    "- use groupby to find the maximum number of daily deaths each month in Ontario\n",
    "- First you'll need to get day, month and year in on dataframe\n",
    "- Hint: use the max() method\n",
    "- Hint2: the relevant column is 'numdeathstoday'"
   ]
  },
  {
   "cell_type": "code",
   "execution_count": null,
   "id": "b39bf188",
   "metadata": {},
   "outputs": [],
   "source": []
  },
  {
   "cell_type": "markdown",
   "id": "650e5aa2",
   "metadata": {},
   "source": [
    "## BONUS Exercise \n",
    "- What is the share of people tested in each province as percentage of the total number of people tested in Canada?\n",
    "1. Create a dataframe named can, keeping the prname and numtestedtoday variables\n",
    "2. Drop observations for 'Canada' and 'Repatriated travellers' in prname\n",
    "3. Get the total number of people tested (hint: call sum on the column but do not use groupby)\n",
    "4. Save the results in total_tested\n",
    "5. Print out the total number of people tested in Canada\n",
    "6. group the can dataframe by province and sum the total number of tested (suggestion: set as_index=False in groupby)\n",
    "7. rename the variable _numtestedtoday_ to _totaltested_ \n",
    "8. Create a new colum, _total_, which contains the value in total_tested\n",
    "9. Create a new column with the share for each province\n",
    "10. show the head() of can for 13 observations    \n",
    "    "
   ]
  },
  {
   "cell_type": "code",
   "execution_count": null,
   "id": "25d1d991",
   "metadata": {},
   "outputs": [],
   "source": [
    "#1. Create a dataframe named can, keeping the prname and numtestedtoday variables\n",
    "#2. Drop observations for 'Canada' and 'Repatriated travellers' in prname\n",
    "#3. Get the total number of people tested (hint: call sum on the column but do not use groupby)\n",
    "#4. Save the results in total_tested\n",
    "#5. Print out the total number of people tested in Canada\n",
    "#6. group the can dataframe by province and sum the total number of tested (suggestion: set as_index=False in groupby)\n",
    "#7. rename the variable numtestedtoday to totaltested\n",
    "#8. Create a new colum, _total_, which contains the value in total_tested\n",
    "#9. Create a new column with the share for each province"
   ]
  }
 ],
 "metadata": {
  "kernelspec": {
   "display_name": "Python 3 (ipykernel)",
   "language": "python",
   "name": "python3"
  },
  "language_info": {
   "codemirror_mode": {
    "name": "ipython",
    "version": 3
   },
   "file_extension": ".py",
   "mimetype": "text/x-python",
   "name": "python",
   "nbconvert_exporter": "python",
   "pygments_lexer": "ipython3",
   "version": "3.9.7"
  }
 },
 "nbformat": 4,
 "nbformat_minor": 5
}
