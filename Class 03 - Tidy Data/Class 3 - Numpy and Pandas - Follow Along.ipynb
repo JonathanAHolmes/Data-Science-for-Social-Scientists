{
 "cells": [
  {
   "cell_type": "markdown",
   "metadata": {
    "slideshow": {
     "slide_type": "slide"
    }
   },
   "source": [
    "## Python Packages\n",
    "- Packages are convenient ways to extend python functionality\n",
    "- Packages are a collection of functions and objects\n",
    "- First example is [Numpy](https://numpy.org/devdocs/user/quickstart.html)"
   ]
  },
  {
   "cell_type": "code",
   "execution_count": null,
   "metadata": {
    "slideshow": {
     "slide_type": "slide"
    }
   },
   "outputs": [],
   "source": [
    "# import numpy package and give it the usual alias: np\n",
    "import "
   ]
  },
  {
   "cell_type": "code",
   "execution_count": null,
   "metadata": {},
   "outputs": [],
   "source": [
    "# Access numpy commands by saying \"np.command\"\n"
   ]
  },
  {
   "cell_type": "markdown",
   "metadata": {
    "slideshow": {
     "slide_type": "slide"
    }
   },
   "source": [
    "### Numpy arrays\n",
    "\n",
    "- Numpy has an object called an _array_\n",
    "- Numpy arrays act like lists, but you can do lots more stuff with them, and math functions can be much faster"
   ]
  },
  {
   "cell_type": "code",
   "execution_count": null,
   "metadata": {},
   "outputs": [],
   "source": [
    "# Create a numpy array [1, 4, 9]\n",
    "array = \n",
    "\n",
    "# An equivalent list\n",
    "list = \n",
    "\n",
    "print(type(list), type(array))"
   ]
  },
  {
   "cell_type": "markdown",
   "metadata": {},
   "source": [
    "### Numpy functions\n",
    "- The numpy sum function [np.sum()](https://numpy.org/doc/stable/reference/generated/numpy.sum.html)  asks python to access the sum() function in the Numpy package\n",
    "- The numpy square root (sqrt) function (https://numpy.org/doc/stable/reference/generated/numpy.sqrt.html) calculates the square root of each element in a numpy array\n",
    "- All functions in packages are accessed the same way.\n",
    "- We use numpy functions because (1) they are often faster than built-in python functions or (2) they have more functionality"
   ]
  },
  {
   "cell_type": "code",
   "execution_count": null,
   "metadata": {},
   "outputs": [],
   "source": [
    "# Print the sum of the numpy array\n",
    "print()\n",
    "\n",
    "# Print the sum of the list\n",
    "print()\n",
    "\n",
    "# Print the square root of each element in the numpy array\n",
    "print()\n"
   ]
  },
  {
   "cell_type": "markdown",
   "metadata": {
    "slideshow": {
     "slide_type": "slide"
    }
   },
   "source": [
    "## Import Pandas\n",
    "- Today we will look at a Package called [Pandas](https://pandas.pydata.org/docs/)\n",
    "- Pandas is the best available package to handle data"
   ]
  },
  {
   "cell_type": "code",
   "execution_count": null,
   "metadata": {
    "slideshow": {
     "slide_type": "slide"
    }
   },
   "outputs": [],
   "source": [
    "# Import the library, use pd alias\n",
    "\n",
    "\n",
    "# Print out the Pandas version\n"
   ]
  },
  {
   "cell_type": "markdown",
   "metadata": {
    "slideshow": {
     "slide_type": "slide"
    }
   },
   "source": [
    "## Why use Pandas? \n",
    "\n",
    "- Pandas keeps the speed of Numpy\n",
    "- Then adds the ability to label __variables__ and __index__ rows in a user friendly way\n",
    "- Before loading an actual dataset into memory let's see a very simple example"
   ]
  },
  {
   "cell_type": "code",
   "execution_count": null,
   "metadata": {
    "slideshow": {
     "slide_type": "slide"
    }
   },
   "outputs": [],
   "source": [
    "# Create a small dictionary for data\n",
    "d = {'col1': [1, 2, 10,20], 'col2': [3, 4, 25.0,'ottawa']}\n",
    "dataframe = \n",
    "dataframe"
   ]
  },
  {
   "cell_type": "markdown",
   "metadata": {
    "slideshow": {
     "slide_type": "slide"
    }
   },
   "source": [
    "- Your dataframe is now assigned to _dataframe_\n",
    "- This is what's known as an __object__\n",
    "    - You can learn more about [Object Oriented Programming here](https://realpython.com/python3-object-oriented-programming/)"
   ]
  },
  {
   "cell_type": "code",
   "execution_count": null,
   "metadata": {
    "slideshow": {
     "slide_type": "fragment"
    }
   },
   "outputs": [],
   "source": [
    "# Use the columns attribute on the dataframe to list variables\n",
    "dataframe"
   ]
  },
  {
   "cell_type": "code",
   "execution_count": null,
   "metadata": {
    "slideshow": {
     "slide_type": "fragment"
    }
   },
   "outputs": [],
   "source": [
    "# print type of what is returned by calling columns\n",
    "print(type(dataframe.columns))\n",
    "# Save column names to a list using the tolist method\n",
    "cols=dataframe.columns.tolist()\n",
    "# print the type of this list\n",
    "print(type(cols))\n",
    "#return the columns\n",
    "cols"
   ]
  },
  {
   "cell_type": "markdown",
   "metadata": {
    "slideshow": {
     "slide_type": "slide"
    }
   },
   "source": [
    "# Let's use real data\n",
    "- Let's look into a dataset freely available on [Open Canada](https://www.kaggle.com)\n",
    "- Specifically, we will look into data related to [COVID19 in Canada](https://open.canada.ca/data/en/dataset/b8d1d622-1ceb-4c1c-96e9-a0b38939080b)\n"
   ]
  },
  {
   "cell_type": "markdown",
   "metadata": {
    "slideshow": {
     "slide_type": "slide"
    }
   },
   "source": [
    "Best practice"
   ]
  },
  {
   "cell_type": "code",
   "execution_count": null,
   "metadata": {
    "slideshow": {
     "slide_type": "fragment"
    }
   },
   "outputs": [],
   "source": [
    "# If you access multiple times the same folder or if you want to share your code\n",
    "pathFolder=\"~/Dropbox/_teaching/ECO4199/2023/Data-Science-for-Social-Scientists/Class 03 - Tidy Data/COVID/\""
   ]
  },
  {
   "cell_type": "code",
   "execution_count": null,
   "metadata": {
    "slideshow": {
     "slide_type": "slide"
    }
   },
   "outputs": [],
   "source": [
    "# read_csv into a pandas datframe\n",
    "covidFile=''.join([pathFolder,\"covid19_map.csv\"])\n",
    "pd.read_csv(covidFile)\n",
    "\n",
    "#Altenatively, if you don't have access to the file you can dowload directly from this Dropbox link:\n",
    "#pd.read_csv(\"https://www.dropbox.com/s/78h5e3xj36xl9eu/covid19_map.csv?dl=1\")"
   ]
  },
  {
   "cell_type": "markdown",
   "metadata": {
    "slideshow": {
     "slide_type": "slide"
    }
   },
   "source": [
    "Where did my dataset go?"
   ]
  },
  {
   "cell_type": "markdown",
   "metadata": {
    "slideshow": {
     "slide_type": "slide"
    }
   },
   "source": [
    "## Pandas dataframe\n",
    "You want to keep the data into a Pandas dataframe so you will assign it!"
   ]
  },
  {
   "cell_type": "code",
   "execution_count": null,
   "metadata": {
    "slideshow": {
     "slide_type": "fragment"
    }
   },
   "outputs": [],
   "source": [
    "covidFile=\"https://www.dropbox.com/s/78h5e3xj36xl9eu/covid19_map.csv?dl=1\"\n",
    "df=pd.read_csv(covidFile)"
   ]
  },
  {
   "cell_type": "markdown",
   "metadata": {
    "slideshow": {
     "slide_type": "slide"
    }
   },
   "source": [
    "## head()\n",
    "- A method is a function that takes as a first argument, the object itself\n",
    "- Let's explore this dataset using the [head()](https://pandas.pydata.org/pandas-docs/stable/reference/api/pandas.DataFrame.head.html) method"
   ]
  },
  {
   "cell_type": "code",
   "execution_count": null,
   "metadata": {
    "scrolled": true,
    "slideshow": {
     "slide_type": "fragment"
    }
   },
   "outputs": [],
   "source": [
    "# call the dataframe's head\n",
    "df"
   ]
  },
  {
   "cell_type": "markdown",
   "metadata": {
    "slideshow": {
     "slide_type": "slide"
    }
   },
   "source": [
    "- head() will print the first 5 rows\n",
    "- We have 36 columns but only a subset of them were printed out\n",
    "- You can change this as an [option](https://pandas.pydata.org/pandas-docs/stable/user_guide/options.html)"
   ]
  },
  {
   "cell_type": "code",
   "execution_count": null,
   "metadata": {},
   "outputs": [],
   "source": [
    "# Change the maximum display option\n",
    "\n",
    "#print again the head\n",
    "df.head()"
   ]
  },
  {
   "cell_type": "markdown",
   "metadata": {
    "slideshow": {
     "slide_type": "slide"
    }
   },
   "source": [
    "## In class exercise\n",
    "\n",
    "- There is also a [tail()](https://pandas.pydata.org/pandas-docs/stable/reference/api/pandas.DataFrame.tail.html) method\n",
    "- It works like head()\n",
    "- By default the number of rows displayed is 5\n",
    "- You can change this by calling n=X inside the method"
   ]
  },
  {
   "cell_type": "code",
   "execution_count": null,
   "metadata": {
    "slideshow": {
     "slide_type": "fragment"
    }
   },
   "outputs": [],
   "source": [
    "#Call the tail() method on your dataset and print out the 10 last rows\n"
   ]
  },
  {
   "cell_type": "markdown",
   "metadata": {
    "slideshow": {
     "slide_type": "slide"
    }
   },
   "source": [
    "## Shape\n",
    "\n",
    "- Let's get a better sense of the number of variables (columns) and observations (rows) in this dataset.\n",
    "- To do so you can use the [shape](https://pandas.pydata.org/pandas-docs/stable/reference/api/pandas.DataFrame.shape.html) __attribute__"
   ]
  },
  {
   "cell_type": "code",
   "execution_count": null,
   "metadata": {
    "slideshow": {
     "slide_type": "slide"
    }
   },
   "outputs": [],
   "source": [
    "# What are the dimensions of our df?\n"
   ]
  },
  {
   "cell_type": "markdown",
   "metadata": {
    "slideshow": {
     "slide_type": "slide"
    }
   },
   "source": [
    "## Info()\n",
    "Last week we talked about the different types.\n",
    "\n",
    "Pandas offer a way to know about the type of each variable and more.\n",
    "\n",
    "This is the [info()](https://pandas.pydata.org/pandas-docs/stable/reference/api/pandas.DataFrame.info.html) method"
   ]
  },
  {
   "cell_type": "code",
   "execution_count": null,
   "metadata": {
    "slideshow": {
     "slide_type": "slide"
    }
   },
   "outputs": [],
   "source": [
    "# Call info()\n"
   ]
  },
  {
   "cell_type": "markdown",
   "metadata": {
    "slideshow": {
     "slide_type": "slide"
    }
   },
   "source": [
    "## describe()\n",
    "\n",
    "- You can also obtain a few summary statistics\n",
    "\n",
    "- These are of course available only for numerical variables"
   ]
  },
  {
   "cell_type": "code",
   "execution_count": null,
   "metadata": {
    "slideshow": {
     "slide_type": "slide"
    }
   },
   "outputs": [],
   "source": [
    "# use the describe method on df\n"
   ]
  },
  {
   "cell_type": "markdown",
   "metadata": {
    "slideshow": {
     "slide_type": "slide"
    }
   },
   "source": [
    "## Question\n",
    "- Why are there 33 columns returned when using describe?"
   ]
  },
  {
   "cell_type": "markdown",
   "metadata": {
    "slideshow": {
     "slide_type": "slide"
    }
   },
   "source": [
    "## Chaining Commands\n",
    "\n",
    "- You can chain commands in Pandas.\n",
    "- Code will be executed from letf to right\n",
    "- Here is an example using the [transpose()](https://pandas.pydata.org/pandas-docs/stable/reference/api/pandas.DataFrame.transpose.html) method "
   ]
  },
  {
   "cell_type": "code",
   "execution_count": null,
   "metadata": {},
   "outputs": [],
   "source": [
    "# Transposed describe method\n"
   ]
  },
  {
   "cell_type": "markdown",
   "metadata": {
    "slideshow": {
     "slide_type": "slide"
    }
   },
   "source": [
    "## Subsetting\n",
    "- It is very unlikely that a dataset, you didn't create yourself, will be tailored to your exact needs\n",
    "- __Data cleaning__ consist in removing, reshaping, creating and merging data\n",
    "- Let's start with using a subset of the data"
   ]
  },
  {
   "cell_type": "code",
   "execution_count": null,
   "metadata": {
    "slideshow": {
     "slide_type": "slide"
    }
   },
   "outputs": [],
   "source": [
    "# call head again\n",
    "df.head()"
   ]
  },
  {
   "cell_type": "markdown",
   "metadata": {
    "slideshow": {
     "slide_type": "slide"
    }
   },
   "source": [
    "## Keep only the columns that you need\n",
    "- Often you will want to remove columns (variables)\n",
    "- Columns that are not needed may take space and slow down your code\n",
    "- Let's use the [pop](https://pandas.pydata.org/pandas-docs/stable/reference/api/pandas.DataFrame.pop.html) method on prnameFR variable"
   ]
  },
  {
   "cell_type": "code",
   "execution_count": null,
   "metadata": {
    "slideshow": {
     "slide_type": "slide"
    }
   },
   "outputs": [],
   "source": [
    "# you can use the pop method by using the variable's name\n",
    "print(df.columns)\n",
    "\n",
    "\n",
    "\n",
    "print(df.columns)"
   ]
  },
  {
   "cell_type": "markdown",
   "metadata": {
    "slideshow": {
     "slide_type": "slide"
    }
   },
   "source": [
    "## drop()\n",
    "- The [drop](https://pandas.pydata.org/pandas-docs/stable/reference/api/pandas.DataFrame.drop.html) method allows you to drop one or more columns\n",
    "- It is more verbose\n",
    "- Let's see some of its functionalities and remove variables ending with _last7"
   ]
  },
  {
   "cell_type": "code",
   "execution_count": null,
   "metadata": {},
   "outputs": [],
   "source": [
    "# Let's pass a list of columns to drop\n",
    "colstodrop = ['numtotal_last7','ratetotal_last7', 'numdeaths_last7', 'ratedeaths_last7','avgtotal_last7', 'avgincidence_last7', 'avgdeaths_last7','avgratedeaths_last7']\n"
   ]
  },
  {
   "cell_type": "markdown",
   "metadata": {
    "slideshow": {
     "slide_type": "slide"
    }
   },
   "source": [
    "## Keep columns\n",
    "- What if instead you want to specify which columns to keep instead?\n",
    "- You can do so by calling a list on the dataframe\n",
    "- Say you only want to keep the province name, date and total number of positive cases"
   ]
  },
  {
   "cell_type": "code",
   "execution_count": null,
   "metadata": {
    "slideshow": {
     "slide_type": "slide"
    }
   },
   "outputs": [],
   "source": [
    "# subsetting: Subset dataframe to columns 'prname','date','numtotal'\n"
   ]
  },
  {
   "cell_type": "markdown",
   "metadata": {
    "slideshow": {
     "slide_type": "slide"
    }
   },
   "source": [
    "## rename()\n",
    "- Another useful method is [rename()](https://pandas.pydata.org/pandas-docs/stable/reference/api/pandas.DataFrame.rename.html)\n",
    "- rename() takes a dictionary as a _mapper_ the key represents the current variable name and the value the new variable name.\n",
    "- you can change multiple names at the same time\n",
    "- you can also set the inplace argument to True\n",
    "- Let's rename prname and numdeaths of df_mortality to province and deaths"
   ]
  },
  {
   "cell_type": "code",
   "execution_count": null,
   "metadata": {
    "slideshow": {
     "slide_type": "slide"
    }
   },
   "outputs": [],
   "source": [
    "#Rename column 'prname' to 'province'; 'numdeaths' to 'deaths'\n"
   ]
  },
  {
   "cell_type": "markdown",
   "metadata": {
    "slideshow": {
     "slide_type": "slide"
    }
   },
   "source": [
    "## Subset of observations\n",
    "- You may also be interested in subseting the dataset according to the information it contains\n",
    "- Say only want to keep data from Ontario\n",
    "- You can do so by using booleans"
   ]
  },
  {
   "cell_type": "code",
   "execution_count": null,
   "metadata": {},
   "outputs": [],
   "source": [
    "# Susetting to a specific column\n",
    "df['province']"
   ]
  },
  {
   "cell_type": "code",
   "execution_count": null,
   "metadata": {
    "slideshow": {
     "slide_type": "slide"
    }
   },
   "outputs": [],
   "source": [
    "# Can you guess what this will return?\n",
    "df['province']==\"Ontario\""
   ]
  },
  {
   "cell_type": "code",
   "execution_count": null,
   "metadata": {
    "slideshow": {
     "slide_type": "slide"
    }
   },
   "outputs": [],
   "source": [
    "# What is the type of what is returned?\n",
    "type(df['province']==\"Ontario\")"
   ]
  },
  {
   "cell_type": "code",
   "execution_count": null,
   "metadata": {
    "slideshow": {
     "slide_type": "slide"
    }
   },
   "outputs": [],
   "source": [
    "# Create a new dataframe named on as a copy of df \n",
    "on = \n",
    "# print head\n",
    "on.head()"
   ]
  },
  {
   "cell_type": "markdown",
   "metadata": {
    "slideshow": {
     "slide_type": "slide"
    }
   },
   "source": [
    "## copy()\n",
    "- Pandas allows you to map the changes you make on a subset of a dataset to the original dataset\n",
    "- In our example, you could map the changes you make to the dataframe on onto df\n",
    "- Hence, Pandas wants you to be specific about the type of copy you are making\n",
    "- using the [copy()](https://pandas.pydata.org/pandas-docs/stable/reference/api/pandas.DataFrame.copy.html) method allows you to specify you do not want these dataframes to be linked.\n"
   ]
  },
  {
   "cell_type": "markdown",
   "metadata": {
    "slideshow": {
     "slide_type": "slide"
    }
   },
   "source": [
    "## unique()\n",
    "- The unique() method can be called on a [Pandas series](https://pandas.pydata.org/pandas-docs/stable/reference/api/pandas.Series.html) (a single column)\n",
    "- It will return all unique values in a series"
   ]
  },
  {
   "cell_type": "code",
   "execution_count": null,
   "metadata": {
    "slideshow": {
     "slide_type": "slide"
    }
   },
   "outputs": [],
   "source": [
    "# call unique on the prname variable\n"
   ]
  },
  {
   "cell_type": "markdown",
   "metadata": {
    "slideshow": {
     "slide_type": "slide"
    }
   },
   "source": [
    "## Combine the two\n",
    "- You can combine the column and row selection\n",
    "- Usually you would use [.loc](https://pandas.pydata.org/pandas-docs/stable/reference/api/pandas.DataFrame.loc.html)\n",
    "- The order is always rows, columns: df.loc[df.colname==value, [cols_list]]\n",
    "- Say you want data only for Quebec and only for the number of tested and the date"
   ]
  },
  {
   "cell_type": "code",
   "execution_count": null,
   "metadata": {
    "slideshow": {
     "slide_type": "slide"
    }
   },
   "outputs": [],
   "source": [
    "# create a Quebec (qc) dataset with 'prname','date','numtestedtoday' variables as a copy of df\n",
    "qc=\n",
    "qc.head()"
   ]
  },
  {
   "cell_type": "markdown",
   "metadata": {
    "slideshow": {
     "slide_type": "slide"
    }
   },
   "source": [
    "## Create new variables\n",
    "- Often you will also want to create new variables\n",
    "- Let's see a very simple case"
   ]
  },
  {
   "cell_type": "code",
   "execution_count": null,
   "metadata": {
    "slideshow": {
     "slide_type": "slide"
    }
   },
   "outputs": [],
   "source": [
    "# you can also create a constant very easily\n",
    "\n",
    "qc.head()"
   ]
  },
  {
   "cell_type": "code",
   "execution_count": null,
   "metadata": {
    "scrolled": true,
    "slideshow": {
     "slide_type": "slide"
    }
   },
   "outputs": [],
   "source": [
    "# Let's pop this series out\n"
   ]
  },
  {
   "cell_type": "code",
   "execution_count": null,
   "metadata": {
    "slideshow": {
     "slide_type": "slide"
    }
   },
   "outputs": [],
   "source": [
    "qc.head()"
   ]
  },
  {
   "cell_type": "markdown",
   "metadata": {
    "slideshow": {
     "slide_type": "slide"
    }
   },
   "source": [
    "## groupby()\n",
    "- Another very useful tool is [groupby()](https://pandas.pydata.org/pandas-docs/stable/reference/api/pandas.DataFrame.groupby.html)\n",
    "- Say you want to know about the total number of people tested each month in Quebec\n",
    "- This is equivalent to reducing the number of observations to one per month and sum over the total number of tested"
   ]
  },
  {
   "cell_type": "markdown",
   "metadata": {
    "slideshow": {
     "slide_type": "slide"
    }
   },
   "source": [
    "### Problem\n",
    "- We need a variable that varies by month\n",
    "- For now we only have a variable that varies by day\n",
    "- You could you Pandas' powerful [datetime tools](https://pandas.pydata.org/pandas-docs/stable/reference/api/pandas.to_datetime.html)\n",
    "- We will use the [split()](https://pandas.pydata.org/pandas-docs/stable/reference/api/pandas.Series.str.split.html) method instead. "
   ]
  },
  {
   "cell_type": "code",
   "execution_count": null,
   "metadata": {
    "slideshow": {
     "slide_type": "slide"
    }
   },
   "outputs": [],
   "source": [
    "# The date column is an object (string) type\n",
    "print(qc['date'])\n",
    "# use the split method on the string of a pandas series\n",
    "qc['date']"
   ]
  },
  {
   "cell_type": "code",
   "execution_count": null,
   "metadata": {
    "slideshow": {
     "slide_type": "slide"
    }
   },
   "outputs": [],
   "source": [
    "# unpack the values in 3 different columns using expand=True in split()\n",
    "qc[['day','month','year']]=qc['date'].str\n",
    "# show tail()\n",
    "qc.tail()"
   ]
  },
  {
   "cell_type": "markdown",
   "metadata": {
    "slideshow": {
     "slide_type": "slide"
    }
   },
   "source": [
    "We can now use groupby on the dataframe"
   ]
  },
  {
   "cell_type": "code",
   "execution_count": null,
   "metadata": {
    "slideshow": {
     "slide_type": "slide"
    }
   },
   "outputs": [],
   "source": [
    "# groupby year and month, and take the sum() of numtestedtoday\n",
    "qc.groupby()[].sum().astype(int)"
   ]
  },
  {
   "cell_type": "markdown",
   "metadata": {
    "slideshow": {
     "slide_type": "slide"
    }
   },
   "source": [
    "### transform()\n",
    "- Say that I want to express the number of people tested each day as a percentage of the total number of people treated in the same month\n",
    "- First, we should find a way to keep the value for the within month sum\n",
    "- This is what calling [transform](https://pandas.pydata.org/pandas-docs/stable/reference/api/pandas.DataFrame.transform.html) on a groupby() operation allows you to do"
   ]
  },
  {
   "cell_type": "code",
   "execution_count": null,
   "metadata": {
    "slideshow": {
     "slide_type": "slide"
    }
   },
   "outputs": [],
   "source": [
    "qc.groupby()[].transform(np.sum)"
   ]
  },
  {
   "cell_type": "code",
   "execution_count": null,
   "metadata": {
    "slideshow": {
     "slide_type": "slide"
    }
   },
   "outputs": [],
   "source": [
    "qc['monthly_tested']=qc.groupby(['year','month'])['numtestedtoday'].transform(np.sum)\n",
    "qc.head()"
   ]
  },
  {
   "cell_type": "markdown",
   "metadata": {
    "slideshow": {
     "slide_type": "slide"
    }
   },
   "source": [
    "## fillna()\n",
    "- Second we want to replace NaN values by zeros for tested\n",
    "- Warning: this is very rarely a good idea\n",
    "- But here we know that testing was not in place in early March and this is why the data is missing\n",
    "- We can fill the missing values with zeros using the [fillna()](https://pandas.pydata.org/pandas-docs/stable/reference/api/pandas.DataFrame.fillna.html) method"
   ]
  },
  {
   "cell_type": "code",
   "execution_count": null,
   "metadata": {
    "slideshow": {
     "slide_type": "slide"
    }
   },
   "outputs": [],
   "source": [
    "# fill missing values in qc['numtestedtoday'] with zeros\n",
    "qc['numtestedtoday']"
   ]
  },
  {
   "cell_type": "code",
   "execution_count": null,
   "metadata": {
    "slideshow": {
     "slide_type": "slide"
    }
   },
   "outputs": [],
   "source": [
    "# Replace NaN by zeros for the numtestedtoday variable\n",
    "qc['numtestedtoday']=qc['numtestedtoday'].fillna(0)\n",
    "qc.head()"
   ]
  },
  {
   "cell_type": "markdown",
   "metadata": {
    "slideshow": {
     "slide_type": "slide"
    }
   },
   "source": [
    "We can now create our new variable"
   ]
  },
  {
   "cell_type": "code",
   "execution_count": null,
   "metadata": {
    "slideshow": {
     "slide_type": "slide"
    }
   },
   "outputs": [],
   "source": [
    "qc['share_tested']=qc['numtestedtoday']/qc['monthly_tested']*100\n",
    "qc.tail()"
   ]
  }
 ],
 "metadata": {
  "celltoolbar": "Diaporama",
  "kernelspec": {
   "display_name": "Python 3 (ipykernel)",
   "language": "python",
   "name": "python3"
  },
  "language_info": {
   "codemirror_mode": {
    "name": "ipython",
    "version": 3
   },
   "file_extension": ".py",
   "mimetype": "text/x-python",
   "name": "python",
   "nbconvert_exporter": "python",
   "pygments_lexer": "ipython3",
   "version": "3.9.7"
  }
 },
 "nbformat": 4,
 "nbformat_minor": 4
}
