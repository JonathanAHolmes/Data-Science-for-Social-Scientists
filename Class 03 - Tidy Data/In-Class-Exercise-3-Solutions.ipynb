{
 "cells": [
  {
   "cell_type": "markdown",
   "id": "1f90625a",
   "metadata": {},
   "source": [
    "## In-Class Exercise #3"
   ]
  },
  {
   "cell_type": "markdown",
   "id": "8d3188fb",
   "metadata": {},
   "source": [
    "1. Import numpy and pandas"
   ]
  },
  {
   "cell_type": "code",
   "execution_count": 1,
   "id": "8286ca59",
   "metadata": {},
   "outputs": [],
   "source": [
    "import numpy as np\n",
    "import pandas as pd"
   ]
  },
  {
   "cell_type": "markdown",
   "id": "127777df",
   "metadata": {},
   "source": [
    "2.  d is a dictionary of names and ages.\n",
    "    \n",
    "    - Convert it to a Pandas Dataframe\n",
    "    - What are the columns of this dataframe? Use the attribute 'columns'\n",
    "    - Save the column names to a list\n",
    "    - What data types are each column? Use 'types' attribute"
   ]
  },
  {
   "cell_type": "code",
   "execution_count": 2,
   "id": "2c45030b",
   "metadata": {},
   "outputs": [
    {
     "name": "stdout",
     "output_type": "stream",
     "text": [
      "Index(['Name', 'Age'], dtype='object')\n",
      "['Name', 'Age']\n",
      "Name    object\n",
      "Age      int64\n",
      "dtype: object\n"
     ]
    }
   ],
   "source": [
    "d = {'Name': ['John', 'Jane', 'Dave', 'Muhammad'], 'Age': [45, 16, 60, 23]}\n",
    "dataframe = pd.DataFrame(data=d)\n",
    "\n",
    "print(dataframe.columns)\n",
    "cols = dataframe.columns.to_list()\n",
    "print(cols)\n",
    "print(dataframe.dtypes)"
   ]
  },
  {
   "cell_type": "markdown",
   "id": "b836ff18",
   "metadata": {},
   "source": [
    "3. Load the covid dataset into memory\n",
    "- Show the first 10 observations of the dataset using the head() method\n",
    "- create a new dataframe called df_mortality that only contains the columns province name, date, and the number of deaths\n",
    "- Show the first 10 rows of df using the 'df.head' command\n"
   ]
  },
  {
   "cell_type": "code",
   "execution_count": 3,
   "id": "83227109",
   "metadata": {},
   "outputs": [
    {
     "data": {
      "text/html": [
       "<div>\n",
       "<style scoped>\n",
       "    .dataframe tbody tr th:only-of-type {\n",
       "        vertical-align: middle;\n",
       "    }\n",
       "\n",
       "    .dataframe tbody tr th {\n",
       "        vertical-align: top;\n",
       "    }\n",
       "\n",
       "    .dataframe thead th {\n",
       "        text-align: right;\n",
       "    }\n",
       "</style>\n",
       "<table border=\"1\" class=\"dataframe\">\n",
       "  <thead>\n",
       "    <tr style=\"text-align: right;\">\n",
       "      <th></th>\n",
       "      <th>prname</th>\n",
       "      <th>date</th>\n",
       "      <th>numdeaths</th>\n",
       "    </tr>\n",
       "  </thead>\n",
       "  <tbody>\n",
       "    <tr>\n",
       "      <th>0</th>\n",
       "      <td>Ontario</td>\n",
       "      <td>31-01-2020</td>\n",
       "      <td>0.0</td>\n",
       "    </tr>\n",
       "    <tr>\n",
       "      <th>1</th>\n",
       "      <td>British Columbia</td>\n",
       "      <td>31-01-2020</td>\n",
       "      <td>0.0</td>\n",
       "    </tr>\n",
       "    <tr>\n",
       "      <th>2</th>\n",
       "      <td>Canada</td>\n",
       "      <td>31-01-2020</td>\n",
       "      <td>0.0</td>\n",
       "    </tr>\n",
       "    <tr>\n",
       "      <th>3</th>\n",
       "      <td>Ontario</td>\n",
       "      <td>08-02-2020</td>\n",
       "      <td>0.0</td>\n",
       "    </tr>\n",
       "    <tr>\n",
       "      <th>4</th>\n",
       "      <td>British Columbia</td>\n",
       "      <td>08-02-2020</td>\n",
       "      <td>0.0</td>\n",
       "    </tr>\n",
       "  </tbody>\n",
       "</table>\n",
       "</div>"
      ],
      "text/plain": [
       "             prname        date  numdeaths\n",
       "0           Ontario  31-01-2020        0.0\n",
       "1  British Columbia  31-01-2020        0.0\n",
       "2            Canada  31-01-2020        0.0\n",
       "3           Ontario  08-02-2020        0.0\n",
       "4  British Columbia  08-02-2020        0.0"
      ]
     },
     "execution_count": 3,
     "metadata": {},
     "output_type": "execute_result"
    }
   ],
   "source": [
    "covidFile=\"https://www.dropbox.com/s/78h5e3xj36xl9eu/covid19_map.csv?dl=1\"\n",
    "\n",
    "df = pd.read_csv(covidFile)\n",
    "\n",
    "# Save vars in list\n",
    "toKeep=['prname','date','numdeaths']\n",
    "# pass list in dataframe and save in new dataframe\n",
    "df_mortality=df[toKeep].copy() \n",
    "# show head\n",
    "df_mortality.head()\n"
   ]
  },
  {
   "cell_type": "markdown",
   "id": "2c09a250",
   "metadata": {},
   "source": [
    "4. The covid dataset contains rows that are not provices or territories. \n",
    "- Subset df_mortality and keep only provinces or territories. \n",
    "- Save the new data in a new dataframe called df_mortality2.\n",
    "- Print the unique values of prname for df_mortality2\n",
    "\n",
    "Hint 1: You will need to use \"&\" or \"|\" in between booleans and put parenthesis around each condition. \n",
    "\n",
    "Hint 2: Use the .unique() command to find what columns are in the dataframe\n",
    "\n"
   ]
  },
  {
   "cell_type": "code",
   "execution_count": 4,
   "id": "7221bc82",
   "metadata": {},
   "outputs": [
    {
     "data": {
      "text/plain": [
       "array(['Ontario', 'British Columbia', 'Quebec', 'Alberta', 'Saskatchewan',\n",
       "       'Manitoba', 'New Brunswick', 'Newfoundland and Labrador',\n",
       "       'Nova Scotia', 'Prince Edward Island', 'Northwest Territories',\n",
       "       'Nunavut', 'Yukon'], dtype=object)"
      ]
     },
     "metadata": {},
     "output_type": "display_data"
    }
   ],
   "source": [
    "df_mortality2 =df_mortality[(df_mortality.prname!='Canada') & (df_mortality['prname']!='Repatriated travellers')]\n",
    "display(df_mortality2.prname.unique())"
   ]
  },
  {
   "cell_type": "markdown",
   "id": "094cd03c",
   "metadata": {},
   "source": [
    "5. Calculate the maximum number of daily deaths each month in Ontario\n",
    "- Create a smaller dataset that only has Ontario in it\n",
    "- use groupby to find the maximum number of daily deaths each month in Ontario\n",
    "- First you'll need to get day, month and year in on dataframe\n",
    "- Hint: use the max() method\n",
    "- Hint2: the relevant column is 'numdeathstoday'"
   ]
  },
  {
   "cell_type": "code",
   "execution_count": 5,
   "id": "adc9b445",
   "metadata": {},
   "outputs": [
    {
     "data": {
      "text/plain": [
       "year  month\n",
       "2020  01        0\n",
       "      02        0\n",
       "      03       14\n",
       "      04       86\n",
       "      05       84\n",
       "      06       45\n",
       "      07       14\n",
       "      08        6\n",
       "      09        9\n",
       "      10       76\n",
       "      11       35\n",
       "      12       81\n",
       "2021  01       89\n",
       "Name: numdeathstoday, dtype: int64"
      ]
     },
     "execution_count": 5,
     "metadata": {},
     "output_type": "execute_result"
    }
   ],
   "source": [
    "on=df[df['prname']=='Ontario'].copy()\n",
    "on[['day','month','year']]=on['date'].str.split(pat='-',expand=True)\n",
    "on.groupby(['year','month'])['numdeathstoday'].max().astype(int)"
   ]
  },
  {
   "cell_type": "markdown",
   "id": "650e5aa2",
   "metadata": {},
   "source": [
    "## BONUS Exercise \n",
    "- What is the share of people tested in each province as percentage of the total number of people tested in Canada?\n",
    "1. Create a dataframe named can, keeping the prname and numtestedtoday variables\n",
    "2. Drop observations for 'Canada' and 'Repatriated travellers' in prname\n",
    "3. Get the total number of people tested (hint: call sum on the column but do not use groupby)\n",
    "4. Save the results in total_tested\n",
    "5. Print out the total number of people tested in Canada\n",
    "6. group the can dataframe by province and sum the total number of tested (suggestion: set as_index=False in groupby)\n",
    "7. rename the variable _numtestedtoday_ to _totaltested_ \n",
    "8. Create a new colum, _total_, which contains the value in total_tested\n",
    "9. Create a new column with the share for each province\n",
    "10. show the head() of can for 13 observations    \n",
    "    "
   ]
  },
  {
   "cell_type": "code",
   "execution_count": 6,
   "id": "25d1d991",
   "metadata": {},
   "outputs": [
    {
     "name": "stdout",
     "output_type": "stream",
     "text": [
      "16,557,007 tests were provided in Canada.\n"
     ]
    },
    {
     "data": {
      "text/html": [
       "<div>\n",
       "<style scoped>\n",
       "    .dataframe tbody tr th:only-of-type {\n",
       "        vertical-align: middle;\n",
       "    }\n",
       "\n",
       "    .dataframe tbody tr th {\n",
       "        vertical-align: top;\n",
       "    }\n",
       "\n",
       "    .dataframe thead th {\n",
       "        text-align: right;\n",
       "    }\n",
       "</style>\n",
       "<table border=\"1\" class=\"dataframe\">\n",
       "  <thead>\n",
       "    <tr style=\"text-align: right;\">\n",
       "      <th></th>\n",
       "      <th>prname</th>\n",
       "      <th>totaltested</th>\n",
       "      <th>total</th>\n",
       "      <th>share_tested</th>\n",
       "    </tr>\n",
       "  </thead>\n",
       "  <tbody>\n",
       "    <tr>\n",
       "      <th>0</th>\n",
       "      <td>Alberta</td>\n",
       "      <td>2979663.0</td>\n",
       "      <td>16557007</td>\n",
       "      <td>17.996387</td>\n",
       "    </tr>\n",
       "    <tr>\n",
       "      <th>1</th>\n",
       "      <td>British Columbia</td>\n",
       "      <td>1021911.0</td>\n",
       "      <td>16557007</td>\n",
       "      <td>6.172076</td>\n",
       "    </tr>\n",
       "    <tr>\n",
       "      <th>2</th>\n",
       "      <td>Manitoba</td>\n",
       "      <td>436236.0</td>\n",
       "      <td>16557007</td>\n",
       "      <td>2.634752</td>\n",
       "    </tr>\n",
       "    <tr>\n",
       "      <th>3</th>\n",
       "      <td>New Brunswick</td>\n",
       "      <td>128255.0</td>\n",
       "      <td>16557007</td>\n",
       "      <td>0.774627</td>\n",
       "    </tr>\n",
       "    <tr>\n",
       "      <th>4</th>\n",
       "      <td>Newfoundland and Labrador</td>\n",
       "      <td>76391.0</td>\n",
       "      <td>16557007</td>\n",
       "      <td>0.461382</td>\n",
       "    </tr>\n",
       "    <tr>\n",
       "      <th>5</th>\n",
       "      <td>Northwest Territories</td>\n",
       "      <td>8323.0</td>\n",
       "      <td>16557007</td>\n",
       "      <td>0.050269</td>\n",
       "    </tr>\n",
       "    <tr>\n",
       "      <th>6</th>\n",
       "      <td>Nova Scotia</td>\n",
       "      <td>195810.0</td>\n",
       "      <td>16557007</td>\n",
       "      <td>1.182641</td>\n",
       "    </tr>\n",
       "    <tr>\n",
       "      <th>7</th>\n",
       "      <td>Nunavut</td>\n",
       "      <td>6558.0</td>\n",
       "      <td>16557007</td>\n",
       "      <td>0.039609</td>\n",
       "    </tr>\n",
       "    <tr>\n",
       "      <th>8</th>\n",
       "      <td>Ontario</td>\n",
       "      <td>8633584.0</td>\n",
       "      <td>16557007</td>\n",
       "      <td>52.144594</td>\n",
       "    </tr>\n",
       "    <tr>\n",
       "      <th>9</th>\n",
       "      <td>Prince Edward Island</td>\n",
       "      <td>86220.0</td>\n",
       "      <td>16557007</td>\n",
       "      <td>0.520746</td>\n",
       "    </tr>\n",
       "    <tr>\n",
       "      <th>10</th>\n",
       "      <td>Quebec</td>\n",
       "      <td>2656534.0</td>\n",
       "      <td>16557007</td>\n",
       "      <td>16.044772</td>\n",
       "    </tr>\n",
       "    <tr>\n",
       "      <th>11</th>\n",
       "      <td>Saskatchewan</td>\n",
       "      <td>321266.0</td>\n",
       "      <td>16557007</td>\n",
       "      <td>1.940363</td>\n",
       "    </tr>\n",
       "    <tr>\n",
       "      <th>12</th>\n",
       "      <td>Yukon</td>\n",
       "      <td>6256.0</td>\n",
       "      <td>16557007</td>\n",
       "      <td>0.037785</td>\n",
       "    </tr>\n",
       "  </tbody>\n",
       "</table>\n",
       "</div>"
      ],
      "text/plain": [
       "                       prname  totaltested     total  share_tested\n",
       "0                     Alberta    2979663.0  16557007     17.996387\n",
       "1            British Columbia    1021911.0  16557007      6.172076\n",
       "2                    Manitoba     436236.0  16557007      2.634752\n",
       "3               New Brunswick     128255.0  16557007      0.774627\n",
       "4   Newfoundland and Labrador      76391.0  16557007      0.461382\n",
       "5       Northwest Territories       8323.0  16557007      0.050269\n",
       "6                 Nova Scotia     195810.0  16557007      1.182641\n",
       "7                     Nunavut       6558.0  16557007      0.039609\n",
       "8                     Ontario    8633584.0  16557007     52.144594\n",
       "9        Prince Edward Island      86220.0  16557007      0.520746\n",
       "10                     Quebec    2656534.0  16557007     16.044772\n",
       "11               Saskatchewan     321266.0  16557007      1.940363\n",
       "12                      Yukon       6256.0  16557007      0.037785"
      ]
     },
     "execution_count": 6,
     "metadata": {},
     "output_type": "execute_result"
    }
   ],
   "source": [
    "#1. Create a dataframe named can, keeping the prname and numtestedtoday variables\n",
    "#2. Drop observations for 'Canada' and 'Repatriated travellers' in prname\n",
    "can=df.loc[(df.prname!='Canada') &( df.prname!='Repatriated travellers'),['prname','numtestedtoday']]\n",
    "#3. Get the total number of people tested (hint: call sum on the column but do not use groupby)\n",
    "#4. Save the results in total_tested\n",
    "total_tested=can['numtestedtoday'].sum()\n",
    "#5. Print out the total number of people tested in Canada\n",
    "print(\"{:,} tests were provided in Canada.\".format(int(total_tested)))\n",
    "#6. group the can dataframe by province and sum the total number of tested (suggestion: set as_index=False in groupby)\n",
    "can=can.groupby(['prname'],as_index=False)['numtestedtoday'].sum()\n",
    "#7. rename the variable numtestedtoday to totaltested\n",
    "can.rename(columns={'numtestedtoday':'totaltested'},inplace=True)\n",
    "# 8. Create a new colum, _total_, which contains the value in total_tested\n",
    "can['total']=int(total_tested) #\n",
    "#9. Create a new column with the share for each province\n",
    "can['share_tested']=can['totaltested']/can['total']*100\n",
    "can.head(n=13)"
   ]
  }
 ],
 "metadata": {
  "kernelspec": {
   "display_name": "Python 3 (ipykernel)",
   "language": "python",
   "name": "python3"
  },
  "language_info": {
   "codemirror_mode": {
    "name": "ipython",
    "version": 3
   },
   "file_extension": ".py",
   "mimetype": "text/x-python",
   "name": "python",
   "nbconvert_exporter": "python",
   "pygments_lexer": "ipython3",
   "version": "3.9.7"
  }
 },
 "nbformat": 4,
 "nbformat_minor": 5
}
