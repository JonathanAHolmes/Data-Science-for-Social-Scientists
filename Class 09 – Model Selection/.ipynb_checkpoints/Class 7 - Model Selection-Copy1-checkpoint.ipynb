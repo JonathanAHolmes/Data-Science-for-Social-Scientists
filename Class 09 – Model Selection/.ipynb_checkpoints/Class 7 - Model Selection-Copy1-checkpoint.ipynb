{
 "cells": [
  {
   "cell_type": "markdown",
   "id": "b6322b83",
   "metadata": {
    "slideshow": {
     "slide_type": "slide"
    }
   },
   "source": [
    "# <div align=\"center\"> SPECIAL TOPICS III </div>\n",
    "## <div align=\"center\"> Data Science for Social Scientists  </div>\n",
    "### <div align=\"center\"> ECO 4199 </div>\n",
    "#### <div align=\"center\">Class 7 - Model Selection</div>\n",
    "<div align=\"center\"> Fabien Forge, (he/him)</div>"
   ]
  },
  {
   "cell_type": "markdown",
   "id": "428448b5",
   "metadata": {
    "slideshow": {
     "slide_type": "slide"
    }
   },
   "source": [
    "# Roadmap\n",
    "\n",
    "- In the last lecture we saw the risk associated with overfitting. \n",
    "- Although we discussed the case of polynomial regressions, the risk of overfitting is common to all learning models\n",
    "- This risk usually increases with the number of parameters\n",
    "$$ Y = f(\\mathbf{X}) + \\varepsilon$$\n",
    "- Regression and classification used tools that you were already familiar with (at least to some extent)\n",
    "- But we only scratched the surface of what these functions may look like\n",
    "- Today, we will keep using these tools with a different goal in mind\n",
    "- This goal will require new tools..."
   ]
  },
  {
   "cell_type": "markdown",
   "id": "cd5bce91",
   "metadata": {
    "slideshow": {
     "slide_type": "slide"
    }
   },
   "source": [
    "## Dealing with overfitting\n",
    "- Last lecture, we saw the issues associated with overfitting\n",
    "- You may think that the issue came from allowing for (undue) higher degrees in our model\n",
    "- But the issue is broader than this.\n",
    "- We used a model in which Y was related to $X$ and $X^2$ not $X^n$ for n>2\n",
    "- In other words we were using too many predictors"
   ]
  },
  {
   "cell_type": "markdown",
   "id": "80fdebb8",
   "metadata": {
    "slideshow": {
     "slide_type": "slide"
    }
   },
   "source": [
    "## RSS and MSE\n",
    "- the training set MSE is generally an underestimate of the test MSE. \n",
    "    - Recall that MSE = RSS/n. \n",
    "- When we fit a model to the training data using least squares, we specifically estimate the regression coefficients such that the training RSS (but not the test RSS) is as small as possible. \n",
    "- In particular, the training error will decrease as more variables are included in the model, but the test error may not.\n",
    "- Therefore, training set RSS and training set R2 cannot be used to select from among a set of models with different numbers of variables.\n",
    "- However, a number of techniques for adjusting the training error for the model size are available."
   ]
  },
  {
   "cell_type": "markdown",
   "id": "141e57b5",
   "metadata": {
    "slideshow": {
     "slide_type": "slide"
    }
   },
   "source": [
    "# Subset Selection\n",
    "$$Y = \\beta_0+\\beta_1X_1+\\beta_2X_2+ ... + \\beta_pX_p + \\epsilon$$\n",
    "- The issue it that adding predictors will always weakly improve the in sample prediction\n",
    "    - But at the expense of out of sample prediction\n",
    "- It is therefore important to limit the number of predictors to those actually related to Y\n",
    "- __Subset Selection__ _is the process of identifying the p predictors actually related to Y._"
   ]
  },
  {
   "cell_type": "markdown",
   "id": "365ccd07",
   "metadata": {
    "slideshow": {
     "slide_type": "slide"
    }
   },
   "source": [
    "## Best Subset Selection\n",
    "- Here is the algorithm to select the best subset given a dataset with p predictors\n",
    "- We will apply this algorithm to the Credit dataset\n",
    "\n",
    "Algorithm:\n",
    "\n",
    "1. Let $\\mathscr{M}_0$ denote the null model , which contains no predictors. This\n",
    "model simply predicts the sample mean for each observation.\n",
    "2. For k = 1, 2, . . .p:\n",
    "    - a. Fit all ${P\\choose k}$ containing exactly $k$ predictors\n",
    "    - b. Pick the best among these ${P\\choose k}$ and call it $\\mathscr{M}_k$. Here best is defined as having the smallest RSS, or equivalently largest R2.\n",
    "3. Select a single best model from among $\\mathscr{M}_0$, . . . ,$\\mathscr{M}_p$ using crossvalidated prediction error (MSE), AIC, BIC, or adjusted $R^2$"
   ]
  },
  {
   "cell_type": "markdown",
   "id": "200c8597",
   "metadata": {
    "slideshow": {
     "slide_type": "slide"
    }
   },
   "source": [
    "### The null model\n",
    "- Let's start with the null model\n",
    "- This a model using no predictors and a single parameter: the intercept"
   ]
  },
  {
   "cell_type": "code",
   "execution_count": 3,
   "id": "91ae678d",
   "metadata": {
    "slideshow": {
     "slide_type": "slide"
    }
   },
   "outputs": [],
   "source": [
    "import pandas as pd\n",
    "import numpy as np\n",
    "import seaborn as sns\n",
    "import matplotlib.pyplot as plt\n",
    "\n",
    "import statsmodels.api as sm\n",
    "import statsmodels.formula.api as smf\n",
    "\n",
    "import sklearn.linear_model as skl_lm\n",
    "from sklearn.model_selection import KFold\n",
    "from sklearn.metrics import mean_squared_error\n",
    "from sklearn.linear_model import LinearRegression\n",
    "\n",
    " \n",
    "from itertools import permutations\n",
    "\n",
    "\n",
    "folderPath=\"~/Dropbox/Data Science for Social Scientists/Classes/Class 7 – Model Selection/\""
   ]
  },
  {
   "cell_type": "code",
   "execution_count": 4,
   "id": "8f70c49a",
   "metadata": {
    "slideshow": {
     "slide_type": "slide"
    }
   },
   "outputs": [
    {
     "data": {
      "text/plain": [
       "(400, 12)"
      ]
     },
     "metadata": {},
     "output_type": "display_data"
    },
    {
     "data": {
      "text/html": [
       "<div>\n",
       "<style scoped>\n",
       "    .dataframe tbody tr th:only-of-type {\n",
       "        vertical-align: middle;\n",
       "    }\n",
       "\n",
       "    .dataframe tbody tr th {\n",
       "        vertical-align: top;\n",
       "    }\n",
       "\n",
       "    .dataframe thead th {\n",
       "        text-align: right;\n",
       "    }\n",
       "</style>\n",
       "<table border=\"1\" class=\"dataframe\">\n",
       "  <thead>\n",
       "    <tr style=\"text-align: right;\">\n",
       "      <th></th>\n",
       "      <th>Income</th>\n",
       "      <th>Limit</th>\n",
       "      <th>Rating</th>\n",
       "      <th>Cards</th>\n",
       "      <th>Age</th>\n",
       "      <th>Education</th>\n",
       "      <th>Gender</th>\n",
       "      <th>Student</th>\n",
       "      <th>Married</th>\n",
       "      <th>Balance</th>\n",
       "      <th>Asian</th>\n",
       "      <th>Caucasian</th>\n",
       "    </tr>\n",
       "  </thead>\n",
       "  <tbody>\n",
       "    <tr>\n",
       "      <th>0</th>\n",
       "      <td>14.891</td>\n",
       "      <td>3606</td>\n",
       "      <td>283</td>\n",
       "      <td>2</td>\n",
       "      <td>34</td>\n",
       "      <td>11</td>\n",
       "      <td>0</td>\n",
       "      <td>0</td>\n",
       "      <td>1</td>\n",
       "      <td>333</td>\n",
       "      <td>0</td>\n",
       "      <td>1</td>\n",
       "    </tr>\n",
       "    <tr>\n",
       "      <th>1</th>\n",
       "      <td>106.025</td>\n",
       "      <td>6645</td>\n",
       "      <td>483</td>\n",
       "      <td>3</td>\n",
       "      <td>82</td>\n",
       "      <td>15</td>\n",
       "      <td>1</td>\n",
       "      <td>1</td>\n",
       "      <td>1</td>\n",
       "      <td>903</td>\n",
       "      <td>1</td>\n",
       "      <td>0</td>\n",
       "    </tr>\n",
       "    <tr>\n",
       "      <th>2</th>\n",
       "      <td>104.593</td>\n",
       "      <td>7075</td>\n",
       "      <td>514</td>\n",
       "      <td>4</td>\n",
       "      <td>71</td>\n",
       "      <td>11</td>\n",
       "      <td>0</td>\n",
       "      <td>0</td>\n",
       "      <td>0</td>\n",
       "      <td>580</td>\n",
       "      <td>1</td>\n",
       "      <td>0</td>\n",
       "    </tr>\n",
       "    <tr>\n",
       "      <th>3</th>\n",
       "      <td>148.924</td>\n",
       "      <td>9504</td>\n",
       "      <td>681</td>\n",
       "      <td>3</td>\n",
       "      <td>36</td>\n",
       "      <td>11</td>\n",
       "      <td>1</td>\n",
       "      <td>0</td>\n",
       "      <td>0</td>\n",
       "      <td>964</td>\n",
       "      <td>1</td>\n",
       "      <td>0</td>\n",
       "    </tr>\n",
       "    <tr>\n",
       "      <th>4</th>\n",
       "      <td>55.882</td>\n",
       "      <td>4897</td>\n",
       "      <td>357</td>\n",
       "      <td>2</td>\n",
       "      <td>68</td>\n",
       "      <td>16</td>\n",
       "      <td>0</td>\n",
       "      <td>0</td>\n",
       "      <td>1</td>\n",
       "      <td>331</td>\n",
       "      <td>0</td>\n",
       "      <td>1</td>\n",
       "    </tr>\n",
       "  </tbody>\n",
       "</table>\n",
       "</div>"
      ],
      "text/plain": [
       "    Income  Limit  Rating  Cards  Age  Education  Gender  Student  Married  \\\n",
       "0   14.891   3606     283      2   34         11       0        0        1   \n",
       "1  106.025   6645     483      3   82         15       1        1        1   \n",
       "2  104.593   7075     514      4   71         11       0        0        0   \n",
       "3  148.924   9504     681      3   36         11       1        0        0   \n",
       "4   55.882   4897     357      2   68         16       0        0        1   \n",
       "\n",
       "   Balance  Asian  Caucasian  \n",
       "0      333      0          1  \n",
       "1      903      1          0  \n",
       "2      580      1          0  \n",
       "3      964      1          0  \n",
       "4      331      0          1  "
      ]
     },
     "execution_count": 4,
     "metadata": {},
     "output_type": "execute_result"
    }
   ],
   "source": [
    "df=pd.read_csv(folderPath+\"Credit.csv\" ,usecols=list(range(1,12)))\n",
    "df['Gender']=df['Gender'].replace({\" Male\":0,  \"Female\":1})\n",
    "df['Student']=df['Student'].replace({\"No\":0,  \"Yes\":1})\n",
    "df['Married']=df['Married'].replace({\"No\":0,  \"Yes\":1})\n",
    "df=df.join(pd.get_dummies(df['Ethnicity'], drop_first=True))\n",
    "df.pop(\"Ethnicity\")\n",
    "display(df.shape)\n",
    "df.head()"
   ]
  },
  {
   "cell_type": "markdown",
   "id": "1330c7f3",
   "metadata": {
    "slideshow": {
     "slide_type": "slide"
    }
   },
   "source": [
    "$\\mathscr{M}_0$"
   ]
  },
  {
   "cell_type": "code",
   "execution_count": 5,
   "id": "93adf49b",
   "metadata": {
    "scrolled": false,
    "slideshow": {
     "slide_type": "slide"
    }
   },
   "outputs": [
    {
     "name": "stdout",
     "output_type": "stream",
     "text": [
      "                            OLS Regression Results                            \n",
      "==============================================================================\n",
      "Dep. Variable:                Balance   R-squared:                      -0.000\n",
      "Model:                            OLS   Adj. R-squared:                 -0.000\n",
      "Method:                 Least Squares   F-statistic:                      -inf\n",
      "Date:                Tue, 09 Mar 2021   Prob (F-statistic):                nan\n",
      "Time:                        13:43:44   Log-Likelihood:                -3019.4\n",
      "No. Observations:                 400   AIC:                             6041.\n",
      "Df Residuals:                     399   BIC:                             6045.\n",
      "Df Model:                           0                                         \n",
      "Covariance Type:            nonrobust                                         \n",
      "==============================================================================\n",
      "                 coef    std err          t      P>|t|      [0.025      0.975]\n",
      "------------------------------------------------------------------------------\n",
      "Intercept    520.0150     22.988     22.621      0.000     474.822     565.208\n",
      "==============================================================================\n",
      "Omnibus:                       28.709   Durbin-Watson:                   1.945\n",
      "Prob(Omnibus):                  0.000   Jarque-Bera (JB):               27.405\n",
      "Skew:                           0.582   Prob(JB):                     1.12e-06\n",
      "Kurtosis:                       2.464   Cond. No.                         1.00\n",
      "==============================================================================\n",
      "\n",
      "Warnings:\n",
      "[1] Standard Errors assume that the covariance matrix of the errors is correctly specified.\n"
     ]
    },
    {
     "name": "stderr",
     "output_type": "stream",
     "text": [
      "/anaconda3/lib/python3.7/site-packages/statsmodels/regression/linear_model.py:1657: RuntimeWarning: divide by zero encountered in double_scalars\n",
      "  return self.ess/self.df_model\n"
     ]
    }
   ],
   "source": [
    "# M0\n",
    "results = smf.ols('Balance ~ 1 ', data=df).fit()\n",
    "# Inspect the results\n",
    "print(results.summary())"
   ]
  },
  {
   "cell_type": "code",
   "execution_count": 6,
   "id": "f2a4cb3a",
   "metadata": {
    "slideshow": {
     "slide_type": "slide"
    }
   },
   "outputs": [
    {
     "data": {
      "text/html": [
       "<div>\n",
       "<style scoped>\n",
       "    .dataframe tbody tr th:only-of-type {\n",
       "        vertical-align: middle;\n",
       "    }\n",
       "\n",
       "    .dataframe tbody tr th {\n",
       "        vertical-align: top;\n",
       "    }\n",
       "\n",
       "    .dataframe thead th {\n",
       "        text-align: right;\n",
       "    }\n",
       "</style>\n",
       "<table border=\"1\" class=\"dataframe\">\n",
       "  <thead>\n",
       "    <tr style=\"text-align: right;\">\n",
       "      <th></th>\n",
       "      <th>Income</th>\n",
       "      <th>Limit</th>\n",
       "      <th>Rating</th>\n",
       "      <th>Cards</th>\n",
       "      <th>Age</th>\n",
       "      <th>Education</th>\n",
       "      <th>Gender</th>\n",
       "      <th>Student</th>\n",
       "      <th>Married</th>\n",
       "      <th>Asian</th>\n",
       "      <th>Caucasian</th>\n",
       "      <th>intercept</th>\n",
       "    </tr>\n",
       "  </thead>\n",
       "  <tbody>\n",
       "    <tr>\n",
       "      <th>0</th>\n",
       "      <td>14.891</td>\n",
       "      <td>3606</td>\n",
       "      <td>283</td>\n",
       "      <td>2</td>\n",
       "      <td>34</td>\n",
       "      <td>11</td>\n",
       "      <td>0</td>\n",
       "      <td>0</td>\n",
       "      <td>1</td>\n",
       "      <td>0</td>\n",
       "      <td>1</td>\n",
       "      <td>1</td>\n",
       "    </tr>\n",
       "    <tr>\n",
       "      <th>1</th>\n",
       "      <td>106.025</td>\n",
       "      <td>6645</td>\n",
       "      <td>483</td>\n",
       "      <td>3</td>\n",
       "      <td>82</td>\n",
       "      <td>15</td>\n",
       "      <td>1</td>\n",
       "      <td>1</td>\n",
       "      <td>1</td>\n",
       "      <td>1</td>\n",
       "      <td>0</td>\n",
       "      <td>1</td>\n",
       "    </tr>\n",
       "    <tr>\n",
       "      <th>2</th>\n",
       "      <td>104.593</td>\n",
       "      <td>7075</td>\n",
       "      <td>514</td>\n",
       "      <td>4</td>\n",
       "      <td>71</td>\n",
       "      <td>11</td>\n",
       "      <td>0</td>\n",
       "      <td>0</td>\n",
       "      <td>0</td>\n",
       "      <td>1</td>\n",
       "      <td>0</td>\n",
       "      <td>1</td>\n",
       "    </tr>\n",
       "    <tr>\n",
       "      <th>3</th>\n",
       "      <td>148.924</td>\n",
       "      <td>9504</td>\n",
       "      <td>681</td>\n",
       "      <td>3</td>\n",
       "      <td>36</td>\n",
       "      <td>11</td>\n",
       "      <td>1</td>\n",
       "      <td>0</td>\n",
       "      <td>0</td>\n",
       "      <td>1</td>\n",
       "      <td>0</td>\n",
       "      <td>1</td>\n",
       "    </tr>\n",
       "    <tr>\n",
       "      <th>4</th>\n",
       "      <td>55.882</td>\n",
       "      <td>4897</td>\n",
       "      <td>357</td>\n",
       "      <td>2</td>\n",
       "      <td>68</td>\n",
       "      <td>16</td>\n",
       "      <td>0</td>\n",
       "      <td>0</td>\n",
       "      <td>1</td>\n",
       "      <td>0</td>\n",
       "      <td>1</td>\n",
       "      <td>1</td>\n",
       "    </tr>\n",
       "  </tbody>\n",
       "</table>\n",
       "</div>"
      ],
      "text/plain": [
       "    Income  Limit  Rating  Cards  Age  Education  Gender  Student  Married  \\\n",
       "0   14.891   3606     283      2   34         11       0        0        1   \n",
       "1  106.025   6645     483      3   82         15       1        1        1   \n",
       "2  104.593   7075     514      4   71         11       0        0        0   \n",
       "3  148.924   9504     681      3   36         11       1        0        0   \n",
       "4   55.882   4897     357      2   68         16       0        0        1   \n",
       "\n",
       "   Asian  Caucasian  intercept  \n",
       "0      0          1          1  \n",
       "1      1          0          1  \n",
       "2      1          0          1  \n",
       "3      1          0          1  \n",
       "4      0          1          1  "
      ]
     },
     "execution_count": 6,
     "metadata": {},
     "output_type": "execute_result"
    }
   ],
   "source": [
    "# get y and X\n",
    "y=df['Balance'] # y\n",
    "X=df.loc[:,~df.columns.str.contains('Balance')] # X\n",
    "X['intercept']=1\n",
    "X.head()"
   ]
  },
  {
   "cell_type": "markdown",
   "id": "ceb6a1ea",
   "metadata": {
    "slideshow": {
     "slide_type": "slide"
    }
   },
   "source": [
    "$\\mathscr{M}_1$"
   ]
  },
  {
   "cell_type": "code",
   "execution_count": 40,
   "id": "a9adc523",
   "metadata": {},
   "outputs": [
    {
     "name": "stdout",
     "output_type": "stream",
     "text": [
      "      Income  Limit\n",
      "0     14.891   3606\n",
      "1    106.025   6645\n",
      "2    104.593   7075\n",
      "3    148.924   9504\n",
      "4     55.882   4897\n",
      "..       ...    ...\n",
      "395   12.096   4100\n",
      "396   13.364   3838\n",
      "397   57.872   4171\n",
      "398   37.728   2525\n",
      "399   18.701   5524\n",
      "\n",
      "[400 rows x 2 columns]\n",
      "      Income  Rating\n",
      "0     14.891     283\n",
      "1    106.025     483\n",
      "2    104.593     514\n",
      "3    148.924     681\n",
      "4     55.882     357\n",
      "..       ...     ...\n",
      "395   12.096     307\n",
      "396   13.364     296\n",
      "397   57.872     321\n",
      "398   37.728     192\n",
      "399   18.701     415\n",
      "\n",
      "[400 rows x 2 columns]\n",
      "      Income  Cards\n",
      "0     14.891      2\n",
      "1    106.025      3\n",
      "2    104.593      4\n",
      "3    148.924      3\n",
      "4     55.882      2\n",
      "..       ...    ...\n",
      "395   12.096      3\n",
      "396   13.364      5\n",
      "397   57.872      5\n",
      "398   37.728      1\n",
      "399   18.701      5\n",
      "\n",
      "[400 rows x 2 columns]\n",
      "      Income  Age\n",
      "0     14.891   34\n",
      "1    106.025   82\n",
      "2    104.593   71\n",
      "3    148.924   36\n",
      "4     55.882   68\n",
      "..       ...  ...\n",
      "395   12.096   32\n",
      "396   13.364   65\n",
      "397   57.872   67\n",
      "398   37.728   44\n",
      "399   18.701   64\n",
      "\n",
      "[400 rows x 2 columns]\n",
      "      Income  Education\n",
      "0     14.891         11\n",
      "1    106.025         15\n",
      "2    104.593         11\n",
      "3    148.924         11\n",
      "4     55.882         16\n",
      "..       ...        ...\n",
      "395   12.096         13\n",
      "396   13.364         17\n",
      "397   57.872         12\n",
      "398   37.728         13\n",
      "399   18.701          7\n",
      "\n",
      "[400 rows x 2 columns]\n",
      "      Income  Gender\n",
      "0     14.891       0\n",
      "1    106.025       1\n",
      "2    104.593       0\n",
      "3    148.924       1\n",
      "4     55.882       0\n",
      "..       ...     ...\n",
      "395   12.096       0\n",
      "396   13.364       0\n",
      "397   57.872       1\n",
      "398   37.728       0\n",
      "399   18.701       1\n",
      "\n",
      "[400 rows x 2 columns]\n",
      "     Limit   Income\n",
      "0     3606   14.891\n",
      "1     6645  106.025\n",
      "2     7075  104.593\n",
      "3     9504  148.924\n",
      "4     4897   55.882\n",
      "..     ...      ...\n",
      "395   4100   12.096\n",
      "396   3838   13.364\n",
      "397   4171   57.872\n",
      "398   2525   37.728\n",
      "399   5524   18.701\n",
      "\n",
      "[400 rows x 2 columns]\n",
      "     Limit  Rating\n",
      "0     3606     283\n",
      "1     6645     483\n",
      "2     7075     514\n",
      "3     9504     681\n",
      "4     4897     357\n",
      "..     ...     ...\n",
      "395   4100     307\n",
      "396   3838     296\n",
      "397   4171     321\n",
      "398   2525     192\n",
      "399   5524     415\n",
      "\n",
      "[400 rows x 2 columns]\n",
      "     Limit  Cards\n",
      "0     3606      2\n",
      "1     6645      3\n",
      "2     7075      4\n",
      "3     9504      3\n",
      "4     4897      2\n",
      "..     ...    ...\n",
      "395   4100      3\n",
      "396   3838      5\n",
      "397   4171      5\n",
      "398   2525      1\n",
      "399   5524      5\n",
      "\n",
      "[400 rows x 2 columns]\n",
      "     Limit  Age\n",
      "0     3606   34\n",
      "1     6645   82\n",
      "2     7075   71\n",
      "3     9504   36\n",
      "4     4897   68\n",
      "..     ...  ...\n",
      "395   4100   32\n",
      "396   3838   65\n",
      "397   4171   67\n",
      "398   2525   44\n",
      "399   5524   64\n",
      "\n",
      "[400 rows x 2 columns]\n",
      "     Limit  Education\n",
      "0     3606         11\n",
      "1     6645         15\n",
      "2     7075         11\n",
      "3     9504         11\n",
      "4     4897         16\n",
      "..     ...        ...\n",
      "395   4100         13\n",
      "396   3838         17\n",
      "397   4171         12\n",
      "398   2525         13\n",
      "399   5524          7\n",
      "\n",
      "[400 rows x 2 columns]\n",
      "     Limit  Gender\n",
      "0     3606       0\n",
      "1     6645       1\n",
      "2     7075       0\n",
      "3     9504       1\n",
      "4     4897       0\n",
      "..     ...     ...\n",
      "395   4100       0\n",
      "396   3838       0\n",
      "397   4171       1\n",
      "398   2525       0\n",
      "399   5524       1\n",
      "\n",
      "[400 rows x 2 columns]\n",
      "     Rating   Income\n",
      "0       283   14.891\n",
      "1       483  106.025\n",
      "2       514  104.593\n",
      "3       681  148.924\n",
      "4       357   55.882\n",
      "..      ...      ...\n",
      "395     307   12.096\n",
      "396     296   13.364\n",
      "397     321   57.872\n",
      "398     192   37.728\n",
      "399     415   18.701\n",
      "\n",
      "[400 rows x 2 columns]\n",
      "     Rating  Limit\n",
      "0       283   3606\n",
      "1       483   6645\n",
      "2       514   7075\n",
      "3       681   9504\n",
      "4       357   4897\n",
      "..      ...    ...\n",
      "395     307   4100\n",
      "396     296   3838\n",
      "397     321   4171\n",
      "398     192   2525\n",
      "399     415   5524\n",
      "\n",
      "[400 rows x 2 columns]\n",
      "     Rating  Cards\n",
      "0       283      2\n",
      "1       483      3\n",
      "2       514      4\n",
      "3       681      3\n",
      "4       357      2\n",
      "..      ...    ...\n",
      "395     307      3\n",
      "396     296      5\n",
      "397     321      5\n",
      "398     192      1\n",
      "399     415      5\n",
      "\n",
      "[400 rows x 2 columns]\n",
      "     Rating  Age\n",
      "0       283   34\n",
      "1       483   82\n",
      "2       514   71\n",
      "3       681   36\n",
      "4       357   68\n",
      "..      ...  ...\n",
      "395     307   32\n",
      "396     296   65\n",
      "397     321   67\n",
      "398     192   44\n",
      "399     415   64\n",
      "\n",
      "[400 rows x 2 columns]\n",
      "     Rating  Education\n",
      "0       283         11\n",
      "1       483         15\n",
      "2       514         11\n",
      "3       681         11\n",
      "4       357         16\n",
      "..      ...        ...\n",
      "395     307         13\n",
      "396     296         17\n",
      "397     321         12\n",
      "398     192         13\n",
      "399     415          7\n",
      "\n",
      "[400 rows x 2 columns]\n",
      "     Rating  Gender\n",
      "0       283       0\n",
      "1       483       1\n",
      "2       514       0\n",
      "3       681       1\n",
      "4       357       0\n",
      "..      ...     ...\n",
      "395     307       0\n",
      "396     296       0\n",
      "397     321       1\n",
      "398     192       0\n",
      "399     415       1\n",
      "\n",
      "[400 rows x 2 columns]\n",
      "     Cards   Income\n",
      "0        2   14.891\n",
      "1        3  106.025\n",
      "2        4  104.593\n",
      "3        3  148.924\n",
      "4        2   55.882\n",
      "..     ...      ...\n",
      "395      3   12.096\n",
      "396      5   13.364\n",
      "397      5   57.872\n",
      "398      1   37.728\n",
      "399      5   18.701\n",
      "\n",
      "[400 rows x 2 columns]\n",
      "     Cards  Limit\n",
      "0        2   3606\n",
      "1        3   6645\n",
      "2        4   7075\n",
      "3        3   9504\n",
      "4        2   4897\n",
      "..     ...    ...\n",
      "395      3   4100\n",
      "396      5   3838\n",
      "397      5   4171\n",
      "398      1   2525\n",
      "399      5   5524\n",
      "\n",
      "[400 rows x 2 columns]\n",
      "     Cards  Rating\n",
      "0        2     283\n",
      "1        3     483\n",
      "2        4     514\n",
      "3        3     681\n",
      "4        2     357\n",
      "..     ...     ...\n",
      "395      3     307\n",
      "396      5     296\n",
      "397      5     321\n",
      "398      1     192\n",
      "399      5     415\n",
      "\n",
      "[400 rows x 2 columns]\n",
      "     Cards  Age\n",
      "0        2   34\n",
      "1        3   82\n",
      "2        4   71\n",
      "3        3   36\n",
      "4        2   68\n",
      "..     ...  ...\n",
      "395      3   32\n",
      "396      5   65\n",
      "397      5   67\n",
      "398      1   44\n",
      "399      5   64\n",
      "\n",
      "[400 rows x 2 columns]\n",
      "     Cards  Education\n",
      "0        2         11\n",
      "1        3         15\n",
      "2        4         11\n",
      "3        3         11\n",
      "4        2         16\n",
      "..     ...        ...\n",
      "395      3         13\n",
      "396      5         17\n",
      "397      5         12\n",
      "398      1         13\n",
      "399      5          7\n",
      "\n",
      "[400 rows x 2 columns]\n",
      "     Cards  Gender\n",
      "0        2       0\n",
      "1        3       1\n",
      "2        4       0\n",
      "3        3       1\n",
      "4        2       0\n",
      "..     ...     ...\n",
      "395      3       0\n",
      "396      5       0\n",
      "397      5       1\n",
      "398      1       0\n",
      "399      5       1\n",
      "\n",
      "[400 rows x 2 columns]\n",
      "     Age   Income\n",
      "0     34   14.891\n",
      "1     82  106.025\n",
      "2     71  104.593\n",
      "3     36  148.924\n",
      "4     68   55.882\n",
      "..   ...      ...\n",
      "395   32   12.096\n",
      "396   65   13.364\n",
      "397   67   57.872\n",
      "398   44   37.728\n",
      "399   64   18.701\n",
      "\n",
      "[400 rows x 2 columns]\n",
      "     Age  Limit\n",
      "0     34   3606\n",
      "1     82   6645\n",
      "2     71   7075\n",
      "3     36   9504\n",
      "4     68   4897\n",
      "..   ...    ...\n",
      "395   32   4100\n",
      "396   65   3838\n",
      "397   67   4171\n",
      "398   44   2525\n",
      "399   64   5524\n",
      "\n",
      "[400 rows x 2 columns]\n",
      "     Age  Rating\n",
      "0     34     283\n",
      "1     82     483\n",
      "2     71     514\n",
      "3     36     681\n",
      "4     68     357\n",
      "..   ...     ...\n",
      "395   32     307\n",
      "396   65     296\n",
      "397   67     321\n",
      "398   44     192\n",
      "399   64     415\n",
      "\n",
      "[400 rows x 2 columns]\n",
      "     Age  Cards\n",
      "0     34      2\n",
      "1     82      3\n",
      "2     71      4\n",
      "3     36      3\n",
      "4     68      2\n",
      "..   ...    ...\n",
      "395   32      3\n",
      "396   65      5\n",
      "397   67      5\n",
      "398   44      1\n",
      "399   64      5\n",
      "\n",
      "[400 rows x 2 columns]\n",
      "     Age  Education\n",
      "0     34         11\n",
      "1     82         15\n",
      "2     71         11\n",
      "3     36         11\n",
      "4     68         16\n",
      "..   ...        ...\n",
      "395   32         13\n",
      "396   65         17\n",
      "397   67         12\n",
      "398   44         13\n",
      "399   64          7\n",
      "\n",
      "[400 rows x 2 columns]\n",
      "     Age  Gender\n",
      "0     34       0\n",
      "1     82       1\n",
      "2     71       0\n",
      "3     36       1\n",
      "4     68       0\n",
      "..   ...     ...\n",
      "395   32       0\n",
      "396   65       0\n",
      "397   67       1\n",
      "398   44       0\n",
      "399   64       1\n",
      "\n",
      "[400 rows x 2 columns]\n",
      "     Education   Income\n",
      "0           11   14.891\n",
      "1           15  106.025\n",
      "2           11  104.593\n",
      "3           11  148.924\n",
      "4           16   55.882\n",
      "..         ...      ...\n",
      "395         13   12.096\n",
      "396         17   13.364\n",
      "397         12   57.872\n",
      "398         13   37.728\n",
      "399          7   18.701\n",
      "\n",
      "[400 rows x 2 columns]\n",
      "     Education  Limit\n",
      "0           11   3606\n",
      "1           15   6645\n",
      "2           11   7075\n",
      "3           11   9504\n",
      "4           16   4897\n",
      "..         ...    ...\n",
      "395         13   4100\n",
      "396         17   3838\n",
      "397         12   4171\n",
      "398         13   2525\n",
      "399          7   5524\n",
      "\n",
      "[400 rows x 2 columns]\n"
     ]
    },
    {
     "name": "stdout",
     "output_type": "stream",
     "text": [
      "     Education  Rating\n",
      "0           11     283\n",
      "1           15     483\n",
      "2           11     514\n",
      "3           11     681\n",
      "4           16     357\n",
      "..         ...     ...\n",
      "395         13     307\n",
      "396         17     296\n",
      "397         12     321\n",
      "398         13     192\n",
      "399          7     415\n",
      "\n",
      "[400 rows x 2 columns]\n",
      "     Education  Cards\n",
      "0           11      2\n",
      "1           15      3\n",
      "2           11      4\n",
      "3           11      3\n",
      "4           16      2\n",
      "..         ...    ...\n",
      "395         13      3\n",
      "396         17      5\n",
      "397         12      5\n",
      "398         13      1\n",
      "399          7      5\n",
      "\n",
      "[400 rows x 2 columns]\n",
      "     Education  Age\n",
      "0           11   34\n",
      "1           15   82\n",
      "2           11   71\n",
      "3           11   36\n",
      "4           16   68\n",
      "..         ...  ...\n",
      "395         13   32\n",
      "396         17   65\n",
      "397         12   67\n",
      "398         13   44\n",
      "399          7   64\n",
      "\n",
      "[400 rows x 2 columns]\n",
      "     Education  Gender\n",
      "0           11       0\n",
      "1           15       1\n",
      "2           11       0\n",
      "3           11       1\n",
      "4           16       0\n",
      "..         ...     ...\n",
      "395         13       0\n",
      "396         17       0\n",
      "397         12       1\n",
      "398         13       0\n",
      "399          7       1\n",
      "\n",
      "[400 rows x 2 columns]\n",
      "     Gender   Income\n",
      "0         0   14.891\n",
      "1         1  106.025\n",
      "2         0  104.593\n",
      "3         1  148.924\n",
      "4         0   55.882\n",
      "..      ...      ...\n",
      "395       0   12.096\n",
      "396       0   13.364\n",
      "397       1   57.872\n",
      "398       0   37.728\n",
      "399       1   18.701\n",
      "\n",
      "[400 rows x 2 columns]\n",
      "     Gender  Limit\n",
      "0         0   3606\n",
      "1         1   6645\n",
      "2         0   7075\n",
      "3         1   9504\n",
      "4         0   4897\n",
      "..      ...    ...\n",
      "395       0   4100\n",
      "396       0   3838\n",
      "397       1   4171\n",
      "398       0   2525\n",
      "399       1   5524\n",
      "\n",
      "[400 rows x 2 columns]\n",
      "     Gender  Rating\n",
      "0         0     283\n",
      "1         1     483\n",
      "2         0     514\n",
      "3         1     681\n",
      "4         0     357\n",
      "..      ...     ...\n",
      "395       0     307\n",
      "396       0     296\n",
      "397       1     321\n",
      "398       0     192\n",
      "399       1     415\n",
      "\n",
      "[400 rows x 2 columns]\n",
      "     Gender  Cards\n",
      "0         0      2\n",
      "1         1      3\n",
      "2         0      4\n",
      "3         1      3\n",
      "4         0      2\n",
      "..      ...    ...\n",
      "395       0      3\n",
      "396       0      5\n",
      "397       1      5\n",
      "398       0      1\n",
      "399       1      5\n",
      "\n",
      "[400 rows x 2 columns]\n",
      "     Gender  Age\n",
      "0         0   34\n",
      "1         1   82\n",
      "2         0   71\n",
      "3         1   36\n",
      "4         0   68\n",
      "..      ...  ...\n",
      "395       0   32\n",
      "396       0   65\n",
      "397       1   67\n",
      "398       0   44\n",
      "399       1   64\n",
      "\n",
      "[400 rows x 2 columns]\n",
      "     Gender  Education\n",
      "0         0         11\n",
      "1         1         15\n",
      "2         0         11\n",
      "3         1         11\n",
      "4         0         16\n",
      "..      ...        ...\n",
      "395       0         13\n",
      "396       0         17\n",
      "397       1         12\n",
      "398       0         13\n",
      "399       1          7\n",
      "\n",
      "[400 rows x 2 columns]\n"
     ]
    }
   ],
   "source": [
    "for k in permutations(list(range(X.shape[1]-1)), 2):\n",
    "    print(df.iloc[:,list(k)])"
   ]
  },
  {
   "cell_type": "code",
   "execution_count": 7,
   "id": "63824577",
   "metadata": {
    "slideshow": {
     "slide_type": "slide"
    }
   },
   "outputs": [
    {
     "name": "stdout",
     "output_type": "stream",
     "text": [
      "R² for predictor Income is 0.622637\n",
      "R² for predictor Limit is 0.858626\n",
      "R² for predictor Rating is 0.845239\n",
      "R² for predictor Cards is 0.506125\n",
      "R² for predictor Age is 0.516919\n",
      "R² for predictor Education is 0.533170\n",
      "R² for predictor Gender is 0.385951\n",
      "R² for predictor Student is 0.370826\n",
      "R² for predictor Married is 0.400392\n",
      "R² for predictor Asian is 0.416977\n",
      "\n",
      "Best predictor for M1 is: Limit with 0.859.\n"
     ]
    }
   ],
   "source": [
    "# initiate empty list to store R2\n",
    "R2= 0\n",
    "best_predictor=\"none\"\n",
    "X=df.loc[:,~df.columns.str.contains('Balance')]\n",
    "y=df.loc[:,df.columns.str.contains('Balance')]\n",
    "\n",
    "# for each predictor in X\n",
    "for k in range(X.shape[1]-1): # minus 1 because last column is intercept\n",
    "    results = sm.OLS(y, X.iloc[:,[k,-1]]).fit() # fit predictor in position p and intercept (in last position, -1)\n",
    "    print(f\"R\\u00b2 for predictor {X.columns[k]} is {round(results.rsquared,6):f}\")\n",
    "    if results.rsquared>R2:\n",
    "        R2=results.rsquared ; best_predictor=X.columns[k]\n",
    "print(\"\\nBest predictor for M1 is: {} with {}.\".format(best_predictor,round(R2,3)))"
   ]
  },
  {
   "cell_type": "code",
   "execution_count": 18,
   "id": "c9dbdc78",
   "metadata": {
    "slideshow": {
     "slide_type": "slide"
    }
   },
   "outputs": [
    {
     "name": "stdout",
     "output_type": "stream",
     "text": [
      "Best predictor for M0 is:  with 0.853.\n",
      "Best predictor for M1 is: Income with 0.887.\n",
      "Best predictor for M2 is: Income, Education with 0.93.\n",
      "Best predictor for M3 is: Income, Education, Student with 0.963.\n",
      "Best predictor for M4 is: Income, Age, Education, Student with 0.969.\n",
      "Best predictor for M5 is: Income, Age, Education, Gender, Student with 0.969.\n",
      "Best predictor for M6 is: Income, Age, Education, Gender, Student, Married with 0.97.\n",
      "Best predictor for M7 is: Income, Rating, Cards, Age, Education, Gender, Student with 0.97.\n"
     ]
    },
    {
     "data": {
      "text/html": [
       "<div>\n",
       "<style scoped>\n",
       "    .dataframe tbody tr th:only-of-type {\n",
       "        vertical-align: middle;\n",
       "    }\n",
       "\n",
       "    .dataframe tbody tr th {\n",
       "        vertical-align: top;\n",
       "    }\n",
       "\n",
       "    .dataframe thead th {\n",
       "        text-align: right;\n",
       "    }\n",
       "</style>\n",
       "<table border=\"1\" class=\"dataframe\">\n",
       "  <thead>\n",
       "    <tr style=\"text-align: right;\">\n",
       "      <th></th>\n",
       "      <th>R2</th>\n",
       "      <th>Adjusted R2</th>\n",
       "      <th>AIC</th>\n",
       "      <th>BIC</th>\n",
       "      <th>Predictors</th>\n",
       "      <th>model</th>\n",
       "    </tr>\n",
       "  </thead>\n",
       "  <tbody>\n",
       "    <tr>\n",
       "      <th>0</th>\n",
       "      <td>0.853070</td>\n",
       "      <td>0.852701</td>\n",
       "      <td>5603.701685</td>\n",
       "      <td>5607.693150</td>\n",
       "      <td>0</td>\n",
       "      <td>Limit</td>\n",
       "    </tr>\n",
       "    <tr>\n",
       "      <th>0</th>\n",
       "      <td>0.887830</td>\n",
       "      <td>0.887266</td>\n",
       "      <td>5497.724000</td>\n",
       "      <td>5505.706929</td>\n",
       "      <td>1</td>\n",
       "      <td>Income,Limit</td>\n",
       "    </tr>\n",
       "    <tr>\n",
       "      <th>1</th>\n",
       "      <td>0.853070</td>\n",
       "      <td>0.852701</td>\n",
       "      <td>5603.701685</td>\n",
       "      <td>5607.693150</td>\n",
       "      <td>1</td>\n",
       "      <td>Limit,Limit</td>\n",
       "    </tr>\n",
       "    <tr>\n",
       "      <th>2</th>\n",
       "      <td>0.869180</td>\n",
       "      <td>0.868523</td>\n",
       "      <td>5559.246315</td>\n",
       "      <td>5567.229245</td>\n",
       "      <td>1</td>\n",
       "      <td>Rating,Limit</td>\n",
       "    </tr>\n",
       "    <tr>\n",
       "      <th>3</th>\n",
       "      <td>0.860941</td>\n",
       "      <td>0.860242</td>\n",
       "      <td>5583.678290</td>\n",
       "      <td>5591.661219</td>\n",
       "      <td>1</td>\n",
       "      <td>Cards,Limit</td>\n",
       "    </tr>\n",
       "  </tbody>\n",
       "</table>\n",
       "</div>"
      ],
      "text/plain": [
       "         R2  Adjusted R2          AIC          BIC  Predictors         model\n",
       "0  0.853070     0.852701  5603.701685  5607.693150           0         Limit\n",
       "0  0.887830     0.887266  5497.724000  5505.706929           1  Income,Limit\n",
       "1  0.853070     0.852701  5603.701685  5607.693150           1   Limit,Limit\n",
       "2  0.869180     0.868523  5559.246315  5567.229245           1  Rating,Limit\n",
       "3  0.860941     0.860242  5583.678290  5591.661219           1   Cards,Limit"
      ]
     },
     "execution_count": 18,
     "metadata": {},
     "output_type": "execute_result"
    }
   ],
   "source": [
    "DFs=[]\n",
    "#for p in range(X.shape[1]): # uncomment here if you want to do it for all RUN AT YOUR OWN RISK\n",
    "for p in range(8):\n",
    "    R2=0\n",
    "    best_predictor=\"none\"\n",
    "    R2_list=[]; adj_R2_list=[] ; aic=[] ; bic=[] ; models=[]\n",
    "    for k in permutations(list(range(X.shape[1]-1)), p):\n",
    "        model=list(k)\n",
    "        model.append(1)\n",
    "\n",
    "        results = sm.OLS(y, X.iloc[:,model]).fit() # fit predictors from model\n",
    "        # append statistics to list\n",
    "        R2_list.append(results.rsquared) ; adj_R2_list.append(results.rsquared_adj) \n",
    "        aic.append(results.aic); bic.append(results.bic) ; models.append(','.join(X.columns[model]))\n",
    "\n",
    "        if results.rsquared_adj>R2:\n",
    "            model.pop(-1)\n",
    "            mm=model\n",
    "            R2=results.rsquared_adj \n",
    "    \n",
    "    print(\"Best predictor for M{} is: {} with {}.\".format(p,', '.join(X.columns[mm]),round(R2,3)))\n",
    "    DFs.append(pd.DataFrame(data={'R2':R2_list,'Adjusted R2':adj_R2_list, \"AIC\":aic, \"BIC\":bic,'Predictors':p,'model':models}))\n",
    "\n",
    "    \n",
    "dd=pd.concat(DFs)\n",
    "dd.head()"
   ]
  },
  {
   "cell_type": "markdown",
   "id": "4bb224b9",
   "metadata": {
    "slideshow": {
     "slide_type": "slide"
    }
   },
   "source": [
    "## Computational challenge\n",
    "- Best subset selection is a simple and conceptually appealing \n",
    "- But the number of possible models that must be considered grows rapidly as p increases. \n",
    "- In general, there are 2p models that involve subsets of p predictors. \n",
    "    - So if p = 10, then there are approximately 1,000 possible models to be considered!\n",
    "    - So if p = 20, then there are more than 1,000,000 possible models to be considered!!!"
   ]
  },
  {
   "cell_type": "markdown",
   "id": "09bd909f",
   "metadata": {
    "slideshow": {
     "slide_type": "slide"
    }
   },
   "source": [
    "![title](credit_10predictors.png)"
   ]
  },
  {
   "cell_type": "code",
   "execution_count": 30,
   "id": "b28e3418",
   "metadata": {
    "slideshow": {
     "slide_type": "slide"
    }
   },
   "outputs": [
    {
     "data": {
      "text/html": [
       "<div>\n",
       "<style scoped>\n",
       "    .dataframe tbody tr th:only-of-type {\n",
       "        vertical-align: middle;\n",
       "    }\n",
       "\n",
       "    .dataframe tbody tr th {\n",
       "        vertical-align: top;\n",
       "    }\n",
       "\n",
       "    .dataframe thead th {\n",
       "        text-align: right;\n",
       "    }\n",
       "</style>\n",
       "<table border=\"1\" class=\"dataframe\">\n",
       "  <thead>\n",
       "    <tr style=\"text-align: right;\">\n",
       "      <th></th>\n",
       "      <th>Predictors</th>\n",
       "      <th>R2</th>\n",
       "      <th>Adjusted R2</th>\n",
       "      <th>AIC</th>\n",
       "      <th>BIC</th>\n",
       "    </tr>\n",
       "  </thead>\n",
       "  <tbody>\n",
       "    <tr>\n",
       "      <th>0</th>\n",
       "      <td>0</td>\n",
       "      <td>0.853070</td>\n",
       "      <td>0.852701</td>\n",
       "      <td>5603.701685</td>\n",
       "      <td>5607.693150</td>\n",
       "    </tr>\n",
       "    <tr>\n",
       "      <th>1</th>\n",
       "      <td>1</td>\n",
       "      <td>0.887830</td>\n",
       "      <td>0.887266</td>\n",
       "      <td>5497.724000</td>\n",
       "      <td>5505.706929</td>\n",
       "    </tr>\n",
       "    <tr>\n",
       "      <th>2</th>\n",
       "      <td>2</td>\n",
       "      <td>0.930029</td>\n",
       "      <td>0.929500</td>\n",
       "      <td>5310.951656</td>\n",
       "      <td>5322.926050</td>\n",
       "    </tr>\n",
       "    <tr>\n",
       "      <th>3</th>\n",
       "      <td>3</td>\n",
       "      <td>0.963672</td>\n",
       "      <td>0.963305</td>\n",
       "      <td>5050.754329</td>\n",
       "      <td>5066.720187</td>\n",
       "    </tr>\n",
       "    <tr>\n",
       "      <th>4</th>\n",
       "      <td>4</td>\n",
       "      <td>0.969163</td>\n",
       "      <td>0.968773</td>\n",
       "      <td>4987.198802</td>\n",
       "      <td>5007.156125</td>\n",
       "    </tr>\n",
       "    <tr>\n",
       "      <th>5</th>\n",
       "      <td>5</td>\n",
       "      <td>0.969738</td>\n",
       "      <td>0.969277</td>\n",
       "      <td>4981.673448</td>\n",
       "      <td>5005.622236</td>\n",
       "    </tr>\n",
       "    <tr>\n",
       "      <th>6</th>\n",
       "      <td>6</td>\n",
       "      <td>0.970217</td>\n",
       "      <td>0.969686</td>\n",
       "      <td>4977.299204</td>\n",
       "      <td>5005.239456</td>\n",
       "    </tr>\n",
       "    <tr>\n",
       "      <th>7</th>\n",
       "      <td>7</td>\n",
       "      <td>0.970494</td>\n",
       "      <td>0.969892</td>\n",
       "      <td>4975.549758</td>\n",
       "      <td>5005.239456</td>\n",
       "    </tr>\n",
       "  </tbody>\n",
       "</table>\n",
       "</div>"
      ],
      "text/plain": [
       "   Predictors        R2  Adjusted R2          AIC          BIC\n",
       "0           0  0.853070     0.852701  5603.701685  5607.693150\n",
       "1           1  0.887830     0.887266  5497.724000  5505.706929\n",
       "2           2  0.930029     0.929500  5310.951656  5322.926050\n",
       "3           3  0.963672     0.963305  5050.754329  5066.720187\n",
       "4           4  0.969163     0.968773  4987.198802  5007.156125\n",
       "5           5  0.969738     0.969277  4981.673448  5005.622236\n",
       "6           6  0.970217     0.969686  4977.299204  5005.239456\n",
       "7           7  0.970494     0.969892  4975.549758  5005.239456"
      ]
     },
     "execution_count": 30,
     "metadata": {},
     "output_type": "execute_result"
    }
   ],
   "source": [
    "dd_best=dd.groupby(['Predictors']).agg({\"R2\":np.max, \"Adjusted R2\":np.max, \"AIC\":np.min, \"BIC\":np.min}).reset_index()\n",
    "dd_best"
   ]
  },
  {
   "cell_type": "markdown",
   "id": "123a73ab",
   "metadata": {
    "slideshow": {
     "slide_type": "slide"
    }
   },
   "source": [
    "## Akaike information criterion (AIC)\n",
    "\n",
    "- The AIC criterion is defined for a large class of models fit by maximum likelihood. \n",
    "    - Recall that OLS regressions are a subset of maximum likelihood\n",
    "- For a fitted least squares model containing p predictors\n",
    "$$\\large \\text{AIC}=\\frac{1}{n\\hat{\\sigma}^2}(\\text{RSS} + 2p\\hat{\\sigma}^2)$$\n",
    "- Also, recall that MSE is defined as $\\frac{1}{n} \\text{RSS}$"
   ]
  },
  {
   "cell_type": "markdown",
   "id": "6dfdb940",
   "metadata": {
    "slideshow": {
     "slide_type": "slide"
    }
   },
   "source": [
    "## Akaike information criterion (AIC), continued\n",
    "- $\\hat{\\sigma}^2$ is an estimate of the variance of the error $\\varepsilon$ associated with each response measurement \n",
    "- $2p\\hat{\\sigma}^2$  is a statistical penalty on the training RSS\n",
    "    - In order to account for the fact that training error tends to underestimate the test error\n",
    "    - The penalty increases with the number of predictors $p$ to adjust for the corresponding decrease in training RSS\n",
    "- Smaller values of AIC indicates better fit"
   ]
  },
  {
   "cell_type": "markdown",
   "id": "595282d1",
   "metadata": {
    "slideshow": {
     "slide_type": "slide"
    }
   },
   "source": [
    "## Bayesian information criterion (BIC)\n",
    "$$\\large \\text{BIC}=\\frac{1}{n\\hat{\\sigma}^2}(\\text{RSS} + \\log(n)p\\hat{\\sigma}^2)$$\n",
    "- $n$ represents the number of observations\n",
    "- Notice that BIC replaces the $2p\\hat{\\sigma}^2$ used by AIC with a $\\log(n)p\\hat{\\sigma}^2$\n",
    "term, where n is the number of observations\n",
    "- Since $\\log(n) > 2$ for any n > 7, the BIC statistic generally places a heavier penalty on models with many variables compared with AIC \n",
    "- Here too, smaller values of AIC indicates better fit"
   ]
  },
  {
   "cell_type": "markdown",
   "id": "e1d0ee8d",
   "metadata": {
    "slideshow": {
     "slide_type": "slide"
    }
   },
   "source": [
    "## Adjusted $R^2$\n",
    "$$\\large \\text{Adjusted R}^2 = 1- \\frac{\\frac{\\text{RSS}}{n-p-1}}{\\frac{TSS}{n-1}}$$\n",
    "- Recall that the usual $R^2= 1- \\frac{\\text{RSS}}{\\text{TSS}}$\n",
    "- Also $n > p$ always (at least for now)\n",
    "- Since RSS always decreases as more variables are added to the model, the $R^2$ always increases as more variables are added. \n",
    "- For a least squares model with p variables, the adjusted R2 statistic is calculated as\n",
    "- Large values of adjusted $R^2$ indicate a model with small error. \n",
    "- Maximizing the adjusted $R^2$ is equivalent to minimizing $\\frac{\\text{RSS}}{n-p-1}$\n",
    "    - While RSS always decreases as the number of variables in the model increases\n",
    "    - $\\frac{\\text{RSS}}{n-p-1}$ may increase or decrease, due to the presence of p in the denominator.\n",
    "- The intuition behind the adjusted $R^2$ is that once all of the correct variables have been included in the model, adding additional noise variables"
   ]
  },
  {
   "cell_type": "code",
   "execution_count": 32,
   "id": "e00f3b60",
   "metadata": {
    "slideshow": {
     "slide_type": "slide"
    }
   },
   "outputs": [
    {
     "data": {
      "image/png": "[encoded data removed]",
      "text/plain": [
       "<Figure size 720x720 with 4 Axes>"
      ]
     },
     "metadata": {
      "needs_background": "light"
     },
     "output_type": "display_data"
    }
   ],
   "source": [
    "fig, axes = plt.subplots(2,2, figsize=(10,10),sharex=True)\n",
    "axes = axes.ravel() # access axes with a single position instead of 2\n",
    "for i, statistics in enumerate(['R2',\"Adjusted R2\",\"AIC\",\"BIC\"]):\n",
    "    sns.scatterplot(x='Predictors',y=statistics,data=dd,ax=axes[i], color='gray',marker='.',alpha=.3)\n",
    "    sns.lineplot(x='Predictors',y=statistics,data=dd_best,ax=axes[i], color='darkorange')\n",
    "    sns.scatterplot(x='Predictors',y=statistics,data=dd_best,ax=axes[i], color='darkgreen')\n",
    "    axes[i].set_ylabel(statistics)\n",
    "    axes[i].set_xticks(np.arange(p+1))\n",
    "    \n",
    "fig.suptitle(\"In-Sample Statistics\")\n",
    "fig.tight_layout()\n",
    "plt.show()"
   ]
  },
  {
   "cell_type": "markdown",
   "id": "5b7e269e",
   "metadata": {
    "slideshow": {
     "slide_type": "slide"
    }
   },
   "source": [
    "### Step 3 of Best Subset Selection\n",
    "- You can think of this stage in terms of last lecture:\n",
    "    - You have many models (last time many polynomial models), one for each p\n",
    "    - But they all maximize the in sample fit\n",
    "- In step 3, you can do this based on the adjusted-$R^2$, AIC, BIC or you can use CV techniques to find the model that gives the __best out of sample prediction__"
   ]
  },
  {
   "cell_type": "code",
   "execution_count": 33,
   "id": "56be4efb",
   "metadata": {
    "slideshow": {
     "slide_type": "slide"
    }
   },
   "outputs": [
    {
     "data": {
      "text/html": [
       "<div>\n",
       "<style scoped>\n",
       "    .dataframe tbody tr th:only-of-type {\n",
       "        vertical-align: middle;\n",
       "    }\n",
       "\n",
       "    .dataframe tbody tr th {\n",
       "        vertical-align: top;\n",
       "    }\n",
       "\n",
       "    .dataframe thead th {\n",
       "        text-align: right;\n",
       "    }\n",
       "</style>\n",
       "<table border=\"1\" class=\"dataframe\">\n",
       "  <thead>\n",
       "    <tr style=\"text-align: right;\">\n",
       "      <th></th>\n",
       "      <th>Predictors</th>\n",
       "      <th>R2</th>\n",
       "      <th>Adjusted R2</th>\n",
       "      <th>AIC</th>\n",
       "      <th>BIC</th>\n",
       "      <th>model</th>\n",
       "      <th>best</th>\n",
       "    </tr>\n",
       "  </thead>\n",
       "  <tbody>\n",
       "    <tr>\n",
       "      <th>0</th>\n",
       "      <td>0</td>\n",
       "      <td>0.853070</td>\n",
       "      <td>0.852701</td>\n",
       "      <td>5603.701685</td>\n",
       "      <td>5607.693150</td>\n",
       "      <td>Limit</td>\n",
       "      <td>0.852701</td>\n",
       "    </tr>\n",
       "    <tr>\n",
       "      <th>1</th>\n",
       "      <td>1</td>\n",
       "      <td>0.887830</td>\n",
       "      <td>0.887266</td>\n",
       "      <td>5497.724000</td>\n",
       "      <td>5505.706929</td>\n",
       "      <td>Income,Limit</td>\n",
       "      <td>0.887266</td>\n",
       "    </tr>\n",
       "    <tr>\n",
       "      <th>2</th>\n",
       "      <td>2</td>\n",
       "      <td>0.930029</td>\n",
       "      <td>0.929500</td>\n",
       "      <td>5310.951656</td>\n",
       "      <td>5322.926050</td>\n",
       "      <td>Income,Education,Limit</td>\n",
       "      <td>0.929500</td>\n",
       "    </tr>\n",
       "    <tr>\n",
       "      <th>3</th>\n",
       "      <td>3</td>\n",
       "      <td>0.963672</td>\n",
       "      <td>0.963305</td>\n",
       "      <td>5050.754329</td>\n",
       "      <td>5066.720187</td>\n",
       "      <td>Income,Education,Student,Limit</td>\n",
       "      <td>0.963305</td>\n",
       "    </tr>\n",
       "    <tr>\n",
       "      <th>4</th>\n",
       "      <td>4</td>\n",
       "      <td>0.969163</td>\n",
       "      <td>0.968773</td>\n",
       "      <td>4987.198802</td>\n",
       "      <td>5007.156125</td>\n",
       "      <td>Income,Age,Education,Student,Limit</td>\n",
       "      <td>0.968773</td>\n",
       "    </tr>\n",
       "    <tr>\n",
       "      <th>5</th>\n",
       "      <td>5</td>\n",
       "      <td>0.969738</td>\n",
       "      <td>0.969277</td>\n",
       "      <td>4981.673448</td>\n",
       "      <td>5005.622236</td>\n",
       "      <td>Income,Age,Education,Gender,Student,Limit</td>\n",
       "      <td>0.969277</td>\n",
       "    </tr>\n",
       "    <tr>\n",
       "      <th>6</th>\n",
       "      <td>6</td>\n",
       "      <td>0.970217</td>\n",
       "      <td>0.969686</td>\n",
       "      <td>4977.299204</td>\n",
       "      <td>5005.239456</td>\n",
       "      <td>Income,Age,Education,Gender,Student,Married,Limit</td>\n",
       "      <td>0.969686</td>\n",
       "    </tr>\n",
       "    <tr>\n",
       "      <th>7</th>\n",
       "      <td>7</td>\n",
       "      <td>0.970494</td>\n",
       "      <td>0.969892</td>\n",
       "      <td>4975.549758</td>\n",
       "      <td>5007.481475</td>\n",
       "      <td>Income,Rating,Cards,Age,Education,Gender,Stude...</td>\n",
       "      <td>0.969892</td>\n",
       "    </tr>\n",
       "  </tbody>\n",
       "</table>\n",
       "</div>"
      ],
      "text/plain": [
       "   Predictors        R2  Adjusted R2          AIC          BIC  \\\n",
       "0           0  0.853070     0.852701  5603.701685  5607.693150   \n",
       "1           1  0.887830     0.887266  5497.724000  5505.706929   \n",
       "2           2  0.930029     0.929500  5310.951656  5322.926050   \n",
       "3           3  0.963672     0.963305  5050.754329  5066.720187   \n",
       "4           4  0.969163     0.968773  4987.198802  5007.156125   \n",
       "5           5  0.969738     0.969277  4981.673448  5005.622236   \n",
       "6           6  0.970217     0.969686  4977.299204  5005.239456   \n",
       "7           7  0.970494     0.969892  4975.549758  5007.481475   \n",
       "\n",
       "                                               model      best  \n",
       "0                                              Limit  0.852701  \n",
       "1                                       Income,Limit  0.887266  \n",
       "2                             Income,Education,Limit  0.929500  \n",
       "3                     Income,Education,Student,Limit  0.963305  \n",
       "4                 Income,Age,Education,Student,Limit  0.968773  \n",
       "5          Income,Age,Education,Gender,Student,Limit  0.969277  \n",
       "6  Income,Age,Education,Gender,Student,Married,Limit  0.969686  \n",
       "7  Income,Rating,Cards,Age,Education,Gender,Stude...  0.969892  "
      ]
     },
     "execution_count": 33,
     "metadata": {},
     "output_type": "execute_result"
    }
   ],
   "source": [
    "dd['best']=dd.groupby(['Predictors'])['Adjusted R2'].transform(np.max)\n",
    "dd_best2=dd.loc[dd['Adjusted R2']==dd['best']].groupby('Predictors').first().reset_index()\n",
    "dd_best2.head(10)"
   ]
  },
  {
   "cell_type": "code",
   "execution_count": 34,
   "id": "7ebbe4e3",
   "metadata": {
    "slideshow": {
     "slide_type": "slide"
    }
   },
   "outputs": [],
   "source": [
    "models=[\"intercept\",[\"Rating\",\"intercept\"], \n",
    "        [\"Income\",\"Rating\",\"intercept\"],\n",
    "        [\"Income\",\"Rating\",\"Student\",\"intercept\"],\n",
    "        [\"Income\",\"Limit\",\"Cards\",\"Student\",\"intercept\"],\n",
    "        [\"Income\",\"Limit\",\"Rating\",\"Cards\",\"Student\",\"intercept\"],\n",
    "        [\"Income\",\"Limit\",\"Rating\",\"Cards\",\"Age\",\"Student\",\"intercept\"],\n",
    "        [\"Income\",\"Limit\",\"Rating\",\"Cards\",\"Age\",\"Gender\",\"Student\",\"intercept\"]]"
   ]
  },
  {
   "cell_type": "code",
   "execution_count": 23,
   "id": "e867b632",
   "metadata": {},
   "outputs": [],
   "source": [
    "df['intercept']=1"
   ]
  },
  {
   "cell_type": "code",
   "execution_count": 35,
   "id": "558e38f8",
   "metadata": {
    "slideshow": {
     "slide_type": "slide"
    }
   },
   "outputs": [
    {
     "data": {
      "text/html": [
       "<div>\n",
       "<style scoped>\n",
       "    .dataframe tbody tr th:only-of-type {\n",
       "        vertical-align: middle;\n",
       "    }\n",
       "\n",
       "    .dataframe tbody tr th {\n",
       "        vertical-align: top;\n",
       "    }\n",
       "\n",
       "    .dataframe thead th {\n",
       "        text-align: right;\n",
       "    }\n",
       "</style>\n",
       "<table border=\"1\" class=\"dataframe\">\n",
       "  <thead>\n",
       "    <tr style=\"text-align: right;\">\n",
       "      <th></th>\n",
       "      <th>Predictors</th>\n",
       "      <th>MSE</th>\n",
       "    </tr>\n",
       "  </thead>\n",
       "  <tbody>\n",
       "    <tr>\n",
       "      <th>0</th>\n",
       "      <td>0</td>\n",
       "      <td>211013.906496</td>\n",
       "    </tr>\n",
       "    <tr>\n",
       "      <th>1</th>\n",
       "      <td>1</td>\n",
       "      <td>54618.341889</td>\n",
       "    </tr>\n",
       "    <tr>\n",
       "      <th>2</th>\n",
       "      <td>2</td>\n",
       "      <td>26576.027671</td>\n",
       "    </tr>\n",
       "    <tr>\n",
       "      <th>3</th>\n",
       "      <td>3</td>\n",
       "      <td>10849.538914</td>\n",
       "    </tr>\n",
       "    <tr>\n",
       "      <th>4</th>\n",
       "      <td>4</td>\n",
       "      <td>10103.583912</td>\n",
       "    </tr>\n",
       "    <tr>\n",
       "      <th>5</th>\n",
       "      <td>5</td>\n",
       "      <td>9981.065488</td>\n",
       "    </tr>\n",
       "    <tr>\n",
       "      <th>6</th>\n",
       "      <td>6</td>\n",
       "      <td>9914.381104</td>\n",
       "    </tr>\n",
       "    <tr>\n",
       "      <th>7</th>\n",
       "      <td>7</td>\n",
       "      <td>9944.810974</td>\n",
       "    </tr>\n",
       "  </tbody>\n",
       "</table>\n",
       "</div>"
      ],
      "text/plain": [
       "   Predictors            MSE\n",
       "0           0  211013.906496\n",
       "1           1   54618.341889\n",
       "2           2   26576.027671\n",
       "3           3   10849.538914\n",
       "4           4   10103.583912\n",
       "5           5    9981.065488\n",
       "6           6    9914.381104\n",
       "7           7    9944.810974"
      ]
     },
     "execution_count": 35,
     "metadata": {},
     "output_type": "execute_result"
    }
   ],
   "source": [
    "# Best number of predictors using Cross Validation\n",
    "# use best model from precedent exercise to speed up the code\n",
    "kfold=5\n",
    "DFs=[]\n",
    "kf = KFold(n_splits=kfold, random_state=1706, shuffle=True)\n",
    "\n",
    "for i,m in enumerate(models):\n",
    "    MSEs=[] # empty list of MSE scores\n",
    "    X=df[m].values\n",
    "    y=df['Balance'].values\n",
    "    for train_index, test_index in kf.split(X):\n",
    "        if i==0:\n",
    "            X_train, X_test = X[train_index].reshape(-1, 1), X[test_index].reshape(-1, 1)\n",
    "        else:\n",
    "            X_train, X_test = X[train_index], X[test_index]\n",
    "        y_train, y_test = y[train_index], y[test_index]\n",
    "        # regression\n",
    "        reg = LinearRegression() # initiate the regression class\n",
    "        reg.fit(X_train,y_train) # fit the data\n",
    "        # Out of Sample MSE:\n",
    "        mse=mean_squared_error(y_test, reg.predict(X_test))\n",
    "        MSEs.append(mse)\n",
    "    DFs.append(pd.DataFrame({'Predictors':i,'MSE':MSEs}))\n",
    "    \n",
    "MSE_scores=pd.concat(DFs)\n",
    "mse=MSE_scores.groupby('Predictors').mean().reset_index()    \n",
    "mse"
   ]
  },
  {
   "cell_type": "code",
   "execution_count": 36,
   "id": "88598f25",
   "metadata": {
    "slideshow": {
     "slide_type": "slide"
    }
   },
   "outputs": [
    {
     "data": {
      "text/html": [
       "<div>\n",
       "<style scoped>\n",
       "    .dataframe tbody tr th:only-of-type {\n",
       "        vertical-align: middle;\n",
       "    }\n",
       "\n",
       "    .dataframe tbody tr th {\n",
       "        vertical-align: top;\n",
       "    }\n",
       "\n",
       "    .dataframe thead th {\n",
       "        text-align: right;\n",
       "    }\n",
       "</style>\n",
       "<table border=\"1\" class=\"dataframe\">\n",
       "  <thead>\n",
       "    <tr style=\"text-align: right;\">\n",
       "      <th></th>\n",
       "      <th>Predictors</th>\n",
       "      <th>R2</th>\n",
       "      <th>Adjusted R2</th>\n",
       "      <th>AIC</th>\n",
       "      <th>BIC</th>\n",
       "      <th>MSE</th>\n",
       "    </tr>\n",
       "  </thead>\n",
       "  <tbody>\n",
       "    <tr>\n",
       "      <th>0</th>\n",
       "      <td>0</td>\n",
       "      <td>0.853070</td>\n",
       "      <td>0.852701</td>\n",
       "      <td>5603.701685</td>\n",
       "      <td>5607.693150</td>\n",
       "      <td>211013.906496</td>\n",
       "    </tr>\n",
       "    <tr>\n",
       "      <th>1</th>\n",
       "      <td>1</td>\n",
       "      <td>0.887830</td>\n",
       "      <td>0.887266</td>\n",
       "      <td>5497.724000</td>\n",
       "      <td>5505.706929</td>\n",
       "      <td>54618.341889</td>\n",
       "    </tr>\n",
       "    <tr>\n",
       "      <th>2</th>\n",
       "      <td>2</td>\n",
       "      <td>0.930029</td>\n",
       "      <td>0.929500</td>\n",
       "      <td>5310.951656</td>\n",
       "      <td>5322.926050</td>\n",
       "      <td>26576.027671</td>\n",
       "    </tr>\n",
       "    <tr>\n",
       "      <th>3</th>\n",
       "      <td>3</td>\n",
       "      <td>0.963672</td>\n",
       "      <td>0.963305</td>\n",
       "      <td>5050.754329</td>\n",
       "      <td>5066.720187</td>\n",
       "      <td>10849.538914</td>\n",
       "    </tr>\n",
       "    <tr>\n",
       "      <th>4</th>\n",
       "      <td>4</td>\n",
       "      <td>0.969163</td>\n",
       "      <td>0.968773</td>\n",
       "      <td>4987.198802</td>\n",
       "      <td>5007.156125</td>\n",
       "      <td>10103.583912</td>\n",
       "    </tr>\n",
       "  </tbody>\n",
       "</table>\n",
       "</div>"
      ],
      "text/plain": [
       "   Predictors        R2  Adjusted R2          AIC          BIC            MSE\n",
       "0           0  0.853070     0.852701  5603.701685  5607.693150  211013.906496\n",
       "1           1  0.887830     0.887266  5497.724000  5505.706929   54618.341889\n",
       "2           2  0.930029     0.929500  5310.951656  5322.926050   26576.027671\n",
       "3           3  0.963672     0.963305  5050.754329  5066.720187   10849.538914\n",
       "4           4  0.969163     0.968773  4987.198802  5007.156125   10103.583912"
      ]
     },
     "execution_count": 36,
     "metadata": {},
     "output_type": "execute_result"
    }
   ],
   "source": [
    "dd_best=dd_best.merge(mse, on='Predictors')\n",
    "dd_best.head()"
   ]
  },
  {
   "cell_type": "code",
   "execution_count": 37,
   "id": "e0e8eda6",
   "metadata": {
    "slideshow": {
     "slide_type": "slide"
    }
   },
   "outputs": [
    {
     "name": "stdout",
     "output_type": "stream",
     "text": [
      "Best number of parameters for\n",
      "Adjusted R-square: 7\n",
      "AIC: 7\n",
      "BIC: 6\n",
      "10-fold CV:6 \n"
     ]
    },
    {
     "data": {
      "image/png": "[encoded data removed]",
      "text/plain": [
       "<Figure size 864x864 with 4 Axes>"
      ]
     },
     "metadata": {
      "needs_background": "light"
     },
     "output_type": "display_data"
    }
   ],
   "source": [
    "# Best number of predictors for other statistics\n",
    "adj_R2_best=int(dd_best2.loc[dd_best2['Adjusted R2']==dd_best2['Adjusted R2'].max(),'Predictors'])\n",
    "aic_best=int(dd_best2.loc[dd_best2['AIC']==dd_best2['AIC'].min(),'Predictors'])\n",
    "bic_best=int(dd_best2.loc[dd_best2['BIC']==dd_best2['BIC'].min(),'Predictors'])\n",
    "mse_best=int(mse.loc[mse.MSE==mse.MSE.min(),'Predictors'])\n",
    "best_preds=[adj_R2_best,aic_best,bic_best,mse_best]\n",
    "print(f\"Best number of parameters for\\nAdjusted R-square: {adj_R2_best}\\nAIC: {aic_best}\\nBIC: {bic_best}\\n10-fold CV:{mse_best} \")\n",
    "\n",
    "fig, axes = plt.subplots(2,2, figsize=(12,12),sharex=True)\n",
    "axes = axes.ravel() # access axes with a single position instead of 2\n",
    "for i, statistics in enumerate([\"Adjusted R2\",\"AIC\",\"BIC\", \"MSE\"]):\n",
    "    sns.lineplot(x='Predictors',y=statistics,data=dd_best,ax=axes[i], color='darkorange')\n",
    "    sns.scatterplot(x='Predictors',y=statistics,data=dd_best,ax=axes[i], color='darkgreen')\n",
    "    # axes[i].axvline(best_preds[i], color='k')\n",
    "    axes[i].scatter(x=best_preds[i],y=float(dd_best.loc[best_preds[i],statistics]),marker='X',color='red',s=100)\n",
    "    axes[i].set_ylabel(statistics)\n",
    "    axes[i].set_xticks(np.arange(p+1))\n",
    "fig.suptitle(\"Best number of parameters by technique\")\n",
    "plt.show()"
   ]
  },
  {
   "cell_type": "code",
   "execution_count": 24,
   "id": "125ed51d",
   "metadata": {
    "slideshow": {
     "slide_type": "slide"
    }
   },
   "outputs": [
    {
     "name": "stdout",
     "output_type": "stream",
     "text": [
      "Best number of parameters for\n",
      "Adjusted R-square: 7\n",
      "AIC: 7\n",
      "BIC: 6\n",
      "10-fold CV:6 \n"
     ]
    },
    {
     "data": {
      "image/png": "[encoded data removed]",
      "text/plain": [
       "<Figure size 864x864 with 4 Axes>"
      ]
     },
     "metadata": {
      "needs_background": "light"
     },
     "output_type": "display_data"
    }
   ],
   "source": [
    "# Best number of predictors for other statistics\n",
    "adj_R2_best=int(dd_best2.loc[dd_best2['Adjusted R2']==dd_best2['Adjusted R2'].max(),'Predictors'])\n",
    "aic_best=int(dd_best2.loc[dd_best2['AIC']==dd_best2['AIC'].min(),'Predictors'])\n",
    "bic_best=int(dd_best2.loc[dd_best2['BIC']==dd_best2['BIC'].min(),'Predictors'])\n",
    "mse_best=int(mse.loc[mse.MSE==mse.MSE.min(),'Predictors'])\n",
    "best_preds=[adj_R2_best,aic_best,bic_best,mse_best]\n",
    "print(f\"Best number of parameters for\\nAdjusted R-square: {adj_R2_best}\\nAIC: {aic_best}\\nBIC: {bic_best}\\n10-fold CV:{mse_best} \")\n",
    "\n",
    "fig, axes = plt.subplots(2,2, figsize=(12,12),sharex=True)\n",
    "axes = axes.ravel() # access axes with a single position instead of 2\n",
    "for i, statistics in enumerate([\"Adjusted R2\",\"AIC\",\"BIC\", \"MSE\"]):\n",
    "    sns.lineplot(x='Predictors',y=statistics,data=dd_best,ax=axes[i], color='darkorange')\n",
    "    sns.scatterplot(x='Predictors',y=statistics,data=dd_best,ax=axes[i], color='darkgreen')\n",
    "    # axes[i].axvline(best_preds[i], color='k')\n",
    "    axes[i].scatter(x=best_preds[i],y=float(dd_best.loc[best_preds[i],statistics]),marker='X',color='red',s=100)\n",
    "    axes[i].set_ylabel(statistics)\n",
    "    axes[i].set_xticks(np.arange(p+1))\n",
    "fig.suptitle(\"Best number of parameters by technique\")\n",
    "plt.show()"
   ]
  },
  {
   "cell_type": "markdown",
   "id": "3ed7b375",
   "metadata": {
    "slideshow": {
     "slide_type": "slide"
    }
   },
   "source": [
    "## Solutions to computational challenge: Forward Stepwise Selection\n",
    "\n",
    "1. Let $\\mathscr{M}_0$ denote the null model, which contains no predictors.\n",
    "2. For $k = 0, \\dots , p − 1$:\n",
    "    - (a) Consider all p − k models that augment the predictors in $\\mathscr{M}_k$ with one additional predictor.\n",
    "    - (b) Choose the best among these p − k models, and call it $\\mathscr{M}_{k+1}$.\n",
    "        - Here best is defined as having smallest RSS or highest R2.\n",
    "3. Select a single best model from among $\\mathscr{M}_0$, $\\dots$ ,$\\mathscr{M}_p$ using crossvalidated prediction error, AIC, BIC, or adjusted R2."
   ]
  },
  {
   "cell_type": "markdown",
   "id": "b608797d",
   "metadata": {
    "slideshow": {
     "slide_type": "slide"
    }
   },
   "source": [
    "## Solutions to computational challenge: Backward Stepwise Selection\n",
    "\n",
    "1. Let $\\mathscr{M}_p$ denote the full model, which contains all p predictors.\n",
    "2. For $k = p, p − 1, \\dots , 1$:\n",
    "    - (a) Consider all k models that contain all but one of the predictors in $\\mathscr{M}_k$, for a total of k − 1 predictors.\n",
    "    - (b) Choose the best among these k models, and call it $\\mathscr{M}_{k-1}$. \n",
    "        - Here best is defined as having smallest RSS or highest $R^2$.\n",
    "3. Select a single best model from among $\\mathscr{M}_0, \\dots ,\\mathscr{M}_p$ using crossvalidated prediction error, AIC, BIC, or adjusted R2."
   ]
  },
  {
   "cell_type": "markdown",
   "id": "32e68f9d",
   "metadata": {
    "slideshow": {
     "slide_type": "slide"
    }
   },
   "source": [
    "## Taking Stock\n",
    "- Last week we saw the risks associated with overfitting\n",
    "- This risk increases with the number of parameters\n",
    "- Different techniques yield different types of subsets but all penalize, one way or another, having too many parameters\n",
    "- The trade-off therefore is to find the best out of sample prediction using the least number of predictors possible"
   ]
  },
  {
   "cell_type": "markdown",
   "id": "330a2d58",
   "metadata": {
    "slideshow": {
     "slide_type": "slide"
    }
   },
   "source": [
    "# Shrinkage Methods\n",
    "- Think back on the credit dataset\n",
    "- The data set has a number of predictors, which all seem reasonable\n",
    "    - All seem to be legitimate predictors of Balance\n",
    "    - There no variable irrelevant variable\n",
    "- Instead of our iterative, and long, process it would be nicer to fit all p predictors using a technique that __constrains__ or __regularizes the coefficient estimates__, or equivalently, that shrinks the coefficient estimates towards zero. \n",
    "    - Instead of cherry picking parameters we, instead, force the parameters of redundant predictors to be small or zero"
   ]
  },
  {
   "cell_type": "markdown",
   "id": "1db50684",
   "metadata": {
    "slideshow": {
     "slide_type": "slide"
    }
   },
   "source": [
    "# Ridge Regression\n",
    "- OLS regression for a model with p parameters finds that $\\beta_0, \\beta_1, ... \\beta_p$ that minimize (as you know):\n",
    "$$\\Large \\text{RSS} = \\sum_{i=1}^n \\Big(y_i - \\beta_0 - \\sum_{j=1}^p \\beta_jx_{ij}\\Big)^2$$\n"
   ]
  },
  {
   "cell_type": "markdown",
   "id": "e7a7d019",
   "metadata": {
    "slideshow": {
     "slide_type": "slide"
    }
   },
   "source": [
    "## Ridge Regression, continued\n",
    "- Ridge regression is very similar to least squares, except that the coefficients ridge are by minimizing a slightly different quantity. \n",
    "- In particular, the ridge regression coefficient estimates $\\hat{\\beta^R}$ are the values that minimize:\n",
    "\\begin{gather}\n",
    "\\Large \\sum_{i=1}^n \\Big(y_i - \\beta_0 - \\sum_{j=1}^p \\beta_jx_{ij}\\Big)^2 + \\lambda \\sum_{j=1}^p\\beta_j^2 \\\\\n",
    "= \\Large\\text{RSS} + \\lambda \\sum_{j=1}^p\\beta_j^2\n",
    "\\end{gather}\n"
   ]
  },
  {
   "cell_type": "markdown",
   "id": "8da6d176",
   "metadata": {
    "slideshow": {
     "slide_type": "slide"
    }
   },
   "source": [
    "## Ridge Regression, shrinkage\n",
    "- $\\lambda$ is known as a __tuning parameter__ that is determined outside of the minimization problem\n",
    "- As with OLS, Ridge regression seeks coefficient estimates that fit the data well (small RSS)\n",
    "- Unlike OLS, the second term $\\lambda \\sum_{j=1}^p\\beta_j^2$ is small if $\\beta_1, ..., \\beta_j$ are small ($\\beta_0$ not included!)\n",
    "    - This second term is known as a __shrinkage penalty__\n",
    "- The tuning parameter $\\lambda$ serves to control the relative impact of these two terms on the regression coefficient estimates.\n",
    "    - When $\\lambda$ = 0, the penalty term has no effect, and ridge regression = OLS\n",
    "    - $\\lambda \\to \\infty$, the impact of the shrinkage penalty grows, and the ridge regression coefficient estimates will approach zero.\n",
    "- As you will see, the optimal $\\lambda$ is given using cross validation"
   ]
  },
  {
   "cell_type": "markdown",
   "id": "78a2fd5c",
   "metadata": {
    "slideshow": {
     "slide_type": "slide"
    }
   },
   "source": [
    "## Standardization of your dataset\n",
    "- Standardization of datasets is a common requirement for many machine learning estimators implemented see this tutorial in [scikit-learn](https://scikit-learn.org/stable/modules/preprocessing.html)\n",
    "\n",
    "- You can transform the data to center it by removing the mean value of each feature, then scale it by dividing non-constant features by their standard deviation.\n",
    "\n",
    "- Models such as the Ridge regression assume that all features are centered around zero and have variance in the same order. \n",
    "- If a feature has a variance that is orders of magnitude larger than others, it might dominate the objective function and make the estimator unable to learn from other features correctly as expected.\n",
    "- In other words, in the OLS regression, multiplying X by a constant c will change $\\beta$ to $\\frac{\\beta}{c}$\n",
    "- In the Ridge regression, the $\\beta^R$ will depend not only on the value of λ, but also on the scaling of the $j^{th}$ predictor"
   ]
  },
  {
   "cell_type": "code",
   "execution_count": 41,
   "id": "45de997f",
   "metadata": {
    "slideshow": {
     "slide_type": "slide"
    }
   },
   "outputs": [
    {
     "data": {
      "text/html": [
       "<div>\n",
       "<style scoped>\n",
       "    .dataframe tbody tr th:only-of-type {\n",
       "        vertical-align: middle;\n",
       "    }\n",
       "\n",
       "    .dataframe tbody tr th {\n",
       "        vertical-align: top;\n",
       "    }\n",
       "\n",
       "    .dataframe thead th {\n",
       "        text-align: right;\n",
       "    }\n",
       "</style>\n",
       "<table border=\"1\" class=\"dataframe\">\n",
       "  <thead>\n",
       "    <tr style=\"text-align: right;\">\n",
       "      <th></th>\n",
       "      <th>Income</th>\n",
       "      <th>Limit</th>\n",
       "      <th>Rating</th>\n",
       "      <th>Cards</th>\n",
       "      <th>Age</th>\n",
       "      <th>Education</th>\n",
       "      <th>Gender</th>\n",
       "      <th>Student</th>\n",
       "      <th>Married</th>\n",
       "      <th>Balance</th>\n",
       "      <th>Asian</th>\n",
       "      <th>Caucasian</th>\n",
       "      <th>intercept</th>\n",
       "    </tr>\n",
       "  </thead>\n",
       "  <tbody>\n",
       "    <tr>\n",
       "      <th>0</th>\n",
       "      <td>14.891</td>\n",
       "      <td>3606</td>\n",
       "      <td>283</td>\n",
       "      <td>2</td>\n",
       "      <td>34</td>\n",
       "      <td>11</td>\n",
       "      <td>0</td>\n",
       "      <td>0</td>\n",
       "      <td>1</td>\n",
       "      <td>333</td>\n",
       "      <td>0</td>\n",
       "      <td>1</td>\n",
       "      <td>1</td>\n",
       "    </tr>\n",
       "    <tr>\n",
       "      <th>1</th>\n",
       "      <td>106.025</td>\n",
       "      <td>6645</td>\n",
       "      <td>483</td>\n",
       "      <td>3</td>\n",
       "      <td>82</td>\n",
       "      <td>15</td>\n",
       "      <td>1</td>\n",
       "      <td>1</td>\n",
       "      <td>1</td>\n",
       "      <td>903</td>\n",
       "      <td>1</td>\n",
       "      <td>0</td>\n",
       "      <td>1</td>\n",
       "    </tr>\n",
       "    <tr>\n",
       "      <th>2</th>\n",
       "      <td>104.593</td>\n",
       "      <td>7075</td>\n",
       "      <td>514</td>\n",
       "      <td>4</td>\n",
       "      <td>71</td>\n",
       "      <td>11</td>\n",
       "      <td>0</td>\n",
       "      <td>0</td>\n",
       "      <td>0</td>\n",
       "      <td>580</td>\n",
       "      <td>1</td>\n",
       "      <td>0</td>\n",
       "      <td>1</td>\n",
       "    </tr>\n",
       "    <tr>\n",
       "      <th>3</th>\n",
       "      <td>148.924</td>\n",
       "      <td>9504</td>\n",
       "      <td>681</td>\n",
       "      <td>3</td>\n",
       "      <td>36</td>\n",
       "      <td>11</td>\n",
       "      <td>1</td>\n",
       "      <td>0</td>\n",
       "      <td>0</td>\n",
       "      <td>964</td>\n",
       "      <td>1</td>\n",
       "      <td>0</td>\n",
       "      <td>1</td>\n",
       "    </tr>\n",
       "    <tr>\n",
       "      <th>4</th>\n",
       "      <td>55.882</td>\n",
       "      <td>4897</td>\n",
       "      <td>357</td>\n",
       "      <td>2</td>\n",
       "      <td>68</td>\n",
       "      <td>16</td>\n",
       "      <td>0</td>\n",
       "      <td>0</td>\n",
       "      <td>1</td>\n",
       "      <td>331</td>\n",
       "      <td>0</td>\n",
       "      <td>1</td>\n",
       "      <td>1</td>\n",
       "    </tr>\n",
       "  </tbody>\n",
       "</table>\n",
       "</div>"
      ],
      "text/plain": [
       "    Income  Limit  Rating  Cards  Age  Education  Gender  Student  Married  \\\n",
       "0   14.891   3606     283      2   34         11       0        0        1   \n",
       "1  106.025   6645     483      3   82         15       1        1        1   \n",
       "2  104.593   7075     514      4   71         11       0        0        0   \n",
       "3  148.924   9504     681      3   36         11       1        0        0   \n",
       "4   55.882   4897     357      2   68         16       0        0        1   \n",
       "\n",
       "   Balance  Asian  Caucasian  intercept  \n",
       "0      333      0          1          1  \n",
       "1      903      1          0          1  \n",
       "2      580      1          0          1  \n",
       "3      964      1          0          1  \n",
       "4      331      0          1          1  "
      ]
     },
     "execution_count": 41,
     "metadata": {},
     "output_type": "execute_result"
    }
   ],
   "source": [
    "df.head()"
   ]
  },
  {
   "cell_type": "code",
   "execution_count": 16,
   "id": "9742704d",
   "metadata": {
    "slideshow": {
     "slide_type": "slide"
    }
   },
   "outputs": [
    {
     "data": {
      "text/plain": [
       "(array([ 1.79856130e-16, -1.59872116e-16,  1.55431223e-17, -5.77315973e-17,\n",
       "        -1.27675648e-17,  1.77635684e-16,  2.08721929e-16,  4.44089210e-17,\n",
       "        -2.66453526e-17, -3.55271368e-17,  5.32907052e-17]),\n",
       " array([1., 1., 1., 1., 1., 1., 1., 1., 1., 1., 1.]))"
      ]
     },
     "execution_count": 16,
     "metadata": {},
     "output_type": "execute_result"
    }
   ],
   "source": [
    "# import the preprocessing module from sklearn\n",
    "from sklearn import preprocessing\n",
    "X_train =df[['Income','Limit','Rating','Student','Cards','Age','Education','Gender','Married','Asian','Caucasian']]\n",
    "scaler = preprocessing.StandardScaler().fit(X_train)\n",
    "X_train = scaler.transform(X_train)\n",
    "X_train.mean(axis=0) , X_train.std(axis=0)"
   ]
  },
  {
   "cell_type": "markdown",
   "id": "5da85a78",
   "metadata": {
    "slideshow": {
     "slide_type": "slide"
    }
   },
   "source": [
    "Let's now see what happens to our estimates as the value for $\\lambda$ changes"
   ]
  },
  {
   "cell_type": "code",
   "execution_count": 17,
   "id": "b0c90f34",
   "metadata": {
    "slideshow": {
     "slide_type": "slide"
    }
   },
   "outputs": [
    {
     "data": {
      "text/html": [
       "<div>\n",
       "<style scoped>\n",
       "    .dataframe tbody tr th:only-of-type {\n",
       "        vertical-align: middle;\n",
       "    }\n",
       "\n",
       "    .dataframe tbody tr th {\n",
       "        vertical-align: top;\n",
       "    }\n",
       "\n",
       "    .dataframe thead th {\n",
       "        text-align: right;\n",
       "    }\n",
       "</style>\n",
       "<table border=\"1\" class=\"dataframe\">\n",
       "  <thead>\n",
       "    <tr style=\"text-align: right;\">\n",
       "      <th></th>\n",
       "      <th>Lambda</th>\n",
       "      <th>Beta</th>\n",
       "      <th>Estimate</th>\n",
       "    </tr>\n",
       "  </thead>\n",
       "  <tbody>\n",
       "    <tr>\n",
       "      <th>0</th>\n",
       "      <td>5.000000e+09</td>\n",
       "      <td>Income</td>\n",
       "      <td>0.000017</td>\n",
       "    </tr>\n",
       "    <tr>\n",
       "      <th>1</th>\n",
       "      <td>3.782317e+09</td>\n",
       "      <td>Income</td>\n",
       "      <td>0.000023</td>\n",
       "    </tr>\n",
       "    <tr>\n",
       "      <th>2</th>\n",
       "      <td>2.861184e+09</td>\n",
       "      <td>Income</td>\n",
       "      <td>0.000030</td>\n",
       "    </tr>\n",
       "    <tr>\n",
       "      <th>3</th>\n",
       "      <td>2.164381e+09</td>\n",
       "      <td>Income</td>\n",
       "      <td>0.000039</td>\n",
       "    </tr>\n",
       "    <tr>\n",
       "      <th>4</th>\n",
       "      <td>1.637275e+09</td>\n",
       "      <td>Income</td>\n",
       "      <td>0.000052</td>\n",
       "    </tr>\n",
       "  </tbody>\n",
       "</table>\n",
       "</div>"
      ],
      "text/plain": [
       "         Lambda    Beta  Estimate\n",
       "0  5.000000e+09  Income  0.000017\n",
       "1  3.782317e+09  Income  0.000023\n",
       "2  2.861184e+09  Income  0.000030\n",
       "3  2.164381e+09  Income  0.000039\n",
       "4  1.637275e+09  Income  0.000052"
      ]
     },
     "execution_count": 17,
     "metadata": {},
     "output_type": "execute_result"
    }
   ],
   "source": [
    "from sklearn.linear_model import Ridge\n",
    "\n",
    "lambdas = 10**np.linspace(10,-2,100)*0.5\n",
    "ridge = Ridge()\n",
    "coefs = []\n",
    "\n",
    "for 𝜆 in lambdas:\n",
    "    ridge.set_params(alpha=𝜆)\n",
    "    ridge.fit(X_train, y)\n",
    "    coefs.append(ridge.coef_)\n",
    "ridge_results=pd.DataFrame(coefs,columns=['Income','Limit','Rating','Student','Cards','Age','Education','Gender','Married','Asian','Caucasian'])\n",
    "ridge_results['Lambda']=lambdas  \n",
    "ridge_results=pd.melt(ridge_results,id_vars=['Lambda'], var_name='Beta', value_name='Estimate')\n",
    "ridge_results.head()                        \n"
   ]
  },
  {
   "cell_type": "code",
   "execution_count": 18,
   "id": "6b204777",
   "metadata": {
    "slideshow": {
     "slide_type": "slide"
    }
   },
   "outputs": [
    {
     "data": {
      "image/png": "[encoded data removed]",
      "text/plain": [
       "<Figure size 720x720 with 1 Axes>"
      ]
     },
     "metadata": {
      "needs_background": "light"
     },
     "output_type": "display_data"
    }
   ],
   "source": [
    "fig, ax =plt.subplots(1,1, figsize=(10,10))\n",
    "sns.lineplot(x='Lambda', y='Estimate', hue='Beta',data=ridge_results)\n",
    "ax.set_xscale('log')\n",
    "ax.axhline(0,color='k',linestyle=\":\")\n",
    "plt.axis('tight')\n",
    "plt.xlabel(r'$\\lambda$', fontsize=20)\n",
    "plt.ylabel('Standardized Coefficients',fontsize=20)\n",
    "plt.title('Ridge coefficients as a function of the regularization');"
   ]
  },
  {
   "cell_type": "markdown",
   "id": "f081c32b",
   "metadata": {
    "slideshow": {
     "slide_type": "slide"
    }
   },
   "source": [
    "## Ridge and Model Selection\n",
    "- The ridge regression is clearly faster than our best subset methodology\n",
    "- Note though that we never truly select a model in the sense that we never use a subset of predictors\n",
    "- Instead, we are shrinking how much they matter in our prediction but use all p predictors (unless λ = ∞).\n",
    "- This may not be a problem for prediction accuracy, but it can create a challenge in model interpretation in settings in which the number of variables p is quite large. \n",
    "- For example, in the Credit data set, it appears that the most important variables are income, limit, rating, and student. \n",
    "- So we might wish to build a model including just these predictors. "
   ]
  },
  {
   "cell_type": "markdown",
   "id": "db2e901d",
   "metadata": {
    "slideshow": {
     "slide_type": "slide"
    }
   },
   "source": [
    "## Lasso Regression\n",
    "- The Lasso regression is an alternative to the Ridge regression as it allows to shrink parmeters to zero\n",
    "- The lasso regression coefficient estimates $\\hat{\\beta^L_\\lambda}$ are the values that minimize:\n",
    "\\begin{gather}\n",
    "\\Large\\text{RSS} + \\lambda \\sum_{j=1}^p\\left|\\beta_j\\right|\n",
    "\\end{gather}"
   ]
  },
  {
   "cell_type": "markdown",
   "id": "c2821789",
   "metadata": {
    "slideshow": {
     "slide_type": "slide"
    }
   },
   "source": [
    "## Lasso and Model Selection\n",
    "- As with ridge regression, the lasso shrinks the coefficient estimates towards zero. \n",
    "- However, in the case of the lasso, the $\\ell_1$ penalty has the effect of forcing some of the coefficient estimates to be exactly equal to zero when the tuning parameter λ is sufficiently large. \n",
    "- Hence, much like best subset selection, the lasso performs variable selection.\n",
    "- We say that the lasso yields __sparse models__ "
   ]
  },
  {
   "cell_type": "code",
   "execution_count": 19,
   "id": "cca24e08",
   "metadata": {
    "slideshow": {
     "slide_type": "slide"
    }
   },
   "outputs": [
    {
     "name": "stderr",
     "output_type": "stream",
     "text": [
      "/anaconda3/lib/python3.7/site-packages/sklearn/linear_model/_coordinate_descent.py:532: ConvergenceWarning: Objective did not converge. You might want to increase the number of iterations. Duality gap: 17920.893738377374, tolerance: 8433.991191000001\n",
      "  positive)\n"
     ]
    },
    {
     "data": {
      "text/html": [
       "<div>\n",
       "<style scoped>\n",
       "    .dataframe tbody tr th:only-of-type {\n",
       "        vertical-align: middle;\n",
       "    }\n",
       "\n",
       "    .dataframe tbody tr th {\n",
       "        vertical-align: top;\n",
       "    }\n",
       "\n",
       "    .dataframe thead th {\n",
       "        text-align: right;\n",
       "    }\n",
       "</style>\n",
       "<table border=\"1\" class=\"dataframe\">\n",
       "  <thead>\n",
       "    <tr style=\"text-align: right;\">\n",
       "      <th></th>\n",
       "      <th>Lambda</th>\n",
       "      <th>Beta</th>\n",
       "      <th>Estimate</th>\n",
       "    </tr>\n",
       "  </thead>\n",
       "  <tbody>\n",
       "    <tr>\n",
       "      <th>0</th>\n",
       "      <td>5.000000e+09</td>\n",
       "      <td>Income</td>\n",
       "      <td>0.0</td>\n",
       "    </tr>\n",
       "    <tr>\n",
       "      <th>1</th>\n",
       "      <td>3.782317e+09</td>\n",
       "      <td>Income</td>\n",
       "      <td>0.0</td>\n",
       "    </tr>\n",
       "    <tr>\n",
       "      <th>2</th>\n",
       "      <td>2.861184e+09</td>\n",
       "      <td>Income</td>\n",
       "      <td>0.0</td>\n",
       "    </tr>\n",
       "    <tr>\n",
       "      <th>3</th>\n",
       "      <td>2.164381e+09</td>\n",
       "      <td>Income</td>\n",
       "      <td>0.0</td>\n",
       "    </tr>\n",
       "    <tr>\n",
       "      <th>4</th>\n",
       "      <td>1.637275e+09</td>\n",
       "      <td>Income</td>\n",
       "      <td>0.0</td>\n",
       "    </tr>\n",
       "  </tbody>\n",
       "</table>\n",
       "</div>"
      ],
      "text/plain": [
       "         Lambda    Beta  Estimate\n",
       "0  5.000000e+09  Income       0.0\n",
       "1  3.782317e+09  Income       0.0\n",
       "2  2.861184e+09  Income       0.0\n",
       "3  2.164381e+09  Income       0.0\n",
       "4  1.637275e+09  Income       0.0"
      ]
     },
     "execution_count": 19,
     "metadata": {},
     "output_type": "execute_result"
    }
   ],
   "source": [
    "from sklearn.linear_model import Lasso\n",
    "\n",
    "lambdas = 10**np.linspace(10,-2,100)*0.5\n",
    "lasso = Lasso()\n",
    "coefs = []\n",
    "\n",
    "for 𝜆 in lambdas:\n",
    "    lasso.set_params(alpha=𝜆)\n",
    "    lasso.fit(X_train, y)\n",
    "    coefs.append(lasso.coef_)\n",
    "lasso_results=pd.DataFrame(coefs,columns=['Income','Limit','Rating','Student','Cards','Age','Education','Gender','Married','Asian','Caucasian'])\n",
    "lasso_results['Lambda']=lambdas  \n",
    "lasso_results=pd.melt(lasso_results,id_vars=['Lambda'], var_name='Beta', value_name='Estimate')\n",
    "lasso_results.head()                        \n"
   ]
  },
  {
   "cell_type": "code",
   "execution_count": 20,
   "id": "1b4d7867",
   "metadata": {
    "slideshow": {
     "slide_type": "slide"
    }
   },
   "outputs": [
    {
     "data": {
      "image/png": "[encoded data removed]",
      "text/plain": [
       "<Figure size 720x720 with 1 Axes>"
      ]
     },
     "metadata": {
      "needs_background": "light"
     },
     "output_type": "display_data"
    }
   ],
   "source": [
    "fig, ax =plt.subplots(1,1, figsize=(10,10))\n",
    "ax = plt.gca()\n",
    "sns.lineplot(x='Lambda', y='Estimate', hue='Beta',data=lasso_results)\n",
    "ax.set_xscale('log')\n",
    "ax.axhline(0,color='k',linestyle=\":\")\n",
    "plt.axis('tight')\n",
    "plt.xlabel(r'$\\lambda$', fontsize=20)\n",
    "plt.ylabel('Standardized Coefficients',fontsize=20)\n",
    "plt.title('Lasso coefficients as a function of the regularization');"
   ]
  },
  {
   "cell_type": "markdown",
   "id": "2385ce15",
   "metadata": {
    "slideshow": {
     "slide_type": "slide"
    }
   },
   "source": [
    "## Another Formulation for Ridge Regression and the Lasso\n",
    "- You may have recognized something you are already familiar with as economists\n",
    "- The Lasso and Ridge regressions can be written in terms of objective function (to minimize) and a constraint\n",
    " \n",
    " __Ridge__:\n",
    " \\begin{gather}\n",
    " \\large \\min_{\\mathbf{\\beta}} \\left\\{ \\sum_{i=1}^n \\Big(y_i - \\beta_0 - \\sum_{j=1}^p \\beta_jx_{ij}\\Big)^2 \\right\\} \\\\ \\large \\text{subject to } \\ \\sum_{j=1}^p\\beta_j^2 \\leq s\n",
    " \\end{gather}\n",
    " \n",
    " __Lasso__:\n",
    "  \\begin{gather}\n",
    " \\large \\min_{\\mathbf{\\beta}} \\left\\{ \\sum_{i=1}^n \\Big(y_i - \\beta_0 - \\sum_{j=1}^p \\beta_jx_{ij}\\Big)^2 \\right\\} \\\\ \\large \\text{subject to } \\ \\sum_{j=1}^p\\left|\\beta_j\\right| \\leq s\n",
    " \\end{gather}\n"
   ]
  },
  {
   "cell_type": "markdown",
   "id": "87bb439c",
   "metadata": {
    "slideshow": {
     "slide_type": "slide"
    }
   },
   "source": [
    "## Another Formulation for Ridge Regression and the Lasso, continued\n",
    "\n",
    "- The formulas in the previous slide mean that for every value of λ, there is some s such that the constraint minization yields the same result as our first definition of Lasso and Ridge\n",
    "- When p=2 (2 predictors): \n",
    "    - the lasso coefficient estimates have the smallest RSS such that $\\left|\\beta_1\\right|+ \\left|\\beta_2\\right| \\leq s $\n",
    "    - the ridge coefficient estimates have the smallest RSS such that $\\beta_1^2 + \\beta_2^2 \\leq s$\n",
    "\n",
    "- We can think of it as follows.\n",
    "    - When we perform the Lasso or Ridge we are trying to find the set of coefficient estimates that lead to the smallest RSS, subject to the constraint that there is a budget s for how large $\\sum_{j=1}^p \\left|\\beta_j\\right|$ or \n",
    "$\\sum_{j=1}^p \\beta_j^2$ can be.\n",
    "\n",
    "- If s is large the restriction is not binding (not restrictive)\n",
    "- For s large enough you get the OLS estimates (which are unconstrained)"
   ]
  },
  {
   "cell_type": "markdown",
   "id": "77019f9e",
   "metadata": {
    "slideshow": {
     "slide_type": "slide"
    }
   },
   "source": [
    "![title](lasso_ridge.png)"
   ]
  },
  {
   "cell_type": "markdown",
   "id": "63c5164c",
   "metadata": {
    "slideshow": {
     "slide_type": "slide"
    }
   },
   "source": [
    "## OLS vs Ridge and Lasso\n",
    "- In the previous slide, the OLS solution is marked as $\\hat{\\beta}$ and lies outside the constraint\n",
    "- If s was sufficiently large, Ridge and Lasso estimates would be the same as OLS (case where $\\lambda=0$)\n",
    "- The ellipses that are centered around $\\hat{\\beta}$ represent regions of constant RSS. \n",
    "- As the ellipses expand away from the least squares coefficient estimates, the RSS increases. \n",
    "- The lasso and ridge regression coefficient estimates are given by the first point at which an ellipse contacts the constraint region. \n",
    "- Since ridge regression has a circular constraint with no sharp points, this intersection will not generally occur on an axis, and so the ridge regression coefficient estimates will be exclusively non-zero. \n",
    "- However, the lasso constraint has corners at each of the axes, and so the ellipse will often intersect the constraint region at an axis. When this occurs, one of the coefficients will equal\n",
    "     - Here, the intersection occurs at β1 = 0, and so theresulting model will only include β2."
   ]
  },
  {
   "cell_type": "markdown",
   "id": "4c106233",
   "metadata": {
    "slideshow": {
     "slide_type": "slide"
    }
   },
   "source": [
    "## Selecting the tuning parameter\n",
    "- Since a lot seems to depend on the value of $\\lambda$ which value should you choose?\n",
    "- As usual, we need to remember that our end goal is to maximize out of sample prediction\n",
    "- As such the right model and/or the right tuning parameter will be given by cross validation"
   ]
  },
  {
   "cell_type": "markdown",
   "id": "812f8439",
   "metadata": {
    "slideshow": {
     "slide_type": "slide"
    }
   },
   "source": [
    "![image.png](lasso_lambda.png)"
   ]
  }
 ],
 "metadata": {
  "celltoolbar": "Slideshow",
  "kernelspec": {
   "display_name": "Python 3 (ipykernel)",
   "language": "python",
   "name": "python3"
  },
  "language_info": {
   "codemirror_mode": {
    "name": "ipython",
    "version": 3
   },
   "file_extension": ".py",
   "mimetype": "text/x-python",
   "name": "python",
   "nbconvert_exporter": "python",
   "pygments_lexer": "ipython3",
   "version": "3.10.9"
  }
 },
 "nbformat": 4,
 "nbformat_minor": 5
}
