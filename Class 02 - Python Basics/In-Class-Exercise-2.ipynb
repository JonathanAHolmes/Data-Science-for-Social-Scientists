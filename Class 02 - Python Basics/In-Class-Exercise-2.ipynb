{
 "cells": [
  {
   "cell_type": "markdown",
   "id": "0393cc0b",
   "metadata": {},
   "source": [
    "## In-Class Exercise #2"
   ]
  },
  {
   "cell_type": "markdown",
   "id": "ce4be831",
   "metadata": {},
   "source": [
    "1. Write code that prints the word \"Eco4199 is Great\" 10 times. \n",
    "\n",
    "\n"
   ]
  },
  {
   "cell_type": "code",
   "execution_count": null,
   "id": "272d7a8c",
   "metadata": {},
   "outputs": [],
   "source": []
  },
  {
   "cell_type": "markdown",
   "id": "38f44693",
   "metadata": {},
   "source": [
    "2. Write a function called \"compare\" that accepts two numeric inputs a and b. \n",
    "\n",
    "The function should prints one of the three statements based on whether A is larger or smaller than B: \n",
    "* A is bigger than B\n",
    "* B is bigger than A\n",
    "* A and B are equal\n",
    "\n"
   ]
  },
  {
   "cell_type": "code",
   "execution_count": null,
   "id": "f733f055",
   "metadata": {},
   "outputs": [],
   "source": []
  },
  {
   "cell_type": "markdown",
   "id": "9fd92e71",
   "metadata": {},
   "source": [
    "3. The FizzBuzz game is a simple counting game, where you count up from 1, but instead of saying any multiple of 3 say \"Fizz\", instead of saying a multiple of 5, say \"Buzz\", and any number that is both a multiple of 3 and 5 is \"FizzBuzz\". \n",
    "\n",
    "For example, the first 6 numbers are: \n",
    "1\n",
    "2\n",
    "Fizz\n",
    "4\n",
    "Buzz\n",
    "6\n",
    "\n",
    "Write code that prints out the first 50 items in the FizzBuzz list"
   ]
  },
  {
   "cell_type": "code",
   "execution_count": null,
   "id": "8c028085",
   "metadata": {},
   "outputs": [],
   "source": []
  }
 ],
 "metadata": {
  "kernelspec": {
   "display_name": "Python 3 (ipykernel)",
   "language": "python",
   "name": "python3"
  },
  "language_info": {
   "codemirror_mode": {
    "name": "ipython",
    "version": 3
   },
   "file_extension": ".py",
   "mimetype": "text/x-python",
   "name": "python",
   "nbconvert_exporter": "python",
   "pygments_lexer": "ipython3",
   "version": "3.10.9"
  }
 },
 "nbformat": 4,
 "nbformat_minor": 5
}
