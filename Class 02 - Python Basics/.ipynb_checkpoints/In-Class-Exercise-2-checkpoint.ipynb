{
 "cells": [
  {
   "cell_type": "markdown",
   "id": "8163b0ab",
   "metadata": {},
   "source": [
    "## In-Class Exercise #2"
   ]
  },
  {
   "cell_type": "markdown",
   "id": "f86c2bae",
   "metadata": {},
   "source": [
    "1. Write code that printsthe word \"Eco4199 is Great\" 10 times. \n",
    "\n",
    "\n"
   ]
  },
  {
   "cell_type": "code",
   "execution_count": null,
   "id": "dfd77615",
   "metadata": {},
   "outputs": [],
   "source": []
  },
  {
   "cell_type": "markdown",
   "id": "62207a64",
   "metadata": {},
   "source": [
    "2. "
   ]
  },
  {
   "cell_type": "code",
   "execution_count": null,
   "id": "3cff57fe",
   "metadata": {},
   "outputs": [],
   "source": []
  },
  {
   "cell_type": "markdown",
   "id": "4ed6f691",
   "metadata": {},
   "source": [
    "Write a function called \"compare\" that accepts two numeric inputs a and b. \n",
    "\n",
    "The function should prints one of the three statements based on whether A is larger or smaller than B: \n",
    "* A is bigger than B\n",
    "* B is bigger than A\n",
    "* A and B are equal\n",
    "\n"
   ]
  },
  {
   "cell_type": "code",
   "execution_count": null,
   "id": "05654fb1",
   "metadata": {},
   "outputs": [],
   "source": []
  }
 ],
 "metadata": {
  "kernelspec": {
   "display_name": "Python 3 (ipykernel)",
   "language": "python",
   "name": "python3"
  },
  "language_info": {
   "codemirror_mode": {
    "name": "ipython",
    "version": 3
   },
   "file_extension": ".py",
   "mimetype": "text/x-python",
   "name": "python",
   "nbconvert_exporter": "python",
   "pygments_lexer": "ipython3",
   "version": "3.10.9"
  }
 },
 "nbformat": 4,
 "nbformat_minor": 5
}
