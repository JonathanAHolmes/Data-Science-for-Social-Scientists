{
 "cells": [
  {
   "cell_type": "code",
   "execution_count": 1,
   "id": "violent-general",
   "metadata": {},
   "outputs": [],
   "source": [
    "import pandas as pd"
   ]
  },
  {
   "cell_type": "code",
   "execution_count": 2,
   "id": "further-pharmacology",
   "metadata": {},
   "outputs": [],
   "source": [
    "df=pd.read_pickle(\"/Users/marlo/Dropbox/Data Science for Social Scientists/Classes/Class 4 - Linear Regressions/titanic.pkl\")"
   ]
  }
 ],
 "metadata": {
  "kernelspec": {
   "display_name": "Python 3",
   "language": "python",
   "name": "python3"
  },
  "language_info": {
   "codemirror_mode": {
    "name": "ipython",
    "version": 3
   },
   "file_extension": ".py",
   "mimetype": "text/x-python",
   "name": "python",
   "nbconvert_exporter": "python",
   "pygments_lexer": "ipython3",
   "version": "3.7.1"
  }
 },
 "nbformat": 4,
 "nbformat_minor": 5
}
